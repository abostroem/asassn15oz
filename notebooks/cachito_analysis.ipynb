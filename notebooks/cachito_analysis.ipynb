{
 "cells": [
  {
   "cell_type": "code",
   "execution_count": 23,
   "metadata": {
    "collapsed": false
   },
   "outputs": [
    {
     "name": "stdout",
     "output_type": "stream",
     "text": [
      "Using matplotlib backend: Qt5Agg\n"
     ]
    }
   ],
   "source": [
    "import os\n",
    "import sys\n",
    "sys.path.append('../code')\n",
    "\n",
    "from astropy.io import fits\n",
    "from astropy.io import ascii as asc\n",
    "from astropy.time import Time\n",
    "\n",
    "import numpy as np\n",
    "\n",
    "from matplotlib import pyplot as plt\n",
    "%matplotlib\n",
    "\n",
    "import find_similar_lightcurves\n",
    "import supernova"
   ]
  },
  {
   "cell_type": "code",
   "execution_count": 5,
   "metadata": {
    "collapsed": false
   },
   "outputs": [],
   "source": [
    "tbdata = find_similar_lightcurves.build_sn_list()"
   ]
  },
  {
   "cell_type": "code",
   "execution_count": 6,
   "metadata": {
    "collapsed": true
   },
   "outputs": [],
   "source": [
    "sim_slope_indx = find_similar_lightcurves.find_closest_slope(tbdata)"
   ]
  },
  {
   "cell_type": "code",
   "execution_count": 16,
   "metadata": {
    "collapsed": false
   },
   "outputs": [
    {
     "data": {
      "text/plain": [
       "(array([  9.,   4.,   6.,   9.,   9.,   5.,   5.,   7.,   3.,   5.,  13.,\n",
       "          8.,   5.,  13.,   7.,   1.,   1.,   0.,   0.,   0.,   1.,   0.,\n",
       "          0.,   0.,   0.,   0.,   0.,   0.,   0.,   1.]),\n",
       " array([ 0.        ,  0.00130294,  0.00260589,  0.00390883,  0.00521177,\n",
       "         0.00651472,  0.00781766,  0.0091206 ,  0.01042354,  0.01172649,\n",
       "         0.01302943,  0.01433237,  0.01563532,  0.01693826,  0.0182412 ,\n",
       "         0.01954415,  0.02084709,  0.02215003,  0.02345298,  0.02475592,\n",
       "         0.02605886,  0.02736181,  0.02866475,  0.02996769,  0.03127063,\n",
       "         0.03257358,  0.03387652,  0.03517946,  0.03648241,  0.03778535,\n",
       "         0.03908829]),\n",
       " <a list of 30 Patch objects>)"
      ]
     },
     "execution_count": 16,
     "metadata": {},
     "output_type": "execute_result"
    }
   ],
   "source": [
    "slope_diff = np.abs((tbdata['s50'] - tbdata['s50'][tbdata['name']=='ASASSN-15oz']))\n",
    "plt.hist(slope_diff, bins=20)\n",
    "plt.hist(slope_diff, bins=30)"
   ]
  },
  {
   "cell_type": "code",
   "execution_count": 21,
   "metadata": {
    "collapsed": false
   },
   "outputs": [],
   "source": [
    "sn_list = []\n",
    "for irow in tbdata[sim_slope_indx[1:10]]:\n",
    "    sn_list.append(supernova.LightCurve2(irow['name']))"
   ]
  },
  {
   "cell_type": "code",
   "execution_count": 26,
   "metadata": {
    "collapsed": false
   },
   "outputs": [
    {
     "name": "stdout",
     "output_type": "stream",
     "text": [
      "sn, 10 days post explosion\n",
      "2016zb 2016-02-06 12:00:00.000\n",
      "2007ld 2007-10-14 12:00:00.000\n",
      "2015W 2015-01-12 12:00:00.000\n",
      "2013ai 2013-03-06 12:00:00.000\n",
      "1999ca 1999-04-19 12:00:00.000\n",
      "2007U 2007-02-13 14:24:00.000\n",
      "2013ej 2013-08-02 22:48:00.000\n",
      "1993K 1993-03-29 12:00:00.000\n",
      "2008if 2008-12-17 19:12:00.000\n"
     ]
    }
   ],
   "source": [
    "print('sn, 10 days post explosion')\n",
    "for sn in sn_list:\n",
    "    print(sn.name, Time(sn.jdexpl+10, format='jd').iso)"
   ]
  },
  {
   "cell_type": "code",
   "execution_count": null,
   "metadata": {
    "collapsed": true
   },
   "outputs": [],
   "source": []
  }
 ],
 "metadata": {
  "kernelspec": {
   "display_name": "Python [default]",
   "language": "python",
   "name": "python3"
  },
  "language_info": {
   "codemirror_mode": {
    "name": "ipython",
    "version": 3
   },
   "file_extension": ".py",
   "mimetype": "text/x-python",
   "name": "python",
   "nbconvert_exporter": "python",
   "pygments_lexer": "ipython3",
   "version": "3.5.4"
  }
 },
 "nbformat": 4,
 "nbformat_minor": 2
}
