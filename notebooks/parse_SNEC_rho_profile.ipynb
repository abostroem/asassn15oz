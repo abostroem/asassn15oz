{
 "cells": [
  {
   "cell_type": "code",
   "execution_count": 2,
   "metadata": {},
   "outputs": [],
   "source": [
    "import os\n",
    "import numpy as np\n",
    "import astropy.units as u\n",
    "from astropy.table import Table\n",
    "from matplotlib import pyplot as plt\n",
    "%matplotlib inline"
   ]
  },
  {
   "cell_type": "code",
   "execution_count": 3,
   "metadata": {},
   "outputs": [],
   "source": [
    "RHO_DIR = '../data/rho_snapshots/'\n",
    "xg_file = 'rho.xg'\n",
    "vel_file = 'vel.xg'"
   ]
  },
  {
   "cell_type": "markdown",
   "metadata": {},
   "source": [
    "# Read in rho.xg"
   ]
  },
  {
   "cell_type": "code",
   "execution_count": 4,
   "metadata": {},
   "outputs": [],
   "source": [
    "ofile = open(os.path.join(RHO_DIR, xg_file), 'r')\n",
    "all_lines = ofile.readlines()\n",
    "times = []\n",
    "time_indx = []\n",
    "for i, iline in enumerate(all_lines):\n",
    "    if 'Time' in iline:\n",
    "        times.append(float(iline.split('=')[1]))\n",
    "        time_indx.append(i)\n",
    "times = (times*u.s).to(u.day)"
   ]
  },
  {
   "cell_type": "markdown",
   "metadata": {},
   "source": [
    "# Read in vel.xg"
   ]
  },
  {
   "cell_type": "code",
   "execution_count": 5,
   "metadata": {},
   "outputs": [],
   "source": [
    "ofile_vel = open(os.path.join(RHO_DIR, vel_file), 'r')\n",
    "all_lines_vel = ofile_vel.readlines()"
   ]
  },
  {
   "cell_type": "markdown",
   "metadata": {},
   "source": [
    "# Get snapshot for 14, 43, 17, and 102 days"
   ]
  },
  {
   "cell_type": "code",
   "execution_count": 7,
   "metadata": {},
   "outputs": [
    {
     "name": "stdout",
     "output_type": "stream",
     "text": [
      "13.77 d, 14\n",
      "43.29 d, 43\n",
      "72.80 d, 73\n",
      "102.32 d, 102\n"
     ]
    },
    {
     "name": "stderr",
     "output_type": "stream",
     "text": [
      "/Users/bostroem/anaconda/lib/python3.5/site-packages/ipykernel/__main__.py:24: RuntimeWarning: divide by zero encountered in log10\n",
      "/Users/bostroem/anaconda/lib/python3.5/site-packages/ipykernel/__main__.py:25: RuntimeWarning: divide by zero encountered in log10\n"
     ]
    },
    {
     "data": {
      "text/plain": [
       "<matplotlib.lines.Line2D at 0x1521e626a0>"
      ]
     },
     "execution_count": 7,
     "metadata": {},
     "output_type": "execute_result"
    },
    {
     "data": {
      "image/png": "[encoded data removed]",
      "text/plain": [
       "<Figure size 205.2x153.36 with 1 Axes>"
      ]
     },
     "metadata": {},
     "output_type": "display_data"
    }
   ],
   "source": [
    "plt.style.use('az-paper-onecol')\n",
    "for iphase in [14, 43, 73, 102]:\n",
    "    #Find closest snapshot\n",
    "    indx = np.argmin(np.abs(times-iphase*u.day))\n",
    "    #initialize arrays for snapshot\n",
    "    mass = []\n",
    "    rho = []\n",
    "    vel = []\n",
    "    print('{:2.2f}, {}'.format(times[indx], iphase))\n",
    "    #Loop over values for the closest snapshot and create table\n",
    "    for irow in range(time_indx[indx]+1, time_indx[indx+1]):\n",
    "        \n",
    "        if all_lines[irow] != '  \\n':\n",
    "            imass1, irho = all_lines[irow].split()\n",
    "            imass2, ivel = all_lines_vel[irow].split()\n",
    "            imass1 = float(imass1)\n",
    "            imass2 = float(imass2)\n",
    "            irho = float(irho)\n",
    "            ivel = float(ivel)\n",
    "            assert imass1 == imass2\n",
    "            mass.append(imass1)\n",
    "            rho.append(irho)\n",
    "            vel.append(ivel)\n",
    "    plt.plot((vel*u.cm/u.s).to(u.km/u.s), np.log10(rho))\n",
    "    tbdata = Table([(vel*u.cm/u.s).to(u.km/u.s).value, np.log10(rho)], names=['velocity', 'density'])\n",
    "    tbdata.write(os.path.join(RHO_DIR, 'rho_{}d.csv'.format(iphase)), overwrite=True, format='csv')\n",
    "plt.xlim(1500, 10000)\n",
    "plt.ylim(-17.5, -9.75)\n",
    "plt.grid()\n",
    "plt.axvline(4200)\n",
    "plt.axvline(2300)\n",
    "    #            "
   ]
  },
  {
   "cell_type": "code",
   "execution_count": null,
   "metadata": {},
   "outputs": [],
   "source": []
  }
 ],
 "metadata": {
  "kernelspec": {
   "display_name": "Python [conda env:anaconda]",
   "language": "python",
   "name": "conda-env-anaconda-py"
  },
  "language_info": {
   "codemirror_mode": {
    "name": "ipython",
    "version": 3
   },
   "file_extension": ".py",
   "mimetype": "text/x-python",
   "name": "python",
   "nbconvert_exporter": "python",
   "pygments_lexer": "ipython3",
   "version": "3.5.5"
  }
 },
 "nbformat": 4,
 "nbformat_minor": 2
}
