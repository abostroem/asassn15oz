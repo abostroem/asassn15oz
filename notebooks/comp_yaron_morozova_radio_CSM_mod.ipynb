{
 "cells": [
  {
   "cell_type": "code",
   "execution_count": 1,
   "metadata": {},
   "outputs": [],
   "source": [
    "import math\n",
    "import astropy.units as u\n",
    "import astropy.constants as c\n",
    "import numpy as np"
   ]
  },
  {
   "cell_type": "markdown",
   "metadata": {},
   "source": [
    "$\\rho = \\frac{\\dot{M}}{4\\pi r^2 v} = \\frac{g/s}{(cm^2)(cm/s)} = \\frac{g}{cm^3}$  \n",
    "$\\rho = \\frac{K}{r^2} \\rightarrow K = \\rho*r^2 = \\frac{\\dot{M}}{4\\pi v}$"
   ]
  },
  {
   "cell_type": "markdown",
   "metadata": {},
   "source": [
    "# Compare Yaron and Viktoriya's numbers for 13fs"
   ]
  },
  {
   "cell_type": "markdown",
   "metadata": {},
   "source": [
    "#### From figure in Yaron 2018"
   ]
  },
  {
   "cell_type": "code",
   "execution_count": 57,
   "metadata": {},
   "outputs": [],
   "source": [
    "density_shell = np.array([10**-13, 5E-14, 10**-14]) *u.g/u.cm**3\n",
    "radius_shell =np.array([10**14, 2*10**14, 3*10**14])*u.cm"
   ]
  },
  {
   "cell_type": "code",
   "execution_count": 58,
   "metadata": {},
   "outputs": [],
   "source": [
    "K_shell = (density_shell)*(radius_shell**2)"
   ]
  },
  {
   "cell_type": "code",
   "execution_count": 59,
   "metadata": {},
   "outputs": [
    {
     "name": "stdout",
     "output_type": "stream",
     "text": [
      "K = [1.e+15 2.e+15 9.e+14] g / cm\n",
      "R = [1437.40117867 2874.80235734 4312.20353601] solRad\n"
     ]
    }
   ],
   "source": [
    "print('K = {}'.format(K_shell))\n",
    "print('R = {}'.format(radius_shell.to(u.Rsun)))"
   ]
  },
  {
   "cell_type": "markdown",
   "metadata": {},
   "source": [
    "#### From Viktoriya's paper on same object"
   ]
  },
  {
   "cell_type": "code",
   "execution_count": 60,
   "metadata": {},
   "outputs": [],
   "source": [
    "K = 7.5E17*u.g/u.cm\n",
    "R = 1900 *u.Rsun"
   ]
  },
  {
   "cell_type": "code",
   "execution_count": 61,
   "metadata": {},
   "outputs": [
    {
     "data": {
      "text/plain": [
       "([<matplotlib.axis.YTick at 0x119998160>,\n",
       "  <matplotlib.axis.YTick at 0x151de64588>,\n",
       "  <matplotlib.axis.YTick at 0x151de17160>,\n",
       "  <matplotlib.axis.YTick at 0x151de6e630>,\n",
       "  <matplotlib.axis.YTick at 0x151de6eb00>,\n",
       "  <matplotlib.axis.YTick at 0x151de6ed30>,\n",
       "  <matplotlib.axis.YTick at 0x151de7a4e0>],\n",
       " <a list of 7 Text yticklabel objects>)"
      ]
     },
     "execution_count": 61,
     "metadata": {},
     "output_type": "execute_result"
    },
    {
     "data": {
      "image/png": "[encoded data removed]",
      "text/plain": [
       "<Figure size 432x288 with 1 Axes>"
      ]
     },
     "metadata": {},
     "output_type": "display_data"
    }
   ],
   "source": [
    "from matplotlib import pyplot as plt\n",
    "plt.loglog(radius_shell, density_shell, 'o')\n",
    "plt.xlim(10**14, 10**16)\n",
    "plt.ylim(10**-22, 10**-10)\n",
    "plt.yticks([10**-22, 10**-20, 10**-18, 10**-16, 10**-14, 10**-12, 10**-10])"
   ]
  },
  {
   "cell_type": "markdown",
   "metadata": {},
   "source": [
    "# Compare Assaf and Viktoriya's Numbers for 15oz"
   ]
  },
  {
   "cell_type": "markdown",
   "metadata": {},
   "source": [
    "## Assaf's numbers"
   ]
  },
  {
   "cell_type": "code",
   "execution_count": 2,
   "metadata": {},
   "outputs": [
    {
     "name": "stdout",
     "output_type": "stream",
     "text": [
      "4.512829e+11 g / cm\n"
     ]
    }
   ],
   "source": [
    "Mdot_assaf = 0.9E-6 *u.Msun/u.year\n",
    "v_assaf = 100*u.km/u.s\n",
    "K_assaf = Mdot_assaf.to(u.g/u.s)/(4*math.pi*v_assaf.to(u.cm/u.s))\n",
    "print('{:e}'.format(K_assaf))"
   ]
  },
  {
   "cell_type": "markdown",
   "metadata": {},
   "source": [
    "## Viktoriya's numbers"
   ]
  },
  {
   "cell_type": "code",
   "execution_count": 3,
   "metadata": {},
   "outputs": [
    {
     "name": "stdout",
     "output_type": "stream",
     "text": [
      "0.15870249014184357 solMass / yr\n"
     ]
    }
   ],
   "source": [
    "K = 10**18 *u.g/u.cm\n",
    "v_wind = 100 *u.km/u.s\n",
    "Mdot = K*(v_wind.to(u.cm/u.s))\n",
    "print(Mdot.to(u.Msun/u.year))"
   ]
  },
  {
   "cell_type": "code",
   "execution_count": null,
   "metadata": {},
   "outputs": [],
   "source": []
  }
 ],
 "metadata": {
  "kernelspec": {
   "display_name": "Python [conda env:anaconda]",
   "language": "python",
   "name": "conda-env-anaconda-py"
  },
  "language_info": {
   "codemirror_mode": {
    "name": "ipython",
    "version": 3
   },
   "file_extension": ".py",
   "mimetype": "text/x-python",
   "name": "python",
   "nbconvert_exporter": "python",
   "pygments_lexer": "ipython3",
   "version": "3.5.5"
  }
 },
 "nbformat": 4,
 "nbformat_minor": 2
}
