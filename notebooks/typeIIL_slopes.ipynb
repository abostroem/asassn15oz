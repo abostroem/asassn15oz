{
 "cells": [
  {
   "cell_type": "code",
   "execution_count": 83,
   "metadata": {},
   "outputs": [
    {
     "name": "stdout",
     "output_type": "stream",
     "text": [
      "Using matplotlib backend: Qt5Agg\n"
     ]
    }
   ],
   "source": [
    "import os\n",
    "import matplotlib\n",
    "from matplotlib import pyplot as plt\n",
    "%matplotlib\n",
    "from astropy import visualization\n",
    "from astropy.time import Time\n",
    "from astropy.io import fits\n",
    "import numpy as np\n",
    "\n",
    "import connect_to_sndavis\n",
    "import spectroscopy"
   ]
  },
  {
   "cell_type": "code",
   "execution_count": 2,
   "metadata": {},
   "outputs": [],
   "source": [
    "db, cursor = connect_to_sndavis.get_cursor()"
   ]
  },
  {
   "cell_type": "markdown",
   "metadata": {},
   "source": [
    "# See if there is a natural break in slope between IIL and IIP"
   ]
  },
  {
   "cell_type": "code",
   "execution_count": 3,
   "metadata": {},
   "outputs": [],
   "source": [
    "query_allII = \"SELECT snslope.slope FROM snslope \\\n",
    "JOIN supernovanames ON snslope.`targetid`=supernovanames.`targetid` \\\n",
    "JOIN idsupernovae ON supernovanames.`targetid`=idsupernovae.`id` \\\n",
    "WHERE idsupernovae.`sntype` IN (6,17,18) AND \\\n",
    "snslope.`slopetype`='s50' AND \\\n",
    "snslope.filter='V'\""
   ]
  },
  {
   "cell_type": "code",
   "execution_count": 4,
   "metadata": {},
   "outputs": [],
   "source": [
    "cursor.execute(query_allII)\n",
    "results_allII = cursor.fetchall()"
   ]
  },
  {
   "cell_type": "code",
   "execution_count": 5,
   "metadata": {},
   "outputs": [],
   "source": [
    "slope_allII = np.array([idict['slope'] for idict in results_allII])\n",
    "slope_per_100d_allII = slope_allII*100"
   ]
  },
  {
   "cell_type": "code",
   "execution_count": 6,
   "metadata": {},
   "outputs": [],
   "source": [
    "query_IIL = \"SELECT snslope.slope FROM snslope \\\n",
    "JOIN supernovanames ON snslope.`targetid`=supernovanames.`targetid` \\\n",
    "JOIN idsupernovae ON supernovanames.`targetid`=idsupernovae.`id` \\\n",
    "WHERE idsupernovae.`sntype` = 18 AND \\\n",
    "snslope.`slopetype`='s50' AND \\\n",
    "snslope.filter='V'\""
   ]
  },
  {
   "cell_type": "code",
   "execution_count": 7,
   "metadata": {},
   "outputs": [],
   "source": [
    "cursor.execute(query_IIL)\n",
    "results_IIL = cursor.fetchall()"
   ]
  },
  {
   "cell_type": "code",
   "execution_count": 8,
   "metadata": {},
   "outputs": [],
   "source": [
    "slope_IIL = np.array([idict['slope'] for idict in results_IIL])\n",
    "slope_per_100d_IIL = slope_IIL*100"
   ]
  },
  {
   "cell_type": "code",
   "execution_count": 9,
   "metadata": {},
   "outputs": [
    {
     "data": {
      "text/plain": [
       "Text(0,0.5,'Number')"
      ]
     },
     "execution_count": 9,
     "metadata": {},
     "output_type": "execute_result"
    },
    {
     "data": {
      "image/png": "[encoded data removed]",
      "text/plain": [
       "<Figure size 432x288 with 1 Axes>"
      ]
     },
     "metadata": {},
     "output_type": "display_data"
    }
   ],
   "source": [
    "visualization.hist(slope_per_100d_allII, bins='knuth', label='knuth-all')\n",
    "visualization.hist(slope_per_100d_allII, bins='scott', alpha=0.2, label='scott-all')\n",
    "visualization.hist(slope_per_100d_allII, bins='freedman', alpha = 0.2, label='freedman-all')\n",
    "plt.vlines(slope_per_100d_IIL, ymin=plt.ylim()[0], ymax=plt.ylim()[1], label='IIL slopes')\n",
    "plt.legend()\n",
    "plt.xlabel('Slope (Vmag/100d)')\n",
    "plt.ylabel('Number')\n"
   ]
  },
  {
   "cell_type": "code",
   "execution_count": 10,
   "metadata": {},
   "outputs": [
    {
     "data": {
      "text/plain": [
       "Text(0,0.5,'Number')"
      ]
     },
     "execution_count": 10,
     "metadata": {},
     "output_type": "execute_result"
    },
    {
     "data": {
      "image/png": "[encoded data removed]",
      "text/plain": [
       "<Figure size 432x288 with 1 Axes>"
      ]
     },
     "metadata": {},
     "output_type": "display_data"
    }
   ],
   "source": [
    "visualization.hist(slope_per_100d_allII, bins='freedman',  label='freedman-all')\n",
    "plt.vlines(slope_per_100d_IIL, ymin=plt.ylim()[0], ymax=plt.ylim()[1], label='IIL slopes')\n",
    "plt.legend()\n",
    "plt.xlabel('Slope (Vmag/100d)')\n",
    "plt.ylabel('Number')"
   ]
  },
  {
   "cell_type": "code",
   "execution_count": 11,
   "metadata": {},
   "outputs": [
    {
     "data": {
      "text/plain": [
       "Text(0,0.5,'Number')"
      ]
     },
     "execution_count": 11,
     "metadata": {},
     "output_type": "execute_result"
    },
    {
     "data": {
      "image/png": "[encoded data removed]",
      "text/plain": [
       "<Figure size 432x288 with 1 Axes>"
      ]
     },
     "metadata": {},
     "output_type": "display_data"
    }
   ],
   "source": [
    "plt.hist(slope_per_100d_allII, bins=np.arange(0,10, 0.25),  label='freedman-all')\n",
    "plt.vlines(slope_per_100d_IIL, ymin=plt.ylim()[0], ymax=plt.ylim()[1], label='IIL slopes')\n",
    "plt.legend()\n",
    "plt.xlabel('Slope (Vmag/100d)')\n",
    "plt.ylabel('Number')"
   ]
  },
  {
   "cell_type": "markdown",
   "metadata": {},
   "source": [
    "# Nope, let's just see if what we have spectroscopically and color by slope"
   ]
  },
  {
   "cell_type": "code",
   "execution_count": 111,
   "metadata": {},
   "outputs": [],
   "source": [
    "spectra_query = '''\n",
    "SELECT idsupernovae.`jdexpl`, supernovanames.`name`, spectra.`dateobs`, spectra.`filepath`, spectra.`filename`, snslope.`slope`\n",
    "FROM idsupernovae JOIN supernovanames ON idsupernovae.`id` = supernovanames.`targetid`\n",
    "JOIN spectra ON idsupernovae.`id` = spectra.`targetid`\n",
    "JOIN snslope ON idsupernovae.`id` = snslope.`targetid`\n",
    "WHERE idsupernovae.`sntype` in (6, 17, 18) \n",
    "AND snslope.`slopetype`='s50' AND \\\n",
    "snslope.filter='V'\n",
    "'''"
   ]
  },
  {
   "cell_type": "code",
   "execution_count": 112,
   "metadata": {},
   "outputs": [],
   "source": [
    "cursor.execute(spectra_query)\n",
    "results_spectra = cursor.fetchall()\n",
    "results_spectra_dict = {}\n",
    "for key in results_spectra[0].keys():\n",
    "    results_spectra_dict[key]=[]\n",
    "results_spectra_dict['phase'] = []\n",
    "for idict in results_spectra:\n",
    "    for key in idict.keys():\n",
    "        if key == 'dateobs':\n",
    "            results_spectra_dict['dateobs'].append(Time('{}-{}-{}'.format(idict['dateobs'].year,idict['dateobs'].month, idict['dateobs'].day )))\n",
    "        else:\n",
    "            results_spectra_dict[key].append(idict[key])\n",
    "    if idict['jdexpl'] is not None:\n",
    "        results_spectra_dict['phase'].append((results_spectra_dict['dateobs'][-1]-Time(idict['jdexpl'], format='jd')).value)\n",
    "    else:\n",
    "        results_spectra_dict['phase'].append(np.nan)\n",
    "        \n",
    "for key in results_spectra[0].keys():\n",
    "    results_spectra_dict[key] = np.array(results_spectra_dict[key])\n",
    "results_spectra_dict['phase'] = np.array(results_spectra_dict['phase'])"
   ]
  },
  {
   "cell_type": "code",
   "execution_count": 113,
   "metadata": {},
   "outputs": [
    {
     "data": {
      "text/plain": [
       "(100, 600)"
      ]
     },
     "execution_count": 113,
     "metadata": {},
     "output_type": "execute_result"
    }
   ],
   "source": [
    "cleaned_phase = results_spectra_dict['phase'][np.isfinite(results_spectra_dict['phase'])]\n",
    "histogram_output = visualization.hist(cleaned_phase, bins='freedman')\n",
    "plt.xlim(100, 600)"
   ]
  },
  {
   "cell_type": "code",
   "execution_count": 114,
   "metadata": {},
   "outputs": [
    {
     "name": "stdout",
     "output_type": "stream",
     "text": [
      "4\n",
      "7\n"
     ]
    }
   ],
   "source": [
    "#this is when my 15oz spectra are from\n",
    "print(len(cleaned_phase[(cleaned_phase>220)&(cleaned_phase<240)]))\n",
    "print(len(cleaned_phase[(cleaned_phase>330)&(cleaned_phase<350)]))"
   ]
  },
  {
   "cell_type": "code",
   "execution_count": 126,
   "metadata": {},
   "outputs": [
    {
     "name": "stdout",
     "output_type": "stream",
     "text": [
      "{'dateobs': datetime.date(2015, 9, 5), 'name': 'ASASSN-15oz', 'filename': 'asassn15oz_20150905_2457270.58657_1.fits', 'filepath': '/dark/hal/git/sndavis/data/spectra/322/', 'jdexpl': 2457262.0, 'slope': 0.0218034421776}\n",
      "8.5\n",
      "{'dateobs': datetime.date(2015, 11, 19), 'name': 'ASASSN-15oz', 'filename': 'asassn15oz_20151119_2457345.52831_1.fits', 'filepath': '/dark/hal/git/sndavis/data/spectra/322/', 'jdexpl': 2457262.0, 'slope': 0.0218034421776}\n",
      "83.5\n",
      "{'dateobs': datetime.date(2015, 9, 5), 'name': 'ASASSN-15oz', 'filename': 'asassn15oz_20150905_2457270.62701_1.fits', 'filepath': '/dark/hal/git/sndavis/data/spectra/322/', 'jdexpl': 2457262.0, 'slope': 0.0218034421776}\n",
      "8.5\n",
      "{'dateobs': datetime.date(2015, 11, 8), 'name': 'ASASSN-15oz', 'filename': 'asassn15oz_20151108_2457334.52899_1.fits', 'filepath': '/dark/hal/git/sndavis/data/spectra/322/', 'jdexpl': 2457262.0, 'slope': 0.0218034421776}\n",
      "72.5\n",
      "{'dateobs': datetime.date(2015, 10, 5), 'name': 'ASASSN-15oz', 'filename': 'asassn15oz_20151005_2457300.54299_1.fits', 'filepath': '/dark/hal/git/sndavis/data/spectra/322/', 'jdexpl': 2457262.0, 'slope': 0.0218034421776}\n",
      "38.5\n",
      "{'dateobs': datetime.date(2015, 10, 4), 'name': 'ASASSN-15oz', 'filename': 'asassn15oz_20151004_2457299.52259_1.fits', 'filepath': '/dark/hal/git/sndavis/data/spectra/322/', 'jdexpl': 2457262.0, 'slope': 0.0218034421776}\n",
      "37.5\n",
      "{'dateobs': datetime.date(2016, 4, 11), 'name': 'ASASSN-15oz', 'filename': 'asassn15oz_20160411_2457489.85445_1.fits', 'filepath': '/dark/hal/git/sndavis/data/spectra/322/', 'jdexpl': 2457262.0, 'slope': 0.0218034421776}\n",
      "227.5\n",
      "{'dateobs': datetime.date(2016, 4, 11), 'name': 'ASASSN-15oz', 'filename': 'asassn15oz_20160411_2457489.88904_1.fits', 'filepath': '/dark/hal/git/sndavis/data/spectra/322/', 'jdexpl': 2457262.0, 'slope': 0.0218034421776}\n",
      "227.5\n",
      "{'dateobs': datetime.date(2015, 10, 5), 'name': 'ASASSN-15oz', 'filename': 'asassn15oz_20151005_2457300.50252_1.fits', 'filepath': '/dark/hal/git/sndavis/data/spectra/322/', 'jdexpl': 2457262.0, 'slope': 0.0218034421776}\n",
      "38.5\n"
     ]
    }
   ],
   "source": [
    "neb_list_228d = []\n",
    "sv50_228d = []\n",
    "name_228d = []\n",
    "neb_list_340d = []\n",
    "sv50_340d = []\n",
    "name_340d = []\n",
    "\n",
    "\n",
    "for idict in results_spectra:\n",
    "    if idict['name'] == 'ASASSN-15oz':\n",
    "        print(idict)\n",
    "        phase = (Time('{}-{}-{}'.format(idict['dateobs'].year,idict['dateobs'].month, idict['dateobs'].day )) - Time(idict['jdexpl'], format='jd')).value\n",
    "    if idict['jdexpl'] is not None:\n",
    "        phase = (Time('{}-{}-{}'.format(idict['dateobs'].year,idict['dateobs'].month, idict['dateobs'].day )) - Time(idict['jdexpl'], format='jd')).value\n",
    "        if ((phase>220)&(phase<240)):\n",
    "            neb_list_228d.append(os.path.join(idict['filepath'], idict['filename']))\n",
    "            sv50_228d.append(idict['slope'])\n",
    "            name_228d.append(idict['name'])\n",
    "        elif ((phase>330)&(phase<350)):\n",
    "            neb_list_340d.append(os.path.join(idict['filepath'], idict['filename']))\n",
    "            sv50_340d.append(idict['slope'])\n",
    "            name_340d.append(idict['name'])\n",
    "name_228d     = np.array(name_228d)\n",
    "name_340d     = np.array(name_340d)\n",
    "neb_list_228d = np.array(neb_list_228d)\n",
    "sv50_228d     = np.array(sv50_228d    )\n",
    "neb_list_340d = np.array(neb_list_340d)\n",
    "sv50_340d     = np.array(sv50_340d    )"
   ]
  },
  {
   "cell_type": "code",
   "execution_count": 116,
   "metadata": {},
   "outputs": [],
   "source": [
    "cols = [(0,0,0)]\n",
    "for x in np.linspace(0,1, 254):\n",
    "    rcol = (0.472-0.567*x+4.05*x**2)/(1.+8.72*x-19.17*x**2+14.1*x**3)\n",
    "    gcol = 0.108932-1.22635*x+27.284*x**2-98.577*x**3+163.3*x**4-131.395*x**5+40.634*x**6\n",
    "    bcol = 1./(1.97+3.54*x-68.5*x**2+243*x**3-297*x**4+125*x**5)\n",
    "    cols.append((rcol, gcol, bcol))\n",
    "\n",
    "cols.append((1,1,1))\n",
    "cm_rainbow = matplotlib.colors.LinearSegmentedColormap.from_list(\"PaulT_rainbow\", cols)"
   ]
  },
  {
   "cell_type": "markdown",
   "metadata": {},
   "source": [
    "## Day 228"
   ]
  },
  {
   "cell_type": "code",
   "execution_count": 119,
   "metadata": {},
   "outputs": [
    {
     "data": {
      "text/plain": [
       "(6200, 6500)"
      ]
     },
     "execution_count": 119,
     "metadata": {},
     "output_type": "execute_result"
    }
   ],
   "source": [
    "spectra_dict = '/Users/bostroem/Desktop/research/data'\n",
    "slope_color = cm_rainbow(sv50_228d/np.max(sv50_228d)*0.95)\n",
    "\n",
    "for icolor, islope, ifile in zip(slope_color, sv50_228d, neb_list_228d):\n",
    "    filename = os.path.join(spectra_dict, os.path.basename(ifile).split('_')[0], os.path.basename(ifile))\n",
    "    ofile = fits.open(filename)\n",
    "    tbdata = ofile[1].data\n",
    "    plt.plot(tbdata['wave'][0], tbdata['flux'][0], c=icolor)\n",
    "plt.xlim(6200, 6500)"
   ]
  },
  {
   "cell_type": "markdown",
   "metadata": {},
   "source": [
    "\\# Look in SNEX  \n",
    "\\# Look in TNS for Host --> put HOST in NED\n",
    "* 04et = 0.000133  \n",
    "* 05cs = 0.001544  \n",
    "* 06bp = 0.003502  \n",
    "* 14dq = 0.010424    \n",
    "* 14gm = 0.00549  \n",
    "* 12aw = 0.002595  "
   ]
  },
  {
   "cell_type": "code",
   "execution_count": 130,
   "metadata": {},
   "outputs": [],
   "source": [
    "redshift_dict_340d = {'2004et':0.000133, \n",
    "                      '2005cs':0.001544, \n",
    "                      '2006bp':0.003502, \n",
    "                      'ASASSN-14dq':0.010424, \n",
    "                      'ASASSN-14gm':0.00549, \n",
    "                      '2012aw':0.002595,\n",
    "                      'ASASSN-15oz':0.0069}"
   ]
  },
  {
   "cell_type": "markdown",
   "metadata": {},
   "source": [
    "## Day 340"
   ]
  },
  {
   "cell_type": "code",
   "execution_count": 142,
   "metadata": {},
   "outputs": [
    {
     "data": {
      "text/plain": [
       "<matplotlib.legend.Legend at 0x1520523a58>"
      ]
     },
     "execution_count": 142,
     "metadata": {},
     "output_type": "execute_result"
    }
   ],
   "source": [
    "spectra_dict = '/Users/bostroem/Desktop/research/data'\n",
    "slope_color = cm_rainbow(sv50_340d/0.0218034421776*0.95)\n",
    "tbdata_ref = fits.getdata(os.path.join(spectra_dict, os.path.basename(neb_list_340d[0]).split('_')[0], os.path.basename(neb_list_340d[0])),1)\n",
    "ref_rest_wl = spectroscopy.apply_redshift(tbdata_ref['wave'][0], redshift_dict_340d[name_340d[0]])\n",
    "spec_ref = spectroscopy.spectrum1d(ref_rest_wl, tbdata_ref['flux'][0])\n",
    "for iname, icolor, islope, ifile in zip(name_340d, slope_color, sv50_340d, neb_list_340d):\n",
    "    filename = os.path.join(spectra_dict, os.path.basename(ifile).split('_')[0], os.path.basename(ifile))\n",
    "    ofile = fits.open(filename)\n",
    "    tbdata = ofile[1].data\n",
    "    rest_wl = spectroscopy.apply_redshift(tbdata['wave'][0], redshift_dict_340d[iname])\n",
    "    spec = spectroscopy.spectrum1d(rest_wl, tbdata['flux'][0])\n",
    "    scale_spec = spectroscopy.scale_spectra(spec, spec_ref)\n",
    "    plt.plot(rest_wl, scale_spec.flux, c=icolor, label='{},sv50={:2.2}'.format( os.path.basename(ifile).split('_')[0], islope*100))\n",
    "    \n",
    "sn15oz_tbdata = fits.getdata('../data/spectra/EFOSC/tASASSN-15oz_20160802_Gr13_Free_slit1.0_57723_1_e_multi.fits')\n",
    "sn15oz_spec = spectroscopy.spectrum1d(sn15oz_tbdata['wavelength'], sn15oz_tbdata['flux'])\n",
    "rest_wl = spectroscopy.apply_redshift(sn15oz_spec.wave, redshift_dict_340d['ASASSN-15oz'])\n",
    "scale_spec = spectroscopy.scale_spectra(sn15oz_spec, spec_ref)\n",
    "color = cm_rainbow(0.95)\n",
    "plt.plot(rest_wl, scale_spec.flux, label='ASASSN-15oz, sv50={:2.2}'.format(2.18), color=color)\n",
    "    \n",
    "plt.xlim(6200, 6500)\n",
    "plt.legend()\n",
    "\n"
   ]
  },
  {
   "cell_type": "code",
   "execution_count": 138,
   "metadata": {},
   "outputs": [
    {
     "name": "stdout",
     "output_type": "stream",
     "text": [
      "[None, None, None, None, None]\n"
     ]
    }
   ],
   "source": [
    "print(redshift_340d)"
   ]
  },
  {
   "cell_type": "code",
   "execution_count": null,
   "metadata": {},
   "outputs": [],
   "source": []
  }
 ],
 "metadata": {
  "kernelspec": {
   "display_name": "Python [default]",
   "language": "python",
   "name": "python3"
  },
  "language_info": {
   "codemirror_mode": {
    "name": "ipython",
    "version": 3
   },
   "file_extension": ".py",
   "mimetype": "text/x-python",
   "name": "python",
   "nbconvert_exporter": "python",
   "pygments_lexer": "ipython3",
   "version": "3.5.5"
  }
 },
 "nbformat": 4,
 "nbformat_minor": 2
}
