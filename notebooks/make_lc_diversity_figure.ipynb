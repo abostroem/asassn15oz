{
 "cells": [
  {
   "cell_type": "code",
   "execution_count": 10,
   "metadata": {
    "collapsed": false
   },
   "outputs": [
    {
     "name": "stdout",
     "output_type": "stream",
     "text": [
      "Using matplotlib backend: Qt5Agg\n"
     ]
    }
   ],
   "source": [
    "from astropy.io import ascii as asc\n",
    "import astropy.units as u\n",
    "from matplotlib import pyplot as plt\n",
    "from supernova import LightCurve2\n",
    "import glob\n",
    "import os\n",
    "import sys\n",
    "import numpy as np\n",
    "import visualization as vis\n",
    "%matplotlib\n",
    "plt.style.use('default')\n",
    "#plt.style.use('seaborn-poster')"
   ]
  },
  {
   "cell_type": "code",
   "execution_count": 11,
   "metadata": {
    "collapsed": false
   },
   "outputs": [],
   "source": [
    "sn2012aw = LightCurve2('2012aw')\n",
    "sn2005ay = LightCurve2('2005ay')\n",
    "sn2013ej = LightCurve2('2013ej')\n",
    "sn2009bw = LightCurve2('2009bw')\n",
    "asassn15oz = LightCurve2('asassn-15oz')"
   ]
  },
  {
   "cell_type": "code",
   "execution_count": 12,
   "metadata": {
    "collapsed": false
   },
   "outputs": [],
   "source": [
    "sn2012aw.get_photometry()\n",
    "sn2012aw.get_abs_mag()\n",
    "sn2005ay.get_photometry()\n",
    "sn2005ay.get_abs_mag()\n",
    "sn2013ej.get_photometry()\n",
    "sn2013ej.get_abs_mag()\n",
    "sn2009bw.get_photometry()\n",
    "sn2009bw.get_abs_mag()\n",
    "asassn15oz.get_photometry()\n",
    "asassn15oz.get_abs_mag()"
   ]
  },
  {
   "cell_type": "code",
   "execution_count": 15,
   "metadata": {
    "collapsed": false
   },
   "outputs": [],
   "source": [
    "#plt.plot(sn2005ay.phase['V'], sn2005ay.abs_mag['V'], 'o', label='SN2005ay')\n",
    "plt.figure(figsize=[8.72, 5.19])\n",
    "plt.plot(sn2012aw.phase['V'], sn2012aw.abs_mag['V'], 'o',  label = '2012aw')\n",
    "plt.plot(sn2013ej.phase['V'], sn2013ej.abs_mag['V'], 's',label = '2013ej')\n",
    "plt.plot(sn2009bw.phase['V'], sn2009bw.abs_mag['V'], 'gd',mec='k', label='2009bw')\n",
    "plt.plot(asassn15oz.phase['V'], asassn15oz.abs_mag['V'], 'k*', label = 'ASAS-SN15oz')\n",
    "plt.xlim(0, 200)\n",
    "plt.ylim(-12, -18.5)\n",
    "plt.title('Light Curve Diversity')\n",
    "plt.legend(loc='best')\n",
    "plt.xlabel('Phase (Days)')\n",
    "plt.ylabel('Absolute Magntidue')\n",
    "plt.tight_layout()\n",
    "plt.savefig('../figures/lc_diversity.pdf')"
   ]
  },
  {
   "cell_type": "code",
   "execution_count": 9,
   "metadata": {
    "collapsed": false
   },
   "outputs": [],
   "source": [
    "plt.savefig('../figures/lc_diversity.pdf')"
   ]
  },
  {
   "cell_type": "code",
   "execution_count": 35,
   "metadata": {
    "collapsed": false
   },
   "outputs": [],
   "source": [
    "from matplotlib.ticker import (MultipleLocator)\n",
    "fig = plt.figure(figsize=[8, 5])\n",
    "ax = fig.add_subplot(1,1,1)\n",
    "ax.plot(sn2013ej.phase['V'], sn2013ej.abs_mag['V'], 'o',markersize=3, label = '2013ej')\n",
    "ax.set_xlim(-5, 150)\n",
    "ax.set_ylim(-12, -18.5)\n",
    "ax.set_xticks(np.arange(0, 150, 25))\n",
    "minorLocator = MultipleLocator(5)\n",
    "plt.gca().xaxis.set_minor_locator(minorLocator)\n",
    "ax.set_title('Light Curve of SN2013ej')\n",
    "#plt.legend(loc='best')\n",
    "ax.set_xlabel('Phase (Days)')\n",
    "ax.set_ylabel('Absolute Magntidue')\n",
    "plt.tight_layout()\n",
    "plt.savefig('../figures/lc_example.pdf')"
   ]
  },
  {
   "cell_type": "code",
   "execution_count": null,
   "metadata": {
    "collapsed": true
   },
   "outputs": [],
   "source": []
  },
  {
   "cell_type": "code",
   "execution_count": null,
   "metadata": {
    "collapsed": true
   },
   "outputs": [],
   "source": []
  }
 ],
 "metadata": {
  "kernelspec": {
   "display_name": "Python [default]",
   "language": "python",
   "name": "python3"
  },
  "language_info": {
   "codemirror_mode": {
    "name": "ipython",
    "version": 3
   },
   "file_extension": ".py",
   "mimetype": "text/x-python",
   "name": "python",
   "nbconvert_exporter": "python",
   "pygments_lexer": "ipython3",
   "version": "3.5.4"
  }
 },
 "nbformat": 4,
 "nbformat_minor": 2
}
