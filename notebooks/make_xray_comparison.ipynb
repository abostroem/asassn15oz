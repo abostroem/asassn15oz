{
 "cells": [
  {
   "cell_type": "markdown",
   "metadata": {},
   "source": [
    "Creates:\n",
    "* xray_comp.pdf"
   ]
  },
  {
   "cell_type": "code",
   "execution_count": 74,
   "metadata": {},
   "outputs": [
    {
     "name": "stdout",
     "output_type": "stream",
     "text": [
      "Using matplotlib backend: Qt5Agg\n"
     ]
    }
   ],
   "source": [
    "from astropy.table import Table\n",
    "from astropy.io import ascii as asc\n",
    "import astropy.units as u\n",
    "from astropy.time import Time\n",
    "from matplotlib import pyplot as plt\n",
    "import numpy as np\n",
    "%matplotlib \n",
    "import matplotlib as mpl\n",
    "from utilities_az import supernova"
   ]
  },
  {
   "cell_type": "code",
   "execution_count": 4,
   "metadata": {},
   "outputs": [],
   "source": [
    "plt.style.use(['seaborn-paper', 'az-paper-onecol'])"
   ]
  },
  {
   "cell_type": "markdown",
   "metadata": {},
   "source": [
    "# Read in SNaX data"
   ]
  },
  {
   "cell_type": "code",
   "execution_count": 5,
   "metadata": {},
   "outputs": [],
   "source": [
    "#        0       1           2                  3             4              5          6        7           8                                  9              10         11                           12           13           14          15                       16                              17                          18        19          \n",
    "names=[\"name\",\"type\",\"Date Exploded (JD)\",\"Coordinates\",\"Distance (Mpc)\",\"galaxy\",\"redshift\",\"redshiftErr\",\"Observation Start Date (JD)\",\"instrument\",\"Age (days)\",\"Flux (10^-13 erg cm^-2 s^-1)\",\"isUpperBound\",\"fluxErrL\",\"fluxErrH\",\"Energy Lower Bound (KeV)\",\"Energy Upper Bound (KeV)\",\"Luminosity (10^39 erg s^-1)\",\"lumErrL\",\"lumErrH\",\"model\",\"dateExplodedRef\",\"redshiftRef\",\"dateExplodedRef\",\"coordsRef\",\"distRef\",\"dateObservedRef\",\"fluxRef\", \"junk\"]\n",
    "name = []\n",
    "sntype = []\n",
    "age = []# (days)\n",
    "isUpperBound = []\n",
    "luminosity = [] # (10^39 erg s^-1) \n",
    "lumErrL =[]\n",
    "lumErrH =[]\n",
    "\n",
    "ofile = open('../../data/xray/SNaX.TSV', 'r')\n",
    "for iline in ofile:\n",
    "    if iline.startswith('SN'):\n",
    "        sline = iline.split('\\t')\n",
    "        name.append(sline[0])\n",
    "        sntype.append(sline[1])\n",
    "        age.append(float(sline[10]))\n",
    "        isUpperBound.append(bool(int(sline[12])))\n",
    "        luminosity.append(float(sline[17]))\n",
    "        lumErrL.append(float(sline[18]))\n",
    "        lumErrH.append(float(sline[19]))\n",
    "tbdata = Table([name, sntype, age, isUpperBound, luminosity, lumErrL, lumErrH], \n",
    "              names=['name', 'sntype', 'age', 'isUpperBound', 'luminosity', 'lumErrL', 'lumErrH'])"
   ]
  },
  {
   "cell_type": "markdown",
   "metadata": {},
   "source": [
    "# Read in data from Sam"
   ]
  },
  {
   "cell_type": "code",
   "execution_count": 6,
   "metadata": {},
   "outputs": [],
   "source": [
    "ofile_obs = asc.read('../../data/xray/asassn15oz_SpectrumData.csv', data_start=2, delimiter=',',\n",
    "                    names=['ObsID','SourceCount','SourceRate','BGCount','BGRate','BackedSpectrum',\n",
    "                           'BackedSpectrumError','Flux','FluxError','Luminosity','LuminosityError','PercentTotal',\n",
    "                           'ExposureTime','MJD','Date','Probability','Confidence'])"
   ]
  },
  {
   "cell_type": "markdown",
   "metadata": {},
   "source": [
    "# Read in data from Stefano"
   ]
  },
  {
   "cell_type": "code",
   "execution_count": 143,
   "metadata": {},
   "outputs": [],
   "source": [
    "ofile_ximage = asc.read('../../data/xray/upper_lim_table.txt', data_start=1,\n",
    "                       names=['visit','date-obs','exptime','obsid','cts/s','Flux','unabsorbed-flux','NH'],\n",
    "                       format='fixed_width')\n",
    "distance = (28.83*u.Mpc).to(u.cm)\n",
    "ofile_ximage['luminosity'] = (4*np.pi*distance**2)*ofile_ximage['unabsorbed-flux']\n",
    "ofile_ximage['luminosity'][ofile_ximage['luminosity']==0]=np.nan\n",
    "ofile_ximage['MJD'] = Time(ofile_ximage['date-obs']).mjd"
   ]
  },
  {
   "cell_type": "code",
   "execution_count": 141,
   "metadata": {},
   "outputs": [
    {
     "data": {
      "text/plain": [
       "array([0.0, 24.0567030606753, 100.34399912451995, 0.0, 0.0,\n",
       "       66.17333698459423, 37.91988787530174, 0.0, 24.016923477276084, 0.0,\n",
       "       22.34618097450905, 0.0, 13.535003251582918, 0.0, 0.0,\n",
       "       30.74961796759323, 0.0, 50.19188935395958, 56.50689821858497, 0.0,\n",
       "       0.0, 34.30989068182298, 18.885357218777344, 0.0, 0.0, 0.0,\n",
       "       14.31070512786761, 0.0, 0.0, 12.679742208499796, 0.0,\n",
       "       7.992712794487283, 0.0, 13.385829813835862, 0.0,\n",
       "       138.63184814626442, 0.0, 0.0, 0.0, 39.77958339921504,\n",
       "       108.59826267985707, 0.0, 0.0, 0.0, 19.740618261860465, 0.0, 0.0,\n",
       "       132.36656376088808, 0.0, 13.64439710593076], dtype=object)"
      ]
     },
     "execution_count": 141,
     "metadata": {},
     "output_type": "execute_result"
    }
   ],
   "source": [
    "np.array(ofile_ximage['luminosity'])/10**39"
   ]
  },
  {
   "cell_type": "code",
   "execution_count": 129,
   "metadata": {},
   "outputs": [],
   "source": [
    "sn15oz = supernova.LightCurve2('asassn-15oz')\n",
    "sn15oz_phase = Time(['2015-09-05', '2015-11-18']) - Time(sn15oz.jdexpl, format='jd')\n",
    "#sn15oz_phase = Time(['2015-09-05', '2015-11-18']) - Time('2015-08-27')"
   ]
  },
  {
   "cell_type": "code",
   "execution_count": 163,
   "metadata": {},
   "outputs": [],
   "source": [
    "fig = plt.figure()\n",
    "fig.subplotpars.update(left=0.25)\n",
    "ax = fig.add_subplot(1,1,1)\n",
    "\n",
    "#l1 = ax.fill_between(phase, Lx1_low, Lx1_up, alpha=0.3, label=r'$10^{-7} M_{\\odot}/yr$')\n",
    "#l2 = ax.fill_between(phase, Lx2_low, Lx2_up, alpha=0.3, label=r'$10^{-6} M_{\\odot}/yr$')\n",
    "#l3 = ax.fill_between(phase, Lx3_low, Lx3_up, alpha=0.3, label=r'$10^{-5} M_{\\odot}/yr$')\n",
    "\n",
    "leg_lines, leg_labels = ax.get_legend_handles_labels()\n",
    "\n",
    "snnames = set(tbdata['name'])\n",
    "for snname in snnames:\n",
    "    indx = (tbdata['name']==snname) & (tbdata['age']<100)\n",
    "    if (indx==True).any():\n",
    "        sntype = tbdata[indx]['sntype'][0]\n",
    "\n",
    "        if 'L' in sntype:\n",
    "            iline = ax.errorbar(tbdata[indx]['age'], tbdata[indx]['luminosity'], fmt='s',\n",
    "                         yerr=[tbdata[indx]['lumErrH'], tbdata[indx]['lumErrL']], ls='--')\n",
    "            leg_lines.append(iline[0])\n",
    "            leg_labels.append('{}, {}'.format(snname, tbdata[indx]['sntype'][0]))\n",
    "            \n",
    "            ax.errorbar(tbdata[indx]['age'][tbdata[indx]['isUpperBound']], tbdata[indx]['luminosity'][tbdata[indx]['isUpperBound']], fmt='s',\n",
    "                         yerr=[0.25]*len(tbdata[indx]['age'][tbdata[indx]['isUpperBound']]),\n",
    "                         uplims = [True]*len(tbdata[indx]['age'][tbdata[indx]['isUpperBound']]), ecolor=iline[0].get_color())\n",
    "            \n",
    "            \n",
    "            \n",
    "        elif 'n' not in sntype:\n",
    "            iline = ax.errorbar(tbdata[indx]['age'], tbdata[indx]['luminosity'], fmt='d',\n",
    "                         yerr=[tbdata[indx]['lumErrH'], tbdata[indx]['lumErrL']], ls=':')\n",
    "            leg_lines.append(iline[0])\n",
    "            leg_labels.append('{}, {}'.format(snname, tbdata[indx]['sntype'][0]))\n",
    "            ax.errorbar(tbdata[indx]['age'][tbdata[indx]['isUpperBound']], tbdata[indx]['luminosity'][tbdata[indx]['isUpperBound']], fmt='d',\n",
    "                         yerr=[0.25]*len(tbdata[indx]['age'][tbdata[indx]['isUpperBound']]),\n",
    "                         uplims = [True]*len(tbdata[indx]['age'][tbdata[indx]['isUpperBound']]), ecolor=iline[0].get_color())\n",
    "ax.set_yscale(\"log\")\n",
    "iline = ax.errorbar(ofile_ximage['MJD']-Time(sn15oz.jdexpl, format='jd').mjd, np.array(ofile_ximage['luminosity'])/10**39, np.array(ofile_ximage['luminosity'])/10**39*0.2, \n",
    "                    uplims=True, fmt='.')\n",
    "leg_lines.append(iline[0])\n",
    "leg_labels.append('ASASSN-15oz, IIL')\n",
    "ax.set_xlim(0,160)\n",
    "#ax.set_ylim(-10, 20)\n",
    "ax.set_xlabel('Phase (day)')\n",
    "ax.set_ylabel(r'Luminosity (x10$^{39}$ erg $\\rm s^{-1}$)', position=(1,0.38))\n",
    "ax.legend(leg_lines, leg_labels, bbox_to_anchor=[0.55, 0.65, 0.4, 0.4], framealpha=1.0)\n",
    "plt.savefig('xray_comp.pdf')"
   ]
  },
  {
   "cell_type": "markdown",
   "metadata": {},
   "source": [
    "# Calculate the expected luminosity from the forward shock"
   ]
  },
  {
   "cell_type": "code",
   "execution_count": 111,
   "metadata": {},
   "outputs": [],
   "source": [
    "#From Dwarkadas 2014\n",
    "def calc_xray_luminosity(Mdot, vwind, phase):\n",
    "    gff=1\n",
    "    Cn = 1 #for CSM forward shock\n",
    "    Mdot = Mdot/(10**-5)\n",
    "    vwind = vwind/10\n",
    "    phase = phase/10\n",
    "    Lx = 3.0E39*gff*Cn * (Mdot/vwind)**2 * 1./(phase)\n",
    "    Lx = Lx/10**39\n",
    "    Lx = Lx.astype(np.float)\n",
    "    return Lx\n",
    "\n"
   ]
  },
  {
   "cell_type": "code",
   "execution_count": 112,
   "metadata": {},
   "outputs": [],
   "source": [
    "phase = np.arange(1, 115)\n",
    "vwind1=10 #km/s\n",
    "vwind2= 100 #km/s\n",
    "Mdot1 = 10**-7\n",
    "Mdot2 = 10**-6\n",
    "Mdot3 = 10**-5\n",
    "\n",
    "Lx1_up = calc_xray_luminosity(Mdot1, vwind1, phase)\n",
    "Lx1_low = calc_xray_luminosity(Mdot1, vwind2, phase)\n",
    "\n",
    "Lx2_up = calc_xray_luminosity(Mdot2, vwind1, phase)\n",
    "Lx2_low = calc_xray_luminosity(Mdot2, vwind2, phase)\n",
    "\n",
    "Lx3_up = calc_xray_luminosity(Mdot3, vwind1, phase)\n",
    "Lx3_low = calc_xray_luminosity(Mdot3, vwind2, phase)"
   ]
  },
  {
   "cell_type": "code",
   "execution_count": 50,
   "metadata": {},
   "outputs": [
    {
     "data": {
      "text/html": [
       "<i>Table length=4</i>\n",
       "<table id=\"table4380517376\" class=\"table-striped table-bordered table-condensed\">\n",
       "<thead><tr><th>directory</th><th>exptime</th><th>cts/s</th><th>FLux</th><th>unabsorbed-flux</th><th>NH</th></tr></thead>\n",
       "<thead><tr><th>int64</th><th>float64</th><th>float64</th><th>float64</th><th>float64</th><th>float64</th></tr></thead>\n",
       "<tr><td>34040001</td><td>4415.335</td><td>0.00401</td><td>1.386e-13</td><td>1.444e-13</td><td>1.18e+20</td></tr>\n",
       "<tr><td>34040002</td><td>4352.673</td><td>0.0042</td><td>1.452e-13</td><td>1.513e-13</td><td>1.18e+20</td></tr>\n",
       "<tr><td>34040004</td><td>526.533</td><td>0.0215</td><td>7.431e-13</td><td>7.745e-13</td><td>1.18e+20</td></tr>\n",
       "<tr><td>34040005</td><td>3046.37</td><td>0.0036</td><td>1.244e-13</td><td>1.297e-13</td><td>1.18e+20</td></tr>\n",
       "</table>"
      ],
      "text/plain": [
       "<Table length=4>\n",
       "directory exptime   cts/s     FLux   unabsorbed-flux    NH   \n",
       "  int64   float64  float64  float64      float64     float64 \n",
       "--------- -------- ------- --------- --------------- --------\n",
       " 34040001 4415.335 0.00401 1.386e-13       1.444e-13 1.18e+20\n",
       " 34040002 4352.673  0.0042 1.452e-13       1.513e-13 1.18e+20\n",
       " 34040004  526.533  0.0215 7.431e-13       7.745e-13 1.18e+20\n",
       " 34040005  3046.37  0.0036 1.244e-13       1.297e-13 1.18e+20"
      ]
     },
     "execution_count": 50,
     "metadata": {},
     "output_type": "execute_result"
    }
   ],
   "source": [
    "ofile_ximage"
   ]
  },
  {
   "cell_type": "code",
   "execution_count": 51,
   "metadata": {},
   "outputs": [
    {
     "data": {
      "text/plain": [
       "array([False, False, False, False, False, False, False, False, False,\n",
       "       False, False, False, False, False, False, False, False, False,\n",
       "       False, False, False, False, False, False])"
      ]
     },
     "execution_count": 51,
     "metadata": {},
     "output_type": "execute_result"
    }
   ],
   "source": [
    "ofile_obs['ObsID'] == ofile_ximage['directory'][1]"
   ]
  },
  {
   "cell_type": "code",
   "execution_count": 98,
   "metadata": {},
   "outputs": [
    {
     "data": {
      "text/html": [
       "&lt;Column name=&apos;MJD&apos; dtype=&apos;float64&apos; length=4&gt;\n",
       "<table>\n",
       "<tr><td>8.743779299999005</td></tr>\n",
       "<tr><td>8.5</td></tr>\n",
       "<tr><td>13.65492809999705</td></tr>\n",
       "<tr><td>13.657221900000877</td></tr>\n",
       "</table>"
      ],
      "text/plain": [
       "<Column name='MJD' dtype='float64' length=4>\n",
       " 8.743779299999005\n",
       "               8.5\n",
       " 13.65492809999705\n",
       "13.657221900000877"
      ]
     },
     "execution_count": 98,
     "metadata": {},
     "output_type": "execute_result"
    }
   ],
   "source": [
    "ofile_ximage['MJD']-Time(sn15oz.jdexpl, format='jd').mjd"
   ]
  },
  {
   "cell_type": "code",
   "execution_count": 161,
   "metadata": {},
   "outputs": [
    {
     "name": "stdout",
     "output_type": "stream",
     "text": [
      "      luminosity      \n",
      "         cm2          \n",
      "----------------------\n",
      "                   nan\n",
      "2.4056703060675297e+40\n",
      "1.0034399912451994e+41\n",
      "                   nan\n",
      "                   nan\n",
      " 6.617333698459422e+40\n",
      " 3.791988787530174e+40\n",
      "                   nan\n",
      " 2.401692347727608e+40\n",
      "                   nan\n",
      "                   ...\n",
      "1.0859826267985706e+41\n",
      "                   nan\n",
      "                   nan\n",
      "                   nan\n",
      "1.9740618261860465e+40\n",
      "                   nan\n",
      "                   nan\n",
      "1.3236656376088806e+41\n",
      "                   nan\n",
      " 1.364439710593076e+40\n",
      "Length = 50 rows\n"
     ]
    }
   ],
   "source": [
    "print(ofile_ximage['luminosity'])"
   ]
  },
  {
   "cell_type": "code",
   "execution_count": null,
   "metadata": {},
   "outputs": [],
   "source": []
  }
 ],
 "metadata": {
  "kernelspec": {
   "display_name": "Python [default]",
   "language": "python",
   "name": "python3"
  },
  "language_info": {
   "codemirror_mode": {
    "name": "ipython",
    "version": 3
   },
   "file_extension": ".py",
   "mimetype": "text/x-python",
   "name": "python",
   "nbconvert_exporter": "python",
   "pygments_lexer": "ipython3",
   "version": "3.5.5"
  }
 },
 "nbformat": 4,
 "nbformat_minor": 2
}
