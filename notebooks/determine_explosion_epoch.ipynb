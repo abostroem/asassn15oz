{
 "cells": [
  {
   "cell_type": "code",
   "execution_count": 54,
   "metadata": {},
   "outputs": [],
   "source": [
    "import numpy as np\n",
    "from matplotlib import pyplot as plt\n",
    "from astropy.time import Time\n",
    "%matplotlib notebook\n",
    "\n",
    "import supernova\n",
    "import connect_to_sndavis"
   ]
  },
  {
   "cell_type": "markdown",
   "metadata": {},
   "source": [
    "Best fit SNID templates to 09/04/2015 (wmin=4000, wmax=6000, agemax=5):\n",
    "    1. 2013ej, +2\n",
    "    2. 04et, +4\n",
    "    3. 04et, +2\n",
    "    4. 04et, +1\n",
    "    5. 06bp, +4"
   ]
  },
  {
   "cell_type": "markdown",
   "metadata": {},
   "source": [
    "## Determine explosion epoch\n",
    "\n",
    "To do this I will be looking at the 5 best fit spectra from SNID, given their age from maximum from SNID, our measured maximum in the DB, and the explosion epoch, we can determine the number of days post explosion and subtract this from the date of the spectrum of 15oz that we're fitting with SNID. This gives us an explosion epoch for 15oz"
   ]
  },
  {
   "cell_type": "code",
   "execution_count": 47,
   "metadata": {},
   "outputs": [],
   "source": [
    "sn13ej = supernova.LightCurve2('2013ej')\n",
    "sn04et = supernova.LightCurve2('2004et')\n",
    "sn06bp = supernova.LightCurve2('2006bp')\n",
    "sn15oz = supernova.LightCurve2('ASASSN-15oz')"
   ]
  },
  {
   "cell_type": "code",
   "execution_count": 48,
   "metadata": {},
   "outputs": [],
   "source": [
    "db, cursor = connect_to_sndavis.get_cursor()"
   ]
  },
  {
   "cell_type": "code",
   "execution_count": 49,
   "metadata": {},
   "outputs": [],
   "source": [
    "for sn in [sn13ej, sn04et, sn06bp]:\n",
    "    query_str = \"SELECT DISTINCT jd,mag FROM snmagnitude WHERE targetid = {} AND filter = 'V'\".format(sn.id)\n",
    "    cursor.execute(query_str)\n",
    "    results = cursor.fetchone()\n",
    "    if results is not None:\n",
    "        sn.jdmax = results['jd']"
   ]
  },
  {
   "cell_type": "code",
   "execution_count": 52,
   "metadata": {},
   "outputs": [
    {
     "name": "stdout",
     "output_type": "stream",
     "text": [
      "15oz spec phase 7.5, texpl = 2015-08-27 12:00:00.000\n",
      "1. 2013ej +2 --> texpl =  2015-08-23 07:40:48.000\n",
      "2. 2004et +2 --> texpl =  2015-08-19 08:24:00.000\n",
      "3. 2004et +2 --> texpl =  2015-08-21 08:24:00.000\n",
      "4. 2004et +2 --> texpl =  2015-08-22 08:24:00.000\n",
      "5. 2006bp +4 --> texpl =  2015-08-22 21:50:24.000\n"
     ]
    }
   ],
   "source": [
    "sn15oz_spec_date = Time('2015-09-04')\n",
    "print('15oz spec phase {}, texpl = {}'.format(sn15oz_spec_date - Time(sn15oz.jdexpl, format='jd'), Time(sn15oz.jdexpl, format='jd').iso))\n",
    "print('1. 2013ej +2 --> texpl = ', sn15oz_spec_date - (Time(sn13ej.jdmax + 2, format='jd') - Time(sn13ej.jdexpl, format='jd')))\n",
    "print('2. 2004et +2 --> texpl = ', sn15oz_spec_date - (Time(sn04et.jdmax + 4, format='jd') - Time(sn04et.jdexpl, format='jd')))\n",
    "print('3. 2004et +2 --> texpl = ', sn15oz_spec_date - (Time(sn04et.jdmax + 2, format='jd') - Time(sn04et.jdexpl, format='jd')))\n",
    "print('4. 2004et +2 --> texpl = ', sn15oz_spec_date - (Time(sn04et.jdmax + 1, format='jd') - Time(sn04et.jdexpl, format='jd')))\n",
    "print('5. 2006bp +4 --> texpl = ', sn15oz_spec_date - (Time(sn06bp.jdmax + 4, format='jd') - Time(sn06bp.jdexpl, format='jd')))"
   ]
  },
  {
   "cell_type": "code",
   "execution_count": 61,
   "metadata": {},
   "outputs": [],
   "source": [
    "texpl1 = sn15oz_spec_date - (Time(sn13ej.jdmax + 2, format='jd') - Time(sn13ej.jdexpl, format='jd'))\n",
    "texpl2 = sn15oz_spec_date - (Time(sn04et.jdmax + 4, format='jd') - Time(sn04et.jdexpl, format='jd'))\n",
    "texpl3 = sn15oz_spec_date - (Time(sn04et.jdmax + 2, format='jd') - Time(sn04et.jdexpl, format='jd'))\n",
    "texpl4 = sn15oz_spec_date - (Time(sn04et.jdmax + 1, format='jd') - Time(sn04et.jdexpl, format='jd'))\n",
    "texpl5 = sn15oz_spec_date - (Time(sn06bp.jdmax + 4, format='jd') - Time(sn06bp.jdexpl, format='jd'))\n",
    "\n",
    "texpl_arr = np.array([texpl1.jd, texpl2.jd, texpl3.jd, texpl4.jd, texpl5.jd])"
   ]
  },
  {
   "cell_type": "code",
   "execution_count": 63,
   "metadata": {},
   "outputs": [
    {
     "name": "stdout",
     "output_type": "stream",
     "text": [
      "2015-08-21 20:32:38.400 2015-08-22 08:24:00.000\n"
     ]
    }
   ],
   "source": [
    "print(Time(np.mean(texpl_arr), format='jd').iso, Time(np.median(texpl_arr), format='jd').iso)"
   ]
  },
  {
   "cell_type": "code",
   "execution_count": null,
   "metadata": {},
   "outputs": [],
   "source": []
  }
 ],
 "metadata": {
  "kernelspec": {
   "display_name": "Python [default]",
   "language": "python",
   "name": "python3"
  },
  "language_info": {
   "codemirror_mode": {
    "name": "ipython",
    "version": 3
   },
   "file_extension": ".py",
   "mimetype": "text/x-python",
   "name": "python",
   "nbconvert_exporter": "python",
   "pygments_lexer": "ipython3",
   "version": "3.5.5"
  }
 },
 "nbformat": 4,
 "nbformat_minor": 2
}
