{
 "cells": [
  {
   "cell_type": "code",
   "execution_count": 1,
   "metadata": {},
   "outputs": [],
   "source": [
    "from astropy import units as u\n",
    "import math"
   ]
  },
  {
   "cell_type": "code",
   "execution_count": 2,
   "metadata": {},
   "outputs": [],
   "source": [
    "v_wind_low = 10 *u.km/u.s\n",
    "v_wind_up = 100 *u.km/u.s"
   ]
  },
  {
   "cell_type": "markdown",
   "metadata": {},
   "source": [
    "# LC Modeling"
   ]
  },
  {
   "cell_type": "code",
   "execution_count": 3,
   "metadata": {},
   "outputs": [],
   "source": [
    "K_opt = 40E17* u.g/u.cm\n",
    "R_ext = 1800*u.Rsun\n",
    "R_phot = 910*u.Rsun"
   ]
  },
  {
   "cell_type": "markdown",
   "metadata": {},
   "source": [
    "# Radio Analysis"
   ]
  },
  {
   "cell_type": "markdown",
   "metadata": {},
   "source": [
    "Assaf assumed a wind velocity of 100 km/s to get the mass-loss rate. I believe the radio modeling gives you K."
   ]
  },
  {
   "cell_type": "code",
   "execution_count": 4,
   "metadata": {},
   "outputs": [],
   "source": [
    "Mdot_rad = 0.9E-6*u.Msun/u.year #Mass loss rate for 100 km/s wind\n",
    "v_wind = 100 *u.km/u.s"
   ]
  },
  {
   "cell_type": "markdown",
   "metadata": {},
   "source": [
    "# Mass Loss Model:"
   ]
  },
  {
   "cell_type": "markdown",
   "metadata": {},
   "source": [
    "$\\rho(r) = \\frac{\\dot{M}}{4\\pi r^{2} v_{wind}} = \\frac{K}{r^{2}}$ --> $K = \\frac{\\dot{M}}{4\\pi v_{wind}}$"
   ]
  },
  {
   "cell_type": "markdown",
   "metadata": {},
   "source": [
    "### So, to put the Radio analysis into comparable terms with the LC modeling:"
   ]
  },
  {
   "cell_type": "code",
   "execution_count": 5,
   "metadata": {},
   "outputs": [
    {
     "name": "stdout",
     "output_type": "stream",
     "text": [
      "K from radio = 4.51e+11 g / cm\n"
     ]
    }
   ],
   "source": [
    "K_rad = Mdot_rad.to(u.g/u.s)/(4*math.pi* v_wind.to(u.cm/u.s))\n",
    "print('K from radio = {:2.2e}'.format(K_rad))"
   ]
  },
  {
   "cell_type": "markdown",
   "metadata": {},
   "source": [
    "## Mass-loss rates for different wind speeds (for paper)"
   ]
  },
  {
   "cell_type": "markdown",
   "metadata": {},
   "source": [
    "#### Radio"
   ]
  },
  {
   "cell_type": "code",
   "execution_count": 6,
   "metadata": {},
   "outputs": [
    {
     "name": "stdout",
     "output_type": "stream",
     "text": [
      "Mass loss rate from radio for 10.0 km / s km/s wind = 9e-08 solMass / yr\n",
      "Mass loss rate from radio for 100.0 km / s km/s wind = 9e-07 solMass / yr\n"
     ]
    }
   ],
   "source": [
    "Mdot_rad_low = K_rad*(4*math.pi*v_wind_low)\n",
    "Mdot_rad_up = K_rad *(4*math.pi*v_wind_up)\n",
    "print('Mass loss rate from radio for {} km/s wind = {:2.2}'.format(v_wind_low, Mdot_rad_low.to(u.Msun/u.year)))\n",
    "print('Mass loss rate from radio for {} km/s wind = {:2.2}'.format(v_wind_up, Mdot_rad_up.to(u.Msun/u.year)))"
   ]
  },
  {
   "cell_type": "code",
   "execution_count": 7,
   "metadata": {},
   "outputs": [
    {
     "name": "stdout",
     "output_type": "stream",
     "text": [
      "Mass loss rate from optical for 10.0 km / s km/s wind = 0.798 solMass / yr\n",
      "Mass loss rate from optical for 100.0 km / s km/s wind = 7.98 solMass / yr\n"
     ]
    }
   ],
   "source": [
    "Mdot_opt_low = K_opt*(4*math.pi*v_wind_low)\n",
    "Mdot_opt_up = K_opt *(4*math.pi*v_wind_up)\n",
    "print('Mass loss rate from optical for {} km/s wind = {:2.3}'.format(v_wind_low, Mdot_opt_low.to(u.Msun/u.year)))\n",
    "print('Mass loss rate from optical for {} km/s wind = {:2.3}'.format(v_wind_up, Mdot_opt_up.to(u.Msun/u.year)))"
   ]
  },
  {
   "cell_type": "markdown",
   "metadata": {},
   "source": [
    "### But the LC modeling is degenerate and we haven't taken the extent into consideration. What if we look at what value of R_ext would give us the same total CSM mass"
   ]
  },
  {
   "cell_type": "markdown",
   "metadata": {},
   "source": [
    "$M_{CSM} = 4\\pi \\int^{R_{ext}}_{R_{phot}}{\\frac{K}{r^{2}}(r^{2}dr)} = 4\\pi K \\left(R_{ext} - R_{phot}\\right)$"
   ]
  },
  {
   "cell_type": "code",
   "execution_count": 9,
   "metadata": {},
   "outputs": [
    {
     "name": "stdout",
     "output_type": "stream",
     "text": [
      "1.5651704481508977 solMass\n",
      "M_CSM = 1.6 solMass\n"
     ]
    }
   ],
   "source": [
    "M_csm_opti = 4*math.pi*K_opt*(R_ext.to(u.cm) - R_phot.to(u.cm))\n",
    "print(M_csm_opti.to(u.Msun))\n",
    "print('M_CSM = {:2.2}'.format(M_csm_opti.to(u.Msun)))"
   ]
  },
  {
   "cell_type": "code",
   "execution_count": null,
   "metadata": {},
   "outputs": [],
   "source": []
  },
  {
   "cell_type": "markdown",
   "metadata": {},
   "source": [
    "#### Interpret density"
   ]
  },
  {
   "cell_type": "code",
   "execution_count": 19,
   "metadata": {},
   "outputs": [
    {
     "name": "stdout",
     "output_type": "stream",
     "text": [
      "0.19943143085440893 solMass / yr\n"
     ]
    }
   ],
   "source": [
    "print((K*4*math.pi*(10*u.km/u.s).to(u.cm/u.s)).to(u.Msun/u.yr))"
   ]
  },
  {
   "cell_type": "markdown",
   "metadata": {},
   "source": [
    "### How far out would we have to go to get this same M_CSM for the radio?"
   ]
  },
  {
   "cell_type": "code",
   "execution_count": 6,
   "metadata": {},
   "outputs": [
    {
     "name": "stdout",
     "output_type": "stream",
     "text": [
      "R_ext for Radio K and optical M_csm = 3.18e+09 solRad\n"
     ]
    }
   ],
   "source": [
    "R_ext_radio = (M_csm_opti+(4*math.pi*K_radio*R_phot.to(u.cm)))/ \\\n",
    "                (4*math.pi*K_radio)\n",
    "print('R_ext for Radio K and optical M_csm = {:2.2e}'.format(R_ext_radio.to(u.Rsun)))"
   ]
  },
  {
   "cell_type": "code",
   "execution_count": 7,
   "metadata": {},
   "outputs": [
    {
     "name": "stdout",
     "output_type": "stream",
     "text": [
      "0.6300250708427629 solMass\n"
     ]
    }
   ],
   "source": [
    "M_csm_radio = 4*math.pi*K_radio*(R_ext_radio.to(u.cm) - R_phot.to(u.cm))\n",
    "print(M_csm_radio.to(u.Msun))"
   ]
  },
  {
   "cell_type": "code",
   "execution_count": 8,
   "metadata": {},
   "outputs": [
    {
     "data": {
      "text/latex": [
       "$0.19943143 \\; \\mathrm{\\frac{M_{\\odot}}{yr}}$"
      ],
      "text/plain": [
       "<Quantity 0.19943143 solMass / yr>"
      ]
     },
     "execution_count": 8,
     "metadata": {},
     "output_type": "execute_result"
    }
   ],
   "source": [
    "(K.to(u.Msun/u.km)*4*math.pi*(10*u.km/u.s)).to(u.Msun/u.year)"
   ]
  },
  {
   "cell_type": "markdown",
   "metadata": {},
   "source": [
    "# Test of Understanding\n",
    "\n",
    "From Morozova et al, 2018"
   ]
  },
  {
   "cell_type": "code",
   "execution_count": 9,
   "metadata": {},
   "outputs": [
    {
     "name": "stdout",
     "output_type": "stream",
     "text": [
      "0.4743807415183294 solMass\n"
     ]
    }
   ],
   "source": [
    "R_phot_test = 7.1032013380776344E+13*u.cm #From bare models 19Msun, E=0.85\n",
    "K_test = 1E18*u.g/u.cm\n",
    "R_test = 2100*u.Rsun\n",
    "M_csm_opti = 4*math.pi*K_test* (R_test.to(u.cm)-R_phot_test.to(u.cm))\n",
    "print(M_csm_opti.to(u.Msun))"
   ]
  },
  {
   "cell_type": "code",
   "execution_count": 10,
   "metadata": {},
   "outputs": [
    {
     "name": "stdout",
     "output_type": "stream",
     "text": [
      "28.0\n",
      "42.0\n"
     ]
    }
   ],
   "source": [
    "from astropy.time import Time\n",
    "texpl = Time('2015-08-27')\n",
    "tradio1 = Time('2015-09-24')\n",
    "tradio2 = Time('2015-10-08')\n",
    "print(tradio1 - texpl)\n",
    "print(tradio2 - texpl)"
   ]
  },
  {
   "cell_type": "code",
   "execution_count": 17,
   "metadata": {},
   "outputs": [
    {
     "data": {
      "text/latex": [
       "$14374.012 \\; \\mathrm{R_{\\odot}}$"
      ],
      "text/plain": [
       "<Quantity 14374.01178669 solRad>"
      ]
     },
     "execution_count": 17,
     "metadata": {},
     "output_type": "execute_result"
    }
   ],
   "source": [
    "(10**15*u.cm).to(u.Rsun)"
   ]
  },
  {
   "cell_type": "code",
   "execution_count": 20,
   "metadata": {},
   "outputs": [
    {
     "data": {
      "text/latex": [
       "$0.12 \\; \\mathrm{mJy}$"
      ],
      "text/plain": [
       "<Quantity 0.12 mJy>"
      ]
     },
     "execution_count": 20,
     "metadata": {},
     "output_type": "execute_result"
    }
   ],
   "source": [
    "(120*u.microJansky).to(u.milliJansky)"
   ]
  },
  {
   "cell_type": "code",
   "execution_count": null,
   "metadata": {},
   "outputs": [],
   "source": []
  }
 ],
 "metadata": {
  "kernelspec": {
   "display_name": "Python [conda env:py36]",
   "language": "python",
   "name": "conda-env-py36-py"
  },
  "language_info": {
   "codemirror_mode": {
    "name": "ipython",
    "version": 3
   },
   "file_extension": ".py",
   "mimetype": "text/x-python",
   "name": "python",
   "nbconvert_exporter": "python",
   "pygments_lexer": "ipython3",
   "version": "3.6.5"
  }
 },
 "nbformat": 4,
 "nbformat_minor": 2
}
