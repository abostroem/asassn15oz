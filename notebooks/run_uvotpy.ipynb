{
 "cells": [
  {
   "cell_type": "code",
   "execution_count": 1,
   "metadata": {
    "collapsed": false
   },
   "outputs": [
    {
     "name": "stdout",
     "output_type": "stream",
     "text": [
      "==================================================================\n",
      "uvotpy module uvotgetspec version= 2.7.0 20161031\n",
      "N.P.M. Kuin (c) 2009-2016, see uvotpy licence.\n",
      "please use reference provided at http://github.com/PaulKuin/uvotpy\n",
      "================================================================== \n",
      "\n"
     ]
    }
   ],
   "source": [
    "import os\n",
    "from astropy.io import fits\n",
    "from uvotpy import uvotgetspec"
   ]
  },
  {
   "cell_type": "code",
   "execution_count": 14,
   "metadata": {
    "collapsed": false
   },
   "outputs": [
    {
     "name": "stdout",
     "output_type": "stream",
     "text": [
      "WARNING: cannot locate the scat program \n",
      "Did you install WCSTOOLS ?\n",
      "\n",
      "lenticular file observation preceeding grism observation\n",
      "lenticular filter 1 from search lenticular imagesuvw1+2\n",
      "lenticular filter 2 from search lenticular imagesuvw2+1\n"
     ]
    },
    {
     "ename": "IndexError",
     "evalue": "list index out of range",
     "output_type": "error",
     "traceback": [
      "\u001b[0;31m---------------------------------------------------------------------------\u001b[0m",
      "\u001b[0;31mIndexError\u001b[0m                                Traceback (most recent call last)",
      "\u001b[0;32m<ipython-input-14-a55efb7fa5cc>\u001b[0m in \u001b[0;36m<module>\u001b[0;34m()\u001b[0m\n\u001b[1;32m      2\u001b[0m \u001b[0mos\u001b[0m\u001b[0;34m.\u001b[0m\u001b[0mchdir\u001b[0m\u001b[0;34m(\u001b[0m\u001b[0;34m'../data/swiftuvot/reduced/'\u001b[0m\u001b[0;34m)\u001b[0m\u001b[0;34m\u001b[0m\u001b[0m\n\u001b[1;32m      3\u001b[0m uvotgetspec.getSpec(289.88954166667, -33.767222222222, '00034040001',2, \n\u001b[0;32m----> 4\u001b[0;31m                     fit_second=False, clobber=False, lfilt1_ext=1)\n\u001b[0m",
      "\u001b[0;32m/Users/bostroem/anaconda/envs/astroconda2/lib/python2.7/site-packages/uvotpy/uvotgetspec.pyc\u001b[0m in \u001b[0;36mgetSpec\u001b[0;34m(RA, DEC, obsid, ext, indir, wr_outfile, outfile, calfile, fluxcalfile, use_lenticular_image, offsetlimit, anchor_offset, anchor_position, background_lower, background_upper, background_template, fixed_angle, spextwidth, curved, fit_second, predict2nd, skip_field_src, optimal_extraction, catspec, write_RMF, get_curve, fit_sigmas, get_sigma_poly, lfilt1, lfilt1_ext, lfilt2, lfilt2_ext, wheelpos, interactive, sumimage, set_maglimit, plot_img, plot_raw, plot_spec, zoom, highlight, clobber, chatter)\u001b[0m\n\u001b[1;32m    656\u001b[0m       Xphi, Yphi, date1, msg3, lenticular_anchors = findInputAngle( RA, DEC, filestub, ext, msg=\"\", \\\n\u001b[1;32m    657\u001b[0m            \u001b[0mwheelpos\u001b[0m\u001b[0;34m=\u001b[0m\u001b[0mwheelpos\u001b[0m\u001b[0;34m,\u001b[0m \u001b[0mlfilter\u001b[0m\u001b[0;34m=\u001b[0m\u001b[0mlfilt1\u001b[0m\u001b[0;34m,\u001b[0m \u001b[0mlfilter_ext\u001b[0m\u001b[0;34m=\u001b[0m\u001b[0mlfilt1_ext\u001b[0m\u001b[0;34m,\u001b[0m \u001b[0mlfilt2\u001b[0m\u001b[0;34m=\u001b[0m\u001b[0mlfilt2\u001b[0m\u001b[0;34m,\u001b[0m \u001b[0mlfilt2_ext\u001b[0m\u001b[0;34m=\u001b[0m\u001b[0mlfilt2_ext\u001b[0m\u001b[0;34m,\u001b[0m\u001b[0;31m \u001b[0m\u001b[0;31m\\\u001b[0m\u001b[0;34m\u001b[0m\u001b[0m\n\u001b[0;32m--> 658\u001b[0;31m            method=method, attfile=attfile, catspec=catspec, indir=indir, chatter=chatter)\n\u001b[0m\u001b[1;32m    659\u001b[0m       \u001b[0mYout\u001b[0m\u001b[0;34m.\u001b[0m\u001b[0mupdate\u001b[0m\u001b[0;34m(\u001b[0m\u001b[0;34m{\u001b[0m\u001b[0;34m\"Xphi\"\u001b[0m\u001b[0;34m:\u001b[0m\u001b[0mXphi\u001b[0m\u001b[0;34m,\u001b[0m\u001b[0;34m\"Yphi\"\u001b[0m\u001b[0;34m:\u001b[0m\u001b[0mYphi\u001b[0m\u001b[0;34m}\u001b[0m\u001b[0;34m)\u001b[0m\u001b[0;34m\u001b[0m\u001b[0m\n\u001b[1;32m    660\u001b[0m       \u001b[0mYout\u001b[0m\u001b[0;34m.\u001b[0m\u001b[0mupdate\u001b[0m\u001b[0;34m(\u001b[0m\u001b[0;34m{\u001b[0m\u001b[0;34m'lenticular_anchors'\u001b[0m\u001b[0;34m:\u001b[0m\u001b[0mlenticular_anchors\u001b[0m\u001b[0;34m}\u001b[0m\u001b[0;34m)\u001b[0m\u001b[0;34m\u001b[0m\u001b[0m\n",
      "\u001b[0;32m/Users/bostroem/anaconda/envs/astroconda2/lib/python2.7/site-packages/uvotpy/uvotgetspec.pyc\u001b[0m in \u001b[0;36mfindInputAngle\u001b[0;34m(RA, DEC, filestub, ext, wheelpos, lfilter, lfilter_ext, lfilt2, lfilt2_ext, method, attfile, msg, catspec, indir, chatter)\u001b[0m\n\u001b[1;32m   6106\u001b[0m       \u001b[0;32mif\u001b[0m \u001b[0mlfilt2\u001b[0m \u001b[0;34m==\u001b[0m \u001b[0;34m'uvw2'\u001b[0m \u001b[0;34m:\u001b[0m \u001b[0mf2ile\u001b[0m \u001b[0;34m=\u001b[0m \u001b[0mindir\u001b[0m\u001b[0;34m+\u001b[0m\u001b[0;34m'/'\u001b[0m\u001b[0;34m+\u001b[0m\u001b[0mfilestub\u001b[0m\u001b[0;34m+\u001b[0m\u001b[0;34m'uw2_sk.img'\u001b[0m\u001b[0;34m\u001b[0m\u001b[0m\n\u001b[1;32m   6107\u001b[0m       \u001b[0;32mif\u001b[0m \u001b[0mlfilt2\u001b[0m \u001b[0;34m==\u001b[0m \u001b[0;34m'fk'\u001b[0m   \u001b[0;34m:\u001b[0m \u001b[0mf2ile\u001b[0m \u001b[0;34m=\u001b[0m \u001b[0mindir\u001b[0m\u001b[0;34m+\u001b[0m\u001b[0;34m'/'\u001b[0m\u001b[0;34m+\u001b[0m\u001b[0mfilestub\u001b[0m\u001b[0;34m+\u001b[0m\u001b[0;34m'ufk_sk.img'\u001b[0m\u001b[0;34m\u001b[0m\u001b[0m\n\u001b[0;32m-> 6108\u001b[0;31m       \u001b[0mhf2\u001b[0m \u001b[0;34m=\u001b[0m \u001b[0mfits\u001b[0m\u001b[0;34m.\u001b[0m\u001b[0mgetheader\u001b[0m\u001b[0;34m(\u001b[0m\u001b[0mf2ile\u001b[0m\u001b[0;34m,\u001b[0m\u001b[0mlfext\u001b[0m\u001b[0;34m)\u001b[0m\u001b[0;34m\u001b[0m\u001b[0m\n\u001b[0m\u001b[1;32m   6109\u001b[0m       \u001b[0mW1\u001b[0m \u001b[0;34m=\u001b[0m \u001b[0mwcs\u001b[0m\u001b[0;34m.\u001b[0m\u001b[0mWCS\u001b[0m\u001b[0;34m(\u001b[0m\u001b[0mhf2\u001b[0m\u001b[0;34m,\u001b[0m\u001b[0;34m)\u001b[0m\u001b[0;34m\u001b[0m\u001b[0m\n\u001b[1;32m   6110\u001b[0m       \u001b[0mxpix_\u001b[0m\u001b[0;34m,\u001b[0m \u001b[0mypix_\u001b[0m \u001b[0;34m=\u001b[0m \u001b[0mW1\u001b[0m\u001b[0;34m.\u001b[0m\u001b[0mwcs_world2pix\u001b[0m\u001b[0;34m(\u001b[0m\u001b[0mRA\u001b[0m\u001b[0;34m,\u001b[0m\u001b[0mDEC\u001b[0m\u001b[0;34m,\u001b[0m\u001b[0;36m0\u001b[0m\u001b[0;34m)\u001b[0m\u001b[0;34m\u001b[0m\u001b[0m\n",
      "\u001b[0;32m/Users/bostroem/anaconda/envs/astroconda2/lib/python2.7/site-packages/astropy/io/fits/convenience.pyc\u001b[0m in \u001b[0;36mgetheader\u001b[0;34m(filename, *args, **kwargs)\u001b[0m\n\u001b[1;32m    108\u001b[0m     \u001b[0mhdulist\u001b[0m\u001b[0;34m,\u001b[0m \u001b[0mextidx\u001b[0m \u001b[0;34m=\u001b[0m \u001b[0m_getext\u001b[0m\u001b[0;34m(\u001b[0m\u001b[0mfilename\u001b[0m\u001b[0;34m,\u001b[0m \u001b[0mmode\u001b[0m\u001b[0;34m,\u001b[0m \u001b[0;34m*\u001b[0m\u001b[0margs\u001b[0m\u001b[0;34m,\u001b[0m \u001b[0;34m**\u001b[0m\u001b[0mkwargs\u001b[0m\u001b[0;34m)\u001b[0m\u001b[0;34m\u001b[0m\u001b[0m\n\u001b[1;32m    109\u001b[0m     \u001b[0;32mtry\u001b[0m\u001b[0;34m:\u001b[0m\u001b[0;34m\u001b[0m\u001b[0m\n\u001b[0;32m--> 110\u001b[0;31m         \u001b[0mhdu\u001b[0m \u001b[0;34m=\u001b[0m \u001b[0mhdulist\u001b[0m\u001b[0;34m[\u001b[0m\u001b[0mextidx\u001b[0m\u001b[0;34m]\u001b[0m\u001b[0;34m\u001b[0m\u001b[0m\n\u001b[0m\u001b[1;32m    111\u001b[0m         \u001b[0mheader\u001b[0m \u001b[0;34m=\u001b[0m \u001b[0mhdu\u001b[0m\u001b[0;34m.\u001b[0m\u001b[0mheader\u001b[0m\u001b[0;34m\u001b[0m\u001b[0m\n\u001b[1;32m    112\u001b[0m     \u001b[0;32mfinally\u001b[0m\u001b[0;34m:\u001b[0m\u001b[0;34m\u001b[0m\u001b[0m\n",
      "\u001b[0;32m/Users/bostroem/anaconda/envs/astroconda2/lib/python2.7/site-packages/astropy/io/fits/hdu/hdulist.pyc\u001b[0m in \u001b[0;36m__getitem__\u001b[0;34m(self, key)\u001b[0m\n\u001b[1;32m    312\u001b[0m         \u001b[0;31m# instead\u001b[0m\u001b[0;34m\u001b[0m\u001b[0;34m\u001b[0m\u001b[0m\n\u001b[1;32m    313\u001b[0m         return self._try_while_unread_hdus(super(HDUList, self).__getitem__,\n\u001b[0;32m--> 314\u001b[0;31m                                            self._positive_index_of(key))\n\u001b[0m\u001b[1;32m    315\u001b[0m \u001b[0;34m\u001b[0m\u001b[0m\n\u001b[1;32m    316\u001b[0m     \u001b[0;32mdef\u001b[0m \u001b[0m__contains__\u001b[0m\u001b[0;34m(\u001b[0m\u001b[0mself\u001b[0m\u001b[0;34m,\u001b[0m \u001b[0mitem\u001b[0m\u001b[0;34m)\u001b[0m\u001b[0;34m:\u001b[0m\u001b[0;34m\u001b[0m\u001b[0m\n",
      "\u001b[0;32m/Users/bostroem/anaconda/envs/astroconda2/lib/python2.7/site-packages/astropy/io/fits/hdu/hdulist.pyc\u001b[0m in \u001b[0;36m_try_while_unread_hdus\u001b[0;34m(self, func, index, *args, **kwargs)\u001b[0m\n\u001b[1;32m   1093\u001b[0m         \u001b[0;32mwhile\u001b[0m \u001b[0mTrue\u001b[0m\u001b[0;34m:\u001b[0m\u001b[0;34m\u001b[0m\u001b[0m\n\u001b[1;32m   1094\u001b[0m             \u001b[0;32mtry\u001b[0m\u001b[0;34m:\u001b[0m\u001b[0;34m\u001b[0m\u001b[0m\n\u001b[0;32m-> 1095\u001b[0;31m                 \u001b[0;32mreturn\u001b[0m \u001b[0mfunc\u001b[0m\u001b[0;34m(\u001b[0m\u001b[0mindex\u001b[0m\u001b[0;34m,\u001b[0m \u001b[0;34m*\u001b[0m\u001b[0margs\u001b[0m\u001b[0;34m,\u001b[0m \u001b[0;34m**\u001b[0m\u001b[0mkwargs\u001b[0m\u001b[0;34m)\u001b[0m\u001b[0;34m\u001b[0m\u001b[0m\n\u001b[0m\u001b[1;32m   1096\u001b[0m             \u001b[0;32mexcept\u001b[0m \u001b[0mException\u001b[0m\u001b[0;34m:\u001b[0m\u001b[0;34m\u001b[0m\u001b[0m\n\u001b[1;32m   1097\u001b[0m                 \u001b[0;32mif\u001b[0m \u001b[0mself\u001b[0m\u001b[0;34m.\u001b[0m\u001b[0m_read_next_hdu\u001b[0m\u001b[0;34m(\u001b[0m\u001b[0;34m)\u001b[0m\u001b[0;34m:\u001b[0m\u001b[0;34m\u001b[0m\u001b[0m\n",
      "\u001b[0;31mIndexError\u001b[0m: list index out of range"
     ]
    }
   ],
   "source": [
    "os.chdir('/Users/bostroem/Desktop/research/asassn15oz/notebooks/')\n",
    "os.chdir('../data/swiftuvot/reduced/')\n",
    "uvotgetspec.getSpec(289.88954166667, -33.767222222222, '00034040001',2, \n",
    "                    fit_second=False, clobber=False, vb lfilt1_ext=1)"
   ]
  },
  {
   "cell_type": "code",
   "execution_count": 13,
   "metadata": {
    "collapsed": false
   },
   "outputs": [
    {
     "name": "stdout",
     "output_type": "stream",
     "text": [
      "> \u001b[0;32m/Users/bostroem/anaconda/envs/astroconda2/lib/python2.7/site-packages/astropy/io/fits/hdu/hdulist.py\u001b[0m(1100)\u001b[0;36m_try_while_unread_hdus\u001b[0;34m()\u001b[0m\n",
      "\u001b[0;32m   1098 \u001b[0;31m                    \u001b[0;32mcontinue\u001b[0m\u001b[0;34m\u001b[0m\u001b[0m\n",
      "\u001b[0m\u001b[0;32m   1099 \u001b[0;31m                \u001b[0;32melse\u001b[0m\u001b[0;34m:\u001b[0m\u001b[0;34m\u001b[0m\u001b[0m\n",
      "\u001b[0m\u001b[0;32m-> 1100 \u001b[0;31m                    \u001b[0;32mraise\u001b[0m\u001b[0;34m\u001b[0m\u001b[0m\n",
      "\u001b[0m\u001b[0;32m   1101 \u001b[0;31m\u001b[0;34m\u001b[0m\u001b[0m\n",
      "\u001b[0m\u001b[0;32m   1102 \u001b[0;31m    \u001b[0;32mdef\u001b[0m \u001b[0m_read_next_hdu\u001b[0m\u001b[0;34m(\u001b[0m\u001b[0mself\u001b[0m\u001b[0;34m)\u001b[0m\u001b[0;34m:\u001b[0m\u001b[0;34m\u001b[0m\u001b[0m\n",
      "\u001b[0m\n",
      "ipdb> u\n",
      "> \u001b[0;32m/Users/bostroem/anaconda/envs/astroconda2/lib/python2.7/site-packages/astropy/io/fits/hdu/hdulist.py\u001b[0m(314)\u001b[0;36m__getitem__\u001b[0;34m()\u001b[0m\n",
      "\u001b[0;32m    312 \u001b[0;31m        \u001b[0;31m# instead\u001b[0m\u001b[0;34m\u001b[0m\u001b[0;34m\u001b[0m\u001b[0m\n",
      "\u001b[0m\u001b[0;32m    313 \u001b[0;31m        return self._try_while_unread_hdus(super(HDUList, self).__getitem__,\n",
      "\u001b[0m\u001b[0;32m--> 314 \u001b[0;31m                                           self._positive_index_of(key))\n",
      "\u001b[0m\u001b[0;32m    315 \u001b[0;31m\u001b[0;34m\u001b[0m\u001b[0m\n",
      "\u001b[0m\u001b[0;32m    316 \u001b[0;31m    \u001b[0;32mdef\u001b[0m \u001b[0m__contains__\u001b[0m\u001b[0;34m(\u001b[0m\u001b[0mself\u001b[0m\u001b[0;34m,\u001b[0m \u001b[0mitem\u001b[0m\u001b[0;34m)\u001b[0m\u001b[0;34m:\u001b[0m\u001b[0;34m\u001b[0m\u001b[0m\n",
      "\u001b[0m\n",
      "ipdb> u\n",
      "> \u001b[0;32m/Users/bostroem/anaconda/envs/astroconda2/lib/python2.7/site-packages/astropy/io/fits/convenience.py\u001b[0m(119)\u001b[0;36mgetheader\u001b[0;34m()\u001b[0m\n",
      "\u001b[0;32m    117 \u001b[0;31m        \u001b[0;31m# after the file was closed, but for getheader and other convenience\u001b[0m\u001b[0;34m\u001b[0m\u001b[0;34m\u001b[0m\u001b[0m\n",
      "\u001b[0m\u001b[0;32m    118 \u001b[0;31m        \u001b[0;31m# functions this is irrelevant\u001b[0m\u001b[0;34m\u001b[0m\u001b[0;34m\u001b[0m\u001b[0m\n",
      "\u001b[0m\u001b[0;32m--> 119 \u001b[0;31m        \u001b[0mhdulist\u001b[0m\u001b[0;34m.\u001b[0m\u001b[0m_close\u001b[0m\u001b[0;34m(\u001b[0m\u001b[0mclosed\u001b[0m\u001b[0;34m=\u001b[0m\u001b[0mclosed\u001b[0m\u001b[0;34m)\u001b[0m\u001b[0;34m\u001b[0m\u001b[0m\n",
      "\u001b[0m\u001b[0;32m    120 \u001b[0;31m\u001b[0;34m\u001b[0m\u001b[0m\n",
      "\u001b[0m\u001b[0;32m    121 \u001b[0;31m    \u001b[0;32mreturn\u001b[0m \u001b[0mheader\u001b[0m\u001b[0;34m\u001b[0m\u001b[0m\n",
      "\u001b[0m\n",
      "ipdb> u\n",
      "> \u001b[0;32m/Users/bostroem/anaconda/envs/astroconda2/lib/python2.7/site-packages/uvotpy/uvotgetspec.py\u001b[0m(6108)\u001b[0;36mfindInputAngle\u001b[0;34m()\u001b[0m\n",
      "\u001b[0;32m   6106 \u001b[0;31m      \u001b[0;32mif\u001b[0m \u001b[0mlfilt2\u001b[0m \u001b[0;34m==\u001b[0m \u001b[0;34m'uvw2'\u001b[0m \u001b[0;34m:\u001b[0m \u001b[0mf2ile\u001b[0m \u001b[0;34m=\u001b[0m \u001b[0mindir\u001b[0m\u001b[0;34m+\u001b[0m\u001b[0;34m'/'\u001b[0m\u001b[0;34m+\u001b[0m\u001b[0mfilestub\u001b[0m\u001b[0;34m+\u001b[0m\u001b[0;34m'uw2_sk.img'\u001b[0m\u001b[0;34m\u001b[0m\u001b[0m\n",
      "\u001b[0m\u001b[0;32m   6107 \u001b[0;31m      \u001b[0;32mif\u001b[0m \u001b[0mlfilt2\u001b[0m \u001b[0;34m==\u001b[0m \u001b[0;34m'fk'\u001b[0m   \u001b[0;34m:\u001b[0m \u001b[0mf2ile\u001b[0m \u001b[0;34m=\u001b[0m \u001b[0mindir\u001b[0m\u001b[0;34m+\u001b[0m\u001b[0;34m'/'\u001b[0m\u001b[0;34m+\u001b[0m\u001b[0mfilestub\u001b[0m\u001b[0;34m+\u001b[0m\u001b[0;34m'ufk_sk.img'\u001b[0m\u001b[0;34m\u001b[0m\u001b[0m\n",
      "\u001b[0m\u001b[0;32m-> 6108 \u001b[0;31m      \u001b[0mhf2\u001b[0m \u001b[0;34m=\u001b[0m \u001b[0mfits\u001b[0m\u001b[0;34m.\u001b[0m\u001b[0mgetheader\u001b[0m\u001b[0;34m(\u001b[0m\u001b[0mf2ile\u001b[0m\u001b[0;34m,\u001b[0m\u001b[0mlfext\u001b[0m\u001b[0;34m)\u001b[0m\u001b[0;34m\u001b[0m\u001b[0m\n",
      "\u001b[0m\u001b[0;32m   6109 \u001b[0;31m      \u001b[0mW1\u001b[0m \u001b[0;34m=\u001b[0m \u001b[0mwcs\u001b[0m\u001b[0;34m.\u001b[0m\u001b[0mWCS\u001b[0m\u001b[0;34m(\u001b[0m\u001b[0mhf2\u001b[0m\u001b[0;34m,\u001b[0m\u001b[0;34m)\u001b[0m\u001b[0;34m\u001b[0m\u001b[0m\n",
      "\u001b[0m\u001b[0;32m   6110 \u001b[0;31m      \u001b[0mxpix_\u001b[0m\u001b[0;34m,\u001b[0m \u001b[0mypix_\u001b[0m \u001b[0;34m=\u001b[0m \u001b[0mW1\u001b[0m\u001b[0;34m.\u001b[0m\u001b[0mwcs_world2pix\u001b[0m\u001b[0;34m(\u001b[0m\u001b[0mRA\u001b[0m\u001b[0;34m,\u001b[0m\u001b[0mDEC\u001b[0m\u001b[0;34m,\u001b[0m\u001b[0;36m0\u001b[0m\u001b[0;34m)\u001b[0m\u001b[0;34m\u001b[0m\u001b[0m\n",
      "\u001b[0m\n",
      "ipdb> print(lfext)\n",
      "2\n",
      "ipdb> print(lfilter_ext)\n",
      "2\n",
      "ipdb> u\n",
      "> \u001b[0;32m/Users/bostroem/anaconda/envs/astroconda2/lib/python2.7/site-packages/uvotpy/uvotgetspec.py\u001b[0m(658)\u001b[0;36mgetSpec\u001b[0;34m()\u001b[0m\n",
      "\u001b[0;32m    656 \u001b[0;31m      Xphi, Yphi, date1, msg3, lenticular_anchors = findInputAngle( RA, DEC, filestub, ext, msg=\"\", \\\n",
      "\u001b[0m\u001b[0;32m    657 \u001b[0;31m           \u001b[0mwheelpos\u001b[0m\u001b[0;34m=\u001b[0m\u001b[0mwheelpos\u001b[0m\u001b[0;34m,\u001b[0m \u001b[0mlfilter\u001b[0m\u001b[0;34m=\u001b[0m\u001b[0mlfilt1\u001b[0m\u001b[0;34m,\u001b[0m \u001b[0mlfilter_ext\u001b[0m\u001b[0;34m=\u001b[0m\u001b[0mlfilt1_ext\u001b[0m\u001b[0;34m,\u001b[0m \u001b[0mlfilt2\u001b[0m\u001b[0;34m=\u001b[0m\u001b[0mlfilt2\u001b[0m\u001b[0;34m,\u001b[0m \u001b[0mlfilt2_ext\u001b[0m\u001b[0;34m=\u001b[0m\u001b[0mlfilt2_ext\u001b[0m\u001b[0;34m,\u001b[0m\u001b[0;31m \u001b[0m\u001b[0;31m\\\u001b[0m\u001b[0;34m\u001b[0m\u001b[0m\n",
      "\u001b[0m\u001b[0;32m--> 658 \u001b[0;31m           method=method, attfile=attfile, catspec=catspec, indir=indir, chatter=chatter)\n",
      "\u001b[0m\u001b[0;32m    659 \u001b[0;31m      \u001b[0mYout\u001b[0m\u001b[0;34m.\u001b[0m\u001b[0mupdate\u001b[0m\u001b[0;34m(\u001b[0m\u001b[0;34m{\u001b[0m\u001b[0;34m\"Xphi\"\u001b[0m\u001b[0;34m:\u001b[0m\u001b[0mXphi\u001b[0m\u001b[0;34m,\u001b[0m\u001b[0;34m\"Yphi\"\u001b[0m\u001b[0;34m:\u001b[0m\u001b[0mYphi\u001b[0m\u001b[0;34m}\u001b[0m\u001b[0;34m)\u001b[0m\u001b[0;34m\u001b[0m\u001b[0m\n",
      "\u001b[0m\u001b[0;32m    660 \u001b[0;31m      \u001b[0mYout\u001b[0m\u001b[0;34m.\u001b[0m\u001b[0mupdate\u001b[0m\u001b[0;34m(\u001b[0m\u001b[0;34m{\u001b[0m\u001b[0;34m'lenticular_anchors'\u001b[0m\u001b[0;34m:\u001b[0m\u001b[0mlenticular_anchors\u001b[0m\u001b[0;34m}\u001b[0m\u001b[0;34m)\u001b[0m\u001b[0;34m\u001b[0m\u001b[0m\n",
      "\u001b[0m\n",
      "ipdb> print(lfilt1_ext)\n",
      "2\n",
      "ipdb> print(lfilt1_ext_)\n",
      "2\n",
      "ipdb> q\n"
     ]
    }
   ],
   "source": [
    "%debug"
   ]
  },
  {
   "cell_type": "code",
   "execution_count": null,
   "metadata": {
    "collapsed": true
   },
   "outputs": [],
   "source": []
  }
 ],
 "metadata": {
  "kernelspec": {
   "display_name": "Python 2",
   "language": "python",
   "name": "python2"
  },
  "language_info": {
   "codemirror_mode": {
    "name": "ipython",
    "version": 2
   },
   "file_extension": ".py",
   "mimetype": "text/x-python",
   "name": "python",
   "nbconvert_exporter": "python",
   "pygments_lexer": "ipython2",
   "version": "2.7.13"
  }
 },
 "nbformat": 4,
 "nbformat_minor": 2
}
