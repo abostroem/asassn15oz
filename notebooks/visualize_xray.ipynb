{
 "cells": [
  {
   "cell_type": "code",
   "execution_count": 106,
   "metadata": {},
   "outputs": [
    {
     "name": "stdout",
     "output_type": "stream",
     "text": [
      "Using matplotlib backend: Qt5Agg\n"
     ]
    }
   ],
   "source": [
    "import os\n",
    "import math\n",
    "import numpy as np\n",
    "from matplotlib import pyplot as plt\n",
    "%matplotlib\n",
    "from astropy.io import fits\n",
    "from astropy.wcs import WCS\n",
    "from astropy.coordinates import SkyCoord\n",
    "import astropy.units as u\n",
    "from utilities_az import visualization\n"
   ]
  },
  {
   "cell_type": "raw",
   "metadata": {},
   "source": [
    "in DATA_DIR+subpath directory:\n",
    "    xselect\n",
    "    Enter (accept default)\n",
    "    read events sw00050300005xpcw4po_cl.evt\n",
    "    Enter(accept default)\n",
    "    Enter (accept default)\n",
    "    extract all\n",
    "    save all sw00050300005xpcw4po_cl\n"
   ]
  },
  {
   "cell_type": "code",
   "execution_count": 68,
   "metadata": {},
   "outputs": [],
   "source": [
    "DATA_DIR = '../data/swiftuvot/xray'\n",
    "subpath = 'xrt/event/'\n",
    "filename = 'sw{}xpcw3po_cl.img'"
   ]
  },
  {
   "cell_type": "code",
   "execution_count": 69,
   "metadata": {},
   "outputs": [],
   "source": [
    "#'00034040004': no events\n",
    "obsid_list = ['00034040001', '00034040002','00034040005',\n",
    "         '00034040006', '00034040007', '00034040008', '00034040009',\n",
    "         '00034040010', '00034040011', '00034040012', '00034040013',\n",
    "         '00034040013']"
   ]
  },
  {
   "cell_type": "code",
   "execution_count": 109,
   "metadata": {},
   "outputs": [
    {
     "name": "stderr",
     "output_type": "stream",
     "text": [
      "WARNING: FITSFixedWarning: RADECSYS= 'FK5 ' / celestial coord system \n",
      "the RADECSYS keyword is deprecated, use RADESYSa. [astropy.wcs.wcs]\n"
     ]
    },
    {
     "data": {
      "text/plain": [
       "<matplotlib.colorbar.Colorbar at 0x10de3be80>"
      ]
     },
     "execution_count": 109,
     "metadata": {},
     "output_type": "execute_result"
    }
   ],
   "source": [
    "coords = SkyCoord(ra='19:19:33.55', dec='-33:46:01.2', unit=(u.hourangle, u.degree))\n",
    "total_img = None\n",
    "for obsid in obsid_list:\n",
    "    ipath = os.path.join(DATA_DIR, obsid, subpath, filename).format(obsid)\n",
    "    ofile = fits.open(ipath)\n",
    "    hdr = ofile[0].header\n",
    "    img = ofile[0].data\n",
    "    hdr_wcs = WCS(hdr)\n",
    "    \n",
    "    plt.imshow(img, interpolation='nearest', cmap='bone')#, vmin=vmin, vmax=vmax)\n",
    "    xmin, ymax = hdr_wcs.all_world2pix(coords.ra+18*u.arcsec, coords.dec+18*u.arcsec, 0) #left, top\n",
    "    xmax, ymin = hdr_wcs.all_world2pix(coords.ra-18*u.arcsec, coords.dec-18*u.arcsec, 0) #right, lower\n",
    "    #vmin, vmax = visualization.zscale(img[int(ymin):int(ymax), int(xmin):int(xmax)])\n",
    "    if total_img is None:\n",
    "        delta_x = int(math.ceil(np.abs(xmax-xmin)))\n",
    "        delta_y = int(math.ceil(np.abs(ymax-ymin)))\n",
    "        total_img = img[math.floor(ymin):math.floor(ymin)+delta_y, \n",
    "                                    math.floor(xmin):math.floor(xmin)+delta_x]\n",
    "    else:\n",
    "        total_img = total_img + img[math.floor(ymin):math.floor(ymin)+delta_y, \n",
    "                                    math.floor(xmin):math.floor(xmin)+delta_x]\n",
    "        \n",
    "    \n",
    "plt.imshow(total_img, interpolation='nearest', cmap='bone')#, vmin=vmin, vmax=vmax)\n",
    "plt.plot([xmin, xmin], [ymin, ymax], 'r')\n",
    "plt.plot([xmax, xmax], [ymin, ymax], 'r')\n",
    "plt.plot([xmin, xmax], [ymin, ymin], 'r')\n",
    "plt.plot([xmin, xmax], [ymax, ymax], 'r')\n",
    "\n",
    "plt.xlim(xmin-5, xmax+5)\n",
    "plt.ylim(ymin-5, ymax+5)\n",
    "plt.colorbar()"
   ]
  },
  {
   "cell_type": "code",
   "execution_count": 62,
   "metadata": {},
   "outputs": [
    {
     "name": "stderr",
     "output_type": "stream",
     "text": [
      "WARNING: FITSFixedWarning: RADECSYS= 'FK5 ' / celestial coord system \n",
      "the RADECSYS keyword is deprecated, use RADESYSa. [astropy.wcs.wcs]\n"
     ]
    }
   ],
   "source": [
    "ipath = os.path.join(DATA_DIR, obsid_list[0], subpath, filename).format(obsid_list[0])\n",
    "ofile = fits.open(ipath)\n",
    "wcs_f1 = WCS(ofile[0].header)\n",
    "vmin, vmax = visualization.zscale(img)\n",
    "plt.imshow(ofile[0].data, interpolation='nearest', cmap='bone')\n",
    "x, y = wcs_f1.all_world2pix(coords.ra, coords.dec, 0)"
   ]
  },
  {
   "cell_type": "code",
   "execution_count": 63,
   "metadata": {},
   "outputs": [
    {
     "data": {
      "text/plain": [
       "[<matplotlib.lines.Line2D at 0x150f9139b0>]"
      ]
     },
     "execution_count": 63,
     "metadata": {},
     "output_type": "execute_result"
    }
   ],
   "source": [
    "plt.imshow(ofile[0].data, interpolation='nearest', cmap='bone')\n",
    "plt.plot(x,y, 'ro')"
   ]
  },
  {
   "cell_type": "code",
   "execution_count": 79,
   "metadata": {},
   "outputs": [
    {
     "data": {
      "text/latex": [
       "$-33^\\circ45{}^\\prime01.2{}^{\\prime\\prime}$"
      ],
      "text/plain": [
       "<Angle -33.75033333 deg>"
      ]
     },
     "execution_count": 79,
     "metadata": {},
     "output_type": "execute_result"
    }
   ],
   "source": [
    "coords.dec+1*u.arcmin"
   ]
  },
  {
   "cell_type": "code",
   "execution_count": null,
   "metadata": {},
   "outputs": [],
   "source": []
  }
 ],
 "metadata": {
  "kernelspec": {
   "display_name": "Python [conda env:anaconda]",
   "language": "python",
   "name": "conda-env-anaconda-py"
  },
  "language_info": {
   "codemirror_mode": {
    "name": "ipython",
    "version": 3
   },
   "file_extension": ".py",
   "mimetype": "text/x-python",
   "name": "python",
   "nbconvert_exporter": "python",
   "pygments_lexer": "ipython3",
   "version": "3.5.5"
  }
 },
 "nbformat": 4,
 "nbformat_minor": 2
}
