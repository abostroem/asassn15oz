{
 "cells": [
  {
   "cell_type": "code",
   "execution_count": 1,
   "metadata": {},
   "outputs": [
    {
     "name": "stdout",
     "output_type": "stream",
     "text": [
      "Using matplotlib backend: Qt5Agg\n"
     ]
    }
   ],
   "source": [
    "import numpy as np\n",
    "from matplotlib import pyplot as plt\n",
    "import matplotlib as mpl\n",
    "%matplotlib\n",
    "\n",
    "from supernova import LightCurve2\n",
    "import define_filters\n",
    "import connect_to_sndavis"
   ]
  },
  {
   "cell_type": "markdown",
   "metadata": {},
   "source": [
    "# Investigate availability of 17eaw data"
   ]
  },
  {
   "cell_type": "code",
   "execution_count": 2,
   "metadata": {},
   "outputs": [],
   "source": [
    "sn17eaw = LightCurve2('2017eaw')"
   ]
  },
  {
   "cell_type": "code",
   "execution_count": 3,
   "metadata": {},
   "outputs": [],
   "source": [
    "sn17eaw.get_photometry()"
   ]
  },
  {
   "cell_type": "code",
   "execution_count": 4,
   "metadata": {},
   "outputs": [
    {
     "data": {
      "text/plain": [
       "dict_keys(['g', 'us', 'r', 'uw2', 'uw1', 'i', 'vs', 'V', 'B', 'bs', 'um2'])"
      ]
     },
     "execution_count": 4,
     "metadata": {},
     "output_type": "execute_result"
    }
   ],
   "source": [
    "sn17eaw.apparent_mag.keys()"
   ]
  },
  {
   "cell_type": "code",
   "execution_count": 6,
   "metadata": {},
   "outputs": [
    {
     "data": {
      "text/plain": [
       "array([  1.41915,   1.41984,   2.1926 ,   3.35076,   3.35145,   3.61246,\n",
       "         3.61315,   3.68202,   5.34207,   5.34276,  11.04797])"
      ]
     },
     "execution_count": 6,
     "metadata": {},
     "output_type": "execute_result"
    }
   ],
   "source": [
    "sn17eaw.jd['us'] - sn17eaw.jdexpl"
   ]
  },
  {
   "cell_type": "markdown",
   "metadata": {},
   "source": [
    "# Look at wavelength ranges of each filter (cenwave+fwhm/2)"
   ]
  },
  {
   "cell_type": "code",
   "execution_count": 9,
   "metadata": {},
   "outputs": [],
   "source": [
    "filters = define_filters.define_filters()"
   ]
  },
  {
   "cell_type": "code",
   "execution_count": 21,
   "metadata": {},
   "outputs": [
    {
     "data": {
      "text/plain": [
       "<matplotlib.legend.Legend at 0x1516b59e80>"
      ]
     },
     "execution_count": 21,
     "metadata": {},
     "output_type": "execute_result"
    },
    {
     "data": {
      "image/png": "[encoded data removed]",
      "text/plain": [
       "<Figure size 432x288 with 1 Axes>"
      ]
     },
     "metadata": {},
     "output_type": "display_data"
    }
   ],
   "source": [
    "colors = ['r', 'y', 'g', 'c']\n",
    "for c, ifilter in zip(colors,['us', 'uw2', 'uw1', 'vs', 'um2']):\n",
    "    plt.axvspan(filters[ifilter][2]-filters[ifilter][1]/2, filters[ifilter][2]+filters[ifilter][1]/2, label=ifilter, color=c, alpha=0.5)\n",
    "plt.legend(loc='best')"
   ]
  },
  {
   "cell_type": "markdown",
   "metadata": {},
   "source": [
    "# Compare colors"
   ]
  },
  {
   "cell_type": "code",
   "execution_count": 25,
   "metadata": {},
   "outputs": [],
   "source": [
    "sn15oz = LightCurve2('asassn-15oz')\n",
    "sn15oz.get_photometry()"
   ]
  },
  {
   "cell_type": "code",
   "execution_count": 28,
   "metadata": {},
   "outputs": [
    {
     "name": "stdout",
     "output_type": "stream",
     "text": [
      "dict_keys(['g', 'us', 'i', 'uw2', 'I', 'vs', 'bs', 'U', 'um2', 'r', 'uw1', 'V', 'R', 'B'])\n",
      "[   7.92862   13.33555   19.38309   19.58019   22.89712   28.14938\n",
      "   31.71191   36.03614   41.29183   67.61236   71.00992   83.04274\n",
      "   14.88273   15.05753  755.15697]\n"
     ]
    }
   ],
   "source": [
    "print(sn15oz.jd.keys())\n",
    "print(sn15oz.jd['us'] - sn15oz.jdexpl)"
   ]
  },
  {
   "cell_type": "code",
   "execution_count": 29,
   "metadata": {},
   "outputs": [
    {
     "data": {
      "text/plain": [
       "[<matplotlib.lines.Line2D at 0x1516c666d8>]"
      ]
     },
     "execution_count": 29,
     "metadata": {},
     "output_type": "execute_result"
    },
    {
     "data": {
      "image/png": "[encoded data removed]",
      "text/plain": [
       "<Figure size 432x288 with 1 Axes>"
      ]
     },
     "metadata": {},
     "output_type": "display_data"
    }
   ],
   "source": [
    "plt.plot(sn15oz.jd['uw2'][0], sn15oz.apparent_mag['uw2'][0]-sn15oz.apparent_mag['vs'][0], 'o', label='15oz - >7.92')\n",
    "plt.plot(sn17eaw.jd['uw2'][-1], sn17eaw.apparent_mag['uw2'][-1] - sn15oz.apparent_mag['vs'][-1], 'o', label='17eaw - 11.04d')"
   ]
  },
  {
   "cell_type": "markdown",
   "metadata": {},
   "source": [
    "# Look at lots of supernovae"
   ]
  },
  {
   "cell_type": "code",
   "execution_count": 33,
   "metadata": {},
   "outputs": [],
   "source": [
    "db, cursor = connect_to_sndavis.get_cursor()"
   ]
  },
  {
   "cell_type": "markdown",
   "metadata": {},
   "source": [
    "## Select all SN with uw2 and vs data"
   ]
  },
  {
   "cell_type": "code",
   "execution_count": 108,
   "metadata": {},
   "outputs": [],
   "source": [
    "sql_query = '''SELECT DISTINCT name, slope\n",
    "FROM photometry\n",
    "JOIN supernovanames ON photometry.targetid=supernovanames.targetid\n",
    "JOIN snslope ON photometry.targetid=snslope.targetid\n",
    "WHERE photometry.filter='uw2' AND slopetype='s50';'''\n",
    "cursor.execute(sql_query)\n",
    "results = cursor.fetchall()\n",
    "snname_uw2=[]\n",
    "snslope_uw2=[]\n",
    "for i in results:\n",
    "    snname_uw2.append(i['name'])\n",
    "    snslope_uw2.append(i['slope'])\n",
    "snslope_uw2 = np.array(snslope_uw2)"
   ]
  },
  {
   "cell_type": "code",
   "execution_count": 109,
   "metadata": {},
   "outputs": [],
   "source": [
    "sql_query = '''SELECT DISTINCT name\n",
    "FROM photometry\n",
    "JOIN supernovanames ON photometry.targetid=supernovanames.targetid\n",
    "WHERE filter='vs';'''\n",
    "cursor.execute(sql_query)\n",
    "results = cursor.fetchall()\n",
    "snname_vs=[]\n",
    "for i in results:\n",
    "    snname_vs.append(i['name'])"
   ]
  },
  {
   "cell_type": "code",
   "execution_count": 110,
   "metadata": {},
   "outputs": [],
   "source": [
    "snlist = list(set(snname_uw2) & set(snname_vs))\n",
    "max_slope = np.max(snslope_uw2)*100+0.001"
   ]
  },
  {
   "cell_type": "code",
   "execution_count": 115,
   "metadata": {},
   "outputs": [],
   "source": [
    "cols = [(0,0,0)]\n",
    "for x in np.linspace(0,1, 254):\n",
    "    rcol = (0.472-0.567*x+4.05*x**2)/(1.+8.72*x-19.17*x**2+14.1*x**3)\n",
    "    gcol = 0.108932-1.22635*x+27.284*x**2-98.577*x**3+163.3*x**4-131.395*x**5+40.634*x**6\n",
    "    bcol = 1./(1.97+3.54*x-68.5*x**2+243*x**3-297*x**4+125*x**5)\n",
    "    cols.append((rcol, gcol, bcol))\n",
    "\n",
    "#cols.append((1,1,1))\n",
    "cm_rainbow = mpl.colors.LinearSegmentedColormap.from_list(\"PaulT_rainbow\", cols)\n"
   ]
  },
  {
   "cell_type": "code",
   "execution_count": 185,
   "metadata": {},
   "outputs": [],
   "source": [
    "fig = plt.figure()\n",
    "gs1 = mpl.gridspec.GridSpec(1, 9)\n",
    "ax1 = plt.subplot(gs1[0,0:8])\n",
    "ax2 = plt.subplot(gs1[0,8])\n",
    "for sn in snlist:\n",
    "    if sn == 'ASASSN-15oz' or sn == '2009kr':\n",
    "        continue\n",
    "    slope_color=cm_rainbow(float(snslope_uw2[np.array(snname_uw2)==sn]*100/max_slope))\n",
    "    snobj = LightCurve2(sn)\n",
    "    snobj.get_photometry()\n",
    "    if sn.startswith('ASA'):\n",
    "        label = 'ASAS-SN {}'.format(sn.split('-')[1])\n",
    "    else:\n",
    "        label=sn\n",
    "    vs_interp = np.interp(snobj.jd['uw2'], snobj.jd['vs'], snobj.apparent_mag['vs'])\n",
    "    jderr = np.ones(len(snobj.jd['uw2']))*snobj.jdexpl_err\n",
    "    #ax1.errorbar(snobj.jd['uw2']-snobj.jdexpl, snobj.apparent_mag['uw2']-vs_interp, xerr=jderr, fmt='o', c=slope_color, label=label, ecolor='k', elinewidth=0.5)\n",
    "    ax1.errorbar(snobj.jd['uw2']-snobj.jdexpl, snobj.apparent_mag['uw2']-vs_interp, xerr=jderr, fmt='o', c=slope_color, label=label, elinewidth=0.5)\n",
    "vs_interp = np.interp(sn15oz.jd['uw2'], sn15oz.jd['vs'], sn15oz.apparent_mag['vs'])\n",
    "slope_color=cm_rainbow(float(snslope_uw2[np.array(snname_uw2)=='ASASSN-15oz']*100/max_slope))\n",
    "jderr_15oz = np.ones(len(sn15oz.jd['uw2']))*sn15oz.jdexpl_err\n",
    "#ax1.errorbar(sn15oz.jd['uw2']-sn15oz.jdexpl, sn15oz.apparent_mag['uw2']-vs_interp, xerr=jderr_15oz, fmt='*', c=slope_color, markersize=15, label='ASAS-SN 15oz', ecolor='k', elinewidth=0.5)\n",
    "ax1.errorbar(sn15oz.jd['uw2']-sn15oz.jdexpl, sn15oz.apparent_mag['uw2']-vs_interp, xerr=jderr_15oz, fmt='*', c=slope_color, markersize=15, label='ASAS-SN 15oz', elinewidth=0.5)\n",
    "ax1.plot(sn15oz.jd['uw2']-sn15oz.jdexpl, sn15oz.apparent_mag['uw2']-vs_interp,  '*', c=slope_color, markersize=15, label='ASAS-SN 15oz', mec='k')\n",
    "ax1.set_xlim(0,30)\n",
    "ax1.set_xlabel('Phase (days)')\n",
    "ax1.set_ylabel('UVW2-V (magnitude)')\n",
    "ax1.legend(loc='best', fontsize='x-small')\n",
    "ax1.set_ylim(-2.5, 5)\n",
    "norm = mpl.colors.Normalize(vmin=0, vmax=1.0/100*max_slope*50)\n",
    "cb1 = mpl.colorbar.ColorbarBase(ax2, cmap=cm_rainbow,\n",
    "                                norm=norm)\n",
    "ax2.set_ylabel('Slope (mag/50 day)')\n",
    "plt.savefig('../figures/uv_slope_comp.pdf')"
   ]
  },
  {
   "cell_type": "markdown",
   "metadata": {},
   "source": [
    "# Investigate if we expect from CSM model?"
   ]
  },
  {
   "cell_type": "code",
   "execution_count": null,
   "metadata": {},
   "outputs": [],
   "source": []
  },
  {
   "cell_type": "code",
   "execution_count": null,
   "metadata": {},
   "outputs": [],
   "source": []
  },
  {
   "cell_type": "code",
   "execution_count": null,
   "metadata": {},
   "outputs": [],
   "source": []
  }
 ],
 "metadata": {
  "kernelspec": {
   "display_name": "Python [default]",
   "language": "python",
   "name": "python3"
  },
  "language_info": {
   "codemirror_mode": {
    "name": "ipython",
    "version": 3
   },
   "file_extension": ".py",
   "mimetype": "text/x-python",
   "name": "python",
   "nbconvert_exporter": "python",
   "pygments_lexer": "ipython3",
   "version": "3.5.5"
  }
 },
 "nbformat": 4,
 "nbformat_minor": 2
}
