{
 "cells": [
  {
   "cell_type": "code",
   "execution_count": 202,
   "metadata": {},
   "outputs": [
    {
     "name": "stdout",
     "output_type": "stream",
     "text": [
      "Using matplotlib backend: Qt5Agg\n"
     ]
    }
   ],
   "source": [
    "import os\n",
    "\n",
    "import numpy as np\n",
    "from astropy.io import ascii as asc\n",
    "from astropy.io import fits\n",
    "import astropy.constants as c\n",
    "import astropy.units as u\n",
    "from astropy.time import Time\n",
    "from astropy.modeling import fitting, models\n",
    "\n",
    "from matplotlib import pyplot as plt\n",
    "%matplotlib\n",
    "\n",
    "#https://github.com/abostroem/utilities\n",
    "import supernova\n",
    "import spectroscopy as spec\n",
    "from spectroscopy import apply_redshift as deredshift\n",
    "import visualization"
   ]
  },
  {
   "cell_type": "code",
   "execution_count": 3,
   "metadata": {},
   "outputs": [],
   "source": [
    "IRTF_DIR = '../data/spectra/IRTF/'\n",
    "SOFI_DIR = '../data/spectra/SOFI'\n",
    "LCO_DIR = '../data/spectra/lco/'\n",
    "EFOSC_DIR = '../data/spectra/EFOSC/'\n",
    "\n",
    "FIG_DIR = '../figures'\n",
    "VEL_DATA_DIR = '../data/line_info'\n",
    "\n",
    "DATA_DIR_13ej = '../../data/2013ej'\n",
    "DATA_DIR_13by = '../../data/2013by'"
   ]
  },
  {
   "cell_type": "code",
   "execution_count": 4,
   "metadata": {},
   "outputs": [],
   "source": [
    "visualization.set_bright_colors()"
   ]
  },
  {
   "cell_type": "code",
   "execution_count": 5,
   "metadata": {},
   "outputs": [],
   "source": [
    "paschen_a = 18750.0\n",
    "paschen_b = 12820.0\n",
    "paschen_g = 10940.0\n",
    "paschen_d = 10050.0\n",
    "\n",
    "balmer_a = 6563.0"
   ]
  },
  {
   "cell_type": "code",
   "execution_count": 6,
   "metadata": {},
   "outputs": [],
   "source": [
    "z = 0.0069 #15oz redshift"
   ]
  },
  {
   "cell_type": "markdown",
   "metadata": {},
   "source": [
    "# Read in Spectra"
   ]
  },
  {
   "cell_type": "markdown",
   "metadata": {},
   "source": [
    "### Read IRFT"
   ]
  },
  {
   "cell_type": "code",
   "execution_count": 183,
   "metadata": {},
   "outputs": [
    {
     "data": {
      "text/html": [
       "<i>Row index=0</i>\n",
       "<table id=\"table105189405248\">\n",
       "<thead><tr><th>wave</th><th>flux</th><th>err</th><th>junk</th></tr></thead>\n",
       "<thead><tr><th>float64</th><th>float64</th><th>float64</th><th>float64</th></tr></thead>\n",
       "<tr><td>0.68849689</td><td>3.8235029e-15</td><td>3.4284355e-16</td><td>0.0</td></tr>\n",
       "</table>"
      ],
      "text/plain": [
       "<Row index=0>\n",
       "   wave         flux          err        junk \n",
       " float64      float64       float64    float64\n",
       "---------- ------------- ------------- -------\n",
       "0.68849689 3.8235029e-15 3.4284355e-16     0.0"
      ]
     },
     "execution_count": 183,
     "metadata": {},
     "output_type": "execute_result"
    }
   ],
   "source": [
    "#Date-obs: 2015-10-10\n",
    "tbdata_irtf = asc.read(os.path.join(IRTF_DIR, 'A15oz_merge.txt'), names=['wave', 'flux', 'err', 'junk'])"
   ]
  },
  {
   "cell_type": "markdown",
   "metadata": {},
   "source": [
    "### Read SOFI"
   ]
  },
  {
   "cell_type": "code",
   "execution_count": 8,
   "metadata": {},
   "outputs": [],
   "source": [
    "tbdata_sofi1_blue = fits.getdata(os.path.join(SOFI_DIR, 'asassn15oz_20150905_2457270.58657_1.fits'), 1) #wave, flux, err, skyback\n",
    "tbdata_sofi1_red = fits.getdata(os.path.join(SOFI_DIR, 'asassn15oz_20150905_2457270.62701_1.fits'), 1)\n",
    "tbdata_sofi2_blue = fits.getdata(os.path.join(SOFI_DIR, 'asassn15oz_20151005_2457300.50252_1.fits'), 1)\n",
    "tbdata_sofi2_red = fits.getdata(os.path.join(SOFI_DIR, 'asassn15oz_20151005_2457300.54299_1.fits'), 1)"
   ]
  },
  {
   "cell_type": "markdown",
   "metadata": {},
   "source": [
    "### Read optical data"
   ]
  },
  {
   "cell_type": "code",
   "execution_count": 9,
   "metadata": {},
   "outputs": [],
   "source": [
    "#2015-09-05  LCO\n",
    "ofile_optical_sofi1 = fits.open(os.path.join(LCO_DIR, 'asassn15oz_20150904_redblu_122216.314.fits'))\n",
    "flux = ofile_optical_sofi1[0].data[0,0, :]\n",
    "wl = spec.calc_wavelength(ofile_optical_sofi1[0].header, np.arange(1, len(flux)+1))\n",
    "spec_optical_sofi1 = spec.spectrum1d(wl, flux, ofile_optical_sofi1[0].data[3,0, :])\n",
    "#2015-10-05 EFOSC\n",
    "ofile_optical_sofi2 = fits.open(os.path.join(EFOSC_DIR, 'tASASSN-15oz_20151003_Gr13_Free_slit1.0_57720_1_e.fits'))\n",
    "flux = ofile_optical_sofi2[0].data[0,0,:]\n",
    "wl = spec.calc_wavelength(ofile_optical_sofi2[0].header, np.arange(1, len(flux)+1))\n",
    "spec_optical_sofi2 = spec.spectrum1d(wl, flux, ofile_optical_sofi2[0].data[3,0,:])\n",
    "#2015-10-10  LCO? 10/6 and 10/14"
   ]
  },
  {
   "cell_type": "markdown",
   "metadata": {},
   "source": [
    "### Get Expected Velocities"
   ]
  },
  {
   "cell_type": "code",
   "execution_count": 10,
   "metadata": {},
   "outputs": [],
   "source": [
    "def calc_velocity(obs_wl, rest_wl):\n",
    "    velocity = c.c*(obs_wl/rest_wl - 1)\n",
    "    return velocity"
   ]
  },
  {
   "cell_type": "code",
   "execution_count": 11,
   "metadata": {},
   "outputs": [],
   "source": [
    "HA = 6563.0\n",
    "HB = 4861.0\n",
    "SiII = 6355.0\n",
    "FeII = 5169.0\n",
    "IR_dates = Time(['2015-09-05','2015-10-05', '2015-10-10'])"
   ]
  },
  {
   "cell_type": "code",
   "execution_count": 13,
   "metadata": {},
   "outputs": [],
   "source": [
    "sn15oz = supernova.LightCurve2('asassn-15oz')\n",
    "texpl = Time(sn15oz.jdexpl, format='jd')"
   ]
  },
  {
   "cell_type": "code",
   "execution_count": 14,
   "metadata": {},
   "outputs": [],
   "source": [
    "new_fit_cachito = asc.read(os.path.join(VEL_DATA_DIR, 'cachito.tab'))\n",
    "phase_cachito = (Time(new_fit_cachito['date'])-texpl).value\n",
    "velocity_cachito = -1*calc_velocity(new_fit_cachito['vel0'], HA).to(u.km/u.s).value\n",
    "\n",
    "new_fit_HA = asc.read(os.path.join(VEL_DATA_DIR, 'HA.tab'))\n",
    "phase_HA = (Time(new_fit_HA['date'])-texpl).value\n",
    "velocity_HA = -1*calc_velocity(new_fit_HA['vel0'], HA).to(u.km/u.s).value\n",
    "\n",
    "new_fit_HB = asc.read(os.path.join(VEL_DATA_DIR, 'HB.tab'))\n",
    "phase_HB = (Time(new_fit_HB['date'])-texpl).value\n",
    "velocity_HB = -1*calc_velocity(new_fit_HB['vel0'], HB).to(u.km/u.s).value\n",
    "\n",
    "tbdata_feII = asc.read(os.path.join(VEL_DATA_DIR, 'FeII_multi.tab'))\n",
    "phase_feII = (Time(tbdata_feII['date'])-texpl).value\n",
    "velocity_feII = -1*calc_velocity(tbdata_feII['vel0'], FeII).to(u.km/u.s).value\n",
    "\n"
   ]
  },
  {
   "cell_type": "code",
   "execution_count": 15,
   "metadata": {},
   "outputs": [
    {
     "data": {
      "text/plain": [
       "[<matplotlib.lines.Line2D at 0x18294129e8>]"
      ]
     },
     "execution_count": 15,
     "metadata": {},
     "output_type": "execute_result"
    }
   ],
   "source": [
    "fitter_power = fitting.LevMarLSQFitter()\n",
    "power_model = models.PowerLaw1D()\n",
    "\n",
    "power_fit_cachito = fitter_power(power_model, phase_cachito, velocity_cachito)\n",
    "power_fit_HA = fitter_power(power_model, phase_HA, velocity_HA)\n",
    "\n",
    "power_fit_HB = fitter_power(power_model, phase_HB, velocity_HB)\n",
    "\n",
    "\n",
    "#I had trouble fitting without good starting parameters, cachito looks like FeII, especially at early times\n",
    "power_model_feII = models.PowerLaw1D(alpha=power_fit_cachito.alpha, x_0=power_fit_cachito.x_0) \n",
    "power_fit_feII = fitter_power(power_model_feII, phase_feII, velocity_feII)\n",
    "\n",
    "balmer_velocity = power_fit_HA((IR_dates-texpl).value)\n",
    "HB_velocity = power_fit_HB((IR_dates-texpl).value)\n",
    "hv_hydrogen_velocity = power_fit_cachito((IR_dates-texpl).value)\n",
    "si_velocity = power_fit_feII((IR_dates-texpl).value)\n",
    "\n",
    "plt.plot(phase_HB, velocity_HB, 'o')\n",
    "plt.plot(np.arange(1, 90), power_fit_HB(np.arange(1, 90)))"
   ]
  },
  {
   "cell_type": "code",
   "execution_count": 16,
   "metadata": {},
   "outputs": [],
   "source": [
    "def calc_observed_wave(rest_wave, velocity):\n",
    "    '''\n",
    "    Assumes velocity given in km/s\n",
    "    '''\n",
    "    velocity = velocity*u.km/u.s\n",
    "    shifted_wave = (velocity/c.c+1.0)*rest_wave\n",
    "    return shifted_wave"
   ]
  },
  {
   "cell_type": "code",
   "execution_count": 166,
   "metadata": {},
   "outputs": [],
   "source": [
    "fig = plt.figure(figsize=[10, 5])\n",
    "ax_optical_SOFI1 = fig.add_subplot(3,2,1)\n",
    "ax_ir_SOFI1 = fig.add_subplot(3,2,2)\n",
    "ax_optical_SOFI2 = fig.add_subplot(3,2,3)\n",
    "ax_ir_SOFI2 = fig.add_subplot(3,2,4)\n",
    "ax_optical_IRTF = fig.add_subplot(3,2,5)\n",
    "ax_ir_IRTF = fig.add_subplot(3,2,6)\n",
    "\n",
    "#Plot First SOFI spec deredshifted\n",
    "l1, = ax_ir_SOFI1.plot(deredshift(tbdata_sofi1_blue['WAVE'][0], z), tbdata_sofi1_blue['FLUX'][0], label='SOFI-2015-09-05')\n",
    "ax_ir_SOFI1.plot(deredshift(tbdata_sofi1_red['WAVE'][0], z), tbdata_sofi1_red['FLUX'][0], color=l1.get_color())\n",
    "ax_ir_SOFI1.set_ylim(0.4E-15, 2.5E-15)\n",
    "#and corresponding optical spectrum\n",
    "ax_optical_SOFI1.plot(deredshift(spec_optical_sofi1.wave, z), spec_optical_sofi1.flux, color=l1.get_color())\n",
    "\n",
    "#Plot Second SOFI spec deredshifted\n",
    "l2, = ax_ir_SOFI2.plot(deredshift(tbdata_sofi2_blue['WAVE'][0], z), tbdata_sofi2_blue['FLUX'][0], label='SOFI-2015-10-05')\n",
    "ax_ir_SOFI2.plot(deredshift(tbdata_sofi2_red['WAVE'][0], z), tbdata_sofi2_red['FLUX'][0], color=l2.get_color())\n",
    "ax_ir_SOFI2.set_ylim(0.4E-15, 1.25E-15)\n",
    "#and corresponding optical spectrum\n",
    "ax_optical_SOFI2.plot(deredshift(spec_optical_sofi2.wave, z), spec_optical_sofi2.flux, color=l2.get_color())\n",
    "\n",
    "\n",
    "#Plot ITRF spec deredshifted\n",
    "l3, = ax_ir_IRTF.plot(deredshift(tbdata_irtf['wave']*10**4, z), tbdata_irtf['flux'], label='IRTF - 2015-10-10')\n",
    "ax_ir_IRTF.set_ylim(0.4E-15, 2E-15)\n",
    "#and corresponding optical spectrum\n",
    "ax_optical_IRTF.plot(deredshift(spec_optical_sofi2.wave, z), spec_optical_sofi2.flux, color=l2.get_color())\n",
    "\n",
    "for ax_ir in [ax_ir_SOFI1, ax_ir_SOFI2, ax_ir_IRTF]:\n",
    "    ax_ir.set_xlim(9000, 13500)\n",
    "\n",
    "for ax_optical in [ax_optical_SOFI1, ax_optical_SOFI2, ax_optical_IRTF]:\n",
    "    ax_optical.set_xlim(4500, 7000)\n",
    "    ax_optical.set_ylim(0.25E-14,1.0E-14)\n"
   ]
  },
  {
   "cell_type": "markdown",
   "metadata": {},
   "source": [
    "# Compare to 2013by and 2013ej"
   ]
  },
  {
   "cell_type": "code",
   "execution_count": 18,
   "metadata": {},
   "outputs": [],
   "source": [
    "ofile_2013ej_blue = fits.open(os.path.join(DATA_DIR_13ej, '2013ej_20130829_2456533.70935_1.fits'))\n",
    "ofile_2013ej_red = fits.open(os.path.join(DATA_DIR_13ej, '2013ej_20130829_2456533.72646_1.fits'))\n",
    "\n",
    "ofile_2013by = fits.open(os.path.join(DATA_DIR_13by, '2013by_20130522_2456435.008_1.fits'))"
   ]
  },
  {
   "cell_type": "code",
   "execution_count": 19,
   "metadata": {},
   "outputs": [],
   "source": [
    "z_2013ej = 0.002192\n",
    "z_2013by = 0.00382\n",
    "\n",
    "sn13ej = supernova.LightCurve2('2013ej')\n",
    "sn13by = supernova.LightCurve2('2013by')"
   ]
  },
  {
   "cell_type": "code",
   "execution_count": 20,
   "metadata": {},
   "outputs": [
    {
     "data": {
      "text/plain": [
       "array([  9381.96777344,   9388.90429688,   9395.84179688, ...,\n",
       "        16464.875     ,  16471.81054688,  16478.74804688], dtype=float32)"
      ]
     },
     "execution_count": 20,
     "metadata": {},
     "output_type": "execute_result"
    }
   ],
   "source": [
    "ofile_2013ej_blue[1].data['wave'][0]"
   ]
  },
  {
   "cell_type": "code",
   "execution_count": 165,
   "metadata": {},
   "outputs": [
    {
     "data": {
      "text/plain": [
       "Text(0,50,'Pa-$\\\\delta$')"
      ]
     },
     "execution_count": 165,
     "metadata": {},
     "output_type": "execute_result"
    }
   ],
   "source": [
    "fig = plt.figure(figsize=[15, 5])\n",
    "ax_ir_SOFI2_blue = fig.add_subplot(1,2,1)\n",
    "ax_ir_SOFI2_red =  fig.add_subplot(1,2,2)\n",
    "\n",
    "\n",
    "\n",
    "#Plot Second SOFI spec deredshifted\n",
    "ax_ir_SOFI2_blue.plot(deredshift(tbdata_sofi2_blue['WAVE'][0], z), tbdata_sofi2_blue['FLUX'][0], label='15oz: SOFI-{}d'.format(Time('2015-10-05')-Time(sn15oz.jdexpl, format='jd')))\n",
    "ax_ir_SOFI2_blue.plot(deredshift(ofile_2013ej_blue[1].data['wave'][0], z_2013ej), \n",
    "                      ofile_2013ej_blue[1].data['FLUX'][0]/5, \n",
    "                      label='13ej: SOFI-{}'.format(Time(ofile_2013ej_blue[0].header['DATE-OBS'])-Time(sn13ej.jdexpl, format='jd')))\n",
    "\n",
    "ax_ir_SOFI2_blue.plot(deredshift(ofile_2013by[1].data['wave'][0], z_2013by), \n",
    "                      ofile_2013by[1].data['FLUX'][0]/10-0.5E-15,\n",
    "                      label='13by: FIRE-{}'.format(Time(ofile_2013by[0].header['DATE-OBS'])-Time(sn13by.jdexpl, format='jd')))\n",
    "\n",
    "\n",
    "ax_ir_SOFI2_red.plot(deredshift(tbdata_sofi2_red['WAVE'][0], z), tbdata_sofi2_red['FLUX'][0])\n",
    "ax_ir_SOFI2_red.plot(deredshift(ofile_2013ej_red[1].data['wave'][0], z_2013ej), \n",
    "                     ofile_2013ej_red[1].data['FLUX'][0]/5, \n",
    "                     label='13ej: SOFI-{}'.format(Time(ofile_2013ej_red[0].header['DATE-OBS'])-Time(sn13ej.jdexpl, format='jd')))\n",
    "\n",
    "ax_ir_SOFI2_red.plot(deredshift(ofile_2013by[1].data['wave'][0], z_2013by), \n",
    "                      ofile_2013by[1].data['FLUX'][0]/10,\n",
    "                      label='13by: FIRE-{}'.format(Time(ofile_2013by[0].header['DATE-OBS'])-Time(sn13by.jdexpl, format='jd')))\n",
    "\n",
    "ax_ir_SOFI2_blue.set_ylim(0.2E-15, 5E-15)\n",
    "ax_ir_SOFI2_red.set_ylim(0.0E-15, 0.12E-14)\n",
    "ax_ir_SOFI2_blue.set_xlim(9000, 17000)\n",
    "ax_ir_SOFI2_red.set_xlim(15000, 25000)\n",
    "ax_ir_SOFI2_blue.legend()\n",
    "\n",
    "ax_ir_SOFI2_blue.annotate(\n",
    "        r'Pa-$\\beta$',\n",
    "        xy=(12500, 1.5E-15), xytext=(0, 50), \n",
    "        arrowprops=dict(arrowstyle='-'),\n",
    "        rotation='vertical', \n",
    "        xycoords='data', \n",
    "        textcoords='offset points', \n",
    "        ha='center')\n",
    "\n",
    "ax_ir_SOFI2_blue.annotate(\n",
    "        r'Pa-$\\gamma$',\n",
    "        xy=(10600, 2E-15), xytext=(0, 50), \n",
    "        arrowprops=dict(arrowstyle='-'),\n",
    "        rotation='vertical', \n",
    "        xycoords='data', \n",
    "        textcoords='offset points', \n",
    "        ha='center')\n",
    "\n",
    "ax_ir_SOFI2_blue.annotate(\n",
    "        r'Pa-$\\delta$',\n",
    "        xy=(9850, 3E-15), xytext=(0, 50), \n",
    "        arrowprops=dict(arrowstyle='-'),\n",
    "        rotation='vertical', \n",
    "        xycoords='data', \n",
    "        textcoords='offset points', \n",
    "        ha='center')"
   ]
  },
  {
   "cell_type": "markdown",
   "metadata": {},
   "source": [
    "# ID Lines"
   ]
  },
  {
   "cell_type": "code",
   "execution_count": 144,
   "metadata": {},
   "outputs": [],
   "source": [
    "def plot_element(element, rest_wave, velocity, ax, color=None, linestyle='-', alpha=1.0):\n",
    "    rest_wave = np.array(rest_wave)\n",
    "    obs_wave = calc_observed_wave(rest_wave, velocity)\n",
    "    ylim = ax.get_ylim()\n",
    "    ax.vlines(obs_wave, ymin=ylim[0], ymax=ylim[1], label='{}@{}km/s'.format(element, velocity), color=color, linestyle=linestyle, alpha=alpha)\n",
    "    print(ylim)\n",
    "    return ax\n",
    "    "
   ]
  },
  {
   "cell_type": "code",
   "execution_count": 145,
   "metadata": {},
   "outputs": [],
   "source": [
    "HI_Pasch = [10500, 10940, 12820, 18750] #\n",
    "HI_Bra = [14580, 18170, 19440, 21660, 26250] #\n",
    "HI = [16440, 16810, 18180, 19450] #\n",
    "HeI = [10830, 20587] #\n",
    "MgI = [9415.,9256.,9246.5, 11830, 15040, 15750, 17110] #\n",
    "MgII = [10092]#\n",
    "SrII = [10327] #\n",
    "SI = [10460, 22570] #\n",
    "OI = [8222.,8446.,9266.,11290, 13170] #\n",
    "OII = [13811.,21085.]#\n",
    "SiI = [12030,15893] #\n",
    "NaI = [22060] #\n",
    "CaI = [19450, 19850] #\n",
    "CaII = [9906, 11836, 11947] #\n",
    "FeII = [12570, 13210, 16444] #\n",
    "CI = [10691,12614.,13502.,16600.,16890.] #\n",
    "CII = [9903.,17846., 18905.] #\n",
    "\n"
   ]
  },
  {
   "cell_type": "code",
   "execution_count": 234,
   "metadata": {},
   "outputs": [
    {
     "name": "stdout",
     "output_type": "stream",
     "text": [
      "(2e-16, 1.4999999999999999e-15)\n",
      "(0.0, 2e-16)\n",
      "(2e-16, 1.4999999999999999e-15)\n",
      "(0.0, 2e-16)\n",
      "(2e-16, 1.4999999999999999e-15)\n",
      "(0.0, 2e-16)\n",
      "(2e-16, 1.4999999999999999e-15)\n",
      "(0.0, 2e-16)\n",
      "(2e-16, 1.4999999999999999e-15)\n",
      "(0.0, 2e-16)\n",
      "(2e-16, 1.4999999999999999e-15)\n",
      "(0.0, 2e-16)\n",
      "(2e-16, 1.4999999999999999e-15)\n",
      "(0.0, 2e-16)\n",
      "(2e-16, 1.4999999999999999e-15)\n",
      "(0.0, 2e-16)\n",
      "(2e-16, 1.4999999999999999e-15)\n",
      "(0.0, 2e-16)\n"
     ]
    },
    {
     "data": {
      "text/plain": [
       "<matplotlib.legend.Legend at 0x182c6dd7f0>"
      ]
     },
     "execution_count": 234,
     "metadata": {},
     "output_type": "execute_result"
    }
   ],
   "source": [
    "plt.close()\n",
    "fig = plt.figure(figsize=[15, 5])\n",
    "ax_ir_SOFI2_blue = fig.add_subplot(1,2,1)\n",
    "ax_ir_SOFI2_red =  fig.add_subplot(1,2,2)\n",
    "\n",
    "\n",
    "\n",
    "#Plot Second SOFI spec deredshifted\n",
    "ax_ir_SOFI2_blue.plot(deredshift(tbdata_sofi2_blue['WAVE'][0], z), tbdata_sofi2_blue['FLUX'][0], label='15oz: SOFI-{}d'.format(Time('2015-10-05')-Time(sn15oz.jdexpl, format='jd')))\n",
    "\n",
    "ax_ir_SOFI2_red.plot(deredshift(tbdata_sofi2_red['WAVE'][0], z), tbdata_sofi2_red['FLUX'][0])\n",
    "\n",
    "\n",
    "ax_ir_SOFI2_blue.set_ylim(0.2E-15, 1.5E-15)\n",
    "ax_ir_SOFI2_red.set_ylim(0.0E-15, 2E-16)\n",
    "ax_ir_SOFI2_blue.set_xlim(9000, 15000)\n",
    "ax_ir_SOFI2_red.set_xlim(15000, 25000)\n",
    "\n",
    "#ax_ir_SOFI2_blue.annotate(\n",
    "#        r'Pa-$\\beta$',\n",
    "#        xy=(12500, 0.8E-15), xytext=(0, 50), \n",
    "#        arrowprops=dict(arrowstyle='-'),\n",
    "#        rotation='vertical', \n",
    "#        xycoords='data', \n",
    "#        textcoords='offset points', \n",
    "#        ha='center')\n",
    "#\n",
    "#ax_ir_SOFI2_blue.annotate(\n",
    "#        r'Pa-$\\gamma$',\n",
    "#        xy=(10600, 1E-15), xytext=(0, 50), \n",
    "#        arrowprops=dict(arrowstyle='-'),\n",
    "#        rotation='vertical', \n",
    "#        xycoords='data', \n",
    "#        textcoords='offset points', \n",
    "#        ha='center')\n",
    "#\n",
    "#ax_ir_SOFI2_blue.annotate(\n",
    "#        r'Pa-$\\delta$',\n",
    "#        xy=(10200, 1.1E-15), xytext=(0, 50), \n",
    "#        arrowprops=dict(arrowstyle='-'),\n",
    "#        rotation='vertical', \n",
    "#        xycoords='data', \n",
    "#        textcoords='offset points', \n",
    "#        ha='center')\n",
    "\n",
    "ax_ir_SOFI2_blue = plot_element('HeI', HeI,         -8000, ax_ir_SOFI2_blue, color='r')\n",
    "ax_ir_SOFI2_red = plot_element('HeI', HeI,          -8000, ax_ir_SOFI2_red, color='r')\n",
    "\n",
    "ax_ir_SOFI2_blue = plot_element('HI Bra', HI_Bra,   -2500, ax_ir_SOFI2_blue, color='Gray')\n",
    "ax_ir_SOFI2_red = plot_element('HI Bra', HI_Bra,    -2500, ax_ir_SOFI2_red, color='Gray')\n",
    "\n",
    "ax_ir_SOFI2_blue = plot_element('CaII', CaII,       -7000, ax_ir_SOFI2_blue, color='g')\n",
    "ax_ir_SOFI2_red = plot_element('CaII', CaII,        -7000, ax_ir_SOFI2_red, color='g')\n",
    "\n",
    "ax_ir_SOFI2_blue = plot_element('CI', CI,           -5000, ax_ir_SOFI2_blue, color='lime')\n",
    "ax_ir_SOFI2_red = plot_element('CI', CI,            -5000, ax_ir_SOFI2_red, color='lime')\n",
    "\n",
    "ax_ir_SOFI2_blue = plot_element('OI', OI,           -6000, ax_ir_SOFI2_blue, color='gold')\n",
    "ax_ir_SOFI2_red = plot_element('OI', OI,            -6000, ax_ir_SOFI2_red, color='gold')\n",
    "\n",
    "ax_ir_SOFI2_blue = plot_element('SiI', SiI,         -5000, ax_ir_SOFI2_blue, color='purple')\n",
    "ax_ir_SOFI2_red = plot_element('SiI', SiI,          -5000, ax_ir_SOFI2_red, color='purple')\n",
    "\n",
    "ax_ir_SOFI2_blue = plot_element('HI Pasch', HI_Pasch, -8000, ax_ir_SOFI2_blue, color='k')\n",
    "ax_ir_SOFI2_red = plot_element('HI Pasch', HI_Pasch,  -8000, ax_ir_SOFI2_red, color='k')\n",
    "\n",
    "ax_ir_SOFI2_blue = plot_element('MgII', MgII,         -7000, ax_ir_SOFI2_blue, color='c')\n",
    "ax_ir_SOFI2_red = plot_element('MgII', MgII,          -7000, ax_ir_SOFI2_red, color='c')\n",
    "\n",
    "ax_ir_SOFI2_blue = plot_element('MgI', MgI,         -7000, ax_ir_SOFI2_blue, color='c', linestyle='--')\n",
    "ax_ir_SOFI2_red = plot_element('MgI', MgI,          -7000, ax_ir_SOFI2_red, color='c', linestyle='--')\n",
    "\n",
    "#ax_ir_SOFI2_blue = plot_element('SrII', SrII,       -5000, ax_ir_SOFI2_blue, color='orange', linestyle=':', alpha=0.5)\n",
    "#ax_ir_SOFI2_red = plot_element('SrII', SrII,        -5000, ax_ir_SOFI2_red, color='orange',  linestyle=':', alpha=0.5)\n",
    "#\n",
    "#ax_ir_SOFI2_blue = plot_element('SI', SI,           -7000, ax_ir_SOFI2_blue, color='Navy',   linestyle=':', alpha=0.5)\n",
    "#ax_ir_SOFI2_red = plot_element('SI', SI,            -7000, ax_ir_SOFI2_red, color='Navy',    linestyle=':', alpha=0.5)\n",
    "#\n",
    "#ax_ir_SOFI2_red = plot_element('FeII', FeII,        -5000, ax_ir_SOFI2_red, color='r',       linestyle=':', alpha=0.5)\n",
    "#ax_ir_SOFI2_blue = plot_element('FeII', FeII,       -5000, ax_ir_SOFI2_blue, color='r',      linestyle=':', alpha=0.5)\n",
    "#\n",
    "#ax_ir_SOFI2_blue = plot_element('CaI', CaI,         -5000, ax_ir_SOFI2_blue, color='g', linestyle=':', alpha=0.5)\n",
    "#ax_ir_SOFI2_red = plot_element('CaI', CaI,          -5000, ax_ir_SOFI2_red, color='g',  linestyle=':', alpha=0.5)\n",
    "#\n",
    "#ax_ir_SOFI2_blue = plot_element('NaI', NaI,         -5000, ax_ir_SOFI2_blue, color='m',      linestyle=':', alpha=0.5)\n",
    "#ax_ir_SOFI2_red = plot_element('NaI', NaI,          -5000, ax_ir_SOFI2_red, color='m',       linestyle=':', alpha=0.5)\n",
    "#\n",
    "#ax_ir_SOFI2_blue = plot_element('OII', OII,           -6000, ax_ir_SOFI2_blue, color='gold', linestyle=':', alpha=0.5)\n",
    "#ax_ir_SOFI2_red = plot_element('OII', OII,            -6000, ax_ir_SOFI2_red, color='gold', linestyle=':', alpha=0.5)\n",
    "#\n",
    "#ax_ir_SOFI2_blue = plot_element('CII', CII,           -7000, ax_ir_SOFI2_blue, color='lime', linestyle=':', alpha=0.5)\n",
    "#ax_ir_SOFI2_red = plot_element('CII', CII,            -7000, ax_ir_SOFI2_red, color='lime', linestyle=':', alpha=0.5)\n",
    "\n",
    "ax_ir_SOFI2_blue.legend(ncol=2, fontsize='x-small')"
   ]
  },
  {
   "cell_type": "markdown",
   "metadata": {},
   "source": [
    "# Make Figure"
   ]
  },
  {
   "cell_type": "code",
   "execution_count": 282,
   "metadata": {},
   "outputs": [
    {
     "name": "stdout",
     "output_type": "stream",
     "text": [
      "DejaVu Sans Mono\n",
      "['Courier', 'Fixed', 'Terminal', 'monospace']\n"
     ]
    }
   ],
   "source": [
    "import matplotlib as mpl\n",
    "font = mpl.font_manager.FontProperties()\n",
    "font.set_family('cursive')\n",
    "font.set_name(mpl.rcParams['font.monospace'][6:])\n",
    "font.set_size('x-small')\n",
    "print(font.get_name())\n",
    "print(mpl.rcParams['font.monospace'][6:])"
   ]
  },
  {
   "cell_type": "markdown",
   "metadata": {},
   "source": [
    "## Two Plot Form"
   ]
  },
  {
   "cell_type": "code",
   "execution_count": 348,
   "metadata": {},
   "outputs": [],
   "source": [
    "fig = plt.figure(figsize=[15, 5])\n",
    "ax_ir_blue = fig.add_subplot(1,2,1)\n",
    "ax_ir_red =  fig.add_subplot(1,2,2)\n",
    "\n",
    "telluric_blue = (13300, 14500)\n",
    "telluric_red = (17800, 19250)\n",
    "\n",
    "rest_irtf_wave = deredshift(tbdata_irtf['wave']*10**4, z)\n",
    "\n",
    "segment1_indx = rest_irtf_wave<telluric_blue[0]\n",
    "segment2_indx = (rest_irtf_wave>telluric_blue[1]) & (rest_irtf_wave<telluric_red[0])\n",
    "segment3_indx = rest_irtf_wave>telluric_red[1]\n",
    "\n",
    "ax_ir_blue.axvspan(telluric_blue[0], telluric_blue[1], color='LightGray', alpha=0.5)\n",
    "ax_ir_red.axvspan(telluric_red[0], telluric_red[1], color='LightGray', alpha=0.5)\n",
    "#Plot Second SOFI spec deredshifted\n",
    "l2, = ax_ir_blue.plot(deredshift(tbdata_sofi1_blue['WAVE'][0], z), tbdata_sofi1_blue['FLUX'][0]+0.8E-15, label='15oz: SOFI-{}d'.format(int((Time('2015-09-05')-Time(sn15oz.jdexpl, format='jd')).value)))\n",
    "l3, = ax_ir_blue.plot(deredshift(tbdata_sofi2_blue['WAVE'][0], z), tbdata_sofi2_blue['FLUX'][0]+0.6E-15, label='15oz: SOFI-{}d'.format(int((Time('2015-10-05')-Time(sn15oz.jdexpl, format='jd')).value)))\n",
    "l1, = ax_ir_blue.plot(rest_irtf_wave[segment1_indx], tbdata_irtf['flux'][segment1_indx], label='15oz: IRTF-{}d'.format(int((Time('2015-10-10')-Time(sn15oz.jdexpl, format='jd')).value)))\n",
    "ax_ir_blue.plot(rest_irtf_wave[segment2_indx], tbdata_irtf['flux'][segment2_indx], color=l1.get_color(), label=None)\n",
    "\n",
    "\n",
    "\n",
    "\n",
    "\n",
    "ax_ir_red.plot(deredshift(tbdata_sofi1_red['WAVE'][0], z), tbdata_sofi1_red['FLUX'][0]+0.4E-15)\n",
    "ax_ir_red.plot(deredshift(tbdata_sofi2_red['WAVE'][0], z), tbdata_sofi2_red['FLUX'][0]+0.35E-15)\n",
    "ax_ir_red.plot(rest_irtf_wave[segment2_indx], tbdata_irtf['flux'][segment2_indx], color=l1.get_color())\n",
    "ax_ir_red.plot(rest_irtf_wave[segment3_indx], tbdata_irtf['flux'][segment3_indx], color=l1.get_color())\n",
    "\n",
    "ax_ir_blue.set_ylim(0.2E-15, 3.5E-15)\n",
    "ax_ir_red.set_ylim(1E-16, 6.75E-16)\n",
    "ax_ir_blue.set_xlim(9000, 16500)\n",
    "ax_ir_red.set_xlim(14800, 24900)\n",
    "#ax_ir_blue.legend([l2, l3, l1], [l2.get_label(), l3.get_label(), l1.get_label()])\n",
    "\n",
    "annotation_dict_blue = {'CaII 9906': (9686,       2.75E-15),\n",
    "                   'MgII 10092': (9857,           2.75E-15),\n",
    "                   r'P-$\\delta$':(10232,          2.5E-15),\n",
    "                   'CI 10691/ HeI 10830': (10500, 2.25E-15),\n",
    "                   r'P-$\\gamma$': (10675,         2.25E-15),\n",
    "                   'OI 11290': (11075,            2.25E-15),\n",
    "                   'CaII 11836': (11572,          1.75E-15),\n",
    "                   'CaII 11947': (11685,          1.75E-15),\n",
    "                   r'P-$\\beta$':(12503,           1.75E-15),\n",
    "                    'SiI 15893': (15632,          1.25E-15)}\n",
    "\n",
    "for key in annotation_dict_blue.keys():\n",
    "    x,y = annotation_dict_blue[key]\n",
    "    yoffset=0.1E-15\n",
    "    textoffset = 0.05E-15\n",
    "    ax_ir_blue.axvline(x, color='k', alpha=0.05, zorder=0)\n",
    "    ax_ir_blue.plot([x,x], [y, y+yoffset], color='k')\n",
    "    ax_ir_blue.text(x, y+yoffset+textoffset, key, rotation='vertical', ha='center', va='bottom',\n",
    "        fontproperties=font)\n",
    "    \n",
    "    \n",
    "annotation_dict_red_above = {r'Br-$\\gamma$':(21480, 5.2E-16),\n",
    "                       'HeI 20587': (20041,   5.4E-16)}\n",
    "annotation_dict_red_below = {'SiI 15893': (15632,   3.5E-16),\n",
    "                       'CI 16600': (16351,    3.25E-16), \n",
    "                       'CI 16890': (16655,    3.0E-16)}\n",
    "for key in annotation_dict_red_above.keys():\n",
    "    x,y = annotation_dict_red_above[key]\n",
    "    yoffset=0.03E-15\n",
    "    textoffset = 0.02E-15\n",
    "    ax_ir_red.axvline(x, color='k', alpha=0.05, zorder=0)\n",
    "    ax_ir_red.plot([x,x], [y, y+yoffset], color='k')\n",
    "    ax_ir_red.text(x, y+yoffset+textoffset, key, rotation='vertical', ha='center', va='bottom', \n",
    "        fontproperties=font)\n",
    "    \n",
    "for key in annotation_dict_red_below.keys():\n",
    "    x,y = annotation_dict_red_below[key]\n",
    "    yoffset=0.03E-15\n",
    "    textoffset = 0.02E-15\n",
    "    ax_ir_red.axvline(x, color='k', alpha=0.05, zorder=0)\n",
    "    ax_ir_red.plot([x,x], [y, y-yoffset], color='k')\n",
    "    ax_ir_red.text(x, y-yoffset-textoffset, key, rotation='vertical', ha='center', va='top', \n",
    "        fontproperties=font)\n",
    "ax_ir_blue.set_ylabel('Flux ($ergs/cm^2/s$)+ offset')\n",
    "ax_ir_blue.set_xlabel('Wavelength ($\\AA$)')\n",
    "ax_ir_red.set_xlabel('Wavelength ($\\AA$)')\n",
    "\n",
    "ax_ir_blue.text(16100, 2.0E-15, '8d')\n",
    "ax_ir_blue.text(16100, 1.4E-15, '38d')\n",
    "ax_ir_blue.text(16100, 0.5E-15, '43d')\n",
    "plt.savefig(os.path.join(FIG_DIR, 'ir_spec_montage_two_plots.pdf'))"
   ]
  },
  {
   "cell_type": "markdown",
   "metadata": {},
   "source": [
    "## One Plot Form"
   ]
  },
  {
   "cell_type": "code",
   "execution_count": 314,
   "metadata": {},
   "outputs": [
    {
     "data": {
      "text/plain": [
       "Text(24500,3e-16,'43d')"
      ]
     },
     "execution_count": 314,
     "metadata": {},
     "output_type": "execute_result"
    }
   ],
   "source": [
    "fig = plt.figure(figsize=[15, 5])\n",
    "ax_ir = fig.add_subplot(1,1,1)\n",
    "\n",
    "telluric_blue = (13300, 14500)\n",
    "telluric_red = (17800, 19250)\n",
    "\n",
    "rest_irtf_wave = deredshift(tbdata_irtf['wave']*10**4, z)\n",
    "\n",
    "segment1_indx = rest_irtf_wave<telluric_blue[0]\n",
    "segment2_indx = (rest_irtf_wave>telluric_blue[1]) & (rest_irtf_wave<telluric_red[0])\n",
    "segment3_indx = rest_irtf_wave>telluric_red[1]\n",
    "\n",
    "ax_ir.axvspan(telluric_blue[0], telluric_blue[1], color='LightGray', alpha=0.5)\n",
    "ax_ir.axvspan(telluric_red[0], telluric_red[1], color='LightGray', alpha=0.5)\n",
    "#Plot Second SOFI spec deredshifted\n",
    "l2, = ax_ir.plot(deredshift(tbdata_sofi1_blue['WAVE'][0], z), tbdata_sofi1_blue['FLUX'][0]+1.5E-15)\n",
    "l3, = ax_ir.plot(deredshift(tbdata_sofi2_blue['WAVE'][0], z), tbdata_sofi2_blue['FLUX'][0]+1E-15)\n",
    "l1, = ax_ir.plot(rest_irtf_wave[segment1_indx], tbdata_irtf['flux'][segment1_indx])\n",
    "ax_ir.plot(rest_irtf_wave[segment2_indx], tbdata_irtf['flux'][segment2_indx], color=l1.get_color())\n",
    "\n",
    "\n",
    "\n",
    "\n",
    "\n",
    "ax_ir.plot(deredshift(tbdata_sofi1_red['WAVE'][0], z), tbdata_sofi1_red['FLUX'][0]+1.5E-15, color=l2.get_color())\n",
    "ax_ir.plot(deredshift(tbdata_sofi2_red['WAVE'][0], z), tbdata_sofi2_red['FLUX'][0]+1E-15, color=l3.get_color())\n",
    "ax_ir.plot(rest_irtf_wave[segment2_indx], tbdata_irtf['flux'][segment2_indx], color=l1.get_color())\n",
    "ax_ir.plot(rest_irtf_wave[segment3_indx], tbdata_irtf['flux'][segment3_indx], color=l1.get_color())\n",
    "\n",
    "ax_ir.set_ylim(0.0E-15, 5E-15)\n",
    "ax_ir.set_xlim(9000, 24900)\n",
    "\n",
    "annotation_dict_blue = {'CaII 9906': (9686, 3.5E-15),\n",
    "                   'MgII 10092': (9857, 3.5E-15),\n",
    "                   r'P-$\\delta$':(10232, 3.1E-15),\n",
    "                   'CI 10691/ HeI 10830': (10500, 3E-15),\n",
    "                   r'P-$\\gamma$': (10675, 3E-15),\n",
    "                   'OI 11290': (11075, 3E-15),\n",
    "                   'CaII 11836': (11572, 2.5E-15),\n",
    "                   'CaII 11947': (11685, 2.5E-15),\n",
    "                   r'P-$\\beta$':(12503, 2.5E-15)}\n",
    "\n",
    "for key in annotation_dict_blue.keys():\n",
    "    x,y = annotation_dict_blue[key]\n",
    "    yoffset=0.1E-15\n",
    "    textoffset = 0.05E-15\n",
    "    ax_ir.axvline(x, color='k', alpha=0.05, zorder=0)\n",
    "    ax_ir.plot([x,x], [y, y+yoffset], color='k')\n",
    "    ax_ir.text(x, y+yoffset+textoffset, key, rotation='vertical', ha='center', va='bottom',\n",
    "        fontproperties=font)\n",
    "    \n",
    "    \n",
    "annotation_dict_red = {'SiI 15893': (15632,   2.0E-15),\n",
    "                       'CI 16600': (16351,    2.0E-15), \n",
    "                       'CI 16890': (16655,    2.0E-15),\n",
    "                       r'Br-$\\gamma$':(21480, 1.8E-15),\n",
    "                       'HeI 20587': (20041,   1.8E-15)}\n",
    "for key in annotation_dict_red.keys():\n",
    "    x,y = annotation_dict_red[key]\n",
    "    yoffset=0.1E-15\n",
    "    textoffset = 0.05E-15\n",
    "    ax_ir.axvline(x, color='k', alpha=0.05, zorder=0)\n",
    "    ax_ir.plot([x,x], [y, y+yoffset], color='k')\n",
    "    ax_ir.text(x, y+yoffset+textoffset, key, rotation='vertical', ha='center', va='bottom', \n",
    "        fontproperties=font)\n",
    "ax_ir.set_ylabel('Flux ($ergs/cm^2/s$)+ offset')\n",
    "ax_ir.set_xlabel('Wavelength ($\\AA$)')\n",
    "ax_ir.set_xlabel('Wavelength ($\\AA$)')\n",
    "\n",
    "ax_ir.text(24500, 1.7E-15, '8d')\n",
    "ax_ir.text(24500, 1.2E-15, '38d')\n",
    "ax_ir.text(24500, 0.3E-15, '43d')\n"
   ]
  },
  {
   "cell_type": "markdown",
   "metadata": {},
   "source": [
    "# Log Space"
   ]
  },
  {
   "cell_type": "code",
   "execution_count": 362,
   "metadata": {},
   "outputs": [],
   "source": [
    "spec_sofi1_blue = spec.spectrum1d(deredshift(tbdata_sofi1_blue['WAVE'][0],z), \n",
    "                                  tbdata_sofi1_blue['FLUX'][0], \n",
    "                                  tbdata_sofi1_blue['ERR'][0])\n",
    "spec_sofi1_red = spec.spectrum1d( deredshift(tbdata_sofi1_red['WAVE'][0], z), \n",
    "                                  tbdata_sofi1_red[ 'FLUX'][0], \n",
    "                                  tbdata_sofi1_red[ 'ERR'][0])\n",
    "spec_sofi2_blue = spec.spectrum1d(deredshift(tbdata_sofi2_blue['WAVE'][0], z), \n",
    "                                  tbdata_sofi2_blue['FLUX'][0], \n",
    "                                  tbdata_sofi2_blue['ERR'][0])\n",
    "spec_sofi2_red = spec.spectrum1d( deredshift(tbdata_sofi2_red['WAVE'][0], z), \n",
    "                                 tbdata_sofi2_red[ 'FLUX'][0], \n",
    "                                 tbdata_sofi2_red[ 'ERR'][0])\n",
    "spec_irtf = spec.spectrum1d(deredshift(tbdata_irtf['wave']*10**4, z), \n",
    "                            tbdata_irtf['flux'], \n",
    "                            tbdata_irtf['err'])"
   ]
  },
  {
   "cell_type": "code",
   "execution_count": 424,
   "metadata": {},
   "outputs": [],
   "source": [
    "scale_sofi1_blue = spec.scale_spectra(spec_sofi1_blue, spec_sofi1_blue, wlmin=15000, wlmax=16000)\n",
    "scale_sofi1_red = spec.scale_spectra(spec_sofi1_red, spec_sofi1_blue,   wlmin=15000, wlmax=16000)\n",
    "scale_sofi2_blue = spec.scale_spectra(spec_sofi2_blue, spec_sofi1_blue, wlmin=15000, wlmax=16000)\n",
    "scale_sofi2_red = spec.scale_spectra(spec_sofi2_red, spec_sofi1_blue,   wlmin=15000, wlmax=16000)\n",
    "scale_irtf = spec.scale_spectra(spec_irtf, spec_sofi1_blue,             wlmin=15000, wlmax=16000)"
   ]
  },
  {
   "cell_type": "code",
   "execution_count": 426,
   "metadata": {},
   "outputs": [
    {
     "name": "stderr",
     "output_type": "stream",
     "text": [
      "/Users/bostroem/anaconda/lib/python3.5/site-packages/ipykernel/__main__.py:21: RuntimeWarning: divide by zero encountered in log10\n",
      "/Users/bostroem/anaconda/lib/python3.5/site-packages/ipykernel/__main__.py:21: RuntimeWarning: invalid value encountered in log10\n",
      "/Users/bostroem/anaconda/lib/python3.5/site-packages/ipykernel/__main__.py:22: RuntimeWarning: divide by zero encountered in log10\n",
      "/Users/bostroem/anaconda/lib/python3.5/site-packages/ipykernel/__main__.py:23: RuntimeWarning: invalid value encountered in log10\n"
     ]
    }
   ],
   "source": [
    "fig = plt.figure(figsize=[10, 5])\n",
    "ax_ir = fig.add_subplot(1,1,1)\n",
    "\n",
    "telluric_blue = (13300, 14500)\n",
    "telluric_red = (17800, 19250)\n",
    "\n",
    "\n",
    "segment1_indx = scale_irtf.wave<telluric_blue[0]\n",
    "segment2_indx = (scale_irtf.wave>telluric_blue[1]) & (scale_irtf.wave<telluric_red[0])\n",
    "segment3_indx = scale_irtf.wave>telluric_red[1]\n",
    "\n",
    "ax_ir.axvspan(telluric_blue[0], telluric_blue[1], color='LightGray', alpha=0.5)\n",
    "ax_ir.axvspan(telluric_red[0], telluric_red[1], color='LightGray', alpha=0.5)\n",
    "#Plot Second SOFI spec deredshifted\n",
    "l2, = ax_ir.plot(scale_sofi1_blue.wave, np.log10(scale_sofi1_blue.flux))\n",
    "l3, = ax_ir.plot(scale_sofi2_blue.wave, np.log10(scale_sofi2_blue.flux)-0.6)\n",
    "l1, = ax_ir.plot(scale_irtf.wave[segment1_indx], np.log10(scale_irtf.flux[segment1_indx])-1)\n",
    "ax_ir.plot(scale_irtf.wave[segment2_indx], np.log10(scale_irtf.flux[segment2_indx])-1, color=l1.get_color())\n",
    "\n",
    "\n",
    "ax_ir.plot(scale_sofi1_red.wave, np.log10(scale_sofi1_red.flux), color=l2.get_color())\n",
    "ax_ir.plot(scale_sofi2_red.wave, np.log10(scale_sofi2_red.flux)-0.6, color=l3.get_color())\n",
    "ax_ir.plot(scale_irtf.wave[segment3_indx], np.log10(scale_irtf.flux[segment3_indx])-1, color=l1.get_color())\n",
    "\n",
    "ax_ir.set_ylim(-17.25,-14.5)\n",
    "ax_ir.set_xlim(9000, 24900)\n",
    "\n",
    "annotation_dict_blue = {'CaII 9906': (9686,       -16.15),\n",
    "                   'MgII 10092': (9857,           -16.15),\n",
    "                   r'P-$\\delta$':(10232,          -16.15),\n",
    "                   'CI 10691/ HeI 10830': (10500, -16.4),\n",
    "                   r'P-$\\gamma$': (10675,         -16.5),\n",
    "                   'OI 11290': (11075,            -16.5),\n",
    "                   'CaII 11836': (11572,          -16.5),\n",
    "                   'CaII 11947': (11685,          -16.5),\n",
    "                   r'P-$\\beta$':(12503,           -16.5)}\n",
    "\n",
    "for key in annotation_dict_blue.keys():\n",
    "    x,y = annotation_dict_blue[key]\n",
    "    yoffset=0.1\n",
    "    textoffset = 0.05\n",
    "    ax_ir.axvline(x, color='k', alpha=0.05, zorder=0)\n",
    "    ax_ir.plot([x,x], [y, y-yoffset], color='k')\n",
    "    ax_ir.text(x, y-yoffset-textoffset, key, rotation='vertical', ha='center', va='top',\n",
    "        fontproperties=font)\n",
    "    \n",
    "    \n",
    "annotation_dict_red = {'SiI 15893': (15632,   -15.25),\n",
    "                       'CI 16600': (16351,    -15.25), \n",
    "                       'CI 16890': (16655,    -15.25),\n",
    "                       r'Br-$\\gamma$':(21480, -15.75),\n",
    "                       'HeI 20587': (20041,   -15.5)}\n",
    "for key in annotation_dict_red.keys():\n",
    "    x,y = annotation_dict_red[key]\n",
    "    yoffset=0.1\n",
    "    textoffset = 0.05\n",
    "    ax_ir.axvline(x, color='k', alpha=0.05, zorder=0)\n",
    "    ax_ir.plot([x,x], [y, y+yoffset], color='k')\n",
    "    ax_ir.text(x, y+yoffset+textoffset, key, rotation='vertical', ha='center', va='bottom', \n",
    "        fontproperties=font)\n",
    "ax_ir.set_ylabel('log(Flux)+ offset')\n",
    "ax_ir.set_xlabel('Wavelength ($\\AA$)')\n",
    "ax_ir.set_yticks([])\n",
    "\n",
    "ax_ir.text(25000, -16.0, '8d' , ha='left')\n",
    "ax_ir.text(25000, -16.65, '38d', ha='left')\n",
    "ax_ir.text(25000, -17.0, '43d', ha='left')\n",
    "plt.savefig(os.path.join(FIG_DIR, 'ir_spec_montage_log.pdf'))"
   ]
  },
  {
   "cell_type": "code",
   "execution_count": 383,
   "metadata": {},
   "outputs": [
    {
     "data": {
      "text/plain": [
       "(3.9861444647105206, -14.455931955649724)"
      ]
     },
     "execution_count": 383,
     "metadata": {},
     "output_type": "execute_result"
    }
   ],
   "source": [
    "x, y"
   ]
  },
  {
   "cell_type": "code",
   "execution_count": null,
   "metadata": {},
   "outputs": [],
   "source": []
  }
 ],
 "metadata": {
  "kernelspec": {
   "display_name": "Python [default]",
   "language": "python",
   "name": "python3"
  },
  "language_info": {
   "codemirror_mode": {
    "name": "ipython",
    "version": 3
   },
   "file_extension": ".py",
   "mimetype": "text/x-python",
   "name": "python",
   "nbconvert_exporter": "python",
   "pygments_lexer": "ipython3",
   "version": "3.5.5"
  }
 },
 "nbformat": 4,
 "nbformat_minor": 2
}
