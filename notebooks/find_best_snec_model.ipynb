{
 "cells": [
  {
   "cell_type": "markdown",
   "metadata": {},
   "source": [
    "## This notebook prototypes the final analysis in snec_chisq.py which is run on dark for speed"
   ]
  },
  {
   "cell_type": "code",
   "execution_count": 4,
   "metadata": {},
   "outputs": [
    {
     "name": "stdout",
     "output_type": "stream",
     "text": [
      "Using matplotlib backend: Qt5Agg\n"
     ]
    }
   ],
   "source": [
    "import math\n",
    "import glob\n",
    "import os\n",
    "import sys\n",
    "\n",
    "import numpy as np\n",
    "\n",
    "from astropy.io import ascii as asc\n",
    "import astropy.units as u\n",
    "from astropy.table import Table\n",
    "from matplotlib import pyplot as plt\n",
    "import matplotlib as mpl\n",
    "\n",
    "\n",
    "from utilities_az import visualization, supernova\n",
    "%matplotlib\n",
    "\n",
    "import matplotlib as mpl"
   ]
  },
  {
   "cell_type": "code",
   "execution_count": 5,
   "metadata": {},
   "outputs": [],
   "source": [
    "plt.style.use(['seaborn-paper', 'az-paper-onecol'])"
   ]
  },
  {
   "cell_type": "code",
   "execution_count": 6,
   "metadata": {},
   "outputs": [],
   "source": [
    "sys.path.append('/Users/bostroem/Desktop/research/not_my_code/SNEC-1.01/')\n",
    "import chisq_analysis"
   ]
  },
  {
   "cell_type": "code",
   "execution_count": 7,
   "metadata": {},
   "outputs": [],
   "source": [
    "DARK_DIR = '/Users/bostroem/dark'\n",
    "FIG_DIR = '../figures/'\n",
    "snec_models = '/Users/bostroem/dark/SNEC/snec_models'"
   ]
  },
  {
   "cell_type": "code",
   "execution_count": 8,
   "metadata": {},
   "outputs": [],
   "source": [
    "def prepare_model_data(model_dir, type='mag'):\n",
    "    if type=='mag':\n",
    "        model_tbdata = asc.read(os.path.join(model_dir,'magnitudes.dat'),\n",
    "                                names=['time', 'temp', 'weird_mag', \n",
    "                                       'u', 'g', 'r', 'i', 'z', 'U', \n",
    "                                       'B', 'V', 'R', 'I'])\n",
    "    elif type=='lum':\n",
    "        model_tbdata = asc.read(os.path.join(model_dir, 'lum_observed.dat'), names=['time', 'luminosity'])\n",
    "    else:\n",
    "        print('Type must be \"lum\" or \"mag\", {} not understood')\n",
    "        sys.exit()\n",
    "    #Observers call t_explosion the time when the explosion is first visible, therefore\n",
    "    #the models should use this same conventions\n",
    "    time_breakout = get_breakout_time(model_dir)\n",
    "    if time_breakout is not None:\n",
    "        model_tbdata['time'] = ((model_tbdata['time']-time_breakout)*u.second).to(u.day).value\n",
    "    else:\n",
    "        model_tbdata=None\n",
    "    return model_tbdata"
   ]
  },
  {
   "cell_type": "code",
   "execution_count": 9,
   "metadata": {},
   "outputs": [],
   "source": [
    "def get_breakout_time(model_dir):\n",
    "    ofile = open(os.path.join(model_dir, 'info.dat'), 'r')\n",
    "    all_lines = ofile.readlines()\n",
    "    if len(all_lines)>6:\n",
    "        time_breakout = float((all_lines[5].split('=')[1]).strip('seconds\\n'))\n",
    "    else: #SN never got to breakout\n",
    "        time_breakout = None\n",
    "    return time_breakout"
   ]
  },
  {
   "cell_type": "markdown",
   "metadata": {},
   "source": [
    "# Get Luminosity"
   ]
  },
  {
   "cell_type": "code",
   "execution_count": 10,
   "metadata": {},
   "outputs": [
    {
     "name": "stdout",
     "output_type": "stream",
     "text": [
      "Calculating Absolute Magntidue with Extinction\n"
     ]
    }
   ],
   "source": [
    "sn15oz = supernova.LightCurve2('asassn-15oz')\n",
    "sn15oz.get_photometry()\n",
    "sn15oz.get_abs_mag()"
   ]
  },
  {
   "cell_type": "code",
   "execution_count": 11,
   "metadata": {},
   "outputs": [],
   "source": [
    "sn15oz_tbdata = asc.read('../data/bolometric.txt', names=['phase', 'logL'])\n",
    "sn15oz_tbdata['luminosity'] = 10**sn15oz_tbdata['logL']\n",
    "sn15oz_phot_tbdata = sn15oz_tbdata[sn15oz_tbdata['phase']<150]"
   ]
  },
  {
   "cell_type": "markdown",
   "metadata": {},
   "source": [
    "# Get Model Parameters"
   ]
  },
  {
   "cell_type": "code",
   "execution_count": 12,
   "metadata": {},
   "outputs": [],
   "source": [
    "ni_mass =   np.array([0.083, 0.0965, 0.11])\n",
    "energies =  np.array([0.5, 0.8, 1.1, 1.4, 1.7, 2.0])\n",
    "masses =    np.array([11, 13, 15, 16, 17, 18, 21])\n",
    "ni_mixing = np.array([5.0])\n",
    "time_offsets = np.arange(-4, 4, 1)\n",
    "Kvalues =   np.array([10, 20, 30, 35, 40, 50, 60])\n",
    "radii =     np.array([1500, 1800, 2100, 2400, 2700, 3000, 3300])\n",
    "\n",
    "snec_models = os.path.join(DARK_DIR,'SNEC/snec_models/')\n",
    "snname = 'asassn15oz'\n",
    "S2_start = 50\n",
    "S2_end = 88  #Vary this parameter\n",
    "snec_15oz = chisq_analysis.SnecAnalysis(snname, snec_models, S2_start, S2_end, \n",
    "                 ni_mass, ni_mixing, masses, energies, time_offsets, \n",
    "                 Kvalues, radii, fig_dir='../figures')"
   ]
  },
  {
   "cell_type": "markdown",
   "metadata": {},
   "source": [
    "# Find best fit luminosity"
   ]
  },
  {
   "cell_type": "markdown",
   "metadata": {},
   "source": [
    "#### This code has been moved into snec_chisq.py and run on dark"
   ]
  },
  {
   "cell_type": "code",
   "execution_count": 13,
   "metadata": {},
   "outputs": [],
   "source": [
    "chisq_bolo = np.zeros((len(ni_mass), len(energies), len(masses), len(time_offsets), len(Kvalues), len(radii)))"
   ]
  },
  {
   "cell_type": "raw",
   "metadata": {},
   "source": [
    "%%time\n",
    "with open('missing_snec_models_bolo.txt', 'a') as missing_ofile:\n",
    "    with open('chisq_bolo.csv', 'w') as chisq_ofile:\n",
    "        try:\n",
    "            tbdata = asc.read('chisq_bolometricL.csv', names=['ni_mass', 'energy', 'mass', 'time_offset', 'K', 'R', 'chisq'])\n",
    "            last_done = tbdata[-1]\n",
    "        except:\n",
    "            last_done = Table([[0.], [0.], [0.], [0.], [0.], [0.], [0.]], names=['ni_mass', 'energy', 'mass', 'time_offset', 'K', 'R', 'chisq'])\n",
    "        for i, ini_mass in enumerate(ni_mass):\n",
    "            if last_done['ni_mass'] > ini_mass:\n",
    "                continue\n",
    "            for j, jenergy in enumerate(energies):\n",
    "                if last_done['energy'] > jenergy:\n",
    "                    continue\n",
    "                for m, mmass in enumerate(masses):\n",
    "                    if last_done['mass']>mmass:\n",
    "                        continue\n",
    "                    for k, kval in enumerate(Kvalues):\n",
    "                        if last_done['K'] > kval:\n",
    "                            continue\n",
    "                        for r, rradius in enumerate(radii):\n",
    "                            if last_done['R']> rradius:\n",
    "                                continue\n",
    "                            model_dir = os.path.join(snec_models, \n",
    "                                         'Ni_mass_{:1.4f}'.format(ini_mass),\n",
    "                                         'Ni_mixing_{:1.1f}'.format(5.0),\n",
    "                                         'M{:2.1f}'.format(mmass),\n",
    "                                         'E_{:1.3f}'.format(jenergy),\n",
    "                                         'K_{:2.1f}'.format(kval), \n",
    "                                         'R_{}'.format(rradius),\n",
    "                                         'Data')\n",
    "                            if os.path.exists(os.path.join(model_dir, 'lum_observed.dat')):\n",
    "                                model_tbdata = asc.read(os.path.join(model_dir, 'lum_observed.dat'), names=['phase', 'luminosity'])\n",
    "                                breakout_time = get_breakout_time(model_dir)\n",
    "                                if breakout_time is None:\n",
    "                                    missing_ofile.write('breakout time is None for {}\\n'.format(model_dir))\n",
    "                                    chisq_bolo[i, j, m, :, k, r] = np.nan\n",
    "                                    for toff in time_offsets:\n",
    "                                        chisq_ofile.write('{},{},{},{},{},{},{}'.format(ini_mass, jenergy, mmass, kval, rradius, toff, np.nan))\n",
    "                                else:\n",
    "                                    model_tbdata['phase_obs'] = ((model_tbdata['phase']-breakout_time)*u.s).to(u.day).value\n",
    "                                    for t, toff in enumerate(time_offsets):\n",
    "                                        model_lum_interp = np.interp(sn15oz_phot_tbdata['phase'], model_tbdata['phase_obs']+toff, model_tbdata['luminosity'])\n",
    "                                        chisq_bolo[i, j, m, t, k, r] = np.sum((sn15oz_phot_tbdata['luminosity'] - model_lum_interp)**2/model_lum_interp)\n",
    "                                        chisq_ofile.write('{},{},{},{},{},{},{}'.format(ini_mass, jenergy, mmass, kval, rradius, toff, chisq[i, j, m, t, k, r]))\n",
    "                            else:\n",
    "                                missing_ofile.write('No file found for {}\\n'.format(model_dir))\n",
    "                                chisq_bolo[i,j,m,:,k,r] = np.nan\n",
    "                                for toff in time_offsets:\n",
    "                                        chisq_ofile.write('{},{},{},{},{},{},{}'.format(ini_mass, jenergy, mmass, kval, rradius, toff, np.nan))"
   ]
  },
  {
   "cell_type": "markdown",
   "metadata": {},
   "source": [
    "# Best Model"
   ]
  },
  {
   "cell_type": "code",
   "execution_count": 70,
   "metadata": {},
   "outputs": [
    {
     "name": "stdout",
     "output_type": "stream",
     "text": [
      "best model parameters:\n",
      " mass: 17\n",
      " energy: 1.1 \n",
      " K: 40 \n",
      " R: 1800 \n",
      " t_offset: -4 \n",
      " Ni mass: 0.083\n"
     ]
    }
   ],
   "source": [
    "min_indx_base_mod = np.where(chisq_bolo == np.nanmin(chisq_bolo))\n",
    "best_ni_mass_indx = min_indx_base_mod[0][0]\n",
    "best_energy_indx = min_indx_base_mod[1][0]\n",
    "best_mass_indx = min_indx_base_mod[2][0]\n",
    "best_time_indx = min_indx_base_mod[3][0]\n",
    "best_k_indx = min_indx_base_mod[4][0]\n",
    "best_r_indx = min_indx_base_mod[5][0]\n",
    "\n",
    "best_ni_mass = ni_mass[best_ni_mass_indx]\n",
    "best_ni_mix = 5.0\n",
    "best_energy = energies[best_energy_indx]\n",
    "best_mass = masses[best_mass_indx]\n",
    "best_time_offset = time_offsets[best_time_indx]\n",
    "best_Kvalue = Kvalues[best_k_indx]\n",
    "best_radius = radii[best_r_indx]\n",
    "\n",
    "print('best model parameters:\\n mass: {}\\n energy: {} \\n K: {} \\n R: {} \\n t_offset: {} \\n Ni mass: {}'.format(best_mass, best_energy, best_Kvalue, best_radius, best_time_offset, best_ni_mass))"
   ]
  },
  {
   "cell_type": "markdown",
   "metadata": {},
   "source": [
    "$M_{CSM} = 4\\pi \\int^{R_{ext}}_{R_{phot}}{\\frac{K}{r^{2}}(r^{2}dr)} = 4\\pi K \\left(R_{ext} - R_{phot}\\right)$"
   ]
  },
  {
   "cell_type": "code",
   "execution_count": 120,
   "metadata": {},
   "outputs": [
    {
     "name": "stdout",
     "output_type": "stream",
     "text": [
      "1.4649291947299974 solMass\n",
      "M_CSM = 1.5 solMass\n",
      "0.6300250708427629 solMass\n",
      "M_CSM = 0.63 solMass\n"
     ]
    }
   ],
   "source": [
    "R_phot = 967*u.Rsun\n",
    "M_csm_opti = 4*math.pi*(best_Kvalue*10**17*u.g/u.cm)*((best_radius*u.Rsun).to(u.cm) - R_phot.to(u.cm))\n",
    "print(M_csm_opti.to(u.Msun))\n",
    "print('M_CSM = {:2.2}'.format(M_csm_opti.to(u.Msun)))\n",
    "M_csm_opti = 4*math.pi*(10*10**17*u.g/u.cm)*((2400*u.Rsun).to(u.cm) - R_phot.to(u.cm))\n",
    "print(M_csm_opti.to(u.Msun))\n",
    "print('M_CSM = {:2.2}'.format(M_csm_opti.to(u.Msun)))"
   ]
  },
  {
   "cell_type": "markdown",
   "metadata": {},
   "source": [
    "# Make plots"
   ]
  },
  {
   "cell_type": "code",
   "execution_count": 117,
   "metadata": {},
   "outputs": [
    {
     "data": {
      "image/png": "[encoded data removed]",
      "text/plain": [
       "<Figure size 205.2x153.36 with 2 Axes>"
      ]
     },
     "metadata": {},
     "output_type": "display_data"
    }
   ],
   "source": [
    "fig = plt.figure()\n",
    "fig.subplotpars.update(top=0.9)\n",
    "ax = fig.add_subplot(1,1,1)\n",
    "ax.set_title('log(ChiSq for Mass vs Energy)')\n",
    "im = ax.imshow(np.log(chisq[best_ni_mass_indx,:, :, best_time_indx, best_k_indx, best_r_indx ]), interpolation='nearest')\n",
    "ax.set_xlabel('Mass (Msun)')\n",
    "ax.set_ylabel('Energy (x10^51 ergs)')\n",
    "ax.set_xticks(np.arange(len(masses)))\n",
    "ax.set_xticklabels(list(masses))\n",
    "ax.set_yticks(np.arange(len(energies)))\n",
    "ax.set_yticklabels(list(energies))\n",
    "ax.plot(5, 3, 'r*')\n",
    "ax.plot(4, 2, 'w*')\n",
    "fig.colorbar(im)\n",
    "plt.savefig(os.path.join(FIG_DIR, 'chisq_Lbolo_MvsE.pdf'))"
   ]
  },
  {
   "cell_type": "code",
   "execution_count": 119,
   "metadata": {},
   "outputs": [
    {
     "data": {
      "image/png": "[encoded data removed]",
      "text/plain": [
       "<Figure size 205.2x153.36 with 2 Axes>"
      ]
     },
     "metadata": {},
     "output_type": "display_data"
    }
   ],
   "source": [
    "fig = plt.figure()\n",
    "fig.subplotpars.update(top=0.9)\n",
    "ax = fig.add_subplot(1,1,1)\n",
    "ax.set_title('log(ChiSq for CSM parameters)')\n",
    "im = ax.imshow(np.log10(chisq[best_ni_mass_indx,best_energy_indx, best_mass_indx, best_time_indx, :, : ]), interpolation='nearest')\n",
    "ax.set_xlabel('Radius (100 Rsun)')\n",
    "ax.set_ylabel('K (x10^17 g/cm)')\n",
    "ax.set_xticks(np.arange(0,7))\n",
    "ax.set_xticklabels(np.int_(radii/100))\n",
    "ax.set_yticks(np.arange(0, 7))\n",
    "ax.set_yticklabels(Kvalues)\n",
    "ax.plot(3, 0, 'r*')\n",
    "ax.plot(1, 4, 'w*')\n",
    "fig.colorbar(im)\n",
    "plt.savefig(os.path.join(FIG_DIR, 'chisq_Lbolo_KvsR.pdf'))"
   ]
  },
  {
   "cell_type": "markdown",
   "metadata": {},
   "source": [
    "# Compare Bolometric and Color Models"
   ]
  },
  {
   "cell_type": "code",
   "execution_count": 20,
   "metadata": {},
   "outputs": [],
   "source": [
    "best_model_dir_bolo = os.path.join(snec_models, \n",
    "                                         'Ni_mass_{:1.4f}'.format(0.083),\n",
    "                                         'Ni_mixing_{:1.1f}'.format(5.0),\n",
    "                                         'M{:2.1f}'.format(17),\n",
    "                                         'E_{:1.3f}'.format(1.4),\n",
    "                                         'K_{:2.1f}'.format(10), \n",
    "                                         'R_{}'.format(2400),\n",
    "                                         'Data')"
   ]
  },
  {
   "cell_type": "code",
   "execution_count": 21,
   "metadata": {},
   "outputs": [],
   "source": [
    "best_model_csm_dir = os.path.join(snec_models, \n",
    "                                 'Ni_mass_{:1.4f}'.format(0.083),\n",
    "                                 'Ni_mixing_{:1.1f}'.format(5.0),\n",
    "                                 'M{:2.1f}'.format(18.0),\n",
    "                                 'E_{:1.3f}'.format(1.400),\n",
    "                                 'K_{:2.1f}'.format(10.0), \n",
    "                                 'R_{}'.format(2400),\n",
    "                                 'Data')"
   ]
  },
  {
   "cell_type": "code",
   "execution_count": 22,
   "metadata": {},
   "outputs": [],
   "source": [
    "best_model_bare_dir = os.path.join(snec_models, \n",
    "                                 'Ni_mass_{:1.4f}'.format(0.083),\n",
    "                                 'Ni_mixing_{:1.1f}'.format(5.0),\n",
    "                                 'M{:2.1f}'.format(18.0),\n",
    "                                 'E_{:1.3f}'.format(1.400),\n",
    "                                 'K_{:2.1f}'.format(0), \n",
    "                                 'R_{}'.format(0),\n",
    "                                 'Data')"
   ]
  },
  {
   "cell_type": "code",
   "execution_count": 23,
   "metadata": {},
   "outputs": [],
   "source": [
    "snec_color_tbdata = asc.read(os.path.join(best_model_csm_dir, 'lum_observed.dat'), names=['phase', 'luminosity'])\n",
    "snec_bare_bolo_tbdata = asc.read(os.path.join(best_model_bare_dir, 'lum_observed.dat'), names=['phase', 'luminosity'])\n",
    "snec_bolo_tbdata = asc.read(os.path.join(best_model_dir_bolo, 'lum_observed.dat'), names=['phase', 'luminosity'])"
   ]
  },
  {
   "cell_type": "code",
   "execution_count": 24,
   "metadata": {},
   "outputs": [],
   "source": [
    "breakout_time_color_csm = get_breakout_time(best_model_csm_dir)\n",
    "snec_phase = ((snec_bolo_tbdata['phase']-breakout_time_color_csm)*u.s).to(u.day)\n",
    "breakout_time_color_bare = get_breakout_time(best_model_bare_dir)\n",
    "snec_bare_phase = ((snec_bare_bolo_tbdata['phase']-breakout_time_color_bare)*u.s).to(u.day)\n",
    "breakout_time_bolo = get_breakout_time(best_model_dir_bolo)\n",
    "snec_bolo_phase = ((snec_bolo_tbdata['phase']-breakout_time_bolo)*u.s).to(u.day)"
   ]
  },
  {
   "cell_type": "code",
   "execution_count": 27,
   "metadata": {},
   "outputs": [
    {
     "name": "stderr",
     "output_type": "stream",
     "text": [
      "/Users/bostroem/anaconda/lib/python3.5/site-packages/ipykernel/__main__.py:4: RuntimeWarning: divide by zero encountered in log10\n",
      "/Users/bostroem/anaconda/lib/python3.5/site-packages/ipykernel/__main__.py:4: RuntimeWarning: invalid value encountered in log10\n",
      "/Users/bostroem/anaconda/lib/python3.5/site-packages/ipykernel/__main__.py:5: RuntimeWarning: divide by zero encountered in log10\n",
      "/Users/bostroem/anaconda/lib/python3.5/site-packages/ipykernel/__main__.py:6: RuntimeWarning: divide by zero encountered in log10\n",
      "/Users/bostroem/anaconda/lib/python3.5/site-packages/ipykernel/__main__.py:6: RuntimeWarning: invalid value encountered in log10\n"
     ]
    }
   ],
   "source": [
    "fig = plt.figure()\n",
    "fig.subplotpars.update(0.25)\n",
    "ax = fig.add_subplot(1,1,1)\n",
    "ax.plot(snec_phase, np.log10(snec_color_tbdata['luminosity']), label='Best Color Model with CSM')\n",
    "ax.plot(snec_bare_phase, np.log10(snec_bare_bolo_tbdata['luminosity']), label='Best Color Model without CSM', ls='--')\n",
    "ax.plot(snec_bolo_phase, np.log10(snec_bolo_tbdata['luminosity']), label='Best Bolometric Model with CSM', ls=':')\n",
    "ax.plot(sn15oz_tbdata['phase'], sn15oz_tbdata['logL'], '.', label='Corrected Bolometric Luminosity')\n",
    "ax.set_xlim(0, 100)\n",
    "ax.set_ylim(42, 44)\n",
    "ax.legend()\n",
    "ax.set_xlabel('Phase (days)')\n",
    "ax.set_ylabel('log(L) (erg/s)')\n",
    "plt.savefig(os.path.join(FIG_DIR, 'color_bolo_snec_model_comp.pdf'))"
   ]
  },
  {
   "cell_type": "code",
   "execution_count": 26,
   "metadata": {},
   "outputs": [],
   "source": [
    "best_csm_color_tbdata = prepare_model_data(best_model_csm_dir)\n",
    "best_bare_color_tbdata = prepare_model_data(best_model_bare_dir)\n",
    "best_csm_bolo_tbdata = prepare_model_data(best_model_dir_bolo)"
   ]
  },
  {
   "cell_type": "code",
   "execution_count": 159,
   "metadata": {},
   "outputs": [
    {
     "name": "stderr",
     "output_type": "stream",
     "text": [
      "/Users/bostroem/anaconda/lib/python3.5/site-packages/ipykernel/__main__.py:19: RuntimeWarning: divide by zero encountered in log10\n",
      "/Users/bostroem/anaconda/lib/python3.5/site-packages/ipykernel/__main__.py:19: RuntimeWarning: invalid value encountered in log10\n",
      "/Users/bostroem/anaconda/lib/python3.5/site-packages/ipykernel/__main__.py:20: RuntimeWarning: divide by zero encountered in log10\n",
      "/Users/bostroem/anaconda/lib/python3.5/site-packages/ipykernel/__main__.py:21: RuntimeWarning: divide by zero encountered in log10\n"
     ]
    },
    {
     "data": {
      "image/png": "[encoded data removed]",
      "text/plain": [
       "<Figure size 205.2x396 with 2 Axes>"
      ]
     },
     "metadata": {},
     "output_type": "display_data"
    }
   ],
   "source": [
    "fig = plt.figure()\n",
    "fig.set_figheight(5.5)\n",
    "fig.subplotpars.update(bottom=.09, left=0.22)\n",
    "\n",
    "ax = fig.add_subplot(1,1,1)\n",
    "#ax = fig.add_axes([0.25, 0.3, 0.7, 0.65])\n",
    "#ax_bolo = fig.add_axes([0.25, 0.1, 0.7, 0.2])\n",
    "\n",
    "toffset = -4\n",
    "ax.axhspan(-4, -14.3, hatch='/', facecolor='none', edgecolor='k')\n",
    "ax.axhspan(-4, -14.3, color='white', alpha = 0.7)\n",
    "\n",
    "\n",
    "ax.set_title('Light Curve and SNEC Model')\n",
    "\n",
    "\n",
    "ax_bolo = ax.twinx()\n",
    "lbolo, = ax_bolo.plot(sn15oz_tbdata['phase']+toffset, sn15oz_tbdata['logL'], '.',  label='Observation')\n",
    "ax_bolo.plot(snec_phase, np.log10(snec_color_tbdata['luminosity']), label='Best Color Model with CSM', color='gray', ls='-')\n",
    "ax_bolo.plot(snec_bare_phase, np.log10(snec_bare_bolo_tbdata['luminosity']), label='Best Color Model without CSM', color='gray', ls='--')\n",
    "ax_bolo.plot(snec_bolo_phase, np.log10(snec_bolo_tbdata['luminosity']), label='Best Bolometric Model with CSM', color='gray', ls=':')\n",
    "ax_bolo.legend()\n",
    "\n",
    "ax.plot([], [])\n",
    "li, = ax.plot(sn15oz.phase['i']+toffset, sn15oz.abs_mag['i']-4, '.', label='i-4')\n",
    "ax.plot(best_csm_color_tbdata['time'], best_csm_color_tbdata['i']-4,color=li.get_color())\n",
    "ax.plot(best_bare_color_tbdata['time'], best_bare_color_tbdata['i']-4, ls='--', color=li.get_color())\n",
    "ax.plot(best_csm_bolo_tbdata['time'], best_csm_bolo_tbdata['i']-4, ls=':', color=li.get_color())\n",
    "\n",
    "lr, = ax.plot(sn15oz.phase['r']+toffset, sn15oz.abs_mag['r']-1.2, '.', label='r-1.2')\n",
    "ax.plot(best_csm_color_tbdata['time'], best_csm_color_tbdata['r']-1.2, color=lr.get_color())\n",
    "ax.plot(best_bare_color_tbdata['time'], best_bare_color_tbdata['r']-1.2, ls='--', color=lr.get_color())\n",
    "ax.plot(best_csm_bolo_tbdata['time'], best_csm_bolo_tbdata['r']-1.2, ls=':', color=lr.get_color())\n",
    "\n",
    "lv, = ax.plot(sn15oz.phase['V']+toffset, sn15oz.abs_mag['V'], '.', label='V+0')\n",
    "ax.plot(best_csm_color_tbdata['time'], best_csm_color_tbdata['V'],color=lv.get_color() )\n",
    "ax.plot(best_bare_color_tbdata['time'], best_bare_color_tbdata['V'], ls='--', color=lv.get_color())\n",
    "ax.plot(best_csm_bolo_tbdata['time'], best_csm_bolo_tbdata['V'], ls=':', color=lv.get_color())\n",
    "\n",
    "lg, = ax.plot(sn15oz.phase['g']+toffset, sn15oz.abs_mag['g']+1, '.', label='g+1')\n",
    "ax.plot(best_csm_color_tbdata['time'], best_csm_color_tbdata['g']+1, color=lg.get_color())\n",
    "ax.plot(best_bare_color_tbdata['time'], best_bare_color_tbdata['g']+1, ls='--', color=lg.get_color())\n",
    "ax.plot(best_csm_bolo_tbdata['time'], best_csm_bolo_tbdata['g']+1, ls=':', color=lg.get_color())\n",
    "\n",
    "lb, = ax.plot(sn15oz.phase['B']+toffset, sn15oz.abs_mag['B']+4, '.', alpha=0.75, label='b+4')\n",
    "ax.plot(best_csm_color_tbdata['time'], best_csm_color_tbdata['B']+4, color=lb.get_color(), alpha=0.75)\n",
    "ax.plot(best_bare_color_tbdata['time'], best_bare_color_tbdata['B']+4, ls='--', color=lb.get_color(), alpha=0.75)\n",
    "ax.plot(best_csm_bolo_tbdata['time'], best_csm_bolo_tbdata['B']+4, ls=':', color=lb.get_color(), alpha=0.75)\n",
    "\n",
    "lu, = ax.plot(sn15oz.phase['U']+toffset, sn15oz.abs_mag['U']+5.8, '.', alpha=0.75, label='U+5.8')\n",
    "ax.plot(best_csm_color_tbdata['time'], best_csm_color_tbdata['U']+5.8, color=lu.get_color(),  alpha=0.75)\n",
    "ax.plot(best_bare_color_tbdata['time'], best_bare_color_tbdata['U']+5.8, ls='--', color=lu.get_color(), alpha=0.75)\n",
    "ax.plot(best_csm_bolo_tbdata['time'], best_csm_bolo_tbdata['U']+5.8, ls='--', color=lu.get_color(), alpha=0.75)\n",
    "\n",
    "#ax.barh(-9.80, 85, 1.,5.5, facecolor='w', edgecolor='LightGrey', alpha=0.75) #y, width, height, left\n",
    "#ax.annotate(s='Without CSM (wind)', xy=(12, -10), xytext=(32, -9.9), xycoords='data', \n",
    "#            arrowprops={'arrowstyle':'-',  'linestyle':'--','linewidth':1.5}, fontsize=6.0, \n",
    "#            backgroundcolor='none')\n",
    "#ax.annotate(s='With CSM (wind)', xy=(12, -9.5), xytext=(32, -9.4), xycoords='data', fontsize=6.0, \n",
    "#            arrowprops={'arrowstyle':'-', 'linewidth':1.5}, \n",
    "#            backgroundcolor='none')\n",
    "\n",
    "\n",
    "\n",
    "ax.set_ylim(-7.5, -27)\n",
    "ax.set_yticks(     [-26, -24, -22, -20, -18, -16, -14, -12, -10, -8])\n",
    "ax.set_yticklabels([44, 42, -22, -20, -18, -16, -14, -12, -10, -8])\n",
    "ax.set_xlim(0, 140)\n",
    "ax.set_ylabel('Absolute magnitude + offset', position=(1, 0.4))\n",
    "#plt.grid()\n",
    "handles, labels = ax.get_legend_handles_labels()\n",
    "\n",
    "ax_bolo.set_ylim(25.5, 45)\n",
    "ax_bolo.set_yticks(np.arange(28, 45, 2))\n",
    "#ax_bolo.set_yticks(np.arange(44,2))\n",
    "\n",
    "patch = mpl.patches.Rectangle((0, -22.7), 140, 0.25, color='w', fill=True)\n",
    "ax.add_patch(patch)\n",
    "patch_bolo = mpl.patches.Rectangle((0, 40.45), 140, 0.25, color='w', fill=True)\n",
    "ax_bolo.add_patch(patch_bolo)\n",
    "ax_bolo.axhline(40.75)\n",
    "ax_bolo.axhline(40.5)\n",
    "#ax_bolo.grid()\n",
    "\n",
    "ax_bolo.set_yticklabels([])\n",
    "leg = ax.legend(handles[::4]+[lbolo], labels[::4]+[lbolo.get_label()], ncol=2, loc='lower left')#, bbox_to_anchor=[0.3, -.02, 0.75, 0.2])\n",
    "#ax_bolo.legend([lbolo], [lbolo.get_label()], loc='upper left')\n",
    "ax_bolo.set_ylabel(r'$\\rm Log(L_{bolo})$ (erg $\\rm s^{-1})$', position=(1, 0.92))\n",
    "ax_bolo.yaxis.set_label_position('left')\n",
    "ax_bolo.yaxis.labelpad=25.0\n",
    "ax.set_xlabel('Phase (day)')\n",
    "plt.savefig(os.path.join(FIG_DIR, 'snec_lc_comp.pdf'))"
   ]
  },
  {
   "cell_type": "markdown",
   "metadata": {},
   "source": [
    "# Get best color chisq"
   ]
  },
  {
   "cell_type": "code",
   "execution_count": 33,
   "metadata": {},
   "outputs": [],
   "source": [
    "filters_1 = ['U', 'B', 'V', 'R', 'I']\n",
    "filters_2 = ['V', 'R', 'I']\n",
    "end_uv = 30\n",
    "end_plateau = 150"
   ]
  },
  {
   "cell_type": "code",
   "execution_count": 34,
   "metadata": {},
   "outputs": [
    {
     "name": "stdout",
     "output_type": "stream",
     "text": [
      "Calculating Absolute Magntidue with Extinction\n"
     ]
    }
   ],
   "source": [
    "sn15oz = supernova.LightCurve2('asassn-15oz')\n",
    "sn15oz.get_photometry()\n",
    "sn15oz.get_abs_mag()\n",
    "\n",
    "first_indx = {}\n",
    "second_indx = {}\n",
    "for ifilter in filters_1:\n",
    "    first_indx[ifilter] = sn15oz.phase[ifilter]<end_uv\n",
    "    if (first_indx[ifilter]==False).all():\n",
    "        print('Warning: no data in first phase for filter {}'.format(ifilter))\n",
    "for ifilter in filters_2:\n",
    "    second_indx[ifilter] = (sn15oz.phase[ifilter]>=end_uv) & (sn15oz.phase[ifilter]<=end_plateau)\n",
    "    if (second_indx[ifilter]==False).all():\n",
    "        print('Warning: no data in second phase for filter {}'.format(ifilter))    \n",
    "first_obs_array =  np.hstack([sn15oz.abs_mag[ifilter][first_indx[ifilter]] for ifilter in filters_1])\n",
    "second_obs_array = np.hstack([sn15oz.abs_mag[ifilter][second_indx[ifilter]] for ifilter in filters_2])"
   ]
  },
  {
   "cell_type": "code",
   "execution_count": 35,
   "metadata": {},
   "outputs": [],
   "source": [
    "norm1=None\n",
    "norm2=None\n",
    "norm=None\n",
    "norm = len(first_obs_array.flatten())+len(second_obs_array.flatten())\n",
    "if norm1:\n",
    "    del norm1\n",
    "    del norm2\n",
    "#norm1 = len(filters_1)\n",
    "#norm2 = len(filters2)\n",
    "#if norm:\n",
    "    #del norm"
   ]
  },
  {
   "cell_type": "code",
   "execution_count": 36,
   "metadata": {},
   "outputs": [
    {
     "data": {
      "text/plain": [
       "[<matplotlib.lines.Line2D at 0x1819bdeba8>]"
      ]
     },
     "execution_count": 36,
     "metadata": {},
     "output_type": "execute_result"
    },
    {
     "data": {
      "image/png": "[encoded data removed]",
      "text/plain": [
       "<Figure size 205.2x153.36 with 1 Axes>"
      ]
     },
     "metadata": {},
     "output_type": "display_data"
    }
   ],
   "source": [
    "plt.figure()\n",
    "plt.plot(sn15oz.phase['V'][first_indx['V']], sn15oz.abs_mag['V'][first_indx['V']])\n",
    "plt.plot(sn15oz.phase['V'][second_indx['V']], sn15oz.abs_mag['V'][second_indx['V']])"
   ]
  },
  {
   "cell_type": "code",
   "execution_count": 37,
   "metadata": {},
   "outputs": [],
   "source": [
    "chisq_color = np.zeros((len(ni_mass), len(energies), len(masses), len(time_offsets), len(Kvalues), len(radii)))"
   ]
  },
  {
   "cell_type": "code",
   "execution_count": null,
   "metadata": {},
   "outputs": [],
   "source": [
    "%%time\n",
    "with open('missing_snec_models_color.txt', 'a') as missing_ofile:\n",
    "    with open('chisq_color.csv', 'w') as chisq_ofile:\n",
    "        try:\n",
    "            tbdata = asc.read('chisq_color.csv', names=['ni_mass', 'energy', 'mass', 'time_offset', 'K', 'R', 'chisq'])\n",
    "            last_done = tbdata[-1]\n",
    "        except:\n",
    "            last_done = Table([[0.], [0.], [0.], [0.], [0.], [0.], [0.]], names=['ni_mass', 'energy', 'mass', 'time_offset', 'K', 'R', 'chisq'])\n",
    "        for i, ini_mass in enumerate(ni_mass):\n",
    "            if last_done['ni_mass'] > ini_mass:\n",
    "                continue\n",
    "            for j, jenergy in enumerate(energies):\n",
    "                if last_done['energy'] > jenergy:\n",
    "                    continue\n",
    "                for m, mmass in enumerate(masses):\n",
    "                    if last_done['mass']>mmass:\n",
    "                        continue\n",
    "                    for k, kval in enumerate(Kvalues):\n",
    "                        if last_done['K'] > kval:\n",
    "                            continue\n",
    "                        for r, rradius in enumerate(radii):\n",
    "                            if last_done['R']> rradius:\n",
    "                                continue\n",
    "                            model_dir = os.path.join(snec_models, \n",
    "                                         'Ni_mass_{:1.4f}'.format(ini_mass),\n",
    "                                         'Ni_mixing_{:1.1f}'.format(5.0),\n",
    "                                         'M{:2.1f}'.format(mmass),\n",
    "                                         'E_{:1.3f}'.format(jenergy),\n",
    "                                         'K_{:2.1f}'.format(kval), \n",
    "                                         'R_{}'.format(rradius),\n",
    "                                         'Data')\n",
    "                            if os.path.exists(os.path.join(model_dir, 'magnitudes.dat')):\n",
    "                                model_tbdata = prepare_model_data(model_dir)\n",
    "                                if model_tbdata is None:\n",
    "                                    missing_ofile.write('breakout time is None for {}\\n'.format(model_dir))\n",
    "                                    chisq_color[i,j,m,:,k,r] = np.nan\n",
    "                                else:\n",
    "                                    first_lc = np.hstack([np.interp(sn15oz.phase[ifilter][first_indx[ifilter]], model_tbdata['time'], model_tbdata[ifilter]) for ifilter in filters_1])\n",
    "                                    second_lc = np.hstack([np.interp(sn15oz.phase[ifilter][second_indx[ifilter]], model_tbdata['time'], model_tbdata[ifilter]) for ifilter in filters_2])\n",
    "                                    for t, toff in enumerate(time_offsets):\n",
    "                                        first_chisq = np.sum((first_obs_array - first_lc)**2/first_lc)\n",
    "                                        second_chisq = np.sum((second_obs_array - second_lc)**2/second_lc)\n",
    "                                        if norm1:\n",
    "                                            \n",
    "                                            ichi = first_chisq/norm1 + second_chisq/norm2\n",
    "                                        elif norm:\n",
    "                                            ichi = (first_chisq + second_chisq)/norm\n",
    "                                        else:\n",
    "                                            print('neither norm nor norm1 were defined')\n",
    "                                            break\n",
    "                                        chisq_color[i, j, m, t, k, r] = ichi\n",
    "                                        chisq_ofile.write('{},{},{},{},{},{},{}'.format(ini_mass, jenergy, mmass, kval, rradius, toff, chisq_color[i, j, m, t, k, r]))\n",
    "                            else:\n",
    "                                missing_ofile.write('No file found for {}\\n'.format(model_dir))\n",
    "                                chisq_color[i,j,m,:,k,r] = np.nan\n",
    "                                for toff in time_offsets:\n",
    "                                        chisq_ofile.write('{},{},{},{},{},{},{}'.format(ini_mass, jenergy, mmass, kval, rradius, toff, np.nan))"
   ]
  },
  {
   "cell_type": "code",
   "execution_count": 20,
   "metadata": {},
   "outputs": [
    {
     "name": "stdout",
     "output_type": "stream",
     "text": [
      "best model parameters:\n",
      " mass: 11\n",
      " energy: 0.5 \n",
      " K: 10 \n",
      " R: 1500 \n",
      " t_offset: -4 \n",
      " Ni mass: 0.083\n"
     ]
    }
   ],
   "source": [
    "min_indx_base_mod = np.where(chisq_color == np.nanmin(chisq_color))\n",
    "best_ni_mass_indx = min_indx_base_mod[0][0]\n",
    "best_energy_indx = min_indx_base_mod[1][0]\n",
    "best_mass_indx = min_indx_base_mod[2][0]\n",
    "best_time_indx = min_indx_base_mod[3][0]\n",
    "best_k_indx = min_indx_base_mod[4][0]\n",
    "best_r_indx = min_indx_base_mod[5][0]\n",
    "\n",
    "best_ni_mass = ni_mass[best_ni_mass_indx]\n",
    "best_ni_mix = 5.0\n",
    "best_energy = energies[best_energy_indx]\n",
    "best_mass = masses[best_mass_indx]\n",
    "best_time_offset = time_offsets[best_time_indx]\n",
    "best_Kvalue = Kvalues[best_k_indx]\n",
    "best_radius = radii[best_r_indx]\n",
    "\n",
    "print('best model parameters:\\n mass: {}\\n energy: {} \\n K: {} \\n R: {} \\n t_offset: {} \\n Ni mass: {}'.format(best_mass, best_energy, best_Kvalue, best_radius, best_time_offset, best_ni_mass))"
   ]
  },
  {
   "cell_type": "code",
   "execution_count": 33,
   "metadata": {},
   "outputs": [
    {
     "data": {
      "text/plain": [
       "<matplotlib.colorbar.Colorbar at 0x10d187ac8>"
      ]
     },
     "execution_count": 33,
     "metadata": {},
     "output_type": "execute_result"
    },
    {
     "data": {
      "image/png": "[encoded data removed]",
      "text/plain": [
       "<Figure size 205.2x153.36 with 2 Axes>"
      ]
     },
     "metadata": {},
     "output_type": "display_data"
    }
   ],
   "source": [
    "fig = plt.figure()\n",
    "fig.subplotpars.update(top=0.9)\n",
    "ax = fig.add_subplot(1,1,1)\n",
    "ax.set_title('log(ChiSq for Mass vs Energy)')\n",
    "im = ax.imshow(chisq_color[best_ni_mass_indx,:, :, best_time_indx, best_k_indx, best_r_indx ], interpolation='nearest')\n",
    "ax.set_xlabel('Mass (Msun)')\n",
    "ax.set_ylabel('Energy (x10^51 ergs)')\n",
    "ax.set_xticks(np.arange(len(masses)))\n",
    "ax.set_xticklabels(list(masses))\n",
    "ax.set_yticks(np.arange(len(energies)))\n",
    "ax.set_yticklabels(list(energies))\n",
    "ax.plot(5, 3, 'r*')\n",
    "ax.plot(4, 2, 'w*')\n",
    "fig.colorbar(im)"
   ]
  },
  {
   "cell_type": "markdown",
   "metadata": {},
   "source": [
    "# Compare models"
   ]
  },
  {
   "cell_type": "code",
   "execution_count": 18,
   "metadata": {},
   "outputs": [
    {
     "name": "stdout",
     "output_type": "stream",
     "text": [
      "Calculating Absolute Magntidue with Extinction\n"
     ]
    }
   ],
   "source": [
    "sn15oz = supernova.LightCurve2('asassn-15oz')\n",
    "sn15oz.get_photometry()\n",
    "sn15oz.get_abs_mag()\n",
    "sn15oz_lum = asc.read('../data/bolometric.txt', names=['phase', 'logL'])\n",
    "sn15oz_lum['luminosity'] = 10**sn15oz_lum['logL']"
   ]
  },
  {
   "cell_type": "code",
   "execution_count": 9,
   "metadata": {},
   "outputs": [],
   "source": [
    "#Old best chi-sq color\n",
    "model_dir1 = os.path.join(snec_models, \n",
    "             'Ni_mass_{:1.4f}'.format(0.083),\n",
    "             'Ni_mixing_{:1.1f}'.format(5.0),\n",
    "             'M{:2.1f}'.format(18),\n",
    "             'E_{:1.3f}'.format(1.4),\n",
    "             'K_{:2.1f}'.format(10), \n",
    "             'R_{}'.format(2400),\n",
    "             'Data')\n",
    "toffset1=4\n",
    "tbdata1 = prepare_model_data(model_dir1)"
   ]
  },
  {
   "cell_type": "code",
   "execution_count": 10,
   "metadata": {},
   "outputs": [],
   "source": [
    "#new best chi-sq color\n",
    "model_dir2 = os.path.join(snec_models, \n",
    "             'Ni_mass_{:1.4f}'.format(0.083),\n",
    "             'Ni_mixing_{:1.1f}'.format(5.0),\n",
    "             'M{:2.1f}'.format(17),\n",
    "             'E_{:1.3f}'.format(1.4),\n",
    "             'K_{:2.1f}'.format(40), \n",
    "             'R_{}'.format(1800),\n",
    "             'Data')\n",
    "#Phase +3 --> texpl = texpl-3\n",
    "toffset2=3\n",
    "tbdata2 = prepare_model_data(model_dir2)"
   ]
  },
  {
   "cell_type": "code",
   "execution_count": 17,
   "metadata": {},
   "outputs": [
    {
     "data": {
      "text/plain": [
       "<matplotlib.legend.Legend at 0x1097d49b0>"
      ]
     },
     "execution_count": 17,
     "metadata": {},
     "output_type": "execute_result"
    }
   ],
   "source": [
    "fig = plt.figure()\n",
    "ax = fig.add_subplot(1,1,1)\n",
    "l1, = ax.plot(sn15oz.phase['r']+toffset1, sn15oz.abs_mag['r'], 'o', label='old_data, r')\n",
    "l2, = ax.plot(sn15oz.phase['r']+toffset2, sn15oz.abs_mag['r'], 's', label='new data r')\n",
    "ax.plot(tbdata1['time'], tbdata1['r'], color=l1.get_color(), label='old fit r')\n",
    "ax.plot(tbdata2['time'], tbdata2['r'], color=l2.get_color(), label='new fit r')\n",
    "l1, = ax.plot(sn15oz.phase['i']+toffset1, sn15oz.abs_mag['i']+1, 'o', label='old data i+1')\n",
    "l2, = ax.plot(sn15oz.phase['i']+toffset2, sn15oz.abs_mag['i']+1, 's', label='new data i+1')\n",
    "ax.plot(tbdata1['time'], tbdata1['i']+1, color=l1.get_color(), label='old fit i+1')\n",
    "ax.plot(tbdata2['time'], tbdata2['i']+1, color=l2.get_color(), label = 'new fit i+1')\n",
    "l1, = ax.plot(sn15oz.phase['g']+toffset1, sn15oz.abs_mag['g']+2, 'o', label = 'old data g+2')\n",
    "l2, = ax.plot(sn15oz.phase['g']+toffset2, sn15oz.abs_mag['g']+2, 's', label='new data g+2')\n",
    "ax.plot(tbdata1['time'], tbdata1['g']+2, color=l1.get_color(), label='old fit g+2')\n",
    "ax.plot(tbdata2['time'], tbdata2['g']+2, color=l2.get_color(), label='new fit g+2')\n",
    "ax.invert_yaxis()\n",
    "ax.set_ylim(ymin=-13)\n",
    "ax.set_xlim(xmax=150)\n",
    "ax.legend()"
   ]
  },
  {
   "cell_type": "code",
   "execution_count": 25,
   "metadata": {},
   "outputs": [],
   "source": [
    "#Old luminosity\n",
    "model_dir3 = os.path.join(snec_models, \n",
    "             'Ni_mass_{:1.4f}'.format(0.083),\n",
    "             'Ni_mixing_{:1.1f}'.format(5.0),\n",
    "             'M{:2.1f}'.format(17),\n",
    "             'E_{:1.3f}'.format(1.1),\n",
    "             'K_{:2.1f}'.format(40), \n",
    "             'R_{}'.format(1800),\n",
    "             'Data')\n",
    "toffset3=4\n",
    "tbdata3 = prepare_model_data(model_dir3, type='lum')"
   ]
  },
  {
   "cell_type": "code",
   "execution_count": 26,
   "metadata": {},
   "outputs": [],
   "source": [
    "#New luminosity\n",
    "model_dir4 = os.path.join(snec_models, \n",
    "             'Ni_mass_{:1.4f}'.format(0.11),\n",
    "             'Ni_mixing_{:1.1f}'.format(5.0),\n",
    "             'M{:2.1f}'.format(16),\n",
    "             'E_{:1.3f}'.format(1.1),\n",
    "             'K_{:2.1f}'.format(40), \n",
    "             'R_{}'.format(3000),\n",
    "             'Data')\n",
    "toffset4=-2\n",
    "tbdata4 = prepare_model_data(model_dir4, type='lum')"
   ]
  },
  {
   "cell_type": "code",
   "execution_count": 31,
   "metadata": {},
   "outputs": [
    {
     "data": {
      "text/plain": [
       "(-27.20264568373792, 150)"
      ]
     },
     "execution_count": 31,
     "metadata": {},
     "output_type": "execute_result"
    }
   ],
   "source": [
    "fig = plt.figure()\n",
    "ax = fig.add_subplot(1,1,1)\n",
    "l1, = ax.plot(sn15oz_lum['phase']+toffset3, sn15oz_lum['luminosity'], 'o', label='old_data, Lum')\n",
    "l2, = ax.plot(sn15oz_lum['phase']+toffset4, sn15oz_lum['luminosity'], 's', label='new data Lum')\n",
    "ax.plot(tbdata3['time'], tbdata3['luminosity'], color=l1.get_color(), label='old fit Lum')\n",
    "ax.plot(tbdata4['time'], tbdata4['luminosity'], color=l2.get_color(), label='new fit Lum')\n",
    "ax.set_ylim(0E42, 7E42)\n",
    "ax.set_xlim(xmax=150)"
   ]
  },
  {
   "cell_type": "markdown",
   "metadata": {},
   "source": [
    "# Plot all filters"
   ]
  },
  {
   "cell_type": "code",
   "execution_count": 50,
   "metadata": {},
   "outputs": [
    {
     "data": {
      "text/plain": [
       "(-15, -21)"
      ]
     },
     "execution_count": 50,
     "metadata": {},
     "output_type": "execute_result"
    }
   ],
   "source": [
    "fig = plt.figure()\n",
    "ax = fig.add_subplot(1,1,1)\n",
    "ax.plot(sn15oz.phase['g'], sn15oz.abs_mag['g'], 'o', label='g')\n",
    "ax.plot(sn15oz.phase['V'], sn15oz.abs_mag['V'], 's', label='V')\n",
    "\n",
    "ax.plot(sn15oz.phase['i'], sn15oz.abs_mag['i']+2, 'o', label='i')\n",
    "ax.plot(sn15oz.phase['I'], sn15oz.abs_mag['I']+2, 's', label='I')\n",
    "\n",
    "ax.plot(sn15oz.phase['r'], sn15oz.abs_mag['r']-1, 'o', label='r')\n",
    "ax.plot(sn15oz.phase['R'], sn15oz.abs_mag['R']-1, 's', label='R')\n",
    "\n",
    "ax.invert_yaxis()\n",
    "ax.legend()\n",
    "ax.set_xlim(xmax=90)\n",
    "ax.set_ylim(-15, -21)"
   ]
  },
  {
   "cell_type": "markdown",
   "metadata": {},
   "source": [
    "#### Don't use R and I because there isn't complete data"
   ]
  },
  {
   "cell_type": "markdown",
   "metadata": {},
   "source": [
    "# Compare Best Bolometric Fit and Best color Fit"
   ]
  },
  {
   "cell_type": "markdown",
   "metadata": {},
   "source": [
    "### Color"
   ]
  },
  {
   "cell_type": "code",
   "execution_count": 30,
   "metadata": {},
   "outputs": [
    {
     "name": "stdout",
     "output_type": "stream",
     "text": [
      "Calculating Absolute Magntidue with Extinction\n"
     ]
    }
   ],
   "source": [
    "#Observations\n",
    "sn15oz = supernova.LightCurve2('asassn-15oz')\n",
    "sn15oz.get_photometry()\n",
    "sn15oz.get_abs_mag()\n",
    "\n",
    "photospheric_indx = {}\n",
    "end_plateau=90\n",
    "\n",
    "for ifilter in ['U', 'B', 'g', 'r', 'i']:\n",
    "    photospheric_indx[ifilter]=sn15oz.phase[ifilter]<90"
   ]
  },
  {
   "cell_type": "code",
   "execution_count": 56,
   "metadata": {},
   "outputs": [],
   "source": [
    "#Model\n",
    "toffset_color= 3\n",
    "best_color_dir = os.path.join(snec_models, \n",
    "             'Ni_mass_{:1.4f}'.format(0.083),\n",
    "             'Ni_mixing_{:1.1f}'.format(5.0),\n",
    "             'M{:2.1f}'.format(17),\n",
    "             'E_{:1.3f}'.format(1.4),\n",
    "             'K_{:2.1f}'.format(40), \n",
    "             'R_{}'.format(1800),\n",
    "             'Data')\n",
    "\n",
    "best_color_model_mag = prepare_model_data(best_color_dir)\n",
    "best_color_model_lum = prepare_model_data(best_color_dir, type='lum')\n",
    "model_photo_indx_mag = (best_color_model_mag['time']<end_plateau) & (best_color_model_mag['time'] > 2)\n",
    "model_photo_indx_lum = (best_color_model_lum['time']<end_plateau) & (best_color_model_lum['time'] > 2)"
   ]
  },
  {
   "cell_type": "markdown",
   "metadata": {},
   "source": [
    "### Bolometric Luminosity"
   ]
  },
  {
   "cell_type": "code",
   "execution_count": 82,
   "metadata": {},
   "outputs": [],
   "source": [
    "#sn15oz_bolo = Table.read('../Data/bolometric.txt', names=['time', 'logL'], format='ascii')\n",
    "sn15oz_bolo=Table.read('../Data/asassn-15oz_bolo_BB.txt', names=['time', 'logL'], format='ascii')\n",
    "obs_bolo_photo_indx = sn15oz_bolo['time']< end_plateau"
   ]
  },
  {
   "cell_type": "code",
   "execution_count": 85,
   "metadata": {},
   "outputs": [],
   "source": [
    "#Model\n",
    "toffset_bolo= 2\n",
    "best_bolo_dir = os.path.join(snec_models, \n",
    "             'Ni_mass_{:1.4f}'.format(0.083),\n",
    "             'Ni_mixing_{:1.1f}'.format(5.0),\n",
    "             'M{:2.1f}'.format(21),\n",
    "             'E_{:1.3f}'.format(0.8),\n",
    "             'K_{:2.1f}'.format(30), \n",
    "             'R_{}'.format(2400),\n",
    "             'Data')\n",
    "\n",
    "best_bolo_model_mag = prepare_model_data(best_bolo_dir)\n",
    "best_bolo_model_lum = prepare_model_data(best_bolo_dir, type='lum')\n",
    "model_photo_indx_mag_bolo = (best_bolo_model_mag['time']<end_plateau) & (best_bolo_model_mag['time'] > 2)\n",
    "model_photo_indx_lum_bolo = (best_bolo_model_lum['time']<end_plateau) & (best_bolo_model_lum['time'] > 2)"
   ]
  },
  {
   "cell_type": "code",
   "execution_count": 86,
   "metadata": {},
   "outputs": [],
   "source": [
    "fig = plt.figure()\n",
    "fig.set_figheight(5)\n",
    "fig.subplotpars.update(hspace=0, left=0.22, bottom=0.1)\n",
    "ax_bolo = fig.add_subplot(6,1,1)\n",
    "ax_U = fig.add_subplot(6,1,2, sharex=ax_bolo)\n",
    "ax_B = fig.add_subplot(6,1,3, sharex=ax_bolo)\n",
    "ax_g = fig.add_subplot(6,1,4, sharex=ax_bolo)\n",
    "ax_r = fig.add_subplot(6,1,5, sharex=ax_bolo)\n",
    "ax_i = fig.add_subplot(6,1,6, sharex=ax_bolo)\n",
    "\n",
    "ax_color_list = [ax_U, ax_B, ax_g, ax_r, ax_i]\n",
    "\n",
    "ax_bolo.plot(sn15oz_bolo['time'][obs_bolo_photo_indx]+toffset_bolo, sn15oz_bolo['logL'][obs_bolo_photo_indx], 'o', label='Observations')\n",
    "ax_bolo.plot(best_color_model_lum['time'][model_photo_indx_lum], np.log10(best_color_model_lum['luminosity'][model_photo_indx_lum]), label='Color model')\n",
    "ax_bolo.plot(best_bolo_model_lum['time'][model_photo_indx_lum_bolo], \n",
    "             np.log10(best_bolo_model_lum['luminosity'][model_photo_indx_lum_bolo]), label='Bolometric model')\n",
    "\n",
    "ax_bolo.set_ylabel(r'log(L$_{bolo}$)')\n",
    "ax_bolo.legend()\n",
    "\n",
    "for ifilter, iax in zip(['U', 'B', 'g', 'r', 'i'], ax_color_list):\n",
    "    iax.plot(sn15oz.phase[ifilter][photospheric_indx[ifilter]]+toffset_color, sn15oz.abs_mag[ifilter][photospheric_indx[ifilter]], 'o')\n",
    "    iax.plot(best_color_model_mag['time'][model_photo_indx_mag], best_color_model_mag[ifilter][model_photo_indx_mag], label='Color model')\n",
    "    iax.plot(best_bolo_model_mag['time'][model_photo_indx_mag_bolo], \n",
    "                 best_bolo_model_mag[ifilter][model_photo_indx_mag_bolo], label='Bolometric model')\n",
    "    iax.set_ylabel('{}'.format(ifilter))\n",
    "    iax.invert_yaxis()\n",
    "iax.set_xlabel('Phase (days)')\n",
    "plt.savefig(os.path.join(FIG_DIR, 'chisq_comp_bolo_color.pdf'))"
   ]
  },
  {
   "cell_type": "code",
   "execution_count": null,
   "metadata": {},
   "outputs": [],
   "source": []
  }
 ],
 "metadata": {
  "kernelspec": {
   "display_name": "Python [default]",
   "language": "python",
   "name": "python3"
  },
  "language_info": {
   "codemirror_mode": {
    "name": "ipython",
    "version": 3
   },
   "file_extension": ".py",
   "mimetype": "text/x-python",
   "name": "python",
   "nbconvert_exporter": "python",
   "pygments_lexer": "ipython3",
   "version": "3.5.5"
  }
 },
 "nbformat": 4,
 "nbformat_minor": 2
}
