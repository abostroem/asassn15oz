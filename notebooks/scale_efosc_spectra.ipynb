{
 "cells": [
  {
   "cell_type": "code",
   "execution_count": 1,
   "metadata": {},
   "outputs": [],
   "source": [
    "import os\n",
    "import numpy as np\n",
    "from astropy.io import fits\n",
    "from astropy.time import Time\n",
    "\n",
    "from supernova import LightCurve2\n",
    "import define_filters"
   ]
  },
  {
   "cell_type": "code",
   "execution_count": 2,
   "metadata": {},
   "outputs": [],
   "source": [
    "def get_closest_photometry(date_obs, jd, phot_mag):\n",
    "    date_indx = np.argmin(np.abs(jd - date_obs.jd))\n",
    "    closest_mag = phot_mag[date_indx]\n",
    "    date_sep = (jd - date_obs.jd)[date_indx]\n",
    "    return closest_mag, date_sep"
   ]
  },
  {
   "cell_type": "code",
   "execution_count": 3,
   "metadata": {},
   "outputs": [],
   "source": [
    "def convert_mag_to_flux(phot_mag, ifilter):\n",
    "    bandpar_dict = define_filters.define_filters()\n",
    "    flux = 10**(np.array(phot_mag)/-2.5)*bandpar_dict[ifilter][4]\n",
    "    return flux"
   ]
  },
  {
   "cell_type": "code",
   "execution_count": 4,
   "metadata": {},
   "outputs": [],
   "source": [
    "def get_cenwave(ifilter):\n",
    "    bandpar_dict = define_filters.define_filters()\n",
    "    cenwave = bandpar_dict[ifilter][2]\n",
    "    return cenwave"
   ]
  },
  {
   "cell_type": "code",
   "execution_count": 5,
   "metadata": {},
   "outputs": [],
   "source": [
    "def create_quba_input(fitsfile, ascii_file, ascii_dir, snobj):\n",
    "    '''\n",
    "    fitsfile : str\n",
    "        name of the fits file that will be used to get the observation date from\n",
    "    ascii_file: str\n",
    "        name of the ascii spectrum file that will be used by iraf to calculate the scaled spectrum\n",
    "    ascii_dir: str\n",
    "        path to the ascii_file\n",
    "    snobj: LightCurve2 object\n",
    "        contains spectroscopy of your supernova\n",
    "    '''\n",
    "    date_obs = Time(fits.getval(fitsfile, 'date-obs', 0))\n",
    "    spec_phase = (date_obs-Time(snobj.jdexpl, format='jd')).value\n",
    "    quba_filename = os.path.join(ascii_dir,'quba_input_phot_day{}.ascii'.format(int(spec_phase)))\n",
    "    quba_file = open(quba_filename, 'w')\n",
    "    quba_hdr = '# name'\n",
    "    quba_str = '{}'.format(ascii_file)\n",
    "    quba_hdr = '{}{}'.format(quba_hdr, ' '*(len(quba_str)-len(quba_hdr)))\n",
    "    for ifilter in snobj.jd.keys():\n",
    "        cenwave = get_cenwave(ifilter)\n",
    "        if cenwave > 3500:\n",
    "            mag, date_sep = get_closest_photometry(date_obs, snobj.jd[ifilter], snobj.apparent_mag[ifilter])\n",
    "            if (date_sep < 2) and (len(ifilter)==1):\n",
    "                quba_str = '{}    {}'.format(quba_str, mag)\n",
    "                quba_hdr = '{}    {}      '.format(quba_hdr, ifilter)\n",
    "    quba_file.write('{}\\n'.format(quba_hdr))\n",
    "    quba_file.write(quba_str)\n",
    "    quba_file.close()\n",
    "    print('run from the commandline in iraf27 environment')\n",
    "    print('\\tcd {}'.format(ascii_dir) )\n",
    "    print('\\tqubascalespectra.py {} {}'.format(os.path.basename(quba_filename),\n",
    "                                                '/Users/bostroem/Dropbox/DLT40_all/script/scalespectra/filters/'))"
   ]
  },
  {
   "cell_type": "code",
   "execution_count": 6,
   "metadata": {},
   "outputs": [],
   "source": [
    "sn15oz = LightCurve2('asassn-15oz')\n",
    "sn15oz.get_photometry()"
   ]
  },
  {
   "cell_type": "code",
   "execution_count": 7,
   "metadata": {},
   "outputs": [
    {
     "name": "stdout",
     "output_type": "stream",
     "text": [
      "run from the commandline in iraf27 environment\n",
      "\tcd /Users/bostroem/Desktop/research/asassn15oz/data/spectra/EFOSC/scaled\n",
      "\tqubascalespectra.py quba_input_phot_day227.ascii /Users/bostroem/Dropbox/DLT40_all/script/scalespectra/filters/\n"
     ]
    }
   ],
   "source": [
    "EFOSC_DIR = '../data/spectra/EFOSC/'\n",
    "create_quba_input(os.path.join(EFOSC_DIR, 'tASASSN-15oz_20160410_Gr13_Free_slit1.5_57723_1_e.fits'), \n",
    "                  'tASASSN_15oz_20160410_Gr13_Free_slit1.5_57723_1_e.asci', \n",
    "                  '/Users/bostroem/Desktop/research/asassn15oz/data/spectra/EFOSC/scaled', \n",
    "                 sn15oz)"
   ]
  },
  {
   "cell_type": "code",
   "execution_count": 6,
   "metadata": {},
   "outputs": [
    {
     "data": {
      "text/plain": [
       "'2016-04-11T09:20:13.397'"
      ]
     },
     "execution_count": 6,
     "metadata": {},
     "output_type": "execute_result"
    }
   ],
   "source": [
    "from astropy.io import fits\n",
    "import os\n",
    "fits.getval(os.path.join('/Users/bostroem/Desktop/research/asassn15oz/data/spectra/EFOSC','tASASSN-15oz_20160410_Gr13_Free_slit1.5_57723_1_e.fits'), 'date-obs', 0)"
   ]
  },
  {
   "cell_type": "code",
   "execution_count": null,
   "metadata": {},
   "outputs": [],
   "source": []
  }
 ],
 "metadata": {
  "kernelspec": {
   "display_name": "Python [conda env:iraf27]",
   "language": "python",
   "name": "conda-env-iraf27-py"
  },
  "language_info": {
   "codemirror_mode": {
    "name": "ipython",
    "version": 2
   },
   "file_extension": ".py",
   "mimetype": "text/x-python",
   "name": "python",
   "nbconvert_exporter": "python",
   "pygments_lexer": "ipython2",
   "version": "2.7.15"
  }
 },
 "nbformat": 4,
 "nbformat_minor": 2
}
