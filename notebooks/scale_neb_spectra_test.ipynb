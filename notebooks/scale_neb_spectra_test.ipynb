{
 "cells": [
  {
   "cell_type": "code",
   "execution_count": 2,
   "metadata": {},
   "outputs": [
    {
     "name": "stdout",
     "output_type": "stream",
     "text": [
      "Using matplotlib backend: Qt5Agg\n"
     ]
    }
   ],
   "source": [
    "import os\n",
    "from matplotlib import pyplot as plt\n",
    "%matplotlib\n",
    "\n",
    "from astropy.time import Time\n",
    "from astropy.io import ascii as asc\n",
    "\n",
    "import supernova"
   ]
  },
  {
   "cell_type": "code",
   "execution_count": 3,
   "metadata": {},
   "outputs": [],
   "source": [
    "GMOS_DIR = '../data/spectra/gmos'\n",
    "EFOSC_DIR = '../data/spectra/EFOSC'\n",
    "flist = ['tASASSN-15oz_20160410_Gr13_Free_slit1.5_57723_1_e.fits', \n",
    "         'comb20160610_R400.fits', 'comb20160612_B600.fits',\n",
    "         'tASASSN-15oz_20160802_Gr13_Free_slit1.0_57723_1_e.fits']\n",
    "dates = ['2016-04-10', '2016-06-10', '2016-06-12', '2016-08-02']\n",
    "path_flist = [EFOSC_DIR, GMOS_DIR, GMOS_DIR, EFOSC_DIR]\n",
    "ra = 289.889800 #from SNEX\n",
    "dec = -33.767000 #from SNEX\n",
    "redshift = 0.0069\n",
    "\n",
    "cur_dir = os.getcwd()\n",
    "\n",
    "lightcurve = supernova.LightCurve2('asassn-15oz')\n",
    "lightcurve.get_photometry()"
   ]
  },
  {
   "cell_type": "code",
   "execution_count": 7,
   "metadata": {},
   "outputs": [],
   "source": [
    "fig = plt.figure()\n",
    "ax1 = fig.add_subplot(2,2,1)\n",
    "ax2 = fig.add_subplot(2,2,2)\n",
    "ax3 = fig.add_subplot(2,2,3)\n",
    "ax4 = fig.add_subplot(2,2,4)\n",
    "for date_obs, idir, ifile in zip(dates, path_flist, flist):\n",
    "    spec_phase = (Time(date_obs) - Time(lightcurve.jdexpl, format='jd')).value\n",
    "    band = ''\n",
    "    mphot = []\n",
    "    phot_flux = []\n",
    "    cenwave_list = []\n",
    "    for ifilter in lightcurve.jd.keys():\n",
    "        if len(ifilter) == 1: #avoid swift filters\n",
    "            cenwave = supernova.get_cenwave(ifilter)\n",
    "            if (cenwave > 3500):\n",
    "                mag, date_sep = supernova.get_closest_photometry(Time(date_obs), lightcurve.jd[ifilter], lightcurve.apparent_mag[ifilter])\n",
    "                if (date_sep <= 7):\n",
    "                    band=band+ifilter\n",
    "                    mphot.append(mag)\n",
    "                    phot_flux.append(supernova.convert_mag_to_flux(mag, ifilter))\n",
    "                    cenwave_list.append(cenwave)\n",
    "    filename = '{}_rest_dustcorrsca.dat'.format(ifile.replace('-', '_').split('.')[0])\n",
    "    tbdata = asc.read(os.path.join(idir, filename), names=['wave', 'flux'])\n",
    "    if date_obs == '2016-04-10':\n",
    "        ax = ax1\n",
    "    elif (date_obs == '2016-06-10') or (date_obs == '2016-06-12'):\n",
    "        ax = ax2\n",
    "    else:\n",
    "        ax = ax3\n",
    "    ax.plot(tbdata['wave'], tbdata['flux'])\n",
    "    ax.plot(cenwave_list, phot_flux, 'd')\n",
    "    ax4.plot(tbdata['wave'], tbdata['flux'])\n",
    "    ax.set_ylim(min(tbdata['flux'])*0.9, max(tbdata['flux'])*1.1)"
   ]
  },
  {
   "cell_type": "code",
   "execution_count": null,
   "metadata": {},
   "outputs": [],
   "source": []
  }
 ],
 "metadata": {
  "kernelspec": {
   "display_name": "Python [default]",
   "language": "python",
   "name": "python3"
  },
  "language_info": {
   "codemirror_mode": {
    "name": "ipython",
    "version": 3
   },
   "file_extension": ".py",
   "mimetype": "text/x-python",
   "name": "python",
   "nbconvert_exporter": "python",
   "pygments_lexer": "ipython3",
   "version": "3.5.5"
  }
 },
 "nbformat": 4,
 "nbformat_minor": 2
}
