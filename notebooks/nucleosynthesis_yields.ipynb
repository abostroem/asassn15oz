{
 "cells": [
  {
   "cell_type": "markdown",
   "metadata": {},
   "source": [
    "Table from Jerkstrand 2015 A&A 573 A12"
   ]
  },
  {
   "cell_type": "code",
   "execution_count": 9,
   "metadata": {},
   "outputs": [
    {
     "name": "stdout",
     "output_type": "stream",
     "text": [
      "Using matplotlib backend: Qt5Agg\n"
     ]
    }
   ],
   "source": [
    "from astropy.table import Table\n",
    "from matplotlib import pyplot as plt\n",
    "%matplotlib\n",
    "from visualization import make_color_wheel"
   ]
  },
  {
   "cell_type": "code",
   "execution_count": 3,
   "metadata": {},
   "outputs": [],
   "source": [
    "MZAMS = [12, 13 , 14  , 15  , 16  , 17 , 18 ] \n",
    "Mtotal = [1.7, 2.1, 2.4, 2.5, 2.8, 3.5, 3.7] \n",
    "MH = [0.054, 0.054, 0.054, 0.054, 0.054, 0.054, 0.054] \n",
    "MHe = [1.0, 1.1, 1.2, 1.2, 1.2, 1.2, 1.3] \n",
    "MC = [0.080, 0.10 , 0.12 , 0.15 , 0.17 , 0.20 , 0.18 ] \n",
    "MN = [7.9E-3, 8.1E-3, 8.6E-3, 6.7E-3, 5.5E-3, 4.1E-3, 5.9E-3]\n",
    "MO = [0.30, 0.52, 0.67, 0.78, 0.88, 1.3 , 1.6 ]\n",
    "MNa = [8.2E-4 , 5.5E-4 , 7.8E-4 , 2.1E-3 , 3.8E-3 , 6.4E-3 , 1.6E-3]\n",
    "MMg = [0.020, 0.044, 0.050, 0.045, 0.045, 0.074, 0.14 ]\n",
    "MSi = [0.043, 0.062, 0.062, 0.065, 0.038, 0.16 , 0.10 ]\n",
    "MS = [0.026, 0.033, 0.032, 0.035, 0.020, 0.13 , 0.034]\n",
    "MCa = [3.0E-3, 3.3E-3, 3.4E-3, 3.8E-3, 2.5E-3, 0.011 , 3.6E-3]\n",
    "M56Ni = [0.075, 0.075, 0.075, 0.075, 0.075, 0.075, 0.075]\n",
    "Mothers = [0.070, 0.082, 0.11, 0.14, 0.18, 0.32, 0.21]"
   ]
  },
  {
   "cell_type": "code",
   "execution_count": 6,
   "metadata": {},
   "outputs": [],
   "source": [
    "tbdata = Table([MZAMS, Mtotal, MH, MHe, MC, MN, MO, MNa, MMg, MSi, MS, MCa, M56Ni, Mothers],\n",
    "              names=['MZAMS', 'Mtotal', 'MH', 'MHe', 'MC', 'MN', 'MO', 'MNa', 'MMg', 'MSi', 'MS', 'MCa', 'M56Ni', 'Mothers'])"
   ]
  },
  {
   "cell_type": "code",
   "execution_count": 16,
   "metadata": {},
   "outputs": [
    {
     "data": {
      "text/plain": [
       "<matplotlib.legend.Legend at 0x152134ee80>"
      ]
     },
     "execution_count": 16,
     "metadata": {},
     "output_type": "execute_result"
    }
   ],
   "source": [
    "colors = make_color_wheel(tbdata.colnames, cmap='rainbow')\n",
    "for c, icol in zip(colors, tbdata.colnames[1:]):\n",
    "    #plt.semilogy(tbdata['MZAMS'], tbdata[icol], 'o-', label=icol, color=c)\n",
    "    plt.plot(tbdata['MZAMS'], tbdata[icol], 'o-', label=icol, color=c)\n",
    "plt.legend(loc = 'upper left')"
   ]
  },
  {
   "cell_type": "code",
   "execution_count": null,
   "metadata": {},
   "outputs": [],
   "source": []
  }
 ],
 "metadata": {
  "kernelspec": {
   "display_name": "Python [default]",
   "language": "python",
   "name": "python3"
  },
  "language_info": {
   "codemirror_mode": {
    "name": "ipython",
    "version": 3
   },
   "file_extension": ".py",
   "mimetype": "text/x-python",
   "name": "python",
   "nbconvert_exporter": "python",
   "pygments_lexer": "ipython3",
   "version": "3.5.5"
  }
 },
 "nbformat": 4,
 "nbformat_minor": 2
}
