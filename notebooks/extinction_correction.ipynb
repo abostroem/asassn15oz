{
 "cells": [
  {
   "cell_type": "code",
   "execution_count": 2,
   "metadata": {},
   "outputs": [
    {
     "name": "stdout",
     "output_type": "stream",
     "text": [
      "Using matplotlib backend: Qt5Agg\n"
     ]
    }
   ],
   "source": [
    "import os\n",
    "from astropy.io import fits\n",
    "from astropy.io import ascii as asc\n",
    "from astropy.table import Table\n",
    "import numpy as np\n",
    "\n",
    "from matplotlib import pyplot as plt\n",
    "%matplotlib\n",
    "from utilities_az import spectroscopy as spec"
   ]
  },
  {
   "cell_type": "markdown",
   "metadata": {},
   "source": [
    "### TODO: Should I be applying the dust correction, then deredshifting?"
   ]
  },
  {
   "cell_type": "code",
   "execution_count": 3,
   "metadata": {},
   "outputs": [],
   "source": [
    "def read_iraf_spectrum(filename):\n",
    "    ofile = fits.open(filename)\n",
    "    flux = ofile[0].data[0,0,:]\n",
    "    wave = spec.calc_wavelength(ofile[0].header, np.arange(len(flux))+1)\n",
    "    rest_wave = spec.apply_redshift(wave, 0.0069)\n",
    "    return(spec.spectrum1d(rest_wave, flux))"
   ]
  },
  {
   "cell_type": "code",
   "execution_count": 4,
   "metadata": {},
   "outputs": [],
   "source": [
    "DATA_DIR_LCO = '../data/spectra/lco'\n",
    "DATA_DIR_EFOSC = '../data/spectra/EFOSC'"
   ]
  },
  {
   "cell_type": "code",
   "execution_count": 5,
   "metadata": {},
   "outputs": [],
   "source": [
    "spectra_files = [\n",
    "         ('asassn15oz_20150904_redblu_122216.314.fits', DATA_DIR_LCO),\n",
    "         ('asassn-15oz_20150906_redblu_105042.698a.fits', DATA_DIR_LCO),\n",
    "         ('asassn15oz_20150907_redblu_123835.277.fits', DATA_DIR_LCO),\n",
    "         ('asassn15oz_20150911_redblu_105336.349.fits', DATA_DIR_LCO),\n",
    "         ('asassn15oz_20150916_redblu_120911.274.fits', DATA_DIR_LCO),\n",
    "         ('asassn-15oz_20150920_redblu_135034.512.fits',DATA_DIR_LCO),\n",
    "         ('asassn-15oz_20150924_redblu_123847.580.fits',DATA_DIR_LCO),\n",
    "         ('asassn-15oz_20150930_redblu_122858.217.fits',DATA_DIR_LCO),\n",
    "         ('tASASSN-15oz_20151003_Gr13_Free_slit1.0_57720_1_e.fits',DATA_DIR_EFOSC),\n",
    "         ('asassn15oz_20151006_redblu_101906.800.fits', DATA_DIR_LCO),\n",
    "         ('asassn15oz_20151014_redblu_112918.305.fits', DATA_DIR_LCO),\n",
    "         ('asassn-15oz_20151025_redblu_102221.833.fits', DATA_DIR_LCO),\n",
    "         ('asassn-15oz_20151107_redblu_101210.833.fits', DATA_DIR_LCO),\n",
    "         ('tASAS-SN_15oz_20151107_Gr13_Free_slit1.5_57723_1_e.fits', DATA_DIR_EFOSC),\n",
    "         ('tASAS-SN_15oz_20151118_Gr13_Free_slit1.0_57723_1_e.fits', DATA_DIR_EFOSC)\n",
    "                ]"
   ]
  },
  {
   "cell_type": "code",
   "execution_count": 6,
   "metadata": {},
   "outputs": [],
   "source": [
    "E_BV = 0.0804878 #From SNDAVIS"
   ]
  },
  {
   "cell_type": "code",
   "execution_count": 7,
   "metadata": {},
   "outputs": [],
   "source": [
    "for ifile, idir in spectra_files:\n",
    "    filename = os.path.join(idir, ifile)\n",
    "    spectrum = read_iraf_spectrum(filename)\n",
    "    dereddened_spec = spec.correct_for_galactic_extinction(spectrum, E_BV)\n",
    "    tbdata = Table([dereddened_spec.wave, dereddened_spec.flux], names = ['rest_wavelength', 'dust_corr_flux'], meta={'Notes':'Rest wavelengths and dust corrected flux'})\n",
    "    tbdata.write(filename.replace('.fits', '_dust_corr.asc'), format='ascii.commented_header', delimiter='\\t', overwrite=True)"
   ]
  },
  {
   "cell_type": "code",
   "execution_count": 8,
   "metadata": {},
   "outputs": [
    {
     "data": {
      "text/plain": [
       "<matplotlib.legend.Legend at 0x18216f44e0>"
      ]
     },
     "execution_count": 8,
     "metadata": {},
     "output_type": "execute_result"
    }
   ],
   "source": [
    "plt.plot(spectrum.wave, spectrum.flux, label='original')\n",
    "plt.plot(dereddened_spec.wave, dereddened_spec.flux, label='dereddened')\n",
    "plt.legend()"
   ]
  },
  {
   "cell_type": "code",
   "execution_count": 8,
   "metadata": {},
   "outputs": [],
   "source": [
    "import extinction"
   ]
  },
  {
   "cell_type": "code",
   "execution_count": 9,
   "metadata": {},
   "outputs": [],
   "source": [
    "extinction.apply?"
   ]
  },
  {
   "cell_type": "code",
   "execution_count": null,
   "metadata": {},
   "outputs": [],
   "source": []
  }
 ],
 "metadata": {
  "kernelspec": {
   "display_name": "Python [default]",
   "language": "python",
   "name": "python3"
  },
  "language_info": {
   "codemirror_mode": {
    "name": "ipython",
    "version": 3
   },
   "file_extension": ".py",
   "mimetype": "text/x-python",
   "name": "python",
   "nbconvert_exporter": "python",
   "pygments_lexer": "ipython3",
   "version": "3.5.5"
  }
 },
 "nbformat": 4,
 "nbformat_minor": 2
}
