{
 "cells": [
  {
   "cell_type": "code",
   "execution_count": 170,
   "metadata": {
    "collapsed": false
   },
   "outputs": [
    {
     "name": "stdout",
     "output_type": "stream",
     "text": [
      "Using matplotlib backend: Qt5Agg\n"
     ]
    }
   ],
   "source": [
    "from astropy.io import ascii as asc\n",
    "import astropy.units as u\n",
    "from matplotlib import pyplot as plt\n",
    "from supernova import LightCurve2\n",
    "import glob\n",
    "import os\n",
    "import sys\n",
    "import numpy as np\n",
    "import visualization as vis\n",
    "%matplotlib"
   ]
  },
  {
   "cell_type": "code",
   "execution_count": 124,
   "metadata": {
    "collapsed": true
   },
   "outputs": [],
   "source": [
    "sys.path.append('/Users/bostroem/Desktop/research/not_my_code/SNEC-1.01/')\n",
    "import chisq_analysis"
   ]
  },
  {
   "cell_type": "code",
   "execution_count": 186,
   "metadata": {
    "collapsed": false
   },
   "outputs": [
    {
     "data": {
      "text/plain": [
       "<matplotlib.text.Text at 0x11bed4a20>"
      ]
     },
     "execution_count": 186,
     "metadata": {},
     "output_type": "execute_result"
    }
   ],
   "source": [
    "band = 'g'\n",
    "offset=0\n",
    "plt.figure()\n",
    "plt.title(band)"
   ]
  },
  {
   "cell_type": "markdown",
   "metadata": {},
   "source": [
    "# Get Photometry"
   ]
  },
  {
   "cell_type": "code",
   "execution_count": 184,
   "metadata": {
    "collapsed": true
   },
   "outputs": [],
   "source": [
    "sn15oz = LightCurve2('asassn15oz')\n",
    "sn15oz.get_photometry()\n",
    "sn15oz.get_abs_mag()"
   ]
  },
  {
   "cell_type": "code",
   "execution_count": 187,
   "metadata": {
    "collapsed": false
   },
   "outputs": [
    {
     "data": {
      "text/plain": [
       "(0, 100)"
      ]
     },
     "execution_count": 187,
     "metadata": {},
     "output_type": "execute_result"
    }
   ],
   "source": [
    "plt.plot(sn15oz.phase[band]+offset, sn15oz.abs_mag[band], 'o')\n",
    "plt.ylim(-16.5, -18.5)\n",
    "plt.xlim(0, 100)"
   ]
  },
  {
   "cell_type": "markdown",
   "metadata": {},
   "source": [
    "# Look at Models"
   ]
  },
  {
   "cell_type": "code",
   "execution_count": 128,
   "metadata": {
    "collapsed": true
   },
   "outputs": [],
   "source": [
    "ni_mass = [0.083, 0.0965, 0.11]\n",
    "energies = [0.5, 0.8, 1.1, 1.4, 1.7, 2.0]\n",
    "masses = [11, 13, 15, 16, 17, 18, 21]\n",
    "ni_mixing = [5.0]\n",
    "time_offsets = np.arange(-4, 4, 1)\n",
    "Kvalues = [10, 20, 30, 35, 40, 50, 60]\n",
    "radii = [1500, 1800, 2100, 2400, 2700, 3000, 3300]\n",
    "\n",
    "snec_models = '/Users/bostroem/Desktop/research/snec_models/'\n",
    "snname = 'asassn15oz'\n",
    "S2_start = 50\n",
    "S2_end = 88  #Vary this parameter\n",
    "snec_15oz = chisq_analysis.SnecAnalysis(snname, snec_models, S2_start, S2_end, \n",
    "                 ni_mass, ni_mixing, masses, energies, time_offsets, \n",
    "                 Kvalues, radii, fig_dir='../figures')"
   ]
  },
  {
   "cell_type": "markdown",
   "metadata": {},
   "source": [
    "### Best chi sq (M=18, E=1.1, K=10, R=3000)"
   ]
  },
  {
   "cell_type": "code",
   "execution_count": 129,
   "metadata": {
    "collapsed": false
   },
   "outputs": [],
   "source": [
    "best_model_dir = os.path.join(snec_models, \n",
    "                                 'Ni_mass_{:1.4f}'.format(0.083),\n",
    "                                 'Ni_mixing_{:1.1f}'.format(5.0),\n",
    "                                 'M{:2.1f}'.format(18.0),\n",
    "                                 'E_{:1.3f}'.format(1.1),\n",
    "                                 'K_{:2.1f}'.format(10.0), \n",
    "                                 'R_{}'.format(3000),\n",
    "                                 'Data')\n",
    "best_model_data = snec_15oz.prepare_model_data(best_model_dir)"
   ]
  },
  {
   "cell_type": "code",
   "execution_count": 130,
   "metadata": {
    "collapsed": false
   },
   "outputs": [
    {
     "data": {
      "text/plain": [
       "[<matplotlib.lines.Line2D at 0x11b732400>]"
      ]
     },
     "execution_count": 130,
     "metadata": {},
     "output_type": "execute_result"
    }
   ],
   "source": [
    "plt.plot(best_model_data['time'], best_model_data['r'], label='best chisq (18,1.1,10, 3000)')"
   ]
  },
  {
   "cell_type": "markdown",
   "metadata": {},
   "source": [
    "### Smaller R"
   ]
  },
  {
   "cell_type": "code",
   "execution_count": 131,
   "metadata": {
    "collapsed": false
   },
   "outputs": [],
   "source": [
    "small_r_model_dir = os.path.join(snec_models, \n",
    "                                 'Ni_mass_{:1.4f}'.format(0.083),\n",
    "                                 'Ni_mixing_{:1.1f}'.format(5.0),\n",
    "                                 'M{:2.1f}'.format(18.0),\n",
    "                                 'E_{:1.3f}'.format(1.1),\n",
    "                                 'K_{:2.1f}'.format(10.0), \n",
    "                                 'R_{}'.format(1800),\n",
    "                                 'Data')\n",
    "small_r_model_data = snec_15oz.prepare_model_data(small_r_model_dir)"
   ]
  },
  {
   "cell_type": "code",
   "execution_count": 132,
   "metadata": {
    "collapsed": false
   },
   "outputs": [
    {
     "data": {
      "text/plain": [
       "[<matplotlib.lines.Line2D at 0x11b8c9860>]"
      ]
     },
     "execution_count": 132,
     "metadata": {},
     "output_type": "execute_result"
    }
   ],
   "source": [
    "plt.plot(small_r_model_data['time'], small_r_model_data['r'], label='smaller r (1800)')"
   ]
  },
  {
   "cell_type": "markdown",
   "metadata": {},
   "source": [
    "### Larger K"
   ]
  },
  {
   "cell_type": "code",
   "execution_count": 133,
   "metadata": {
    "collapsed": false
   },
   "outputs": [],
   "source": [
    "large_k_model_dir = os.path.join(snec_models, \n",
    "                                 'Ni_mass_{:1.4f}'.format(0.083),\n",
    "                                 'Ni_mixing_{:1.1f}'.format(5.0),\n",
    "                                 'M{:2.1f}'.format(18.0),\n",
    "                                 'E_{:1.3f}'.format(1.1),\n",
    "                                 'K_{:2.1f}'.format(30.0), \n",
    "                                 'R_{}'.format(3000),\n",
    "                                 'Data')\n",
    "large_k_model_data = snec_15oz.prepare_model_data(large_k_model_dir)"
   ]
  },
  {
   "cell_type": "code",
   "execution_count": 134,
   "metadata": {
    "collapsed": false
   },
   "outputs": [
    {
     "data": {
      "text/plain": [
       "[<matplotlib.lines.Line2D at 0x143793898>]"
      ]
     },
     "execution_count": 134,
     "metadata": {},
     "output_type": "execute_result"
    }
   ],
   "source": [
    "plt.plot(large_k_model_data['time'], large_k_model_data['r'], label='larger k (30)')"
   ]
  },
  {
   "cell_type": "markdown",
   "metadata": {},
   "source": [
    "### Larger Ni"
   ]
  },
  {
   "cell_type": "code",
   "execution_count": 135,
   "metadata": {
    "collapsed": true
   },
   "outputs": [],
   "source": [
    "large_ni_model_dir = os.path.join(snec_models, \n",
    "                                 'Ni_mass_{:1.4f}'.format(0.11),\n",
    "                                 'Ni_mixing_{:1.1f}'.format(5.0),\n",
    "                                 'M{:2.1f}'.format(18.0),\n",
    "                                 'E_{:1.3f}'.format(1.1),\n",
    "                                 'K_{:2.1f}'.format(10.0), \n",
    "                                 'R_{}'.format(3000),\n",
    "                                 'Data')\n",
    "large_ni_model_data = snec_15oz.prepare_model_data(large_ni_model_dir)"
   ]
  },
  {
   "cell_type": "code",
   "execution_count": 136,
   "metadata": {
    "collapsed": false
   },
   "outputs": [
    {
     "data": {
      "text/plain": [
       "[<matplotlib.lines.Line2D at 0x11b729748>]"
      ]
     },
     "execution_count": 136,
     "metadata": {},
     "output_type": "execute_result"
    }
   ],
   "source": [
    "plt.plot(large_ni_model_data['time'], large_ni_model_data['r'], label='larger Ni (0.11)')"
   ]
  },
  {
   "cell_type": "code",
   "execution_count": 137,
   "metadata": {
    "collapsed": false
   },
   "outputs": [
    {
     "data": {
      "text/plain": [
       "<matplotlib.legend.Legend at 0x12b960630>"
      ]
     },
     "execution_count": 137,
     "metadata": {},
     "output_type": "execute_result"
    }
   ],
   "source": [
    "plt.legend()"
   ]
  },
  {
   "cell_type": "markdown",
   "metadata": {},
   "source": [
    "##### Nickel only seems to make a difference around the end of plateau and later"
   ]
  },
  {
   "cell_type": "markdown",
   "metadata": {},
   "source": [
    "# Check Chisq Calculation"
   ]
  },
  {
   "cell_type": "code",
   "execution_count": 27,
   "metadata": {
    "collapsed": false
   },
   "outputs": [],
   "source": [
    "S2_indx = np.where(sn15oz.phase[band]+offset <= S2_end)"
   ]
  },
  {
   "cell_type": "code",
   "execution_count": 53,
   "metadata": {
    "collapsed": false
   },
   "outputs": [
    {
     "name": "stdout",
     "output_type": "stream",
     "text": [
      "890.975867199\n"
     ]
    }
   ],
   "source": [
    "interp_best_mod = np.interp(sn15oz.phase[band][S2_indx]+offset, best_model_data['time'], best_model_data[band])\n",
    "best_chisq = np.sum(((sn15oz.abs_mag[band][S2_indx]-interp_best_mod)/sn15oz.abs_mag_err[band][S2_indx])**2)\n",
    "print(best_chisq)"
   ]
  },
  {
   "cell_type": "code",
   "execution_count": 54,
   "metadata": {
    "collapsed": false
   },
   "outputs": [
    {
     "name": "stdout",
     "output_type": "stream",
     "text": [
      "11510.3777809\n"
     ]
    }
   ],
   "source": [
    "interp_small_r_mod = np.interp(sn15oz.phase[band][S2_indx]+offset, small_r_model_data['time'], small_r_model_data[band])\n",
    "small_r_chisq = np.sum(((sn15oz.abs_mag[band][S2_indx]-interp_small_r_mod)/sn15oz.abs_mag_err[band][S2_indx])**2)\n",
    "print(small_r_chisq)"
   ]
  },
  {
   "cell_type": "code",
   "execution_count": 55,
   "metadata": {
    "collapsed": false
   },
   "outputs": [
    {
     "name": "stdout",
     "output_type": "stream",
     "text": [
      "3565.13750216\n"
     ]
    }
   ],
   "source": [
    "interp_large_k_mod = np.interp(sn15oz.phase[band][S2_indx]+offset, large_k_model_data['time'], large_k_model_data[band])\n",
    "large_k_chisq = np.sum(((sn15oz.abs_mag[band][S2_indx]-interp_large_k_mod)/sn15oz.abs_mag_err[band][S2_indx])**2)\n",
    "print(large_k_chisq)"
   ]
  },
  {
   "cell_type": "code",
   "execution_count": 56,
   "metadata": {
    "collapsed": false
   },
   "outputs": [
    {
     "name": "stdout",
     "output_type": "stream",
     "text": [
      "890.575121009\n"
     ]
    }
   ],
   "source": [
    "interp_large_ni_mod = np.interp(sn15oz.phase[band][S2_indx]+offset, large_ni_model_data['time'], large_ni_model_data[band])\n",
    "large_ni_chisq = np.sum(((sn15oz.abs_mag[band][S2_indx]-interp_large_ni_mod)/sn15oz.abs_mag_err[band][S2_indx])**2)\n",
    "print(large_ni_chisq)"
   ]
  },
  {
   "cell_type": "markdown",
   "metadata": {},
   "source": [
    "* chisq is currently not weighted by the number of photometry points \n",
    "* this is good because if there are more points to fit, we get a better evaluation of the fit\n",
    "* this is bad because fewer points mean a smaller chisq\n",
    "* while each band is treated the same model by model, this weights the bands with the least points more in choosing a best fit\n",
    "* consider a reduced chisq"
   ]
  },
  {
   "cell_type": "code",
   "execution_count": 61,
   "metadata": {
    "collapsed": false
   },
   "outputs": [
    {
     "name": "stdout",
     "output_type": "stream",
     "text": [
      "R 50\n",
      "i 82\n",
      "r 93\n",
      "V 155\n",
      "g 94\n",
      "I 35\n"
     ]
    }
   ],
   "source": [
    "for ifilter in sn15oz.jd.keys():\n",
    "    if (ifilter in best_model_data.colnames) and (ifilter not in ['B', 'U']):\n",
    "        print(ifilter, len(sn15oz.jd[ifilter]))"
   ]
  },
  {
   "cell_type": "code",
   "execution_count": 69,
   "metadata": {
    "collapsed": false
   },
   "outputs": [],
   "source": [
    "plt.figure()\n",
    "plt.plot(sn15oz.phase['B']-1, sn15oz.abs_mag['B']-1.5, 'o', label='B-1')\n",
    "plt.plot(sn15oz.phase['V']-1, sn15oz.abs_mag['V'], 'o', label='V')\n",
    "plt.plot(sn15oz.phase['i']-1, sn15oz.abs_mag['i']+1, 'o', label='i+1')\n",
    "plt.ylim(-16, -19.55)\n",
    "plt.xlabel('Phase (days)')\n",
    "plt.ylabel('Absolute Magnitude + offset')\n",
    "plt.xlim(0,100)\n",
    "plt.title('ASASSN15oz Light Curve')\n",
    "plt.legend(loc='best')\n",
    "plt.savefig('../figures/lightcurve.pdf')\n"
   ]
  },
  {
   "cell_type": "markdown",
   "metadata": {},
   "source": [
    "# Check Photometry"
   ]
  },
  {
   "cell_type": "code",
   "execution_count": 75,
   "metadata": {
    "collapsed": true
   },
   "outputs": [],
   "source": [
    "app_mag_v = sn15oz.apparent_mag['V']\n",
    "app_mag_b = sn15oz.apparent_mag['B']\n",
    "gal_ext = sn15oz.ebv_mw\n",
    "dist_mod = sn15oz.dist_mod\n",
    "R_v = 3.1\n",
    "R_b = 4.1"
   ]
  },
  {
   "cell_type": "markdown",
   "metadata": {},
   "source": [
    "$\\mu = m-M=5log(d)-5$  \n",
    "$m = 5log(d)-5+M+A$ where A is extinction  \n",
    "$m-M =\\mu+A$  \n",
    "$M = m-\\mu-A$  \n",
    "$A_{\\lambda} = R_{\\lambda}*E(B-V)$  \n",
    "$M = m-\\mu- R_{\\lambda}*E(B-V)$"
   ]
  },
  {
   "cell_type": "code",
   "execution_count": 76,
   "metadata": {
    "collapsed": false
   },
   "outputs": [],
   "source": [
    "abs_mag_v = app_mag_v - dist_mod - R_v*gal_ext\n",
    "abs_mag_b = app_mag_b - dist_mod - R_b*gal_ext"
   ]
  },
  {
   "cell_type": "code",
   "execution_count": 77,
   "metadata": {
    "collapsed": false
   },
   "outputs": [
    {
     "data": {
      "text/plain": [
       "[<matplotlib.lines.Line2D at 0x11bc6e630>]"
      ]
     },
     "execution_count": 77,
     "metadata": {},
     "output_type": "execute_result"
    }
   ],
   "source": [
    "plt.figure()\n",
    "plt.plot(sn15oz.jd['V'], abs_mag_v, 'o')\n",
    "plt.plot(sn15oz.jd['V'], sn15oz.abs_mag['V'], 's')"
   ]
  },
  {
   "cell_type": "code",
   "execution_count": 78,
   "metadata": {
    "collapsed": false
   },
   "outputs": [
    {
     "data": {
      "text/plain": [
       "[<matplotlib.lines.Line2D at 0x11b69bf98>]"
      ]
     },
     "execution_count": 78,
     "metadata": {},
     "output_type": "execute_result"
    }
   ],
   "source": [
    "plt.figure()\n",
    "plt.plot(sn15oz.jd['B'], abs_mag_b, 'o')\n",
    "plt.plot(sn15oz.jd['B'], sn15oz.abs_mag['B'], 's')"
   ]
  },
  {
   "cell_type": "markdown",
   "metadata": {},
   "source": [
    "# Check Abs Mag Error"
   ]
  },
  {
   "cell_type": "code",
   "execution_count": 96,
   "metadata": {
    "collapsed": false
   },
   "outputs": [
    {
     "data": {
      "text/plain": [
       "<Container object of 3 artists>"
      ]
     },
     "execution_count": 96,
     "metadata": {},
     "output_type": "execute_result"
    }
   ],
   "source": [
    "plt.figure()\n",
    "plt.errorbar(sn15oz.phase['V'], sn15oz.apparent_mag['V'], sn15oz.apparent_mag_err['V'],ls='none')\n",
    "plt.figure()\n",
    "plt.errorbar(sn15oz.phase['V'], sn15oz.abs_mag['V'], sn15oz.abs_mag_err['V'],ls='none')"
   ]
  },
  {
   "cell_type": "code",
   "execution_count": null,
   "metadata": {
    "collapsed": true
   },
   "outputs": [],
   "source": []
  },
  {
   "cell_type": "markdown",
   "metadata": {},
   "source": [
    "# Compare to Paper Models"
   ]
  },
  {
   "cell_type": "markdown",
   "metadata": {},
   "source": [
    "## 2013ej"
   ]
  },
  {
   "cell_type": "code",
   "execution_count": 228,
   "metadata": {
    "collapsed": false
   },
   "outputs": [],
   "source": [
    "ni_mass = [0.083]\n",
    "energies = [0.5, 0.8]\n",
    "masses = [13, 21]\n",
    "ni_mixing = [5.0]\n",
    "time_offsets = np.arange(-4, 4, 1)\n",
    "Kvalues = [10]\n",
    "radii = [1800]\n",
    "\n",
    "snec_models = '/Users/bostroem/Desktop/research/snec_models'\n",
    "snname = '2013ej'\n",
    "S2_start = 43.3\n",
    "S2_end = 98.8  \n",
    "\n",
    "\n",
    "sn13ej = LightCurve2(snname)\n",
    "sn13ej.get_photometry()\n",
    "sn13ej.get_abs_mag()\n",
    "   \n",
    " \n",
    "snec_13ej = chisq_analysis.SnecAnalysis(snname, snec_models, S2_start, S2_end, \n",
    "                 ni_mass, ni_mixing, masses, energies, time_offsets, \n",
    "                 Kvalues, radii, fig_dir='/Users/bostroem/Desktop')"
   ]
  },
  {
   "cell_type": "code",
   "execution_count": 229,
   "metadata": {
    "collapsed": true
   },
   "outputs": [],
   "source": [
    "model_dir1 = os.path.join(snec_models, \n",
    "                                 'Ni_mass_{:1.4f}'.format(0.083),\n",
    "                                 'Ni_mixing_{:1.1f}'.format(5.0),\n",
    "                                 'M{:2.1f}'.format(13.0),\n",
    "                                 'E_{:1.3f}'.format(0.500),\n",
    "                                 'K_{:2.1f}'.format(10.0), \n",
    "                                 'R_{}'.format(1800),\n",
    "                                 'Data')\n",
    "model_data1 = snec_15oz.prepare_model_data(model_dir1)"
   ]
  },
  {
   "cell_type": "code",
   "execution_count": 230,
   "metadata": {
    "collapsed": false
   },
   "outputs": [],
   "source": [
    "model_dir2 = os.path.join(snec_models, \n",
    "                                 'Ni_mass_{:1.4f}'.format(0.083),\n",
    "                                 'Ni_mixing_{:1.1f}'.format(5.0),\n",
    "                                 'M{:2.1f}'.format(13.0),\n",
    "                                 'E_{:1.3f}'.format(0.800),\n",
    "                                 'K_{:2.1f}'.format(10.0), \n",
    "                                 'R_{}'.format(1800),\n",
    "                                 'Data')\n",
    "model_data2 = snec_15oz.prepare_model_data(model_dir2)"
   ]
  },
  {
   "cell_type": "code",
   "execution_count": 231,
   "metadata": {
    "collapsed": false
   },
   "outputs": [
    {
     "data": {
      "text/plain": [
       "(0, 140)"
      ]
     },
     "execution_count": 231,
     "metadata": {},
     "output_type": "execute_result"
    }
   ],
   "source": [
    "plt.figure(figsize=[5, 10])\n",
    "plt.title('2013ej; models with significantly more Ni')\n",
    "plt.plot(sn13ej.phase['V'], sn13ej.abs_mag['V'],'go', markersize=5, markerfacecolor='w')\n",
    "plt.plot(model_data1['time'], model_data1['V'], 'g')\n",
    "plt.plot(model_data2['time'], model_data1['V'], 'g--')\n",
    "\n",
    "plt.plot(sn13ej.phase['I'], sn13ej.abs_mag['I']-5, 'o', color='brown', markersize=5, markerfacecolor='w')\n",
    "plt.plot(model_data1['time'], model_data1['I']-5, color='brown')\n",
    "\n",
    "plt.plot(sn13ej.phase['i'], sn13ej.abs_mag['i']-4, 'o', color = 'Salmon', markersize=5, markerfacecolor='w')\n",
    "plt.plot(model_data1['time'], model_data1['i']-4, color='Salmon')\n",
    "\n",
    "plt.plot(sn13ej.phase['R'], sn13ej.abs_mag['R']-2.4, 'ro', markersize=5, markerfacecolor='w')\n",
    "plt.plot(model_data1['time'], model_data1['R']-2.4, 'r')\n",
    "\n",
    "plt.plot(sn13ej.phase['r'], sn13ej.abs_mag['r']-1.2, 'o', color = 'orange', markersize=5, markerfacecolor='w')\n",
    "plt.plot(model_data1['time'], model_data1['r']-1.2, color='orange')\n",
    "\n",
    "plt.plot(sn13ej.phase['g'], sn13ej.abs_mag['g']+1, 'o', color = 'DarkCyan', markersize=5, markerfacecolor='w')\n",
    "plt.plot(model_data1['time'], model_data1['g']+1, color='DarkCyan')\n",
    "\n",
    "plt.plot(sn13ej.phase['B'], sn13ej.abs_mag['B']+4, 'o', color = 'b', markersize=5, markerfacecolor='w')\n",
    "plt.plot(model_data1['time'], model_data1['B']+4, color='b')\n",
    "\n",
    "plt.plot(sn13ej.phase['U'], sn13ej.abs_mag['U']+5.8, 'o', color = 'purple', markersize=5, markerfacecolor='w')\n",
    "plt.plot(model_data1['time'], model_data1['U']+5.8, color='purple')\n",
    "\n",
    "plt.ylim(-3.5, -24.25)\n",
    "plt.yticks(np.arange(-4, -25, -2))\n",
    "plt.xlim(0, 140)"
   ]
  },
  {
   "cell_type": "markdown",
   "metadata": {},
   "source": [
    "## ASASSN14gm"
   ]
  },
  {
   "cell_type": "code",
   "execution_count": 232,
   "metadata": {
    "collapsed": false
   },
   "outputs": [],
   "source": [
    "ni_mass = [0.083]\n",
    "energies = [0.5, 0.8]\n",
    "masses = [13, 21]\n",
    "ni_mixing = [5.0]\n",
    "time_offsets = np.arange(-4, 4, 1)\n",
    "Kvalues = [10]\n",
    "radii = [1800]\n",
    "\n",
    "snec_models = '/Users/bostroem/Desktop/research/snec_models'\n",
    "snname = 'asassn14gm'\n",
    "S2_start = 43.3\n",
    "S2_end = 110.6  \n",
    "\n",
    "\n",
    "sn14gm = LightCurve2(snname)\n",
    "sn14gm.get_photometry()\n",
    "sn14gm.get_abs_mag()\n",
    "   \n",
    " \n",
    "snec_14gm = chisq_analysis.SnecAnalysis(snname, snec_models, S2_start, S2_end, \n",
    "                 ni_mass, ni_mixing, masses, energies, time_offsets, \n",
    "                 Kvalues, radii, fig_dir='/Users/bostroem/Desktop')"
   ]
  },
  {
   "cell_type": "code",
   "execution_count": 233,
   "metadata": {
    "collapsed": true
   },
   "outputs": [],
   "source": [
    "model_dir1 = os.path.join(snec_models, \n",
    "                                 'Ni_mass_{:1.4f}'.format(0.083),\n",
    "                                 'Ni_mixing_{:1.1f}'.format(5.0),\n",
    "                                 'M{:2.1f}'.format(21.0),\n",
    "                                 'E_{:1.3f}'.format(0.500),\n",
    "                                 'K_{:2.1f}'.format(10.0), \n",
    "                                 'R_{}'.format(1800),\n",
    "                                 'Data')\n",
    "model_data1 = snec_15oz.prepare_model_data(model_dir1)"
   ]
  },
  {
   "cell_type": "code",
   "execution_count": 234,
   "metadata": {
    "collapsed": false
   },
   "outputs": [],
   "source": [
    "plt.figure(figsize=[5, 10])\n",
    "plt.title('ASASSN14gm; models with smaller mass')\n",
    "plt.plot(sn14gm.phase['V'], sn14gm.abs_mag['V'], 'go')\n",
    "plt.plot(model_data1['time'], model_data1['V'], 'g')\n",
    "\n",
    "plt.plot(sn14gm.phase['i'], sn14gm.abs_mag['i']-4, 'o', color = 'Salmon')\n",
    "plt.plot(model_data1['time'], model_data1['i']-4, color='Salmon')\n",
    "\n",
    "plt.plot(sn14gm.phase['r'], sn14gm.abs_mag['r']-1.2, 'o', color = 'orange')\n",
    "plt.plot(model_data1['time'], model_data1['r']-1.2, color='orange')\n",
    "\n",
    "plt.plot(sn14gm.phase['g'], sn14gm.abs_mag['g']+1, 'o', color = 'DarkCyan')\n",
    "plt.plot(model_data1['time'], model_data1['g']+1, color='DarkCyan')\n",
    "\n",
    "plt.plot(sn14gm.phase['B'], sn14gm.abs_mag['B']+4, 'o', color = 'b')\n",
    "plt.plot(model_data1['time'], model_data1['B']+4, color='b')\n",
    "\n",
    "plt.plot(model_data1['time'], model_data1['U']+5.8, color='purple')\n",
    "\n",
    "plt.ylim(-4, -22)\n",
    "plt.xlim(0, 140)\n",
    "plt.grid()"
   ]
  },
  {
   "cell_type": "markdown",
   "metadata": {},
   "source": [
    "### How bad does 15oz look on this scale?"
   ]
  },
  {
   "cell_type": "code",
   "execution_count": 235,
   "metadata": {
    "collapsed": false
   },
   "outputs": [],
   "source": [
    "ni_mass = [0.083, 0.0965, 0.11]\n",
    "energies = [0.5, 0.8, 1.1, 1.4, 1.7, 2.0]\n",
    "masses = [11, 13, 15, 16, 17, 18, 21]\n",
    "ni_mixing = [5.0]\n",
    "time_offsets = np.arange(-4, 4, 1)\n",
    "Kvalues = [10, 20, 30, 35, 40, 50, 60]\n",
    "radii = [1500, 1800, 2100, 2400, 2700, 3000, 3300]\n",
    "\n",
    "snec_models = '/Users/bostroem/macfusion/SNEC/snec_models/'\n",
    "snname = 'asassn15oz'\n",
    "S2_start = 50\n",
    "S2_end = 88  #Vary this parameter\n",
    "snec_15oz = chisq_analysis.SnecAnalysis(snname, snec_models, S2_start, S2_end, \n",
    "                 ni_mass, ni_mixing, masses, energies, time_offsets, \n",
    "                 Kvalues, radii, fig_dir='../figures')"
   ]
  },
  {
   "cell_type": "code",
   "execution_count": 236,
   "metadata": {
    "collapsed": true
   },
   "outputs": [],
   "source": [
    "model_dir1 = os.path.join(snec_models, \n",
    "                                 'Ni_mass_{:1.4f}'.format(0.083),\n",
    "                                 'Ni_mixing_{:1.1f}'.format(5.0),\n",
    "                                 'M{:2.1f}'.format(18.0),\n",
    "                                 'E_{:1.3f}'.format(1.400),\n",
    "                                 'K_{:2.1f}'.format(10.0), \n",
    "                                 'R_{}'.format(2400),\n",
    "                                 'Data')\n",
    "model_data1 = snec_15oz.prepare_model_data(model_dir1)"
   ]
  },
  {
   "cell_type": "code",
   "execution_count": 237,
   "metadata": {
    "collapsed": false
   },
   "outputs": [
    {
     "data": {
      "text/plain": [
       "<matplotlib.legend.Legend at 0x12cec8d68>"
      ]
     },
     "execution_count": 237,
     "metadata": {},
     "output_type": "execute_result"
    }
   ],
   "source": [
    "plt.figure(figsize=[5, 10])\n",
    "toffset = 0\n",
    "plt.title('ASASSN15oz; Best fit grVi')\n",
    "plt.plot(sn15oz.phase['V']+toffset, sn15oz.abs_mag['V'], 'go', markersize=5, markerfacecolor='w', label='V+0')\n",
    "plt.plot(model_data1['time'], model_data1['V'], 'g', label='V+0')\n",
    "\n",
    "plt.plot(sn15oz.phase['i']+toffset, sn15oz.abs_mag['i']-4, 'o', color = 'Salmon', markersize=5, markerfacecolor='w', label='i-4')\n",
    "plt.plot(model_data1['time'], model_data1['i']-4, color='Salmon', label='i-4')\n",
    "\n",
    "plt.plot(sn15oz.phase['r']+toffset, sn15oz.abs_mag['r']-1.2, 'o', color = 'orange', markersize=5, markerfacecolor='w', label='r-1.2')\n",
    "plt.plot(model_data1['time'], model_data1['r']-1.2, color='orange', label='r-1.2')\n",
    "\n",
    "plt.plot(sn15oz.phase['g']+toffset, sn15oz.abs_mag['g']+1, 'o', color = 'DarkCyan', markersize=5, markerfacecolor='w', label='g+1')\n",
    "plt.plot(model_data1['time'], model_data1['g']+1, color='DarkCyan', label='g+1')\n",
    "\n",
    "plt.plot(sn15oz.phase['B']+toffset, sn15oz.abs_mag['B']+4, 'o', color = 'b', markersize=5, markerfacecolor='w', alpha=0.5, label='b+4')\n",
    "plt.plot(model_data1['time'], model_data1['B']+4, color='b', label='b+4', alpha=0.5)\n",
    "\n",
    "plt.plot(sn15oz.phase['U']+toffset, sn15oz.abs_mag['U']+5.8, 'o', color='purple', markersize=5, markerfacecolor='w', alpha=0.5, label='U+5.8')\n",
    "plt.plot(model_data1['time'], model_data1['U']+5.8, color='purple', label='U+5.8', alpha=0.5)\n",
    "\n",
    "plt.axhspan(-4, -14.3, color='gray', alpha = 0.5)\n",
    "plt.ylim(-4, -24)\n",
    "plt.xlim(0, 140)\n",
    "plt.grid()\n",
    "plt.legend(ncol=2, loc='best')\n"
   ]
  },
  {
   "cell_type": "markdown",
   "metadata": {},
   "source": [
    "# Look at trends with parameter"
   ]
  },
  {
   "cell_type": "code",
   "execution_count": null,
   "metadata": {
    "collapsed": true
   },
   "outputs": [],
   "source": []
  },
  {
   "cell_type": "code",
   "execution_count": 163,
   "metadata": {
    "collapsed": false
   },
   "outputs": [],
   "source": [
    "ni_mass = [0.083, 0.0965, 0.11]\n",
    "energies = [0.5, 0.8, 1.1, 1.4, 1.7, 2.0]\n",
    "masses = [11, 13, 15, 16, 17, 18, 21]\n",
    "ni_mixing = [5.0]\n",
    "time_offsets = np.arange(-4, 4, 1)\n",
    "Kvalues = [10, 20, 30, 35, 40, 50, 60]\n",
    "radii = [1500, 1800, 2100, 2400, 2700, 3000, 3300]\n",
    "\n",
    "snec_models = '/Users/bostroem/macfusion/SNEC/snec_models/'\n",
    "snname = 'asassn15oz'\n",
    "S2_start = 50\n",
    "S2_end = 88  #Vary this parameter\n",
    "snec_15oz = chisq_analysis.SnecAnalysis(snname, snec_models, S2_start, S2_end, \n",
    "                 ni_mass, ni_mixing, masses, energies, time_offsets, \n",
    "                 Kvalues, radii, fig_dir='../figures')"
   ]
  },
  {
   "cell_type": "markdown",
   "metadata": {},
   "source": [
    "### Mass"
   ]
  },
  {
   "cell_type": "code",
   "execution_count": 193,
   "metadata": {
    "collapsed": false
   },
   "outputs": [],
   "source": [
    "plt.figure()\n",
    "plt.style.use('default')\n",
    "plt.title('Mass')\n",
    "colors = vis.make_color_wheel(snec_15oz.masses)\n",
    "for m, c in zip(snec_15oz.masses, colors):\n",
    "    model_dir1 = os.path.join(snec_models, \n",
    "                                     'Ni_mass_{:1.4f}'.format(0.083),\n",
    "                                     'Ni_mixing_{:1.1f}'.format(5.0),\n",
    "                                     'M{:2.1f}'.format(m),\n",
    "                                     'E_{:1.3f}'.format(1.1),\n",
    "                                     'K_{:2.1f}'.format(10.0), \n",
    "                                     'R_{}'.format(1500),\n",
    "                                     'Data')\n",
    "    model_data1 = snec_15oz.prepare_model_data(model_dir1)\n",
    "    plt.plot(model_data1['time'], model_data1['V'], label = 'M = {}'.format(m), color=c)\n",
    "plt.legend()\n",
    "plt.xlim(0, 150)\n",
    "plt.ylim(-15, -18)\n",
    "plt.savefig('/Users/bostroem/Desktop/research/not_my_code/SNEC-1.01/figures/mass.pdf')"
   ]
  },
  {
   "cell_type": "markdown",
   "metadata": {},
   "source": [
    "### Energy"
   ]
  },
  {
   "cell_type": "code",
   "execution_count": 192,
   "metadata": {
    "collapsed": false
   },
   "outputs": [],
   "source": [
    "plt.figure()\n",
    "plt.style.use('default')\n",
    "plt.title('Energy')\n",
    "colors = vis.make_color_wheel(snec_15oz.energies)\n",
    "for e, c in zip(snec_15oz.energies, colors):\n",
    "    model_dir1 = os.path.join(snec_models, \n",
    "                                     'Ni_mass_{:1.4f}'.format(0.083),\n",
    "                                     'Ni_mixing_{:1.1f}'.format(5.0),\n",
    "                                     'M{:2.1f}'.format(17.0),\n",
    "                                     'E_{:1.3f}'.format(e),\n",
    "                                     'K_{:2.1f}'.format(10.0), \n",
    "                                     'R_{}'.format(1500),\n",
    "                                     'Data')\n",
    "    model_data1 = snec_15oz.prepare_model_data(model_dir1)\n",
    "    plt.plot(model_data1['time'], model_data1['V'], label = 'E = {}'.format(e), color=c)\n",
    "plt.legend()\n",
    "plt.xlim(0, 150)\n",
    "plt.ylim(-15, -18.5)\n",
    "plt.savefig('/Users/bostroem/Desktop/research/not_my_code/SNEC-1.01/figures/energy.pdf')"
   ]
  },
  {
   "cell_type": "markdown",
   "metadata": {},
   "source": [
    "### Nickel Mass"
   ]
  },
  {
   "cell_type": "code",
   "execution_count": 198,
   "metadata": {
    "collapsed": true
   },
   "outputs": [],
   "source": [
    "plt.figure()\n",
    "plt.style.use('default')\n",
    "plt.title('Ni Mass')\n",
    "colors = vis.make_color_wheel(snec_15oz.ni_mass)\n",
    "for nim, c in zip(snec_15oz.ni_mass, colors):\n",
    "    model_dir1 = os.path.join(snec_models, \n",
    "                                     'Ni_mass_{:1.4f}'.format(nim),\n",
    "                                     'Ni_mixing_{:1.1f}'.format(5.0),\n",
    "                                     'M{:2.1f}'.format(17.0),\n",
    "                                     'E_{:1.3f}'.format(1.1),\n",
    "                                     'K_{:2.1f}'.format(10.0), \n",
    "                                     'R_{}'.format(1500),\n",
    "                                     'Data')\n",
    "    model_data1 = snec_15oz.prepare_model_data(model_dir1)\n",
    "    plt.plot(model_data1['time'], model_data1['V'], label = 'Ni M = {}'.format(nim), color=c)\n",
    "plt.legend()\n",
    "plt.xlim(0, 150)\n",
    "plt.ylim(-15, -18)\n",
    "plt.savefig('/Users/bostroem/Desktop/research/not_my_code/SNEC-1.01/figures/ni_mass.pdf')"
   ]
  },
  {
   "cell_type": "markdown",
   "metadata": {},
   "source": [
    "### CSM Density"
   ]
  },
  {
   "cell_type": "code",
   "execution_count": 199,
   "metadata": {
    "collapsed": true
   },
   "outputs": [],
   "source": [
    "plt.figure()\n",
    "plt.style.use('default')\n",
    "plt.title('CSM Density (K)')\n",
    "colors = vis.make_color_wheel(snec_15oz.Kvalues)\n",
    "for k, c in zip(snec_15oz.Kvalues, colors):\n",
    "    model_dir1 = os.path.join(snec_models, \n",
    "                                     'Ni_mass_{:1.4f}'.format(0.083),\n",
    "                                     'Ni_mixing_{:1.1f}'.format(5.0),\n",
    "                                     'M{:2.1f}'.format(17.0),\n",
    "                                     'E_{:1.3f}'.format(1.1),\n",
    "                                     'K_{:2.1f}'.format(k), \n",
    "                                     'R_{}'.format(1500),\n",
    "                                     'Data')\n",
    "    model_data1 = snec_15oz.prepare_model_data(model_dir1)\n",
    "    plt.plot(model_data1['time'], model_data1['V'], label = 'K = {}'.format(k), color=c)\n",
    "plt.legend()\n",
    "plt.xlim(0, 150)\n",
    "plt.ylim(-15, -18)\n",
    "plt.savefig('/Users/bostroem/Desktop/research/not_my_code/SNEC-1.01/figures/density.pdf')"
   ]
  },
  {
   "cell_type": "markdown",
   "metadata": {},
   "source": [
    "### CSM Radius"
   ]
  },
  {
   "cell_type": "code",
   "execution_count": 203,
   "metadata": {
    "collapsed": true
   },
   "outputs": [],
   "source": [
    "plt.figure()\n",
    "plt.style.use('default')\n",
    "plt.title('CSM Radius')\n",
    "colors = vis.make_color_wheel(snec_15oz.radii)\n",
    "for r, c in zip(snec_15oz.radii, colors):\n",
    "    model_dir1 = os.path.join(snec_models, \n",
    "                                     'Ni_mass_{:1.4f}'.format(0.083),\n",
    "                                     'Ni_mixing_{:1.1f}'.format(5.0),\n",
    "                                     'M{:2.1f}'.format(17.0),\n",
    "                                     'E_{:1.3f}'.format(1.1),\n",
    "                                     'K_{:2.1f}'.format(10.0), \n",
    "                                     'R_{}'.format(r),\n",
    "                                     'Data')\n",
    "    model_data1 = snec_15oz.prepare_model_data(model_dir1)\n",
    "    plt.plot(model_data1['time'], model_data1['V'], label = 'r = {}'.format(r), color=c)\n",
    "plt.legend()\n",
    "plt.xlim(0, 150)\n",
    "plt.ylim(-15, -18.5)\n",
    "plt.savefig('/Users/bostroem/Desktop/research/not_my_code/SNEC-1.01/figures/radius.pdf')"
   ]
  },
  {
   "cell_type": "markdown",
   "metadata": {},
   "source": [
    "# Look at Chisq for different time offsets "
   ]
  },
  {
   "cell_type": "code",
   "execution_count": 239,
   "metadata": {
    "collapsed": false
   },
   "outputs": [
    {
     "name": "stdout",
     "output_type": "stream",
     "text": [
      "ni_mass ni_mixing mass energy kvalue radius time_offset     chisq    \n",
      "------- --------- ---- ------ ------ ------ ----------- -------------\n",
      "  0.083       5.0   18    1.4     10   2400          -4 22569.8545689\n",
      "  0.083       5.0   18    1.4     10   2400          -3 42833.6437348\n",
      "  0.083       5.0   18    1.4     10   2400          -2 62042.3602046\n",
      "  0.083       5.0   18    1.4     10   2400          -1 80905.8484053\n",
      "  0.083       5.0   18    1.4     10   2400           0 99897.3201834\n",
      "  0.083       5.0   18    1.4     10   2400           1 119249.447478\n",
      "  0.083       5.0   18    1.4     10   2400           2 138960.000272\n",
      "  0.083       5.0   18    1.4     10   2400           3 159417.711774\n",
      "  0.083       5.0   18    1.4     10   2400           4 181203.572226\n"
     ]
    }
   ],
   "source": [
    "chisq_tbdata = asc.read('../code/chisq_table.txt', \n",
    "                        names=['ni_mass', 'ni_mixing', 'mass', 'energy', 'kvalue', 'radius', \n",
    "                               'time_offset', 'chisq'])\n",
    "indx = (chisq_tbdata['ni_mass']==0.083)&(chisq_tbdata['mass']==18.0)&(chisq_tbdata['energy']==1.4)& \\\n",
    "        (chisq_tbdata['kvalue']==10.0)&(chisq_tbdata['radius']==2400)\n",
    "print(chisq_tbdata[indx])"
   ]
  },
  {
   "cell_type": "markdown",
   "metadata": {},
   "source": [
    "# Look at Chisq for different Ni masses"
   ]
  },
  {
   "cell_type": "code",
   "execution_count": 240,
   "metadata": {
    "collapsed": false
   },
   "outputs": [
    {
     "name": "stdout",
     "output_type": "stream",
     "text": [
      "ni_mass ni_mixing mass energy kvalue radius time_offset     chisq    \n",
      "------- --------- ---- ------ ------ ------ ----------- -------------\n",
      "  0.083       5.0   18    1.4     10   2400          -4 22569.8545689\n",
      " 0.0965       5.0   18    1.4     10   2400          -4 23126.2546038\n"
     ]
    }
   ],
   "source": [
    "chisq_tbdata = asc.read('../code/chisq_table.txt', \n",
    "                        names=['ni_mass', 'ni_mixing', 'mass', 'energy', 'kvalue', 'radius', \n",
    "                               'time_offset', 'chisq'])\n",
    "indx = (chisq_tbdata['time_offset']==-4)&(chisq_tbdata['mass']==18.0)&(chisq_tbdata['energy']==1.4)& \\\n",
    "        (chisq_tbdata['kvalue']==10.0)&(chisq_tbdata['radius']==2400)\n",
    "print(chisq_tbdata[indx])"
   ]
  },
  {
   "cell_type": "markdown",
   "metadata": {},
   "source": [
    "# Look at closes to min Chisq"
   ]
  },
  {
   "cell_type": "code",
   "execution_count": 242,
   "metadata": {
    "collapsed": false
   },
   "outputs": [
    {
     "data": {
      "text/html": [
       "&lt;Table length=10&gt;\n",
       "<table id=\"table5361821064\" class=\"table-striped table-bordered table-condensed\">\n",
       "<thead><tr><th>ni_mass</th><th>ni_mixing</th><th>mass</th><th>energy</th><th>kvalue</th><th>radius</th><th>time_offset</th><th>chisq</th></tr></thead>\n",
       "<thead><tr><th>float64</th><th>float64</th><th>int64</th><th>float64</th><th>int64</th><th>int64</th><th>int64</th><th>float64</th></tr></thead>\n",
       "<tr><td>0.083</td><td>5.0</td><td>18</td><td>1.4</td><td>10</td><td>2400</td><td>-4</td><td>22569.8545689</td></tr>\n",
       "<tr><td>0.083</td><td>5.0</td><td>17</td><td>1.4</td><td>10</td><td>2400</td><td>-4</td><td>22988.9786926</td></tr>\n",
       "<tr><td>0.0965</td><td>5.0</td><td>18</td><td>1.4</td><td>10</td><td>2400</td><td>-4</td><td>23126.2546038</td></tr>\n",
       "<tr><td>0.083</td><td>5.0</td><td>15</td><td>1.4</td><td>10</td><td>2100</td><td>-4</td><td>23291.8877645</td></tr>\n",
       "<tr><td>0.0965</td><td>5.0</td><td>17</td><td>1.4</td><td>10</td><td>2400</td><td>-4</td><td>23608.7947213</td></tr>\n",
       "<tr><td>0.083</td><td>5.0</td><td>16</td><td>1.4</td><td>10</td><td>2100</td><td>-4</td><td>23826.3144741</td></tr>\n",
       "<tr><td>0.083</td><td>5.0</td><td>16</td><td>1.4</td><td>10</td><td>2400</td><td>-4</td><td>23984.8833328</td></tr>\n",
       "<tr><td>0.083</td><td>5.0</td><td>18</td><td>1.4</td><td>10</td><td>2700</td><td>-4</td><td>24129.640486</td></tr>\n",
       "<tr><td>0.11</td><td>5.0</td><td>17</td><td>1.4</td><td>10</td><td>2400</td><td>-4</td><td>24263.925704</td></tr>\n",
       "<tr><td>0.083</td><td>5.0</td><td>13</td><td>1.4</td><td>20</td><td>1800</td><td>-4</td><td>24287.7578319</td></tr>\n",
       "</table>"
      ],
      "text/plain": [
       "<Table length=10>\n",
       "ni_mass ni_mixing  mass  energy kvalue radius time_offset     chisq    \n",
       "float64  float64  int64 float64 int64  int64     int64       float64   \n",
       "------- --------- ----- ------- ------ ------ ----------- -------------\n",
       "  0.083       5.0    18     1.4     10   2400          -4 22569.8545689\n",
       "  0.083       5.0    17     1.4     10   2400          -4 22988.9786926\n",
       " 0.0965       5.0    18     1.4     10   2400          -4 23126.2546038\n",
       "  0.083       5.0    15     1.4     10   2100          -4 23291.8877645\n",
       " 0.0965       5.0    17     1.4     10   2400          -4 23608.7947213\n",
       "  0.083       5.0    16     1.4     10   2100          -4 23826.3144741\n",
       "  0.083       5.0    16     1.4     10   2400          -4 23984.8833328\n",
       "  0.083       5.0    18     1.4     10   2700          -4  24129.640486\n",
       "   0.11       5.0    17     1.4     10   2400          -4  24263.925704\n",
       "  0.083       5.0    13     1.4     20   1800          -4 24287.7578319"
      ]
     },
     "execution_count": 242,
     "metadata": {},
     "output_type": "execute_result"
    }
   ],
   "source": [
    "chisq_tbdata = asc.read('../code/chisq_table.txt', \n",
    "                        names=['ni_mass', 'ni_mixing', 'mass', 'energy', 'kvalue', 'radius', \n",
    "                               'time_offset', 'chisq'])\n",
    "chisq_tbdata.sort('chisq')\n",
    "chisq_tbdata[0:10]"
   ]
  },
  {
   "cell_type": "code",
   "execution_count": null,
   "metadata": {
    "collapsed": true
   },
   "outputs": [],
   "source": []
  }
 ],
 "metadata": {
  "kernelspec": {
   "display_name": "Python [default]",
   "language": "python",
   "name": "python3"
  },
  "language_info": {
   "codemirror_mode": {
    "name": "ipython",
    "version": 3
   },
   "file_extension": ".py",
   "mimetype": "text/x-python",
   "name": "python",
   "nbconvert_exporter": "python",
   "pygments_lexer": "ipython3",
   "version": "3.5.4"
  }
 },
 "nbformat": 4,
 "nbformat_minor": 2
}
