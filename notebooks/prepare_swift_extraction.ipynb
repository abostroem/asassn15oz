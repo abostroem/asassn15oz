{
 "cells": [
  {
   "cell_type": "code",
   "execution_count": 1,
   "metadata": {
    "collapsed": false
   },
   "outputs": [
    {
     "name": "stdout",
     "output_type": "stream",
     "text": [
      "Using matplotlib backend: Qt5Agg\n"
     ]
    }
   ],
   "source": [
    "from astropy.io import fits\n",
    "from astropy.io import ascii as asc\n",
    "from matplotlib import pyplot as plt\n",
    "%matplotlib\n",
    "import numpy as np\n",
    "\n",
    "from visualization import zscale"
   ]
  },
  {
   "cell_type": "markdown",
   "metadata": {},
   "source": [
    "# Figure out correct input numbers for 15oz"
   ]
  },
  {
   "cell_type": "markdown",
   "metadata": {},
   "source": [
    "## Find rough image offset for coadding template PA=248"
   ]
  },
  {
   "cell_type": "code",
   "execution_count": 117,
   "metadata": {
    "collapsed": false,
    "scrolled": true
   },
   "outputs": [
    {
     "name": "stdout",
     "output_type": "stream",
     "text": [
      "Filename: ../data/swiftuvot/truvot_reduced/00034040013/uvot/image/sw00034040013ugu_dt.img\n",
      "No.    Name         Type      Cards   Dimensions   Format\n",
      "  0  PRIMARY     PrimaryHDU     116   ()      \n",
      "  1  gu527368646I  ImageHDU       212   (1987, 2046)   float32   \n",
      "  2  gu527374165I  ImageHDU       212   (1987, 2046)   float32   \n",
      "  3  gu527385083I  ImageHDU       212   (1987, 2046)   float32   \n"
     ]
    }
   ],
   "source": [
    "ofile = fits.open('../data/swiftuvot/truvot_reduced/00034040013/uvot/image/sw00034040013ugu_dt.img')\n",
    "ofile.info()"
   ]
  },
  {
   "cell_type": "code",
   "execution_count": 7,
   "metadata": {
    "collapsed": false
   },
   "outputs": [
    {
     "data": {
      "text/plain": [
       "<matplotlib.text.Text at 0x12da689b0>"
      ]
     },
     "execution_count": 7,
     "metadata": {},
     "output_type": "execute_result"
    }
   ],
   "source": [
    "fig = plt.figure()\n",
    "ax1 = fig.add_subplot(1, 3, 1)\n",
    "ax2 = fig.add_subplot(1,3,2)\n",
    "ax3 = fig.add_subplot(1,3,3)\n",
    "vmin, vmax = zscale(ofile[1].data)\n",
    "ax1.imshow(ofile[1].data, interpolation='nearest',vmin=vmin, vmax=vmax)\n",
    "ax1.plot(1043.,554, 'ro')\n",
    "ax1.set_title('Template ext1')\n",
    "vmin, vmax = zscale(ofile[2].data)\n",
    "ax2.imshow(ofile[2].data, interpolation='nearest',vmin=vmin, vmax=vmax)\n",
    "ax2.plot(1030.,594, 'ro')\n",
    "ax2.set_title('Template ext2')\n",
    "vmin, vmax = zscale(ofile[3].data)\n",
    "ax3.imshow(ofile[3].data, interpolation='nearest',vmin=vmin, vmax=vmax)\n",
    "ax3.plot(1033.,583, 'ro')\n",
    "ax3.set_title('Template ext3')"
   ]
  },
  {
   "cell_type": "markdown",
   "metadata": {},
   "source": [
    "## Find Sky counts for template"
   ]
  },
  {
   "cell_type": "code",
   "execution_count": 10,
   "metadata": {
    "collapsed": false
   },
   "outputs": [
    {
     "name": "stdout",
     "output_type": "stream",
     "text": [
      "skycounts template ext1 =  13.0853\n",
      "skycounts template ext2 =  15.1734\n",
      "skycounts template ext3 =  18.9841\n"
     ]
    }
   ],
   "source": [
    "print('skycounts template ext1 = ', np.median(ofile[1].data[1200:, 1200:]))\n",
    "print('skycounts template ext2 = ', np.median(ofile[2].data[1200:, 1200:]))\n",
    "print('skycounts template ext3 = ', np.median(ofile[3].data[1200:, 1200:]))"
   ]
  },
  {
   "cell_type": "code",
   "execution_count": null,
   "metadata": {
    "collapsed": true
   },
   "outputs": [],
   "source": []
  },
  {
   "cell_type": "markdown",
   "metadata": {},
   "source": [
    "## Find rough image offset for coadding template PA=260"
   ]
  },
  {
   "cell_type": "code",
   "execution_count": 118,
   "metadata": {
    "collapsed": false,
    "scrolled": true
   },
   "outputs": [],
   "source": [
    "ofile1 = fits.open('../data/swiftuvot/truvot_reduced/00034040011/uvot/image/sw00034040011ugu_dt.img')\n",
    "ofile2 = fits.open('../data/swiftuvot/truvot_reduced/00034040015/uvot/image/sw00034040015ugu_dt.img')"
   ]
  },
  {
   "cell_type": "code",
   "execution_count": 64,
   "metadata": {
    "collapsed": false
   },
   "outputs": [
    {
     "data": {
      "text/plain": [
       "<matplotlib.text.Text at 0x15ca6c630>"
      ]
     },
     "execution_count": 64,
     "metadata": {},
     "output_type": "execute_result"
    }
   ],
   "source": [
    "fig = plt.figure()\n",
    "ax1 = fig.add_subplot(1, 3, 1)\n",
    "ax2 = fig.add_subplot(1,3,2)\n",
    "ax3 = fig.add_subplot(1,3,3)\n",
    "vmin, vmax = zscale(ofile1[1].data)\n",
    "ax1.imshow(ofile1[1].data, interpolation='nearest',vmin=vmin, vmax=vmax)\n",
    "ax1.plot(1235, 734, 'ro')\n",
    "ax1.set_title('Template ext1')\n",
    "vmin, vmax = zscale(ofile1[2].data)\n",
    "ax2.imshow(ofile1[2].data, interpolation='nearest',vmin=vmin, vmax=vmax)\n",
    "ax2.plot(1233, 728, 'ro')\n",
    "ax2.set_title('Template ext2')\n",
    "vmin, vmax = zscale(ofile1[3].data)\n",
    "ax3.imshow(ofile1[3].data, interpolation='nearest',vmin=vmin, vmax=vmax)\n",
    "ax3.plot(1228, 739, 'ro')\n",
    "ax3.set_title('Template ext3')"
   ]
  },
  {
   "cell_type": "code",
   "execution_count": 68,
   "metadata": {
    "collapsed": false
   },
   "outputs": [
    {
     "data": {
      "text/plain": [
       "<matplotlib.text.Text at 0x1637c10b8>"
      ]
     },
     "execution_count": 68,
     "metadata": {},
     "output_type": "execute_result"
    }
   ],
   "source": [
    "fig = plt.figure()\n",
    "ax1 = fig.add_subplot(2, 3, 1)\n",
    "ax2 = fig.add_subplot(2,3,2)\n",
    "ax3 = fig.add_subplot(2,3,3)\n",
    "ax4 = fig.add_subplot(2,3,4)\n",
    "ax5 = fig.add_subplot(2,3,5)\n",
    "vmin, vmax = zscale(ofile2[1].data)\n",
    "ax1.imshow(ofile2[1].data, interpolation='nearest',vmin=vmin, vmax=vmax)\n",
    "ax1.plot(1215, 689, 'ro')\n",
    "ax1.set_title('Template ext1')\n",
    "vmin, vmax = zscale(ofile2[2].data)\n",
    "ax2.imshow(ofile2[2].data, interpolation='nearest',vmin=vmin, vmax=vmax)\n",
    "ax2.plot(1207, 687, 'ro')\n",
    "ax2.set_title('Template ext2')\n",
    "vmin, vmax = zscale(ofile2[3].data)\n",
    "ax3.imshow(ofile2[3].data, interpolation='nearest',vmin=vmin, vmax=vmax)\n",
    "ax3.plot(1224, 690, 'ro')\n",
    "ax3.set_title('Template ext3')\n",
    "vmin, vmax = zscale(ofile2[4].data)\n",
    "ax4.imshow(ofile2[4].data, interpolation='nearest',vmin=vmin, vmax=vmax)\n",
    "ax4.plot(1212, 747, 'ro')\n",
    "ax4.set_title('Template ext4')\n",
    "vmin, vmax = zscale(ofile2[5].data)\n",
    "ax5.imshow(ofile2[5].data, interpolation='nearest',vmin=vmin, vmax=vmax)\n",
    "ax5.plot(1221, 716, 'ro')\n",
    "ax5.set_title('Template ext5')"
   ]
  },
  {
   "cell_type": "markdown",
   "metadata": {},
   "source": [
    "## Find Sky counts for template"
   ]
  },
  {
   "cell_type": "code",
   "execution_count": 69,
   "metadata": {
    "collapsed": false
   },
   "outputs": [
    {
     "name": "stdout",
     "output_type": "stream",
     "text": [
      "skycounts template visit 11 ext1 =  11.5467\n",
      "skycounts template visit 11 ext2 =  11.5182\n",
      "skycounts template visit 11 ext3 =  11.6022\n",
      "skycounts template visit 15 ext1 =  12.0941\n",
      "skycounts template visit 15 ext2 =  10.8478\n",
      "skycounts template visit 15 ext3 =  10.6419\n",
      "skycounts template visit 15 ext4 =  16.3572\n",
      "skycounts template visit 15 ext5 =  9.21724\n"
     ]
    }
   ],
   "source": [
    "print('skycounts template visit 11 ext1 = ', np.median(ofile1[1].data[1200:, 1200:]))\n",
    "print('skycounts template visit 11 ext2 = ', np.median(ofile1[2].data[1200:, 1200:]))\n",
    "print('skycounts template visit 11 ext3 = ', np.median(ofile1[3].data[1200:, 1200:]))\n",
    "print('skycounts template visit 15 ext1 = ', np.median(ofile2[1].data[1200:, 1200:]))\n",
    "print('skycounts template visit 15 ext2 = ', np.median(ofile2[2].data[1200:, 1200:]))\n",
    "print('skycounts template visit 15 ext3 = ', np.median(ofile2[3].data[1200:, 1200:]))\n",
    "print('skycounts template visit 15 ext4 = ', np.median(ofile2[4].data[1200:, 1200:]))\n",
    "print('skycounts template visit 15 ext5 = ', np.median(ofile2[5].data[1200:, 1200:]))\n"
   ]
  },
  {
   "cell_type": "markdown",
   "metadata": {},
   "source": [
    "# Visit 1"
   ]
  },
  {
   "cell_type": "markdown",
   "metadata": {},
   "source": [
    "## Find rough image offset for shifting template to SN observations"
   ]
  },
  {
   "cell_type": "code",
   "execution_count": 133,
   "metadata": {
    "collapsed": false
   },
   "outputs": [
    {
     "name": "stdout",
     "output_type": "stream",
     "text": [
      "Filename: ../data/swiftuvot/truvot_reduced/00034040013/uvot/image/sw00034040013ugu_dt_coadd2.fits\n",
      "No.    Name         Type      Cards   Dimensions   Format\n",
      "  0  gu527368646I  PrimaryHDU     210   (1987, 2046)   float32   \n",
      "Filename: ../data/swiftuvot/truvot_reduced/00034040001/uvot/image/sw00034040001ugu_dt.img\n",
      "No.    Name         Type      Cards   Dimensions   Format\n",
      "  0  PRIMARY     PrimaryHDU     138   ()      \n",
      "  1  gu463125092I  ImageHDU       210   (1987, 2046)   float32   \n",
      "  2  gu463129642I  ImageHDU       210   (1987, 2046)   float32   \n",
      "  3  gu463135103I  ImageHDU       210   (1987, 2046)   float32   \n"
     ]
    }
   ],
   "source": [
    "ofile_template = fits.open('../data/swiftuvot/truvot_reduced/00034040013/uvot/image/sw00034040013ugu_dt_coadd2.fits')\n",
    "ofile_obs = fits.open('../data/swiftuvot/truvot_reduced/00034040001/uvot/image/sw00034040001ugu_dt.img')\n",
    "ofile_template.info()\n",
    "ofile_obs.info()"
   ]
  },
  {
   "cell_type": "code",
   "execution_count": 109,
   "metadata": {
    "collapsed": false
   },
   "outputs": [
    {
     "data": {
      "text/plain": [
       "<matplotlib.text.Text at 0x1b5c05f98>"
      ]
     },
     "execution_count": 109,
     "metadata": {},
     "output_type": "execute_result"
    }
   ],
   "source": [
    "fig = plt.figure()\n",
    "ax1 = fig.add_subplot(1, 2, 1)\n",
    "ax2 = fig.add_subplot(1,2,2)\n",
    "vmin, vmax = zscale(ofile_template[0].data)\n",
    "ax1.imshow(ofile_template[0].data, interpolation='nearest',vmin=vmin, vmax=vmax)\n",
    "ax1.plot(1041.,554, 'ro')\n",
    "ax1.set_title('Template Coadd')\n",
    "vmin, vmax = zscale(ofile_obs[1].data)\n",
    "ax2.imshow(ofile_obs[1].data, interpolation='nearest',vmin=vmin, vmax=vmax)\n",
    "ax2.plot(854.,650, 'ro')\n",
    "ax2.set_title('Obs ext1')\n"
   ]
  },
  {
   "cell_type": "code",
   "execution_count": 128,
   "metadata": {
    "collapsed": false
   },
   "outputs": [
    {
     "data": {
      "text/plain": [
       "<matplotlib.text.Text at 0x1a1711160>"
      ]
     },
     "execution_count": 128,
     "metadata": {},
     "output_type": "execute_result"
    }
   ],
   "source": [
    "fig = plt.figure()\n",
    "ax1 = fig.add_subplot(1, 2, 1)\n",
    "ax2 = fig.add_subplot(1,2,2)\n",
    "vmin, vmax = zscale(ofile_template[0].data)\n",
    "ax1.imshow(ofile_template[0].data, interpolation='nearest',vmin=vmin, vmax=vmax)\n",
    "ax1.plot(1041.,554, 'ro')\n",
    "ax1.set_title('Template Coadd')\n",
    "vmin, vmax = zscale(ofile_obs[2].data)\n",
    "ax2.imshow(ofile_obs[2].data, interpolation='nearest',vmin=vmin, vmax=vmax)\n",
    "ax2.plot(850.,632, 'ro')\n",
    "ax2.set_title('Obs ext2')\n"
   ]
  },
  {
   "cell_type": "code",
   "execution_count": 134,
   "metadata": {
    "collapsed": false
   },
   "outputs": [
    {
     "data": {
      "text/plain": [
       "<matplotlib.text.Text at 0x125daf2b0>"
      ]
     },
     "execution_count": 134,
     "metadata": {},
     "output_type": "execute_result"
    }
   ],
   "source": [
    "fig = plt.figure()\n",
    "ax1 = fig.add_subplot(1, 2, 1)\n",
    "ax2 = fig.add_subplot(1,2,2)\n",
    "vmin, vmax = zscale(ofile_template[0].data)\n",
    "ax1.imshow(ofile_template[0].data, interpolation='nearest',vmin=vmin, vmax=vmax)\n",
    "ax1.plot(1041.,554, 'ro')\n",
    "ax1.set_title('Template Coadd')\n",
    "vmin, vmax = zscale(ofile_obs[3].data)\n",
    "ax2.imshow(ofile_obs[3].data, interpolation='nearest',vmin=vmin, vmax=vmax)\n",
    "ax2.plot(864.,704., 'ro')\n",
    "ax2.set_title('Obs ext3')\n"
   ]
  },
  {
   "cell_type": "markdown",
   "metadata": {},
   "source": [
    "## Find Sky counts for template"
   ]
  },
  {
   "cell_type": "code",
   "execution_count": 111,
   "metadata": {
    "collapsed": false
   },
   "outputs": [
    {
     "name": "stdout",
     "output_type": "stream",
     "text": [
      "skycounts template coadd =  47.2526\n",
      "skycounts obs ext1 =  2.44765\n",
      "skycounts obs ext2 =  24.3349\n",
      "skycounts obs ext3 =  28.9347\n"
     ]
    }
   ],
   "source": [
    "print('skycounts template coadd = ', np.median(ofile_template[0].data[1200:, 1200:]))\n",
    "print('skycounts obs ext1 = ', np.median(ofile_obs[1].data[1200:, 1200:]))\n",
    "print('skycounts obs ext2 = ', np.median(ofile_obs[2].data[1200:, 1200:]))\n",
    "print('skycounts obs ext3 = ', np.median(ofile_obs[3].data[1200:, 1200:]))"
   ]
  },
  {
   "cell_type": "markdown",
   "metadata": {},
   "source": [
    "## Look at subtracted file"
   ]
  },
  {
   "cell_type": "code",
   "execution_count": 135,
   "metadata": {
    "collapsed": false,
    "scrolled": true
   },
   "outputs": [
    {
     "name": "stdout",
     "output_type": "stream",
     "text": [
      "Filename: ../data/swiftuvot/truvot_reduced/00034040001/uvot/image/sw00034040001ugu_dt_subtracted_1.fits\n",
      "No.    Name         Type      Cards   Dimensions   Format\n",
      "  0  gu463125092I  PrimaryHDU     206   (1987, 2046)   float64   \n"
     ]
    }
   ],
   "source": [
    "ofile_sub1 = fits.open('../data/swiftuvot/truvot_reduced/00034040001/uvot/image/sw00034040001ugu_dt_subtracted_1.fits')\n",
    "ofile_sub2 = fits.open('../data/swiftuvot/truvot_reduced/00034040001/uvot/image/sw00034040001ugu_dt_subtracted_2.fits')\n",
    "ofile_sub3 = fits.open('../data/swiftuvot/truvot_reduced/00034040001/uvot/image/sw00034040001ugu_dt_subtracted_3.fits')\n",
    "ofile_sub1.info()"
   ]
  },
  {
   "cell_type": "markdown",
   "metadata": {},
   "source": [
    "### First extension"
   ]
  },
  {
   "cell_type": "code",
   "execution_count": 123,
   "metadata": {
    "collapsed": false
   },
   "outputs": [
    {
     "data": {
      "text/plain": [
       "<matplotlib.text.Text at 0x114f12160>"
      ]
     },
     "execution_count": 123,
     "metadata": {},
     "output_type": "execute_result"
    }
   ],
   "source": [
    "x1=1285.\n",
    "y1=698.\n",
    "x2=1476.\n",
    "y2=602.\n",
    "fig = plt.figure()\n",
    "ax1 = fig.add_subplot(1, 3, 1)\n",
    "ax2 = fig.add_subplot(1,3,2)\n",
    "ax3 = fig.add_subplot(1,3,3)\n",
    "vmin, vmax = zscale(ofile_template[0].data)\n",
    "ax1.imshow(ofile_template[0].data, interpolation='nearest',vmin=vmin, vmax=vmax)\n",
    "ax1.set_title('Template Coadd')\n",
    "ax1.plot(x2, y2, 'ro')\n",
    "vmin, vmax = zscale(ofile_obs[1].data)\n",
    "ax2.imshow(ofile_obs[1].data, interpolation='nearest',vmin=vmin, vmax=vmax)\n",
    "ax2.plot(x1, y1, 'ro')\n",
    "ax2.set_title('Obs ext1')\n",
    "vmin, vmax = zscale(ofile_sub1[0].data)\n",
    "ax3.imshow(ofile_sub1[0].data, interpolation='nearest', vmin=vmin, vmax=vmax)\n",
    "ax3.set_title('Sub ext1')"
   ]
  },
  {
   "cell_type": "markdown",
   "metadata": {},
   "source": [
    "### Second extension"
   ]
  },
  {
   "cell_type": "code",
   "execution_count": 129,
   "metadata": {
    "collapsed": false
   },
   "outputs": [
    {
     "data": {
      "text/plain": [
       "<matplotlib.text.Text at 0x1235597b8>"
      ]
     },
     "execution_count": 129,
     "metadata": {},
     "output_type": "execute_result"
    }
   ],
   "source": [
    "x1=1281.\n",
    "y1=681.\n",
    "x2=1476.\n",
    "y2=602.\n",
    "fig = plt.figure()\n",
    "ax1 = fig.add_subplot(1, 3, 1)\n",
    "ax2 = fig.add_subplot(1,3,2)\n",
    "ax3 = fig.add_subplot(1,3,3)\n",
    "vmin, vmax = zscale(ofile_template[0].data)\n",
    "ax1.imshow(ofile_template[0].data, interpolation='nearest',vmin=vmin, vmax=vmax)\n",
    "ax1.set_title('Template Coadd')\n",
    "ax1.plot(x2, y2, 'ro')\n",
    "vmin, vmax = zscale(ofile_obs[2].data)\n",
    "ax2.imshow(ofile_obs[2].data, interpolation='nearest',vmin=vmin, vmax=vmax)\n",
    "ax2.set_title('Obs ext2')\n",
    "ax2.plot(x1, y1, 'ro')\n",
    "vmin, vmax = zscale(ofile_sub2[0].data)\n",
    "ax3.imshow(ofile_sub2[0].data, interpolation='nearest', vmin=vmin, vmax=vmax)\n",
    "ax3.set_title('Sub ext2')"
   ]
  },
  {
   "cell_type": "markdown",
   "metadata": {},
   "source": [
    "### Third extension"
   ]
  },
  {
   "cell_type": "code",
   "execution_count": 136,
   "metadata": {
    "collapsed": false
   },
   "outputs": [
    {
     "data": {
      "text/plain": [
       "<matplotlib.text.Text at 0x132885b38>"
      ]
     },
     "execution_count": 136,
     "metadata": {},
     "output_type": "execute_result"
    }
   ],
   "source": [
    "x1=1294.\n",
    "y1=752.\n",
    "x2=1476.\n",
    "y2=602.\n",
    "fig = plt.figure()\n",
    "ax1 = fig.add_subplot(1, 3, 1)\n",
    "ax2 = fig.add_subplot(1,3,2)\n",
    "ax3 = fig.add_subplot(1,3,3)\n",
    "vmin, vmax = zscale(ofile_template[0].data)\n",
    "ax1.imshow(ofile_template[0].data, interpolation='nearest',vmin=vmin, vmax=vmax)\n",
    "ax1.plot(x2, y2, 'ro')\n",
    "ax1.set_xlim(0, 2048)\n",
    "ax1.set_ylim(0, 2048)\n",
    "ax1.set_title('Template Coadd')\n",
    "vmin, vmax = zscale(ofile_obs[3].data)\n",
    "ax2.imshow(ofile_obs[3].data, interpolation='nearest',vmin=vmin, vmax=vmax)\n",
    "ax2.set_title('Obs ext3')\n",
    "ax2.plot(x1, y1, 'ro')\n",
    "vmin, vmax = zscale(ofile_sub3[0].data)\n",
    "ax3.imshow(ofile_sub3[0].data, interpolation='nearest', vmin=vmin, vmax=vmax)\n",
    "ax3.set_title('Sub ext3')"
   ]
  },
  {
   "cell_type": "code",
   "execution_count": 34,
   "metadata": {
    "collapsed": false
   },
   "outputs": [
    {
     "data": {
      "text/plain": [
       "-3.287495751840348"
      ]
     },
     "execution_count": 34,
     "metadata": {},
     "output_type": "execute_result"
    }
   ],
   "source": []
  },
  {
   "cell_type": "markdown",
   "metadata": {},
   "source": [
    "# Visit 2"
   ]
  },
  {
   "cell_type": "markdown",
   "metadata": {},
   "source": [
    "## Find rough image offset for shifting template to SN observations"
   ]
  },
  {
   "cell_type": "code",
   "execution_count": 130,
   "metadata": {
    "collapsed": false
   },
   "outputs": [
    {
     "name": "stdout",
     "output_type": "stream",
     "text": [
      "Filename: ../data/swiftuvot/truvot_reduced/00034040015/uvot/image/sw00034040015ugu_dt_coadd4.fits\n",
      "No.    Name         Type      Cards   Dimensions   Format\n",
      "  0  gu527591844I  PrimaryHDU     210   (1987, 2046)   float32   \n",
      "Filename: ../data/swiftuvot/truvot_reduced/00034040002/uvot/image/sw00034040002ugu_dt.img\n",
      "No.    Name         Type      Cards   Dimensions   Format\n",
      "  0  PRIMARY     PrimaryHDU     138   ()      \n",
      "  1  gu463152635I  ImageHDU       210   (1987, 2046)   float32   \n",
      "  2  gu463158444I  ImageHDU       210   (1987, 2046)   float32   \n",
      "  3  gu463164753I  ImageHDU       210   (1987, 2046)   float32   \n"
     ]
    }
   ],
   "source": [
    "ofile_template = fits.open('../data/swiftuvot/truvot_reduced/00034040015/uvot/image/sw00034040015ugu_dt_coadd4.fits')\n",
    "ofile_obs = fits.open('../data/swiftuvot/truvot_reduced/00034040002/uvot/image/sw00034040002ugu_dt.img')\n",
    "ofile_template.info()\n",
    "ofile_obs.info()"
   ]
  },
  {
   "cell_type": "code",
   "execution_count": 92,
   "metadata": {
    "collapsed": false
   },
   "outputs": [
    {
     "data": {
      "text/plain": [
       "<matplotlib.text.Text at 0x18400d320>"
      ]
     },
     "execution_count": 92,
     "metadata": {},
     "output_type": "execute_result"
    }
   ],
   "source": [
    "fig = plt.figure()\n",
    "ax1 = fig.add_subplot(1, 2, 1)\n",
    "ax2 = fig.add_subplot(1,2,2)\n",
    "vmin, vmax = zscale(ofile_template[0].data)\n",
    "ax1.imshow(ofile_template[0].data, interpolation='nearest',vmin=vmin, vmax=vmax)\n",
    "ax1.plot(1440, 602, 'ro')\n",
    "ax1.set_title('Template Coadd')\n",
    "vmin, vmax = zscale(ofile_obs[1].data)\n",
    "ax2.imshow(ofile_obs[1].data, interpolation='nearest',vmin=vmin, vmax=vmax)\n",
    "ax2.plot(1455, 795, 'ro')\n",
    "ax2.set_title('Obs ext1')\n"
   ]
  },
  {
   "cell_type": "code",
   "execution_count": 93,
   "metadata": {
    "collapsed": false
   },
   "outputs": [
    {
     "data": {
      "text/plain": [
       "<matplotlib.text.Text at 0x18c96ccf8>"
      ]
     },
     "execution_count": 93,
     "metadata": {},
     "output_type": "execute_result"
    }
   ],
   "source": [
    "fig = plt.figure()\n",
    "ax1 = fig.add_subplot(1, 2, 1)\n",
    "ax2 = fig.add_subplot(1,2,2)\n",
    "vmin, vmax = zscale(ofile_template[0].data)\n",
    "ax1.imshow(ofile_template[0].data, interpolation='nearest',vmin=vmin, vmax=vmax)\n",
    "ax1.plot(1440, 602, 'ro')\n",
    "ax1.set_title('Template Coadd')\n",
    "vmin, vmax = zscale(ofile_obs[2].data)\n",
    "ax2.imshow(ofile_obs[2].data, interpolation='nearest',vmin=vmin, vmax=vmax)\n",
    "ax2.plot(1262, 565, 'ro')\n",
    "ax2.set_title('Obs ext2')\n"
   ]
  },
  {
   "cell_type": "code",
   "execution_count": 94,
   "metadata": {
    "collapsed": false
   },
   "outputs": [
    {
     "data": {
      "text/plain": [
       "<matplotlib.text.Text at 0x13bc7d4a8>"
      ]
     },
     "execution_count": 94,
     "metadata": {},
     "output_type": "execute_result"
    }
   ],
   "source": [
    "fig = plt.figure()\n",
    "ax1 = fig.add_subplot(1, 2, 1)\n",
    "ax2 = fig.add_subplot(1,2,2)\n",
    "vmin, vmax = zscale(ofile_template[0].data)\n",
    "ax1.imshow(ofile_template[0].data, interpolation='nearest',vmin=vmin, vmax=vmax)\n",
    "ax1.plot(1440, 602, 'ro')\n",
    "ax1.set_title('Template Coadd')\n",
    "vmin, vmax = zscale(ofile_obs[3].data)\n",
    "ax2.imshow(ofile_obs[3].data, interpolation='nearest',vmin=vmin, vmax=vmax)\n",
    "ax2.plot(1259, 573, 'ro')\n",
    "ax2.set_title('Obs ext3')\n"
   ]
  },
  {
   "cell_type": "markdown",
   "metadata": {},
   "source": [
    "## Find Sky counts for template"
   ]
  },
  {
   "cell_type": "code",
   "execution_count": 95,
   "metadata": {
    "collapsed": false
   },
   "outputs": [
    {
     "name": "stdout",
     "output_type": "stream",
     "text": [
      "skycounts template coadd =  58.4432\n",
      "skycounts obs ext1 =  24.7856\n",
      "skycounts obs ext2 =  23.0947\n",
      "skycounts obs ext3 =  4.27119\n"
     ]
    }
   ],
   "source": [
    "print('skycounts template coadd = ', np.median(ofile_template[0].data[1200:, 1200:]))\n",
    "print('skycounts obs ext1 = ', np.median(ofile_obs[1].data[1200:, 1200:]))\n",
    "print('skycounts obs ext2 = ', np.median(ofile_obs[2].data[1200:, 1200:]))\n",
    "print('skycounts obs ext3 = ', np.median(ofile_obs[3].data[1200:, 1200:]))"
   ]
  },
  {
   "cell_type": "markdown",
   "metadata": {},
   "source": [
    "## Look at subtracted file"
   ]
  },
  {
   "cell_type": "code",
   "execution_count": 131,
   "metadata": {
    "collapsed": false,
    "scrolled": true
   },
   "outputs": [
    {
     "name": "stdout",
     "output_type": "stream",
     "text": [
      "Filename: ../data/swiftuvot/truvot_reduced/00034040002/uvot/image/sw00034040002ugu_dt_subtracted_1.fits\n",
      "No.    Name         Type      Cards   Dimensions   Format\n",
      "  0  gu463152635I  PrimaryHDU     206   (1987, 2046)   float64   \n"
     ]
    }
   ],
   "source": [
    "ofile_sub1 = fits.open('../data/swiftuvot/truvot_reduced/00034040002/uvot/image/sw00034040002ugu_dt_subtracted_1.fits')\n",
    "ofile_sub2 = fits.open('../data/swiftuvot/truvot_reduced/00034040002/uvot/image/sw00034040002ugu_dt_subtracted_2.fits')\n",
    "ofile_sub3 = fits.open('../data/swiftuvot/truvot_reduced/00034040002/uvot/image/sw00034040002ugu_dt_subtracted_3.fits')\n",
    "ofile_sub1.info()"
   ]
  },
  {
   "cell_type": "markdown",
   "metadata": {},
   "source": [
    "### First extension"
   ]
  },
  {
   "cell_type": "code",
   "execution_count": 99,
   "metadata": {
    "collapsed": false
   },
   "outputs": [
    {
     "data": {
      "text/plain": [
       "<matplotlib.text.Text at 0x1a14a2780>"
      ]
     },
     "execution_count": 99,
     "metadata": {},
     "output_type": "execute_result"
    }
   ],
   "source": [
    "x1=1455.\n",
    "y1=795.\n",
    "x2=1440.\n",
    "y2=602.\n",
    "fig = plt.figure()\n",
    "ax1 = fig.add_subplot(1, 3, 1)\n",
    "ax2 = fig.add_subplot(1,3,2)\n",
    "ax3 = fig.add_subplot(1,3,3)\n",
    "vmin, vmax = zscale(ofile_template[0].data)\n",
    "ax1.imshow(ofile_template[0].data, interpolation='nearest',vmin=vmin, vmax=vmax)\n",
    "ax1.set_title('Template Coadd')\n",
    "ax1.plot(x2, y2, 'ro')\n",
    "vmin, vmax = zscale(ofile_obs[1].data)\n",
    "ax2.imshow(ofile_obs[1].data, interpolation='nearest',vmin=vmin, vmax=vmax)\n",
    "ax2.plot(x1, y1, 'ro')\n",
    "ax2.set_title('Obs ext1')\n",
    "vmin, vmax = zscale(ofile_sub1[0].data[1200:1400,1200:1400])\n",
    "ax3.imshow(ofile_sub1[0].data, interpolation='nearest', vmin=vmin, vmax=vmax)\n",
    "ax3.set_title('Sub ext1')"
   ]
  },
  {
   "cell_type": "markdown",
   "metadata": {},
   "source": [
    "### Second extension"
   ]
  },
  {
   "cell_type": "code",
   "execution_count": 132,
   "metadata": {
    "collapsed": false
   },
   "outputs": [
    {
     "data": {
      "text/plain": [
       "<matplotlib.text.Text at 0x1327d4160>"
      ]
     },
     "execution_count": 132,
     "metadata": {},
     "output_type": "execute_result"
    }
   ],
   "source": [
    "x1=1262.\n",
    "y1=565\n",
    "x2=1440.\n",
    "y2=602.\n",
    "fig = plt.figure()\n",
    "ax1 = fig.add_subplot(1, 3, 1)\n",
    "ax2 = fig.add_subplot(1,3,2)\n",
    "ax3 = fig.add_subplot(1,3,3)\n",
    "vmin, vmax = zscale(ofile_template[0].data)\n",
    "ax1.imshow(ofile_template[0].data, interpolation='nearest',vmin=vmin, vmax=vmax)\n",
    "ax1.set_title('Template Coadd')\n",
    "ax1.plot(x2, y2, 'ro')\n",
    "vmin, vmax = zscale(ofile_obs[2].data)\n",
    "ax2.imshow(ofile_obs[2].data, interpolation='nearest',vmin=vmin, vmax=vmax)\n",
    "ax2.set_title('Obs ext2')\n",
    "ax2.plot(x1, y1, 'ro')\n",
    "#vmin, vmax = zscale(ofile_sub2[0].data[1200:1400,1200:1400])\n",
    "ax3.imshow(ofile_sub2[0].data, interpolation='nearest', vmin=vmin, vmax=vmax)\n",
    "ax3.set_title('Sub ext2')"
   ]
  },
  {
   "cell_type": "markdown",
   "metadata": {},
   "source": [
    "### Third extension"
   ]
  },
  {
   "cell_type": "code",
   "execution_count": 106,
   "metadata": {
    "collapsed": false
   },
   "outputs": [
    {
     "data": {
      "text/plain": [
       "<matplotlib.text.Text at 0x1c5d16f98>"
      ]
     },
     "execution_count": 106,
     "metadata": {},
     "output_type": "execute_result"
    }
   ],
   "source": [
    "x1=1259.\n",
    "y1=573.\n",
    "x2=1440.\n",
    "y2=602.\n",
    "fig = plt.figure()\n",
    "ax1 = fig.add_subplot(1, 3, 1)\n",
    "ax2 = fig.add_subplot(1,3,2)\n",
    "ax3 = fig.add_subplot(1,3,3)\n",
    "vmin, vmax = zscale(ofile_template[0].data)\n",
    "ax1.imshow(ofile_template[0].data, interpolation='nearest',vmin=vmin, vmax=vmax)\n",
    "ax1.plot(x2, y2, 'ro')\n",
    "ax1.set_xlim(0, 2048)\n",
    "ax1.set_ylim(0, 2048)\n",
    "ax1.set_title('Template Coadd')\n",
    "vmin, vmax = zscale(ofile_obs[3].data)\n",
    "ax2.imshow(ofile_obs[3].data, interpolation='nearest',vmin=vmin, vmax=vmax)\n",
    "ax2.set_title('Obs ext3')\n",
    "ax2.plot(x1, y1, 'ro')\n",
    "#vmin, vmax = zscale(ofile_sub3[0].data)\n",
    "ax3.imshow(ofile_sub3[0].data, interpolation='nearest', vmin=vmin, vmax=vmax)\n",
    "ax3.set_title('Sub ext3')"
   ]
  },
  {
   "cell_type": "code",
   "execution_count": null,
   "metadata": {
    "collapsed": true
   },
   "outputs": [],
   "source": []
  }
 ],
 "metadata": {
  "kernelspec": {
   "display_name": "Python [default]",
   "language": "python",
   "name": "python3"
  },
  "language_info": {
   "codemirror_mode": {
    "name": "ipython",
    "version": 3
   },
   "file_extension": ".py",
   "mimetype": "text/x-python",
   "name": "python",
   "nbconvert_exporter": "python",
   "pygments_lexer": "ipython3",
   "version": "3.5.2"
  }
 },
 "nbformat": 4,
 "nbformat_minor": 2
}
