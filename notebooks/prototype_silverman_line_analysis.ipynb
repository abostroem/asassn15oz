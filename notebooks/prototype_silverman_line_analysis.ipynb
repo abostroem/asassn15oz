{
 "cells": [
  {
   "cell_type": "code",
   "execution_count": 419,
   "metadata": {},
   "outputs": [
    {
     "name": "stdout",
     "output_type": "stream",
     "text": [
      "Using matplotlib backend: Qt5Agg\n"
     ]
    }
   ],
   "source": [
    "import os\n",
    "from collections import namedtuple\n",
    "from astropy.io import fits\n",
    "from astropy.io import ascii as asc\n",
    "from astropy.table import Table\n",
    "from astropy.modeling import models,fitting\n",
    "from astropy.convolution import convolve, Box1DKernel\n",
    "import numpy as np\n",
    "from scipy import signal, interpolate\n",
    "\n",
    "from matplotlib import pyplot as plt\n",
    "import matplotlib.collections as collections\n",
    "%matplotlib\n",
    "import spectroscopy as spec"
   ]
  },
  {
   "cell_type": "code",
   "execution_count": 425,
   "metadata": {},
   "outputs": [],
   "source": [
    "def read_iraf_spectrum(filename, flux_loc=0):\n",
    "    ofile = fits.open(filename)\n",
    "    flux = ofile[0].data[flux_loc,0,:]\n",
    "    err = ofile[0].data[3,0,:]\n",
    "    wave = spec.calc_wavelength(ofile[0].header, np.arange(len(flux))+1)\n",
    "    rest_wave = spec.apply_redshift(wave, 0.0069)\n",
    "    return(spec.spectrum1d(rest_wave, flux, error=err))"
   ]
  },
  {
   "cell_type": "code",
   "execution_count": 383,
   "metadata": {},
   "outputs": [],
   "source": [
    "DATA_DIR_LCO = '../data/spectra/lco'\n",
    "DATA_DIR_EFOSC = '../data/spectra/EFOSC'"
   ]
  },
  {
   "cell_type": "code",
   "execution_count": 384,
   "metadata": {},
   "outputs": [],
   "source": [
    "spectra_files = [\n",
    "         ('asassn15oz_20150904_redblu_122216.314.fits', DATA_DIR_LCO),\n",
    "         ('asassn-15oz_20150906_redblu_105042.698a.fits', DATA_DIR_LCO),\n",
    "         ('asassn15oz_20150907_redblu_123835.277.fits', DATA_DIR_LCO),\n",
    "         ('asassn15oz_20150911_redblu_105336.349.fits', DATA_DIR_LCO),\n",
    "         ('asassn15oz_20150916_redblu_120911.274.fits', DATA_DIR_LCO),\n",
    "         ('asassn-15oz_20150920_redblu_135034.512.fits',DATA_DIR_LCO),\n",
    "         ('asassn-15oz_20150924_redblu_123847.580.fits',DATA_DIR_LCO),\n",
    "         ('asassn-15oz_20150930_redblu_122858.217.fits',DATA_DIR_LCO),\n",
    "         ('tASASSN-15oz_20151003_Gr13_Free_slit1.0_57720_1_e.fits',DATA_DIR_EFOSC),\n",
    "         ('asassn15oz_20151006_redblu_101906.800.fits', DATA_DIR_LCO),\n",
    "         ('asassn15oz_20151014_redblu_112918.305.fits', DATA_DIR_LCO),\n",
    "         ('asassn-15oz_20151025_redblu_102221.833.fits', DATA_DIR_LCO),\n",
    "         ('asassn-15oz_20151107_redblu_101210.833.fits', DATA_DIR_LCO),\n",
    "         ('tASAS-SN_15oz_20151107_Gr13_Free_slit1.5_57723_1_e.fits', DATA_DIR_EFOSC),\n",
    "         ('tASAS-SN_15oz_20151118_Gr13_Free_slit1.0_57723_1_e.fits', DATA_DIR_EFOSC)\n",
    "                ]"
   ]
  },
  {
   "cell_type": "code",
   "execution_count": 385,
   "metadata": {},
   "outputs": [],
   "source": [
    "ifile, idir = spectra_files[10]\n",
    "spectrum = read_iraf_spectrum(os.path.join(idir, ifile))"
   ]
  },
  {
   "cell_type": "markdown",
   "metadata": {},
   "source": [
    "# Get a sense of the smoothing function"
   ]
  },
  {
   "cell_type": "code",
   "execution_count": 386,
   "metadata": {},
   "outputs": [],
   "source": [
    "smooth_flux1 = signal.savgol_filter(spectrum.flux, 21, 4)\n",
    "smooth_flux2 = signal.savgol_filter(spectrum.flux, 5, 2)"
   ]
  },
  {
   "cell_type": "code",
   "execution_count": 387,
   "metadata": {},
   "outputs": [],
   "source": [
    "#I think that a larger width will introduce more smoothing and that a lower order polynomial will introduce more smoothing\n",
    "fig = plt.figure()\n",
    "wave_range = [(3900, 4100), (7000, 7200), (9500, 9700)]\n",
    "flux = [spectrum.flux, smooth_flux1, smooth_flux2]\n",
    "plot_num = 1\n",
    "ax_list = []\n",
    "for iflux in flux:\n",
    "    for wmin, wmax in wave_range:\n",
    "        windx = (spectrum.wave<wmax) & (spectrum.wave>wmin)\n",
    "        ax = fig.add_subplot(3,3,plot_num)\n",
    "        ax_list.append(ax)\n",
    "        ax.plot(spectrum.wave[windx], iflux[windx])\n",
    "        plot_num+=1\n",
    "fig.tight_layout()"
   ]
  },
  {
   "cell_type": "markdown",
   "metadata": {},
   "source": [
    "# Find the Edges"
   ]
  },
  {
   "cell_type": "code",
   "execution_count": 388,
   "metadata": {},
   "outputs": [],
   "source": [
    "def smooth_signal(flux, width, poly_deg):\n",
    "    smoothed_flux = signal.savgol_filter(flux, width, poly_deg)\n",
    "    return smoothed_flux\n",
    "    \n",
    "def find_blue_edge(wave, flux, wcenter, binsize, wmin=None):\n",
    "    '''\n",
    "    Calculate the slope in each bin starting at wmin, until the bin changes sign, use center for blue_edge\n",
    "    '''\n",
    "    wcenter_indx = np.argmin(np.abs(wave-wcenter))\n",
    "    ifit = np.polyfit(wave[wcenter_indx-binsize: wcenter_indx+1],flux[wcenter_indx-binsize: wcenter_indx+1], 1)\n",
    "    slope_product = 1\n",
    "    #plt.plot(wave, flux)\n",
    "    #plt.xlim(wmin, wcenter)\n",
    "    if wmin is None:\n",
    "        search_indx = np.arange(binsize,wcenter_indx+1)\n",
    "    else:\n",
    "        min_indx = np.argmin(np.abs(wave - wmin))\n",
    "        search_indx = np.arange(min_indx, wcenter_indx)\n",
    "    for indx in search_indx[::-1]:\n",
    "        last_slope = ifit[0]\n",
    "        if indx-binsize < 0:\n",
    "            break\n",
    "        ifit = np.polyfit(wave[indx-binsize:indx+1], flux[indx-binsize:indx+1], 1)\n",
    "        #plt.plot(wave[indx-binsize:indx+1], flux[indx-binsize:indx+1])\n",
    "        #plt.plot(wave[indx-binsize:indx+1], np.polyval(ifit, wave[indx-binsize:indx+1]))\n",
    "        slope_product = last_slope*ifit[0] #if this is negative then the slope has changed sign\n",
    "        if slope_product < 0:\n",
    "            break  \n",
    "    edge_indx = indx - binsize//2\n",
    "    return edge_indx, wave[edge_indx] \n",
    "\n",
    "    \n",
    "def find_red_edge(wave, flux, wcenter, binsize, wmax = None):\n",
    "    '''\n",
    "    Calculate the slope in each bin starting at wmin, until the bin changes sign, use center for red_edge\n",
    "    binsize is in pixels\n",
    "    '''\n",
    "    wcenter_indx = np.argmin(np.abs(wave-wcenter))\n",
    "    #fig = plt.figure()\n",
    "    #ax1 = fig.add_subplot(2,1,1)\n",
    "    #ax2 = fig.add_subplot(2,1,2, sharex=ax1)\n",
    "    #ax1.plot(wave, flux)\n",
    "    #ax2.plot(wave, wave-wcenter)\n",
    "    ifit = np.polyfit(wave[wcenter_indx:wcenter_indx+binsize+1],flux[wcenter_indx:wcenter_indx+binsize+1], 1)\n",
    "    slope_product = 1\n",
    "    #plt.plot(wave, flux)\n",
    "    #plt.xlim(wmin, wcenter)\n",
    "    #plt.axvline(wave[wcenter_indx], color='y')\n",
    "    if wmax is None:\n",
    "        search_indx = np.arange(wcenter_indx, len(flux))\n",
    "    else:\n",
    "        max_indx = np.argmin(np.abs(wave - wmax))\n",
    "        search_indx = np.arange(wcenter_indx, max_indx+1)\n",
    "    #plt.plot(wave[search_indx], flux[search_indx])\n",
    "    for indx in search_indx:\n",
    "        last_slope = ifit[0]\n",
    "        ifit = np.polyfit(wave[indx:indx+binsize+1], flux[indx:indx+binsize+1], 1)\n",
    "        slope_product = last_slope*ifit[0] #if this is negative then the slope has changed sign\n",
    "        #plt.plot(wave[indx:indx+binsize+1], flux[indx:indx+binsize+1])\n",
    "        #plt.plot(wave[indx:indx+binsize+1], np.polyval(ifit, wave[indx:indx+binsize+1]))\n",
    "        slope_product = last_slope*ifit[0] #if this is negative then the slope has changed sign\n",
    "        if slope_product < 0:\n",
    "            break  \n",
    "    edge_indx = indx + binsize//2\n",
    "    return edge_indx, wave[edge_indx] \n",
    "    \n",
    "def check_max(wave, flux, edge_indx, binsize, absorption=True):\n",
    "    '''\n",
    "    Fit a quadratic and verify that it is the correct direction\n",
    "    '''\n",
    "    wmin_indx = edge_indx - binsize//2\n",
    "    wmax_indx = edge_indx + binsize//2\n",
    "    fit = np.polyfit(wave[wmin_indx:wmax_indx+1], flux[wmin_indx:wmax_indx+1], 2)\n",
    "    if fit[0]>0:\n",
    "        concavity = 'up'\n",
    "    if fit[0]<0:\n",
    "        concavity = 'down'\n",
    "    if ((absorption is True) and (concavity is 'down')) or ((absorption is False) and (concavity is 'up')):\n",
    "        good_fit = True\n",
    "    else:\n",
    "        good_fit = False\n",
    "    return good_fit\n",
    "\n"
   ]
  },
  {
   "cell_type": "code",
   "execution_count": 389,
   "metadata": {},
   "outputs": [
    {
     "name": "stdout",
     "output_type": "stream",
     "text": [
      "rmse calculated over 10 points\n",
      "rmse calculated over 10 points\n"
     ]
    }
   ],
   "source": [
    "def calc_rmse(data, model):\n",
    "    rmse = np.sqrt(np.sum((model-data)**2)/len(data))\n",
    "    print('rmse calculated over {} points'.format(len(data)))\n",
    "    return rmse\n",
    "def test_calc_rmse1():\n",
    "    data = np.ones(10)\n",
    "    model = np.ones(10)\n",
    "    rmse = calc_rmse(data, model)\n",
    "    assert np.isclose(rmse,0)\n",
    "def test_calc_rmse2():\n",
    "    data = np.ones(10)\n",
    "    model = np.zeros(10)\n",
    "    rmse = calc_rmse(data, model)\n",
    "    assert np.isclose(rmse,1)\n",
    "test_calc_rmse1()\n",
    "test_calc_rmse2()"
   ]
  },
  {
   "cell_type": "code",
   "execution_count": 390,
   "metadata": {},
   "outputs": [],
   "source": [
    "wave = spectrum.wave\n",
    "flux = spectrum.flux\n",
    "poly_deg = 2\n",
    "width = 21\n",
    "binsize=21\n",
    "#wmin = 5400\n",
    "#wmax = 5700\n",
    "wmin = None\n",
    "wmax = None\n",
    "wcenter=5550\n",
    "\n",
    "smooth_flux= smooth_signal(flux, width, poly_deg)\n",
    "blue_edge_indx, blue_edge_wl = find_blue_edge(wave, smooth_flux, wcenter, binsize, wmin=wmin)\n",
    "red_edge_indx, red_edge_wl = find_red_edge(wave, smooth_flux, wcenter, binsize, wmax = wmax)\n",
    "if blue_edge_indx is not None:\n",
    "    good_fit_blue = check_max(wave, smooth_flux, blue_edge_indx, binsize, absorption=True)\n",
    "if red_edge_indx is not None:\n",
    "    good_fit_red = check_max(wave, smooth_flux, red_edge_indx, binsize, absorption=True)"
   ]
  },
  {
   "cell_type": "code",
   "execution_count": 391,
   "metadata": {},
   "outputs": [
    {
     "name": "stdout",
     "output_type": "stream",
     "text": [
      "1211 5465.03886138\n",
      "1292 5604.74536071\n",
      "True True\n",
      "(3802,)\n"
     ]
    }
   ],
   "source": [
    "print(blue_edge_indx, blue_edge_wl)\n",
    "print(red_edge_indx, red_edge_wl)\n",
    "print(good_fit_blue, good_fit_red)\n",
    "print( flux.shape)"
   ]
  },
  {
   "cell_type": "code",
   "execution_count": 393,
   "metadata": {},
   "outputs": [
    {
     "data": {
      "text/plain": [
       "<matplotlib.lines.Line2D at 0x1c289b57f0>"
      ]
     },
     "execution_count": 393,
     "metadata": {},
     "output_type": "execute_result"
    }
   ],
   "source": [
    "fig = plt.figure()\n",
    "ax = fig.add_subplot(1,1,1)\n",
    "l2 = plt.plot(wave, smooth_flux, color='r')\n",
    "plt.axvline(wcenter, linestyle = ':', color = 'y', label='line_center')\n",
    "plt.xlim(wmin, wmax)\n",
    "plt.axvline(blue_edge_wl, color='b', ls='--')\n",
    "plt.axvline(red_edge_wl, color='r', ls='--')"
   ]
  },
  {
   "cell_type": "markdown",
   "metadata": {},
   "source": [
    "# Refactor finding the edges"
   ]
  },
  {
   "cell_type": "markdown",
   "metadata": {},
   "source": [
    "The previous functions are very subjective to where you put the line center. It should be that if you give the function a wavelength range that includes the center and the edges and your binsize is sufficiently large then there should be 3 places where the slope changes sign that correspond to the blue edge, the center, and the red edge. This method is much more robust and does not require an accurate guess of the location of the minimum. Perhaps keep this one around for finding the edge of a blended line?"
   ]
  },
  {
   "cell_type": "code",
   "execution_count": 394,
   "metadata": {},
   "outputs": [],
   "source": [
    "def find_boundary(wave, flux, wmin, wmax, binsize, visualize=False):\n",
    "    wmin_indx = np.argmin(np.abs(wave-wmin))\n",
    "    wmax_indx = np.argmin(np.abs(wave-wmax))\n",
    "    slope_product = []\n",
    "    ifit = np.polyfit(wave[wmin_indx-binsize//2:wmin_indx+binsize//2+1], flux[wmin_indx-binsize//2:wmin_indx+binsize//2+1], 1)\n",
    "    search_indx = np.arange(wmin_indx, wmax_indx+1)\n",
    "    if visualize:\n",
    "        fig = plt.figure()\n",
    "        ax1 = fig.add_subplot(2,1,1)\n",
    "        ax2 = fig.add_subplot(2,1,2, sharex=ax1)\n",
    "        ax1.set_xlim(wmin, wmax)\n",
    "    for indx in search_indx:\n",
    "        last_slope = ifit[0]\n",
    "        ifit = np.polyfit(wave[indx-binsize//2:indx+binsize//2+1], flux[indx-binsize//2:indx+binsize//2+1], 1)\n",
    "        slope_product.append(last_slope*ifit[0]) #if this is negative then the slope has changed sign\n",
    "        if visualize:\n",
    "            ax1.plot(wave[indx-binsize//2:indx+binsize//2+1], np.polyval(ifit, wave[indx-binsize//2:indx+binsize//2+1]))\n",
    "    slope_product = np.array(slope_product)\n",
    "    slope_change_indx = search_indx[slope_product<0]\n",
    "    if visualize:\n",
    "        ax1.plot(wave, flux)\n",
    "        ax2.plot(wave[search_indx], slope_product)\n",
    "        ax2.axhline(0, color='k', linestyle=':')\n",
    "    if len(slope_change_indx) == 3:\n",
    "        blue_edge_indx, wcenter_indx, red_edge_indx = slope_change_indx\n",
    "        return blue_edge_indx, wcenter_indx, red_edge_indx\n",
    "    else:\n",
    "        return None, None, None"
   ]
  },
  {
   "cell_type": "code",
   "execution_count": 395,
   "metadata": {},
   "outputs": [
    {
     "name": "stdout",
     "output_type": "stream",
     "text": [
      "True\n",
      "True\n"
     ]
    }
   ],
   "source": [
    "wave = spectrum.wave\n",
    "flux = spectrum.flux\n",
    "poly_deg = 2\n",
    "width = 5\n",
    "binsize=15\n",
    "wmin = 5400\n",
    "wmax = 5700\n",
    "\n",
    "smooth_flux = smooth_signal(flux, width, poly_deg)\n",
    "blue_edge_indx, wcenter_indx, red_edge_indx = find_boundary(wave, smooth_flux, wmin, wmax, binsize)\n",
    "if blue_edge_indx is not None:\n",
    "    good_fit_blue = check_max(wave, smooth_flux, blue_edge_indx, binsize, absorption=True)\n",
    "    print(good_fit_blue)\n",
    "else:\n",
    "    print(blue_edge_not_found)\n",
    "if red_edge_indx is not None:\n",
    "    good_fit_red = check_max(wave, smooth_flux, red_edge_indx, binsize, absorption=True)\n",
    "    print(good_fit_red)\n",
    "else:\n",
    "    print(red_edge_not_found)"
   ]
  },
  {
   "cell_type": "code",
   "execution_count": 396,
   "metadata": {},
   "outputs": [
    {
     "data": {
      "text/plain": [
       "<matplotlib.lines.Line2D at 0x1c26a9fbe0>"
      ]
     },
     "execution_count": 396,
     "metadata": {},
     "output_type": "execute_result"
    }
   ],
   "source": [
    "wcenter = wave[wcenter_indx]\n",
    "blue_edge_wl = wave[blue_edge_indx]\n",
    "red_edge_wl = wave[red_edge_indx]\n",
    "plt.axvspan(wmin, wmax, color='y', alpha = 0.25, label='fit_range')\n",
    "plt.plot(wave, flux)\n",
    "plt.plot(wave, smooth_flux, '.')\n",
    "plt.axvline(wcenter, linestyle = ':', color = 'y', label='line_center')\n",
    "plt.xlim(wmin, wmax)\n",
    "plt.axvline(blue_edge_wl, color='b', ls='--')\n",
    "plt.axvline(red_edge_wl, color='r', ls='--')"
   ]
  },
  {
   "cell_type": "markdown",
   "metadata": {},
   "source": [
    "# Define Continuum"
   ]
  },
  {
   "cell_type": "code",
   "execution_count": 399,
   "metadata": {},
   "outputs": [],
   "source": [
    "endpoint = namedtuple('endpoint', ['wave', 'flux', 'error'])\n",
    "def determine_error_binsize(wave, wave_bin=100):\n",
    "    '''\n",
    "    We should be calculating noise over the same wavelength range\n",
    "    rather than the same number of pixels as long as one wavelength\n",
    "    bin includes enough pixels. Set binsize to be 100A. If there are\n",
    "    fewer than 10 pixels in 100A (dispersion is greater than 10A/pix)\n",
    "    then issue a warning and make binsize 10 pixels regardless of how\n",
    "    many angstroms this represents\n",
    "    \n",
    "    wave: array of wavelengths\n",
    "    wave_bin: size of bin in angstroms\n",
    "    \n",
    "    outputs: binsize in pixels\n",
    "    \n",
    "    Note: right now this calculates the dispersion for the full wavelength range.\n",
    "    For a grating/grism with a large variation in dispersion, it might make sense to\n",
    "    just calculate this over the feature wavelength range.\n",
    "    '''\n",
    "    dispersion = np.median(wave[1:]-wave[:-1])\n",
    "    binsize = np.ceil(wave_bin/dispersion)\n",
    "    if binsize < 10:\n",
    "        print('WARNING: dispersion = {}, \\\n",
    "        leading to binsize < 10 for {}$\\AA$ bins, \\\n",
    "        setting binsize=10, making wave_bin={}'.format(dispersion, wave_bin, 10*dispersion))\n",
    "        binsize=10\n",
    "    return binsize\n",
    "def define_continuum(wave, flux, edge_indx, binsize, err_binsize, absorption=True, visualize=False):\n",
    "    '''\n",
    "    Fit a quadratic and verify that it is the correct direction\n",
    "    '''\n",
    "    #Silverman says: \"Once these two endpoints are determined, a quadratic function is \n",
    "    # fit to the data in wavelength bins centred on each endpoint.\" \n",
    "    #Let's start with fitting over 2 wavelength bins?\n",
    "    wmin_indx = edge_indx - int(np.floor(1*binsize))\n",
    "    wmax_indx = edge_indx + int(np.ceil(1*binsize))\n",
    "    quad_model = models.Polynomial1D(degree=2)\n",
    "    fitter = fitting.LinearLSQFitter()\n",
    "    fit = fitter(quad_model, wave[wmin_indx:wmax_indx+1], flux[wmin_indx:wmax_indx+1])\n",
    "    fit_extreme_wl = -fit.c1.value/(2*fit.c2.value)\n",
    "\n",
    "    #calc rmse over edge_indx +/- 20 pixels\n",
    "    wmin_rmse = edge_indx - int(err_binsize//2)\n",
    "    wmax_rmse = edge_indx + int(err_binsize//2)\n",
    "    rmse = calc_rmse(flux[wmin_rmse:wmax_rmse], fit(wave[wmin_rmse:wmax_rmse]))\n",
    "    \n",
    "    if fit.c2.value>0:\n",
    "        concavity = 'up'\n",
    "    if fit.c2.value<0:\n",
    "        concavity = 'down'\n",
    "    if ((absorption is True) and (concavity is 'down')) or ((absorption is False) and (concavity is 'up')):\n",
    "        good_fit = True\n",
    "    else:\n",
    "        good_fit = False\n",
    "    if visualize:\n",
    "        fig = plt.figure()\n",
    "        ax = fig.add_subplot(1,1,1)\n",
    "        ax.plot(wave, flux)\n",
    "        ax.set_xlim(wave[edge_indx-4*binsize], wave[edge_indx+4*binsize])\n",
    "        ax.plot(wave[wmin_indx-10:wmax_indx+11], fit(wave[wmin_indx-10:wmax_indx+11]))\n",
    "        ax.plot(wave[wmin_indx:wmax_indx+1], fit(wave[wmin_indx:wmax_indx+1]), label='fit range')\n",
    "        ax.axvline(wave[edge_indx], label='input continuum', color='k', ls=':')\n",
    "        ax.errorbar(fit_extreme_wl, fit(fit_extreme_wl), yerr=rmse, fmt='.', label='Edge w/error', zorder=10 )\n",
    "        ax.set_ylim(0.95*np.min(flux[edge_indx-4*binsize:edge_indx+4*binsize]), 1.05*np.max(flux[edge_indx-4*binsize:edge_indx+4*binsize]))\n",
    "        ax.legend(loc='best')\n",
    "    endpt = endpoint(fit_extreme_wl, fit(fit_extreme_wl), rmse)\n",
    "    return good_fit, endpt"
   ]
  },
  {
   "cell_type": "code",
   "execution_count": 400,
   "metadata": {},
   "outputs": [
    {
     "name": "stdout",
     "output_type": "stream",
     "text": [
      "rmse calculated over 58 points\n",
      "True\n",
      "rmse calculated over 58 points\n",
      "True\n"
     ]
    }
   ],
   "source": [
    "wave = spectrum.wave\n",
    "flux = spectrum.flux\n",
    "poly_deg = 2\n",
    "width = 5\n",
    "binsize=15\n",
    "wmin = 5400\n",
    "wmax = 5700\n",
    "\n",
    "smooth_flux = smooth_signal(flux, width, poly_deg)\n",
    "blue_edge_indx, wcenter_indx, red_edge_indx = find_boundary(wave, smooth_flux, wmin, wmax, binsize)\n",
    "err_binsize = determine_error_binsize(wave)\n",
    "if blue_edge_indx is not None:\n",
    "    good_fit_blue, continuum_l = define_continuum(wave, smooth_flux, blue_edge_indx, binsize, err_binsize, absorption=True, visualize=True)\n",
    "    print(good_fit_blue)\n",
    "else:\n",
    "    print(blue_edge_not_found)\n",
    "if red_edge_indx is not None:\n",
    "    good_fit_red, continuum_r = define_continuum(wave, smooth_flux, red_edge_indx, binsize, err_binsize, absorption=True, visualize=True)\n",
    "    print(good_fit_red)\n",
    "else:\n",
    "    print(red_edge_not_found)"
   ]
  },
  {
   "cell_type": "code",
   "execution_count": 401,
   "metadata": {},
   "outputs": [
    {
     "data": {
      "text/plain": [
       "[<matplotlib.lines.Line2D at 0x1c28037208>]"
      ]
     },
     "execution_count": 401,
     "metadata": {},
     "output_type": "execute_result"
    }
   ],
   "source": [
    "wcenter = wave[wcenter_indx]\n",
    "blue_edge_wl = wave[blue_edge_indx]\n",
    "red_edge_wl = wave[red_edge_indx]\n",
    "plt.figure()\n",
    "plt.axvspan(wmin, wmax, color='y', alpha = 0.1, label='fit_range')\n",
    "plt.plot(wave, flux)\n",
    "plt.plot(wave, smooth_flux, '.')\n",
    "plt.axvline(wcenter, linestyle = ':', color = 'y', label='line_center')\n",
    "plt.xlim(wmin, wmax)\n",
    "plt.axvline(blue_edge_wl, color='b', ls='--', alpha=0.5)\n",
    "plt.axvline(red_edge_wl, color='r', ls='--', alpha=0.5)\n",
    "plt.plot(continuum_l.wave, continuum_l.flux, color='b', marker='*')\n",
    "plt.plot(continuum_r.wave, continuum_r.flux, color='r', marker='*')"
   ]
  },
  {
   "cell_type": "markdown",
   "metadata": {},
   "source": [
    "# Calculate EW"
   ]
  },
  {
   "cell_type": "markdown",
   "metadata": {},
   "source": [
    "Silverman define pseudo equivalent widths as:\n",
    "\n",
    "$pEW = \\sum_{i=0}^{i=N-1}\\Delta \\lambda_{i} \\frac{f_c(\\lambda_{i}) - f(\\lambda_{i})}{f_c(\\lambda_{i})}$\n",
    "\n",
    "where $f_c$ is the continuum, f is the flux, i is the pixel number and N is the number of pixels between the blue and red edge"
   ]
  },
  {
   "cell_type": "code",
   "execution_count": 402,
   "metadata": {},
   "outputs": [],
   "source": [
    "def calc_pseudo_ew(wave, flux, continuum_l, continuum_r, absorption=True, visualize=False):\n",
    "    fitter = fitting.LinearLSQFitter()\n",
    "    lin_mod = models.Linear1D()\n",
    "    continuum_fit = fitter(lin_mod,[continuum_l.wave, continuum_r.wave], [continuum_l.flux, continuum_r.flux])\n",
    "    line_indx = np.int_(np.arange(len(wave))[(wave>=continuum_l.wave)&(wave<=continuum_r.wave)])\n",
    "    continuum = continuum_fit(wave[line_indx])\n",
    "    delta_lambda = wave[line_indx]-wave[line_indx-1]\n",
    "    if absorption is True:\n",
    "        pew = np.sum(delta_lambda*(continuum - flux[line_indx])/continuum)\n",
    "    else:\n",
    "        pew = np.sum(delta_lambda*(flux[line_indx]-continuum)/continuum) #Check that this is true\n",
    "    if visualize is True:\n",
    "        fig = plt.figure()\n",
    "        ax1 = fig.add_subplot(1,2,1)\n",
    "        ax2 = fig.add_subplot(1,2,2)\n",
    "        ax2.axhline(1, color='k')\n",
    "        ax1.plot(wave, flux)\n",
    "        ax1.plot(wave[line_indx], flux[line_indx], label='data')\n",
    "        ax1.plot(wave[line_indx], continuum, label='continuum')\n",
    "        ax1.set_xlim(continuum_l.wave-10, continuum_r.wave+10)\n",
    "        if absorption is True:\n",
    "            ax2.plot(wave[line_indx], (continuum - flux[line_indx])/continuum, label='sum for pEW')\n",
    "        else:\n",
    "            ax2.plot(wave[line_indx], (flux[line_indx]-continuum)/continuum, label='sum for pEW')\n",
    "    return pew"
   ]
  },
  {
   "cell_type": "code",
   "execution_count": 403,
   "metadata": {},
   "outputs": [
    {
     "name": "stdout",
     "output_type": "stream",
     "text": [
      "rmse calculated over 58 points\n",
      "True\n",
      "rmse calculated over 58 points\n",
      "True\n"
     ]
    }
   ],
   "source": [
    "wave = spectrum.wave\n",
    "flux = spectrum.flux\n",
    "poly_deg = 2\n",
    "width = 5\n",
    "binsize=15\n",
    "wmin = 5400\n",
    "wmax = 5700\n",
    "\n",
    "smooth_flux = smooth_signal(flux, width, poly_deg)\n",
    "blue_edge_indx, wcenter_indx, red_edge_indx = find_boundary(wave, smooth_flux, wmin, wmax, binsize)\n",
    "err_binsize = determine_error_binsize(wave)\n",
    "if blue_edge_indx is not None:\n",
    "    good_fit_blue, continuum_l = define_continuum(wave, smooth_flux, blue_edge_indx, binsize, err_binsize, absorption=True, visualize=True)\n",
    "    print(good_fit_blue)\n",
    "else:\n",
    "    print(blue_edge_not_found)\n",
    "if red_edge_indx is not None:\n",
    "    good_fit_red, continuum_r = define_continuum(wave, smooth_flux, red_edge_indx, binsize, err_binsize, absorption=True, visualize=True)\n",
    "    print(good_fit_red)\n",
    "else:\n",
    "    print(red_edge_not_found)\n",
    "pew = calc_pseudo_ew(wave, smooth_flux, continuum_l, continuum_r, visualize=True)"
   ]
  },
  {
   "cell_type": "code",
   "execution_count": 404,
   "metadata": {},
   "outputs": [],
   "source": [
    "def calc_continuum(wave, continuum_l, continuum_r):\n",
    "    fitter = fitting.LinearLSQFitter()\n",
    "    lin_mod = models.Linear1D()\n",
    "    continuum_fit = fitter(lin_mod,[continuum_l.wave, continuum_r.wave], [continuum_l.flux, continuum_r.flux])\n",
    "    continuum = continuum_fit(wave)\n",
    "    return continuum"
   ]
  },
  {
   "cell_type": "code",
   "execution_count": 405,
   "metadata": {},
   "outputs": [
    {
     "data": {
      "text/plain": [
       "Text(0,0.5,'Normalized Flux')"
      ]
     },
     "execution_count": 405,
     "metadata": {},
     "output_type": "execute_result"
    }
   ],
   "source": [
    "wcenter = wave[wcenter_indx]\n",
    "blue_edge_wl = wave[blue_edge_indx]\n",
    "red_edge_wl = wave[red_edge_indx]\n",
    "fig = plt.figure(figsize=[12, 5])\n",
    "ax1 = fig.add_subplot(1,2,1)\n",
    "ax2 = fig.add_subplot(1,2,2)\n",
    "ax1.axvspan(wmin, wmax, color='y', alpha = 0.1, label='fit_range')\n",
    "ax1.plot(wave, flux, label='data')\n",
    "ax1.plot(wave, smooth_flux, '.', label='smoothed flux')\n",
    "ax1.set_xlim(wmin-15, wmax+15)\n",
    "ax1.set_ylim(flux[blue_edge_indx+red_edge_indx+1].min(), flux[blue_edge_indx:red_edge_indx+1].max())\n",
    "ax1.plot(continuum_l.wave, continuum_l.flux, color='k', marker='+', markersize=8, mew=2, label='Continuum', ls='none')\n",
    "ax1.plot(continuum_r.wave, continuum_r.flux, color='k', marker='+', markersize=8, mew=2, ls='none')\n",
    "ax1.plot(wcenter)\n",
    "ax1.legend(loc='lower left')\n",
    "ax1.set_xlabel('Wavelength')\n",
    "ax1.set_ylabel('Flux')\n",
    "line_indx = np.int_(np.arange(len(wave))[(wave>=continuum_l.wave)&(wave<=continuum_r.wave)])\n",
    "continuum = calc_continuum(wave[line_indx], continuum_l, continuum_r)\n",
    "\n",
    "ax2.plot(wave[line_indx], flux[line_indx]/continuum, label='normalized flux')\n",
    "ax2.axvspan(wcenter-pew/2, wcenter+pew/2, label='pEW', color='k', alpha=0.1)\n",
    "ax2.set_ylim(0,1.1)\n",
    "ax2.axhline(1, color='k', alpha=0.5, linestyle=':')\n",
    "ax2.legend(loc='lower left')\n",
    "ax2.set_xlabel('Wavelength')\n",
    "ax2.set_ylabel('Normalized Flux')"
   ]
  },
  {
   "cell_type": "markdown",
   "metadata": {},
   "source": [
    "## Try a different line:"
   ]
  },
  {
   "cell_type": "code",
   "execution_count": 406,
   "metadata": {},
   "outputs": [
    {
     "name": "stdout",
     "output_type": "stream",
     "text": [
      "rmse calculated over 58 points\n",
      "True\n",
      "rmse calculated over 58 points\n",
      "True\n"
     ]
    }
   ],
   "source": [
    "wave = spectrum.wave\n",
    "flux = spectrum.flux\n",
    "poly_deg = 2\n",
    "width = 5\n",
    "binsize=21\n",
    "wmin = 4600\n",
    "wmax = 4875\n",
    "\n",
    "smooth_flux = smooth_signal(flux, width, poly_deg)\n",
    "blue_edge_indx, wcenter_indx, red_edge_indx = find_boundary(wave, smooth_flux, wmin, wmax, binsize, visualize=False)\n",
    "err_binsize = determine_error_binsize(wave)\n",
    "if blue_edge_indx is not None:\n",
    "    good_fit_blue, continuum_l = define_continuum(wave, smooth_flux, blue_edge_indx, binsize, err_binsize, absorption=True, visualize=True)\n",
    "    print(good_fit_blue)\n",
    "else:\n",
    "    print('blue_edge_not_found')\n",
    "if red_edge_indx is not None:\n",
    "    good_fit_red, continuum_r = define_continuum(wave, smooth_flux, red_edge_indx, binsize, err_binsize, absorption=True, visualize=True)\n",
    "    print(good_fit_red)\n",
    "else:\n",
    "    print('red_edge_not_found')\n",
    "if (blue_edge_indx is not None) and (red_edge_indx is not None):\n",
    "    pew = calc_pseudo_ew(wave, smooth_flux, continuum_l, continuum_r, visualize=True)"
   ]
  },
  {
   "cell_type": "code",
   "execution_count": 407,
   "metadata": {},
   "outputs": [
    {
     "data": {
      "text/plain": [
       "Text(0,0.5,'Normalized Flux')"
      ]
     },
     "execution_count": 407,
     "metadata": {},
     "output_type": "execute_result"
    }
   ],
   "source": [
    "wcenter = wave[wcenter_indx]\n",
    "blue_edge_wl = wave[blue_edge_indx]\n",
    "red_edge_wl = wave[red_edge_indx]\n",
    "fig = plt.figure(figsize=[12, 5])\n",
    "ax1 = fig.add_subplot(1,2,1)\n",
    "ax2 = fig.add_subplot(1,2,2)\n",
    "ax1.axvspan(wmin, wmax, color='y', alpha = 0.1, label='fit_range')\n",
    "ax1.plot(wave, flux, label='data')\n",
    "ax1.plot(wave, smooth_flux, '.', label='smoothed flux')\n",
    "ax1.set_xlim(wmin-15, wmax+15)\n",
    "ax1.set_ylim(flux[blue_edge_indx:red_edge_indx+1].min(), flux[blue_edge_indx:red_edge_indx+1].max())\n",
    "ax1.plot(continuum_l.wave, continuum_l.flux, color='k', marker='+', markersize=8, mew=2, label='Continuum', ls='none')\n",
    "ax1.plot(continuum_r.wave, continuum_r.flux, color='k', marker='+', markersize=8, mew=2, ls='none')\n",
    "ax1.plot(wcenter)\n",
    "ax1.legend(loc='lower left')\n",
    "ax1.set_xlabel('Wavelength')\n",
    "ax1.set_ylabel('Flux')\n",
    "\n",
    "line_indx = np.int_(np.arange(len(wave))[(wave>=continuum_l.wave)&(wave<=continuum_r.wave)])\n",
    "continuum = calc_continuum(wave[line_indx], continuum_l, continuum_r)\n",
    "\n",
    "ax2.plot(wave[line_indx], flux[line_indx]/continuum, label='normalized flux')\n",
    "ax2.axvspan(wcenter-pew/2, wcenter+pew/2, label='pEW', color='k', alpha=0.1)\n",
    "ax2.set_ylim(0,1.1)\n",
    "ax2.axhline(1, color='k', alpha=0.5, linestyle=':')\n",
    "ax2.legend(loc='lower left')\n",
    "ax2.set_xlabel('Wavelength')\n",
    "ax2.set_ylabel('Normalized Flux')"
   ]
  },
  {
   "cell_type": "markdown",
   "metadata": {},
   "source": [
    "# Testing different types of fits for the velocity"
   ]
  },
  {
   "cell_type": "code",
   "execution_count": 408,
   "metadata": {},
   "outputs": [],
   "source": [
    "def test_find_velocity(wave, flux, wcenter, continuum_l, continuum_r, fit_func=interpolate.UnivariateSpline, visualization=False):\n",
    "    '''\n",
    "    We explored many different ways of fitting (Polynomial up to degree 6, UnivariateSpline (setting s, deg 3 and 4), \n",
    "    and LSQUnivariateSpline (setting the knots to be the edges of the feature + the minimum or the halfway point).\n",
    "    Without using the weight by the error, I couldn't get a good fit out of UnivariateSpline (it always fit with 2 knots\n",
    "    looking like a polynomial).\n",
    "    '''\n",
    "    line_indx = np.int_(np.arange(len(wave))[(wave>=continuum_l.wave)&(wave<=continuum_r.wave)])\n",
    "    fitter = fitting.LinearLSQFitter()\n",
    "    lin_mod = models.Linear1D()\n",
    "    flux = flux\n",
    "    continuum_fit = fitter(lin_mod,[continuum_l.wave, continuum_r.wave], [continuum_l.flux, continuum_r.flux])\n",
    "    continuum = continuum_fit(wave[line_indx])\n",
    "    weight= 1./spectrum.error\n",
    "    x = wave[line_indx[0]-20:line_indx[-1]+20]\n",
    "    w = weight[line_indx[0]-20:line_indx[-1]+20] \n",
    "    y = (flux[line_indx[0]-20:line_indx[-1]+20]-continuum_fit(wave[line_indx[0]-20:line_indx[-1]+20]))\n",
    "    fit = interpolate.UnivariateSpline(x, \n",
    "                   y, \n",
    "                   w=w,\n",
    "                   k=3)\n",
    "    \n",
    "    spl = fit\n",
    "    print('s', np.sum((w * (y-spl(x)))**2, axis=0))\n",
    "    #fit2 = fitter(models.Polynomial1D(degree=6), wave[line_indx[0]-20:line_indx[-1]+20], flux[line_indx[0]-20:line_indx[-1]+20]-continuum_fit(wave[line_indx[0]-20:line_indx[-1]+20]))\n",
    "    #knots = [continuum_l.wave, wave[line_indx][flux[line_indx].argmin()], continuum_r.wave]\n",
    "    #knots = [continuum_l.wave, np.mean([continuum_l.wave, continuum_r.wave]), continuum_r.wave]\n",
    "    \n",
    "    #fit3 = interpolate.LSQUnivariateSpline(wave[line_indx[0]-20:line_indx[-1]+20], flux[line_indx[0]-20:line_indx[-1]+20]-continuum_fit(wave[line_indx[0]-20:line_indx[-1]+20]), t=knots)\n",
    "    smooth_flux = smooth_signal(flux[line_indx[0]-20:line_indx[-1]+20]-continuum_fit(wave[line_indx[0]-20:line_indx[-1]+20]),51, 2)\n",
    "    if visualization is True:\n",
    "        fig = plt.figure()\n",
    "        ax = fig.add_subplot(1,1,1)\n",
    "        ax.plot(wave[line_indx[0]-20:line_indx[-1]+20], flux[line_indx[0]-20:line_indx[-1]+20]-continuum_fit(wave[line_indx[0]-20:line_indx[-1]+20]))\n",
    "        ax.plot(wave[line_indx[0]-20:line_indx[-1]+20], fit(wave[line_indx[0]-20:line_indx[-1]+20]), label='spline,default knots, 3deg')\n",
    "        #ax.plot(wave[line_indx[0]-20:line_indx[-1]+20], fit2(wave[line_indx[0]-20:line_indx[-1]+20]), label='6deg Poly')\n",
    "        #ax.plot(wave[line_indx[0]-20:line_indx[-1]+20], fit3(wave[line_indx[0]-20:line_indx[-1]+20]), label='spline, 3 knots, 3deg')\n",
    "        ax.plot(wave[line_indx[0]-20:line_indx[-1]+20], smooth_flux, label='Smoothed, binsize=51', color='m')\n",
    "        min_wave = wave[line_indx][np.argmin(fit(wave[line_indx]))]\n",
    "        ax.axvline(min_wave, color='k', linestyle='--', label='min')\n",
    "        #ax.axvline(wave[line_indx][np.argmin(fit3(wave[line_indx]))], color='r', linestyle='--', label='min')\n",
    "        knots1 = fit.get_knots()\n",
    "        ax.vlines(knots1, ymin=ax.get_ylim()[0], ymax=ax.get_ylim()[1], linestyle=':', label='spline, default knots location')\n",
    "        #ax.vlines(knots, ymin=ax.get_ylim()[0], ymax=ax.get_ylim()[1], linestyle=':', color='r', label='spline, 3knots location')\n",
    "        ax.legend(loc='best', fontsize='x-small')\n",
    "    return fit"
   ]
  },
  {
   "cell_type": "code",
   "execution_count": 410,
   "metadata": {},
   "outputs": [
    {
     "name": "stdout",
     "output_type": "stream",
     "text": [
      "rmse calculated over 58 points\n",
      "True\n",
      "rmse calculated over 58 points\n",
      "True\n",
      "s 184.959995059\n"
     ]
    }
   ],
   "source": [
    "wave = spectrum.wave\n",
    "flux = spectrum.flux\n",
    "poly_deg = 2\n",
    "width = 5\n",
    "binsize=21\n",
    "wmin = 4600\n",
    "wmax = 4875\n",
    "fitting_function = interpolate.UnivariateSpline\n",
    "#fitting_function = interpolate.LSQUnivariateSpline\n",
    "\n",
    "smooth_flux = smooth_signal(flux, width, poly_deg)\n",
    "blue_edge_indx, wcenter_indx, red_edge_indx = find_boundary(wave, smooth_flux, wmin, wmax, binsize, visualize=False)\n",
    "if blue_edge_indx is not None:\n",
    "    good_fit_blue, continuum_l = define_continuum(wave, smooth_flux, blue_edge_indx, binsize, err_binsize,absorption=True, visualize=False)\n",
    "    print(good_fit_blue)\n",
    "else:\n",
    "    print('blue_edge_not_found')\n",
    "if red_edge_indx is not None:\n",
    "    good_fit_red, continuum_r = define_continuum(wave, smooth_flux, red_edge_indx, binsize, err_binsize,absorption=True, visualize=False)\n",
    "    print(good_fit_red)\n",
    "else:\n",
    "    print('red_edge_not_found')\n",
    "if (blue_edge_indx is not None) and (red_edge_indx is not None):\n",
    "    pew = calc_pseudo_ew(wave, smooth_flux, continuum_l, continuum_r, visualize=False)\n",
    "    wcenter = wave[wcenter_indx]\n",
    "    vel_fit = test_find_velocity(wave, smooth_flux, wcenter, continuum_l, continuum_r, visualization=True)\n"
   ]
  },
  {
   "cell_type": "code",
   "execution_count": 411,
   "metadata": {},
   "outputs": [
    {
     "name": "stdout",
     "output_type": "stream",
     "text": [
      "rmse calculated over 58 points\n",
      "True\n",
      "rmse calculated over 58 points\n",
      "True\n",
      "s 120.948005382\n"
     ]
    }
   ],
   "source": [
    "wave = spectrum.wave\n",
    "flux = spectrum.flux\n",
    "poly_deg = 2\n",
    "width = 5\n",
    "binsize=15\n",
    "wmin = 5400\n",
    "wmax = 5700\n",
    "fitting_function = interpolate.UnivariateSpline\n",
    "\n",
    "smooth_flux = smooth_signal(flux, width, poly_deg)\n",
    "blue_edge_indx, wcenter_indx, red_edge_indx = find_boundary(wave, smooth_flux, wmin, wmax, binsize, visualize=False)\n",
    "if blue_edge_indx is not None:\n",
    "    good_fit_blue, continuum_l = define_continuum(wave, smooth_flux, blue_edge_indx, binsize,err_binsize, absorption=True, visualize=False)\n",
    "    print(good_fit_blue)\n",
    "else:\n",
    "    print('blue_edge_not_found')\n",
    "if red_edge_indx is not None:\n",
    "    good_fit_red, continuum_r = define_continuum(wave, smooth_flux, red_edge_indx, binsize,err_binsize, absorption=True, visualize=False)\n",
    "    print(good_fit_red)\n",
    "else:\n",
    "    print('red_edge_not_found')\n",
    "if (blue_edge_indx is not None) and (red_edge_indx is not None):\n",
    "    pew = calc_pseudo_ew(wave, smooth_flux, continuum_l, continuum_r, visualize=False)\n",
    "    wcenter = wave[wcenter_indx]\n",
    "    vel_fit = test_find_velocity(wave, smooth_flux, wcenter, continuum_l, continuum_r, visualization=True)"
   ]
  },
  {
   "cell_type": "code",
   "execution_count": 413,
   "metadata": {},
   "outputs": [
    {
     "name": "stdout",
     "output_type": "stream",
     "text": [
      "rmse calculated over 58 points\n",
      "True\n",
      "rmse calculated over 58 points\n",
      "True\n",
      "s 268.840336707\n"
     ]
    }
   ],
   "source": [
    "wave = spectrum.wave\n",
    "flux = spectrum.flux\n",
    "poly_deg = 2\n",
    "width = 5\n",
    "binsize=37\n",
    "wmin = 4925\n",
    "wmax = 5375\n",
    "fitting_function = interpolate.UnivariateSpline\n",
    "\n",
    "smooth_flux = smooth_signal(flux, width, poly_deg)\n",
    "blue_edge_indx, wcenter_indx, red_edge_indx = find_boundary(wave, smooth_flux, wmin, wmax, binsize, visualize=False)\n",
    "if blue_edge_indx is not None:\n",
    "    good_fit_blue, continuum_l = define_continuum(wave, smooth_flux, blue_edge_indx, binsize, err_binsize,absorption=True, visualize=True)\n",
    "    print(good_fit_blue)\n",
    "else:\n",
    "    print('blue_edge_not_found')\n",
    "if red_edge_indx is not None:\n",
    "    good_fit_red, continuum_r = define_continuum(wave, smooth_flux, red_edge_indx, binsize, err_binsize,absorption=True, visualize=True)\n",
    "    print(good_fit_red)\n",
    "else:\n",
    "    print('red_edge_not_found')\n",
    "if (blue_edge_indx is not None) and (red_edge_indx is not None):\n",
    "    pew = calc_pseudo_ew(wave, smooth_flux, continuum_l, continuum_r, visualize=False)\n",
    "    wcenter = wave[wcenter_indx]\n",
    "    vel_fit = test_find_velocity(wave, smooth_flux, wcenter, continuum_l, continuum_r, visualization=True)"
   ]
  },
  {
   "cell_type": "markdown",
   "metadata": {},
   "source": [
    "Conclusion: Use UnivariateSpline with weights of 1/stddev. If no error column is present, use a heavily smoothed function to approximate the continuum and calculate the standard deviation from that as the error"
   ]
  },
  {
   "cell_type": "markdown",
   "metadata": {},
   "source": [
    "# Fit the Velocity"
   ]
  },
  {
   "cell_type": "code",
   "execution_count": 414,
   "metadata": {},
   "outputs": [],
   "source": [
    "def find_velocity(wave, flux, wcenter, continuum_l, continuum_r, binsize, visualization=False):\n",
    "    line_indx = np.int_(np.arange(len(wave))[(wave>=continuum_l.wave)&(wave<=continuum_r.wave)])\n",
    "    windx_min = line_indx[0]-binsize//2\n",
    "    windx_max = line_indx[-1]+binsize//2\n",
    "    fitter = fitting.LinearLSQFitter()\n",
    "    lin_mod = models.Linear1D()\n",
    "    continuum_fit = fitter(lin_mod,[continuum_l.wave, continuum_r.wave], [continuum_l.flux, continuum_r.flux])\n",
    "    continuum = continuum_fit(wave[windx_min:windx_max])\n",
    "    weight = 1./spectrum.error[windx_min:windx_max]\n",
    "    fit = interpolate.UnivariateSpline(wave[windx_min:windx_max], flux[windx_min:windx_max]-continuum, w=weight)\n",
    "    if visualization is True:\n",
    "        fig = plt.figure()\n",
    "        ax = fig.add_subplot(1,1,1)\n",
    "        ax.plot(wave[windx_min:windx_max], flux[windx_min:windx_max]-continuum)\n",
    "        ax.plot(wave[windx_min:windx_max], fit(wave[windx_min:windx_max]))\n",
    "        min_wave = wave[line_indx][np.argmin(fit(wave[line_indx]))]\n",
    "        ax.axvline(min_wave)\n",
    "        knots = fit.get_knots()\n",
    "        ax.vlines(knots, ymin=ax.get_ylim()[0], ymax=ax.get_ylim()[1], linestyle=':')\n",
    "    return fit"
   ]
  },
  {
   "cell_type": "code",
   "execution_count": 415,
   "metadata": {},
   "outputs": [
    {
     "name": "stdout",
     "output_type": "stream",
     "text": [
      "rmse calculated over 58 points\n",
      "True\n",
      "rmse calculated over 58 points\n",
      "True\n"
     ]
    },
    {
     "name": "stderr",
     "output_type": "stream",
     "text": [
      "/Users/bostroem/anaconda/lib/python3.5/site-packages/ipykernel/__main__.py:8: VisibleDeprecationWarning: using a non-integer number instead of an integer will result in an error in the future\n",
      "/Users/bostroem/anaconda/lib/python3.5/site-packages/ipykernel/__main__.py:9: VisibleDeprecationWarning: using a non-integer number instead of an integer will result in an error in the future\n",
      "/Users/bostroem/anaconda/lib/python3.5/site-packages/ipykernel/__main__.py:10: VisibleDeprecationWarning: using a non-integer number instead of an integer will result in an error in the future\n",
      "/Users/bostroem/anaconda/lib/python3.5/site-packages/ipykernel/__main__.py:14: VisibleDeprecationWarning: using a non-integer number instead of an integer will result in an error in the future\n",
      "/Users/bostroem/anaconda/lib/python3.5/site-packages/ipykernel/__main__.py:15: VisibleDeprecationWarning: using a non-integer number instead of an integer will result in an error in the future\n"
     ]
    }
   ],
   "source": [
    "wave = spectrum.wave\n",
    "flux = spectrum.flux\n",
    "poly_deg = 2\n",
    "width = 5\n",
    "binsize=21\n",
    "wmin = 4600\n",
    "wmax = 4875\n",
    "\n",
    "smooth_flux = smooth_signal(flux, width, poly_deg)\n",
    "blue_edge_indx, wcenter_indx, red_edge_indx = find_boundary(wave, smooth_flux, wmin, wmax, binsize, visualize=False)\n",
    "err_binsize = determine_error_binsize(wave, wave_bin=100)\n",
    "if blue_edge_indx is not None:\n",
    "    good_fit_blue, continuum_l = define_continuum(wave, smooth_flux, blue_edge_indx, binsize, err_binsize, absorption=True, visualize=False)\n",
    "    print(good_fit_blue)\n",
    "else:\n",
    "    print('blue_edge_not_found')\n",
    "if red_edge_indx is not None:\n",
    "    good_fit_red, continuum_r = define_continuum(wave, smooth_flux, red_edge_indx, binsize, err_binsize, absorption=True, visualize=False)\n",
    "    print(good_fit_red)\n",
    "else:\n",
    "    print('red_edge_not_found')\n",
    "if (blue_edge_indx is not None) and (red_edge_indx is not None):\n",
    "    pew = calc_pseudo_ew(wave, smooth_flux, continuum_l, continuum_r, visualize=False)\n",
    "    wcenter = wave[wcenter_indx]\n",
    "    vel_fit = find_velocity(wave, smooth_flux, wcenter, continuum_l, continuum_r, err_binsize, visualization=True)"
   ]
  },
  {
   "cell_type": "code",
   "execution_count": null,
   "metadata": {},
   "outputs": [],
   "source": []
  },
  {
   "cell_type": "code",
   "execution_count": 416,
   "metadata": {},
   "outputs": [
    {
     "data": {
      "text/plain": [
       "Text(0,0.5,'Normalized Flux')"
      ]
     },
     "execution_count": 416,
     "metadata": {},
     "output_type": "execute_result"
    }
   ],
   "source": [
    "wcenter = wave[wcenter_indx]\n",
    "blue_edge_wl = wave[blue_edge_indx]\n",
    "red_edge_wl = wave[red_edge_indx]\n",
    "fig = plt.figure(figsize=[12, 5])\n",
    "ax1 = fig.add_subplot(1,2,1)\n",
    "ax2 = fig.add_subplot(1,2,2)\n",
    "ax1.axvspan(wmin, wmax, color='y', alpha = 0.1, label='fit_range')\n",
    "ax1.plot(wave, flux, label='data')\n",
    "ax1.plot(wave, smooth_flux, '.', label='smoothed flux')\n",
    "ax1.set_xlim(wmin-15, wmax+15)\n",
    "ax1.set_ylim(flux[blue_edge_indx:red_edge_indx+1].min(), flux[blue_edge_indx:red_edge_indx+1].max())\n",
    "ax1.plot(continuum_l.wave, continuum_l.flux, color='k', marker='+', markersize=8, mew=2, label='Continuum', ls='none')\n",
    "ax1.plot(continuum_r.wave, continuum_r.flux, color='k', marker='+', markersize=8, mew=2, ls='none')\n",
    "\n",
    "\n",
    "line_indx = np.int_(np.arange(len(wave))[(wave>=continuum_l.wave)&(wave<=continuum_r.wave)])\n",
    "fitter = fitting.LinearLSQFitter()\n",
    "lin_mod = models.Linear1D()\n",
    "continuum_fit = fitter(lin_mod,[continuum_l.wave, continuum_r.wave], [continuum_l.flux, continuum_r.flux])\n",
    "continuum = continuum_fit(wave[line_indx])\n",
    "\n",
    "min_vel_indx = np.argmin(vel_fit(wave[line_indx]))\n",
    "ax1.plot(wave[line_indx][min_vel_indx], vel_fit(wave[line_indx][min_vel_indx]), 'kx', label='Minimum', mew=2, markersize=8)\n",
    "\n",
    "ax1.legend(loc='lower left')\n",
    "ax1.set_xlabel('Wavelength')\n",
    "ax1.set_ylabel('Flux')\n",
    "\n",
    "ax2.plot(wave[line_indx], flux[line_indx]/continuum, label='normalized flux')\n",
    "pew_collection = collections.BrokenBarHCollection.span_where(wave, ymin=0, ymax=1, \n",
    "                                                        where= (wave>=wcenter-pew/2)&(wave<=wcenter+pew/2),\n",
    "                                                        color='k', alpha=0.1)\n",
    "ax2.add_collection(pew_collection)\n",
    "ax2.set_ylim(0,1.1)\n",
    "ax2.axhline(1, color='k', alpha=0.5, linestyle=':')\n",
    "ax2.legend(loc='lower left')\n",
    "ax2.set_xlabel('Wavelength')\n",
    "ax2.set_ylabel('Normalized Flux')"
   ]
  },
  {
   "cell_type": "code",
   "execution_count": 306,
   "metadata": {},
   "outputs": [],
   "source": [
    "def calc_flux_variance(data, model, err_binsize):\n",
    "    kernel = Box1DKernel(err_binsize)\n",
    "    errors = convolve((data-model)**2, kernel, boundary=None)\n",
    "    errors = errors\n",
    "    errors = np.trim_zeros(errors)\n",
    "    return errors"
   ]
  },
  {
   "cell_type": "code",
   "execution_count": 307,
   "metadata": {},
   "outputs": [],
   "source": [
    "def test_calc_flux_variance():\n",
    "    data = np.ones(10)+np.random.randn(10)\n",
    "    model = np.zeros(10)\n",
    "    errors = calc_flux_variance(data, model, 5)\n",
    "    truth = []\n",
    "    for i in range(2, 8):\n",
    "        truth.append(np.sum(((data-model)**2)[i-2:i+3])/5)\n",
    "    truth = np.array(truth)\n",
    "    truth = np.sqrt(truth)\n",
    "    assert np.isclose(truth, errors).all()\n",
    "test_calc_flux_errors()"
   ]
  },
  {
   "cell_type": "code",
   "execution_count": 304,
   "metadata": {
    "scrolled": true
   },
   "outputs": [
    {
     "name": "stdout",
     "output_type": "stream",
     "text": [
      "rmse calculated over 58 points\n",
      "True\n",
      "rmse calculated over 58 points\n",
      "True\n"
     ]
    },
    {
     "name": "stderr",
     "output_type": "stream",
     "text": [
      "/Users/bostroem/anaconda/lib/python3.5/site-packages/ipykernel/__main__.py:33: VisibleDeprecationWarning: using a non-integer number instead of an integer will result in an error in the future\n",
      "/Users/bostroem/anaconda/lib/python3.5/site-packages/ipykernel/__main__.py:34: VisibleDeprecationWarning: using a non-integer number instead of an integer will result in an error in the future\n",
      "/Users/bostroem/anaconda/lib/python3.5/site-packages/ipykernel/__main__.py:35: VisibleDeprecationWarning: using a non-integer number instead of an integer will result in an error in the future\n",
      "/Users/bostroem/anaconda/lib/python3.5/site-packages/ipykernel/__main__.py:39: VisibleDeprecationWarning: using a non-integer number instead of an integer will result in an error in the future\n",
      "/Users/bostroem/anaconda/lib/python3.5/site-packages/ipykernel/__main__.py:40: VisibleDeprecationWarning: using a non-integer number instead of an integer will result in an error in the future\n"
     ]
    }
   ],
   "source": [
    "wave = spectrum.wave\n",
    "flux = spectrum.flux\n",
    "poly_deg = 2\n",
    "width = 5\n",
    "binsize=21\n",
    "wmin = 4600\n",
    "wmax = 4875\n",
    "\n",
    "smooth_flux = smooth_signal(flux, width, poly_deg)\n",
    "blue_edge_indx, wcenter_indx, red_edge_indx = find_boundary(wave, smooth_flux, wmin, wmax, binsize, visualize=False)\n",
    "err_binsize = determine_error_binsize(wave, wave_bin=100)\n",
    "if blue_edge_indx is not None:\n",
    "    good_fit_blue, continuum_l = define_continuum(wave, smooth_flux, blue_edge_indx, binsize, err_binsize, absorption=True, visualize=False)\n",
    "    print(good_fit_blue)\n",
    "else:\n",
    "    print('blue_edge_not_found')\n",
    "if red_edge_indx is not None:\n",
    "    good_fit_red, continuum_r = define_continuum(wave, smooth_flux, red_edge_indx, binsize, err_binsize, absorption=True, visualize=False)\n",
    "    print(good_fit_red)\n",
    "else:\n",
    "    print('red_edge_not_found')\n",
    "if (blue_edge_indx is not None) and (red_edge_indx is not None):\n",
    "    pew = calc_pseudo_ew(wave, smooth_flux, continuum_l, continuum_r, visualize=False)\n",
    "    wcenter = wave[wcenter_indx]\n",
    "    vel_fit = find_velocity(wave, smooth_flux, wcenter, continuum_l, continuum_r, err_binsize, visualization=True)\n",
    "    line_indx = np.arange(len(wave))[(wave>=continuum_l.wave)&(wave<=continuum_r.wave)]\n",
    "    min_indx = int(np.floor(line_indx[0]-err_binsize/2))\n",
    "    max_indx = int(np.ceil(line_indx[-1]+err_binsize/2+1))\n",
    "    continuum = calc_continuum(wave[min_indx:max_indx], continuum_l, continuum_r)\n",
    "    flux_var = calc_flux_variance(flux[min_indx:max_indx]-continuum,\n",
    "                                    vel_fit(wave[min_indx:max_indx]), err_binsize) #These don't include the errors from the continuum subtraction yet\n",
    "    plt.figure()\n",
    "    continuum = calc_continuum(wave[line_indx], continuum_l, continuum_r)\n",
    "    plt.errorbar(wave[line_indx], flux[line_indx]-continuum, flux_var, fmt='.-')\n",
    "    plt.plot(wave[line_indx], vel_fit(wave[line_indx]))"
   ]
  },
  {
   "cell_type": "markdown",
   "metadata": {},
   "source": [
    "# Finish Error Calculations"
   ]
  },
  {
   "cell_type": "markdown",
   "metadata": {},
   "source": [
    "## Continuum error "
   ]
  },
  {
   "cell_type": "code",
   "execution_count": 281,
   "metadata": {},
   "outputs": [],
   "source": [
    "def calc_continuum_variance(wave, continuum_l, continuum_r):\n",
    "    var = (1./(continuum_l.wave - continuum_r.wave))**2 * \\\n",
    "          ((wave - continuum_r.wave)**2 * continuum_l.error**2 + \n",
    "           (wave - continuum_l.wave)**2 * continuum_r.error**2)\n",
    "    return var"
   ]
  },
  {
   "cell_type": "code",
   "execution_count": 282,
   "metadata": {},
   "outputs": [
    {
     "data": {
      "text/plain": [
       "<ErrorbarContainer object of 3 artists>"
      ]
     },
     "execution_count": 282,
     "metadata": {},
     "output_type": "execute_result"
    }
   ],
   "source": [
    "plt.figure()\n",
    "continuum = calc_continuum(wave[line_indx], continuum_l, continuum_r)\n",
    "var_continuum = calc_continuum_error(wave[line_indx], continuum_l, continuum_r)\n",
    "plt.plot(wave[line_indx], flux[line_indx])\n",
    "plt.errorbar([continuum_l.wave, continuum_r.wave], [continuum_l.flux, continuum_r.flux], [continuum_l.error, continuum_r.error])\n",
    "plt.errorbar(wave[line_indx], continuum, np.sqrt(var_continuum))"
   ]
  },
  {
   "cell_type": "markdown",
   "metadata": {},
   "source": [
    "## Pseudo EW error"
   ]
  },
  {
   "cell_type": "code",
   "execution_count": 338,
   "metadata": {},
   "outputs": [],
   "source": [
    "def calc_pew_variance(flux, continuum, delta_wave, flux_var, continuum_var, visualize=False, wave=None):\n",
    "    '''\n",
    "    Calculate the variance of the equivalent width\n",
    "    Inputs:\n",
    "        flux: flux values over which equivalent width is calculated\n",
    "        continuum: continuum values over which equivalent width is calculated\n",
    "        delta_wave: the wavelength bin size (in angstroms) used in the equivalent width calculation\n",
    "        flux_var: variance in the flux\n",
    "        continuum_var: variance in the continuum\n",
    "    Output:\n",
    "        variance in the equivalent width\n",
    "    '''\n",
    "    pew_var_indiv = ((flux/(continuum**2)*delta_wave)**2 * continuum_var) + \\\n",
    "                    ((delta_wave/continuum)**2*flux_var)\n",
    "    pew_var = np.sum(pew_err)\n",
    "    if visualize is True:\n",
    "        fig = plt.figure()\n",
    "        ax = fig.add_subplot(1,1,1)\n",
    "        if wave is not None:\n",
    "            ax.errorbar(wave, (continuum-flux)/continuum, np.sqrt(pew_err))\n",
    "        else:\n",
    "            print('wavelength not defined')\n",
    "            wave = np.arange(len(flux))\n",
    "            ax.errorbar(wave,(continuum-flux)/continuum, np.sqrt(pew_err))\n",
    "    return pew_var"
   ]
  },
  {
   "cell_type": "code",
   "execution_count": 339,
   "metadata": {},
   "outputs": [
    {
     "name": "stdout",
     "output_type": "stream",
     "text": [
      "rmse calculated over 58 points\n",
      "True\n",
      "rmse calculated over 58 points\n",
      "True\n",
      "74.0960419661 0.923418147103\n"
     ]
    },
    {
     "name": "stderr",
     "output_type": "stream",
     "text": [
      "/Users/bostroem/anaconda/lib/python3.5/site-packages/ipykernel/__main__.py:33: VisibleDeprecationWarning: using a non-integer number instead of an integer will result in an error in the future\n",
      "/Users/bostroem/anaconda/lib/python3.5/site-packages/ipykernel/__main__.py:34: VisibleDeprecationWarning: using a non-integer number instead of an integer will result in an error in the future\n",
      "/Users/bostroem/anaconda/lib/python3.5/site-packages/ipykernel/__main__.py:35: VisibleDeprecationWarning: using a non-integer number instead of an integer will result in an error in the future\n"
     ]
    }
   ],
   "source": [
    "wave = spectrum.wave\n",
    "flux = spectrum.flux\n",
    "poly_deg = 2\n",
    "width = 5\n",
    "binsize=21\n",
    "wmin = 4600\n",
    "wmax = 4875\n",
    "\n",
    "smooth_flux = smooth_signal(flux, width, poly_deg)\n",
    "blue_edge_indx, wcenter_indx, red_edge_indx = find_boundary(wave, smooth_flux, wmin, wmax, binsize, visualize=False)\n",
    "err_binsize = determine_error_binsize(wave, wave_bin=100)\n",
    "if blue_edge_indx is not None:\n",
    "    good_fit_blue, continuum_l = define_continuum(wave, smooth_flux, blue_edge_indx, binsize, err_binsize, absorption=True, visualize=False)\n",
    "    print(good_fit_blue)\n",
    "else:\n",
    "    print('blue_edge_not_found')\n",
    "if red_edge_indx is not None:\n",
    "    good_fit_red, continuum_r = define_continuum(wave, smooth_flux, red_edge_indx, binsize, err_binsize, absorption=True, visualize=False)\n",
    "    print(good_fit_red)\n",
    "else:\n",
    "    print('red_edge_not_found')\n",
    "if (blue_edge_indx is not None) and (red_edge_indx is not None):\n",
    "    \n",
    "    pew = calc_pseudo_ew(wave, smooth_flux, continuum_l, continuum_r, visualize=False)\n",
    "    wcenter = wave[wcenter_indx]\n",
    "    \n",
    "    vel_fit = find_velocity(wave, smooth_flux, wcenter, continuum_l, continuum_r, err_binsize, visualization=False)\n",
    "    line_indx = np.arange(len(wave))[(wave>=continuum_l.wave)&(wave<=continuum_r.wave)]\n",
    "    min_indx = int(np.floor(line_indx[0]-err_binsize/2))\n",
    "    max_indx = int(np.ceil(line_indx[-1]+err_binsize/2+1))\n",
    "    continuum = calc_continuum(wave[min_indx:max_indx], continuum_l, continuum_r)\n",
    "    flux_var = calc_flux_variance(flux[min_indx:max_indx]-continuum,\n",
    "                                    vel_fit(wave[min_indx:max_indx]), err_binsize) #These don't include the errors from the continuum subtraction yet\n",
    "    continuum = calc_continuum(wave[line_indx], continuum_l, continuum_r)\n",
    "    continuum_var = calc_continuum_error(wave[line_indx], continuum_l, continuum_r)\n",
    "    delta_wave = np.median(wave[1:]-wave[:-1])\n",
    "    pew_var = calc_pew_variance(flux[line_indx], continuum, delta_wave, flux_var, continuum_var, visualize=True, wave=wave[line_indx])\n",
    "    print(pew, np.sqrt(pew_var))\n",
    "    plt.errorbar(wave[line_indx], flux[line_indx], np.sqrt(flux_var))\n",
    "    plt.errorbar([continuum_l.wave, continuum_r.wave], [continuum_l.flux, continuum_r.flux], [continuum_l.error, continuum_r.error])\n",
    "    plt.errorbar(wave[line_indx], continuum, np.sqrt(continuum_var))"
   ]
  },
  {
   "cell_type": "markdown",
   "metadata": {},
   "source": [
    "## velocity error"
   ]
  },
  {
   "cell_type": "code",
   "execution_count": 375,
   "metadata": {},
   "outputs": [],
   "source": [
    "def calc_velocity_error(wave, flux, continuum, vel_fit, visualize=False):\n",
    "    '''\n",
    "    '''\n",
    "    min_indx = np.argmin(vel_fit(wave))\n",
    "    indx = np.argsort(wave - wave[min_indx])\n",
    "    min_indx_indx = indx[indx==min_indx]  \n",
    "    cum_sum_right = 0\n",
    "    total = np.sum((flux-continuum))\n",
    "    for i in indx[min_indx_indx:]:\n",
    "        cum_sum_right += (flux-continuum)[i]\n",
    "        if cum_sum_right/total > .341:\n",
    "            break\n",
    "    right_err = wave[i]-wave[min_indx]\n",
    "    plt.axvline(wave[i])\n",
    "    cum_sum_left = 0\n",
    "    for j in indx[:min_indx_indx][::-1]:\n",
    "        cum_sum_left += (flux-continuum)[j]\n",
    "        if cum_sum_left/total > .341:\n",
    "            break\n",
    "    left_err = wave[min_indx]-wave[j]\n",
    "    if visualize is True:\n",
    "        from visualization import make_color_wheel\n",
    "        colors = make_color_wheel(wave)\n",
    "        plt.figure()\n",
    "        for c, ind in zip(colors, indx):\n",
    "            plt.plot(wave[ind], flux[ind], marker='o', ls='none', color=c)\n",
    "        for k in indx[min_indx_indx:i]:\n",
    "            plt.plot(wave[k], flux[k], marker='s', ls='none', color=colors[k])\n",
    "        for k in indx[j:min_indx_indx]:\n",
    "            plt.plot(wave[k], flux[k], marker='s', ls='none', color=colors[k])\n",
    "        plt.axvline(wave[i], label='1 $\\sigma$ right error')\n",
    "        plt.axvline(wave[j], label='1 $\\sigma$ left error')\n",
    "        plt.xlabel('Wavelength')\n",
    "        plt.ylabel('Flux')\n",
    "        plt.legend(loc='best')\n",
    "    return left_err, right_err\n",
    "        "
   ]
  },
  {
   "cell_type": "code",
   "execution_count": 378,
   "metadata": {},
   "outputs": [
    {
     "name": "stdout",
     "output_type": "stream",
     "text": [
      "rmse calculated over 58 points\n",
      "True\n",
      "rmse calculated over 58 points\n",
      "True\n",
      "74.0960419661 0.923418147103\n"
     ]
    },
    {
     "name": "stderr",
     "output_type": "stream",
     "text": [
      "/Users/bostroem/anaconda/lib/python3.5/site-packages/ipykernel/__main__.py:33: VisibleDeprecationWarning: using a non-integer number instead of an integer will result in an error in the future\n",
      "/Users/bostroem/anaconda/lib/python3.5/site-packages/ipykernel/__main__.py:34: VisibleDeprecationWarning: using a non-integer number instead of an integer will result in an error in the future\n",
      "/Users/bostroem/anaconda/lib/python3.5/site-packages/ipykernel/__main__.py:35: VisibleDeprecationWarning: using a non-integer number instead of an integer will result in an error in the future\n",
      "/Users/bostroem/anaconda/lib/python3.5/site-packages/ipykernel/__main__.py:39: VisibleDeprecationWarning: using a non-integer number instead of an integer will result in an error in the future\n",
      "/Users/bostroem/anaconda/lib/python3.5/site-packages/ipykernel/__main__.py:40: VisibleDeprecationWarning: using a non-integer number instead of an integer will result in an error in the future\n",
      "/Users/bostroem/anaconda/lib/python3.5/site-packages/ipykernel/__main__.py:9: VisibleDeprecationWarning: converting an array with ndim > 0 to an index will result in an error in the future\n",
      "/Users/bostroem/anaconda/lib/python3.5/site-packages/ipykernel/__main__.py:16: VisibleDeprecationWarning: converting an array with ndim > 0 to an index will result in an error in the future\n",
      "/Users/bostroem/anaconda/lib/python3.5/site-packages/ipykernel/__main__.py:27: VisibleDeprecationWarning: converting an array with ndim > 0 to an index will result in an error in the future\n",
      "/Users/bostroem/anaconda/lib/python3.5/site-packages/ipykernel/__main__.py:29: VisibleDeprecationWarning: converting an array with ndim > 0 to an index will result in an error in the future\n"
     ]
    }
   ],
   "source": [
    "wave = spectrum.wave\n",
    "flux = spectrum.flux\n",
    "poly_deg = 2\n",
    "width = 5\n",
    "binsize=21\n",
    "wmin = 4600\n",
    "wmax = 4875\n",
    "\n",
    "smooth_flux = smooth_signal(flux, width, poly_deg)\n",
    "blue_edge_indx, wcenter_indx, red_edge_indx = find_boundary(wave, smooth_flux, wmin, wmax, binsize, visualize=True)\n",
    "err_binsize = determine_error_binsize(wave, wave_bin=100)\n",
    "if blue_edge_indx is not None:\n",
    "    good_fit_blue, continuum_l = define_continuum(wave, smooth_flux, blue_edge_indx, binsize, err_binsize, absorption=True, visualize=True)\n",
    "    print(good_fit_blue)\n",
    "else:\n",
    "    print('blue_edge_not_found')\n",
    "if red_edge_indx is not None:\n",
    "    good_fit_red, continuum_r = define_continuum(wave, smooth_flux, red_edge_indx, binsize, err_binsize, absorption=True, visualize=True)\n",
    "    print(good_fit_red)\n",
    "else:\n",
    "    print('red_edge_not_found')\n",
    "if (blue_edge_indx is not None) and (red_edge_indx is not None):\n",
    "    \n",
    "    pew = calc_pseudo_ew(wave, smooth_flux, continuum_l, continuum_r, visualize=True)\n",
    "    wcenter = wave[wcenter_indx]\n",
    "    \n",
    "    vel_fit = find_velocity(wave, smooth_flux, wcenter, continuum_l, continuum_r, err_binsize, visualization=True)\n",
    "    line_indx = np.arange(len(wave))[(wave>=continuum_l.wave)&(wave<=continuum_r.wave)]\n",
    "    min_indx = int(np.floor(line_indx[0]-err_binsize/2))\n",
    "    max_indx = int(np.ceil(line_indx[-1]+err_binsize/2+1))\n",
    "    continuum = calc_continuum(wave[min_indx:max_indx], continuum_l, continuum_r)\n",
    "    flux_var = calc_flux_variance(flux[min_indx:max_indx]-continuum,\n",
    "                                    vel_fit(wave[min_indx:max_indx]), err_binsize) #These don't include the errors from the continuum subtraction yet\n",
    "    continuum = calc_continuum(wave[line_indx], continuum_l, continuum_r)\n",
    "    continuum_var = calc_continuum_error(wave[line_indx], continuum_l, continuum_r)\n",
    "    delta_wave = np.median(wave[1:]-wave[:-1])\n",
    "    pew_var = calc_pew_variance(flux[line_indx], continuum, delta_wave, flux_var, continuum_var, visualize=True, wave=wave[line_indx])\n",
    "    print(pew, np.sqrt(pew_var))\n",
    "    plt.errorbar(wave[line_indx], flux[line_indx], np.sqrt(flux_var))\n",
    "    plt.errorbar([continuum_l.wave, continuum_r.wave], [continuum_l.flux, continuum_r.flux], [continuum_l.error, continuum_r.error])\n",
    "    plt.errorbar(wave[line_indx], continuum, np.sqrt(continuum_var))\n",
    "    vel_err = calc_velocity_error(wave[line_indx], flux[line_indx], continuum, vel_fit, visualize=True)"
   ]
  },
  {
   "cell_type": "markdown",
   "metadata": {},
   "source": [
    "# Is there a misalignment in wavelengths?"
   ]
  },
  {
   "cell_type": "code",
   "execution_count": 424,
   "metadata": {},
   "outputs": [
    {
     "data": {
      "text/plain": [
       "<matplotlib.lines.Line2D at 0x1c2c407198>"
      ]
     },
     "execution_count": 424,
     "metadata": {},
     "output_type": "execute_result"
    }
   ],
   "source": [
    "for ifile, idir in spectra_files:\n",
    "    spectrum = read_iraf_spectrum(os.path.join(idir, ifile))\n",
    "    plt.plot(spectrum.wave, spectrum.flux, label=ifile)\n",
    "    plt.xlim(4600, 4875)\n",
    "plt.axvline(4600)\n",
    "plt.axvline(4875)\n",
    "plt.axvline(4900)\n",
    "#plt.legend()"
   ]
  },
  {
   "cell_type": "code",
   "execution_count": 435,
   "metadata": {},
   "outputs": [
    {
     "data": {
      "text/plain": [
       "<matplotlib.legend.Legend at 0x1c2880de10>"
      ]
     },
     "execution_count": 435,
     "metadata": {},
     "output_type": "execute_result"
    }
   ],
   "source": [
    "plt.figure()\n",
    "for ifile, idir in spectra_files[-4:]:\n",
    "    spectrum = read_iraf_spectrum(os.path.join(idir, ifile))\n",
    "    plt.plot(spectrum.wave, spectrum.flux, label=ifile)\n",
    "plt.axvline(5538)\n",
    "plt.ylim(0, 1E-14)\n",
    "plt.legend(loc='best', fontsize='x-small')"
   ]
  },
  {
   "cell_type": "code",
   "execution_count": 427,
   "metadata": {},
   "outputs": [
    {
     "data": {
      "text/plain": [
       "array([  1.09675753e-15,   1.05310452e-15,   1.16043800e-15, ...,\n",
       "         2.47231818e-16,   1.98630457e-16,   2.18441512e-16], dtype=float32)"
      ]
     },
     "execution_count": 427,
     "metadata": {},
     "output_type": "execute_result"
    }
   ],
   "source": [
    "spectrum.flux"
   ]
  },
  {
   "cell_type": "code",
   "execution_count": null,
   "metadata": {},
   "outputs": [],
   "source": []
  }
 ],
 "metadata": {
  "kernelspec": {
   "display_name": "Python [default]",
   "language": "python",
   "name": "python3"
  },
  "language_info": {
   "codemirror_mode": {
    "name": "ipython",
    "version": 3
   },
   "file_extension": ".py",
   "mimetype": "text/x-python",
   "name": "python",
   "nbconvert_exporter": "python",
   "pygments_lexer": "ipython3",
   "version": "3.5.5"
  }
 },
 "nbformat": 4,
 "nbformat_minor": 2
}
