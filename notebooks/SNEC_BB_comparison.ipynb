{
 "cells": [
  {
   "cell_type": "code",
   "execution_count": 140,
   "metadata": {},
   "outputs": [
    {
     "name": "stdout",
     "output_type": "stream",
     "text": [
      "Warning: Cannot change to a different GUI toolkit: notebook. Using qt instead.\n"
     ]
    }
   ],
   "source": [
    "import os\n",
    "\n",
    "import numpy as np\n",
    "from astropy.io import ascii as asc\n",
    "from astropy.io import fits\n",
    "from astropy.time import Time\n",
    "import astropy.units as u\n",
    "import astropy.constants as c\n",
    "from astropy.modeling.blackbody import blackbody_lambda\n",
    "from astropy.modeling import fitting, models\n",
    "\n",
    "\n",
    "from matplotlib import pyplot as plt\n",
    "from matplotlib.backends.backend_pdf import PdfPages\n",
    "%matplotlib notebook\n",
    "\n",
    "import spectroscopy as spec\n",
    "from supernova import LightCurve2"
   ]
  },
  {
   "cell_type": "code",
   "execution_count": 142,
   "metadata": {},
   "outputs": [],
   "source": [
    "DATA_DIR_LCO = '../data/spectra/lco'\n",
    "DATA_DIR_EFOSC = '../data/spectra/EFOSC'\n",
    "DATA_DIR_FILTER = '../data/lco_filter_throughput'\n",
    "\n",
    "FIG_DIR = '../figures'"
   ]
  },
  {
   "cell_type": "markdown",
   "metadata": {},
   "source": [
    "## Spectra preliminaries"
   ]
  },
  {
   "cell_type": "markdown",
   "metadata": {},
   "source": [
    "### Wavelengths are in rest frame"
   ]
  },
  {
   "cell_type": "code",
   "execution_count": 7,
   "metadata": {},
   "outputs": [],
   "source": [
    "def read_iraf_spectrum(filename):\n",
    "    ofile = fits.open(filename)\n",
    "    flux = ofile[0].data[0,0,:]\n",
    "    err = ofile[0].data[3,0,:]\n",
    "    wave = spec.calc_wavelength(ofile[0].header, np.arange(len(flux))+1)\n",
    "    rest_wave = spec.apply_redshift(wave, 0.0069)\n",
    "    return(spec.spectrum1d(rest_wave, flux, error=err))"
   ]
  },
  {
   "cell_type": "code",
   "execution_count": 8,
   "metadata": {},
   "outputs": [],
   "source": [
    "spectra_files = [\n",
    "         ('asassn15oz_20150904_redblu_122216.314.fits', DATA_DIR_LCO),\n",
    "         ('asassn-15oz_20150906_redblu_105042.698a.fits', DATA_DIR_LCO),\n",
    "         ('asassn15oz_20150907_redblu_123835.277.fits', DATA_DIR_LCO),\n",
    "         ('asassn15oz_20150911_redblu_105336.349.fits', DATA_DIR_LCO),\n",
    "         ('asassn15oz_20150916_redblu_120911.274.fits', DATA_DIR_LCO),\n",
    "         ('asassn-15oz_20150920_redblu_135034.512.fits',DATA_DIR_LCO),\n",
    "         ('asassn-15oz_20150924_redblu_123847.580.fits',DATA_DIR_LCO),\n",
    "         ('asassn-15oz_20150930_redblu_122858.217.fits',DATA_DIR_LCO),\n",
    "         ('tASASSN-15oz_20151003_Gr13_Free_slit1.0_57720_1_e.fits',DATA_DIR_EFOSC),\n",
    "         ('asassn15oz_20151006_redblu_101906.800.fits', DATA_DIR_LCO),\n",
    "         ('asassn15oz_20151014_redblu_112918.305.fits', DATA_DIR_LCO),\n",
    "         ('asassn-15oz_20151025_redblu_102221.833.fits', DATA_DIR_LCO),\n",
    "         ('asassn-15oz_20151107_redblu_101210.833.fits', DATA_DIR_LCO),\n",
    "         ('tASAS-SN_15oz_20151107_Gr13_Free_slit1.5_57723_1_e.fits', DATA_DIR_EFOSC),\n",
    "         ('tASAS-SN_15oz_20151118_Gr13_Free_slit1.0_57723_1_e.fits', DATA_DIR_EFOSC)\n",
    "                ]"
   ]
  },
  {
   "cell_type": "markdown",
   "metadata": {},
   "source": [
    "## SNEC preliminaries"
   ]
  },
  {
   "cell_type": "code",
   "execution_count": 9,
   "metadata": {},
   "outputs": [],
   "source": [
    "snec_dir = '../../snec_models/Ni_mass_0.0830/Ni_mixing_5.0/M18.0/E_1.400/K_10.0/R_2400/'"
   ]
  },
  {
   "cell_type": "code",
   "execution_count": 15,
   "metadata": {},
   "outputs": [],
   "source": [
    "snec_temp_tb = asc.read(os.path.join(snec_dir, 'Data/T_eff.dat'), names=['time', 'Teff'])\n",
    "snec_temp_tb['time'] = snec_temp_tb['time']*u.second\n",
    "snec_temp_tb['Teff'] = snec_temp_tb['Teff']*u.Kelvin"
   ]
  },
  {
   "cell_type": "code",
   "execution_count": 19,
   "metadata": {},
   "outputs": [],
   "source": [
    "sn15oz = LightCurve2('asassn-15oz')"
   ]
  },
  {
   "cell_type": "code",
   "execution_count": 79,
   "metadata": {},
   "outputs": [],
   "source": [
    "fitter = fitting.LinearLSQFitter()\n",
    "const = models.Const1D()"
   ]
  },
  {
   "cell_type": "markdown",
   "metadata": {},
   "source": [
    "## Filter Preliminaries"
   ]
  },
  {
   "cell_type": "code",
   "execution_count": 118,
   "metadata": {},
   "outputs": [],
   "source": [
    "filter_fnames = ['bssl-ux-022.txt',\n",
    "                 'bssl-bx-004.txt',\n",
    "                 'bssl-vx-022.txt',\n",
    "                 'sdss.gp.txt',\n",
    "                 'sdss.rp.txt',\n",
    "                 'sdss.ip.txt']\n",
    "filter_colors =  ['#332288','#882255', '#117733','#88CCEE','#DDCC77', '#CC6677']\n",
    "\n",
    "#for n, i in enumerate(filter_colors):\n",
    "#    plt.plot(np.arange(10)+n, 'o', color=i, label=i)\n",
    "#plt.legend(loc='best')\n"
   ]
  },
  {
   "cell_type": "code",
   "execution_count": 157,
   "metadata": {},
   "outputs": [],
   "source": [
    "with PdfPages(os.path.join(FIG_DIR, 'BB_spec_comp.pdf')) as pp:\n",
    "    for ifile, idir in spectra_files:\n",
    "        fig = plt.figure()\n",
    "        ax = fig.add_subplot(111)\n",
    "        ax_throughput = ax.twinx()\n",
    "        for icolor, ifilter_file in zip(filter_colors, filter_fnames):\n",
    "            filter_tbdata = asc.read(os.path.join(DATA_DIR_FILTER, ifilter_file), names=['wavelength', 'throughput'], comment='\\lambda')\n",
    "            ax_throughput.fill_between((filter_tbdata['wavelength']*u.nm).to(u.angstrom), filter_tbdata['throughput'], \n",
    "                                       label=ifilter_file.strip('.txt'), alpha=0.5, color=icolor)\n",
    "        ax_throughput.legend(bbox_to_anchor = [0.7,2.25/5, 0.3, 2/5 ])\n",
    "        ax_throughput.set_ylim(ymax=5)\n",
    "        spectrum = read_iraf_spectrum(os.path.join(idir, ifile))\n",
    "        date_obs = Time(fits.getval(os.path.join(idir, ifile), 'date-obs', 0))\n",
    "        date_obs.out_subfmt = 'date'\n",
    "        phase = date_obs - Time(sn15oz.jdexpl, format='jd')\n",
    "        itemp = np.interp(phase.value, (snec_temp_tb['time'].data*u.second).to(u.day), snec_temp_tb['Teff'].data)\n",
    "        blackbody_flux = blackbody_lambda(spectrum.wave, itemp)\n",
    "        fit_indx = spectrum.wave > 5500\n",
    "        #scale_factor = fitter(const, spectrum.wave[fit_indx], blackbody_flux[fit_indx]/spectrum.flux[fit_indx])\n",
    "\n",
    "        #bb_spec = spec.spectrum1d(spectrum.wave, blackbody_flux/scale_factor.amplitude)\n",
    "        ax.plot(spectrum.wave, spectrum.flux, label='Spectrum for Day {:2.2f}'.format(phase.value))\n",
    "        #ax.plot(bb_spec.wave, bb_spec.flux, label='min chisq')\n",
    "        scale_spec = spec.scale_spectra(spec.spectrum1d(spectrum.wave, blackbody_flux), spectrum, wlmin=5500)\n",
    "        ax.plot(scale_spec.wave, scale_spec.flux, label='Scaled Black Body')\n",
    "        ax.legend(loc='upper right')\n",
    "        ax_throughput.set_xlim(3000, 10000)\n",
    "        ax.set_title('BB Spec Comparison for {}'.format(date_obs))\n",
    "        ax.set_ylim(ymax=spectrum.flux.max()*1.1)\n",
    "        pp.savefig()\n",
    "        plt.close()\n",
    "    \n",
    "    "
   ]
  },
  {
   "cell_type": "code",
   "execution_count": 149,
   "metadata": {},
   "outputs": [],
   "source": [
    "ax.legend?\n"
   ]
  },
  {
   "cell_type": "code",
   "execution_count": 139,
   "metadata": {},
   "outputs": [
    {
     "data": {
      "text/plain": [
       "'2015-10-14T11:29:18.305'"
      ]
     },
     "execution_count": 139,
     "metadata": {},
     "output_type": "execute_result"
    }
   ],
   "source": [
    "'{}'.format(date_obs)"
   ]
  },
  {
   "cell_type": "code",
   "execution_count": 155,
   "metadata": {},
   "outputs": [],
   "source": [
    "def get_ra_dec(sql_result_dict):\n",
    "    RA = []\n",
    "    DEC = []\n",
    "    for item in sql_result_dict:\n",
    "        "
   ]
  },
  {
   "cell_type": "code",
   "execution_count": null,
   "metadata": {},
   "outputs": [],
   "source": []
  }
 ],
 "metadata": {
  "kernelspec": {
   "display_name": "Python [default]",
   "language": "python",
   "name": "python3"
  },
  "language_info": {
   "codemirror_mode": {
    "name": "ipython",
    "version": 3
   },
   "file_extension": ".py",
   "mimetype": "text/x-python",
   "name": "python",
   "nbconvert_exporter": "python",
   "pygments_lexer": "ipython3",
   "version": "3.5.5"
  }
 },
 "nbformat": 4,
 "nbformat_minor": 2
}
