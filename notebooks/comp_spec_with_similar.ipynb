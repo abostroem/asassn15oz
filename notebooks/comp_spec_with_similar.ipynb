{
 "cells": [
  {
   "cell_type": "code",
   "execution_count": 302,
   "metadata": {
    "collapsed": false
   },
   "outputs": [
    {
     "name": "stdout",
     "output_type": "stream",
     "text": [
      "Using matplotlib backend: Qt5Agg\n"
     ]
    }
   ],
   "source": [
    "import os\n",
    "import glob\n",
    "\n",
    "import numpy as np\n",
    "import matplotlib as mpl\n",
    "from matplotlib import pyplot as plt\n",
    "from astropy.io import fits\n",
    "from astropy.time import Time\n",
    "from astropy.convolution import convolve, Box1DKernel\n",
    "import astropy.units as u\n",
    "\n",
    "from specutils.io import read_fits\n",
    "\n",
    "import supernova\n",
    "import spectroscopy\n",
    "\n",
    "%matplotlib"
   ]
  },
  {
   "cell_type": "code",
   "execution_count": 340,
   "metadata": {
    "collapsed": true
   },
   "outputs": [],
   "source": [
    "FIG_DIR = '../figures'"
   ]
  },
  {
   "cell_type": "code",
   "execution_count": 184,
   "metadata": {
    "collapsed": true
   },
   "outputs": [],
   "source": [
    "sn16zb = supernova.LightCurve2('2016zb')\n",
    "sn15oz = supernova.LightCurve2('ASASSN-15oz')\n",
    "sn15W = supernova.LightCurve2('2015W')"
   ]
  },
  {
   "cell_type": "code",
   "execution_count": 185,
   "metadata": {
    "collapsed": true
   },
   "outputs": [],
   "source": [
    "DATA_DIR_15oz = '../data/spectra/lco/'\n",
    "DATA_DIR_15oz2 = '../data/spectra/EFOSC/'\n",
    "DATA_DIR_16zb = '../../data/2016zb/spectra/'\n",
    "DATA_DIR_15W = '../../data/2015W/spectra'"
   ]
  },
  {
   "cell_type": "code",
   "execution_count": 189,
   "metadata": {
    "collapsed": false
   },
   "outputs": [
    {
     "name": "stdout",
     "output_type": "stream",
     "text": [
      "15oz 9.951883078703704 asassn-15oz_20150906_redblu_105042.698.fits\n",
      "15oz 9.951883078703704 asassn-15oz_20150906_redblu_105042.698a.fits\n",
      "15oz 24.076788333333333 asassn-15oz_20150920_redblu_135034.512.fits\n",
      "15oz 28.026939583333334 asassn-15oz_20150924_redblu_123847.580.fits\n",
      "15oz 34.020118252314816 asassn-15oz_20150930_redblu_122858.217.fits\n",
      "15oz 58.9321971412037 asassn-15oz_20151025_redblu_102221.833.fits\n",
      "15oz 71.92512538194444 asassn-15oz_20151107_redblu_101210.833.fits\n",
      "15oz 8.015466597222222 asassn15oz_20150904_redblu_122216.314.fits\n",
      "15oz 11.0267971875 asassn15oz_20150907_redblu_123835.277.fits\n",
      "15oz 14.953892928240741 asassn15oz_20150911_redblu_105336.349.fits\n",
      "15oz 20.006380486111112 asassn15oz_20150916_redblu_120911.274.fits\n",
      "15oz 39.929939814814816 asassn15oz_20151006_redblu_101906.800.fits\n",
      "15oz 47.97868408564815 asassn15oz_20151014_redblu_112918.305.fits\n",
      "15oz 72.52898853009259 tASAS-SN_15oz_20151107_Gr13_Free_slit1.5_57723_1_ex.fits\n",
      "15oz 83.5283087962963 tASAS-SN_15oz_20151118_Gr13_Free_slit1.0_57723_1_ex.fits\n",
      "15oz 37.52258967592593 tASASSN-15oz_20151003_Gr13_Free_slit1.0_57720_1_ex.fits\n",
      "15oz 227.88904394675927 tASASSN-15oz_20160410_Gr13_Free_slit1.5_57723_1_ex.fits\n",
      "15oz 227.8544491087963 tASASSN-15oz_20160410_Gr13_Free_slit1.5_57723_2_ex.fits\n",
      "15oz 341.6931576851852 tASASSN-15oz_20160802_Gr13_Free_slit1.0_57723_1_ex.fits\n",
      "15oz 388.54819855324075 tASASSN-15oz_20160918_Gr13_Free_slit1.5_57723_1_ex.fits\n",
      "15oz 388.5162854861111 tASASSN-15oz_20160918_Gr13_Free_slit1.5_57723_2_ex.fits\n",
      "16zb 5.011445451388889 AT2016zb_20160201_redblu_121628.887.fits\n",
      "16zb 7.071398414351852 SN2016zb_20160203_redblu_134248.823.fits\n",
      "16zb 10.991797719907407 SN2016zb_20160207_redblu_114811.323.fits\n",
      "16zb 15.039155393518518 SN2016zb_20160211_redblu_125623.026.fits\n",
      "16zb 19.029883229166668 SN2016zb_20160215_redblu_124301.911.fits\n",
      "16zb 23.19140042824074 SN2016zb_20160219_redblu_163536.997.fits\n",
      "16zb 27.844008912037037 SN2016zb_20160224_redblu_081522.370.fits\n",
      "16zb 32.10662436342593 SN2016zb_20160228_redblu_143332.345.fits\n",
      "16zb 34.11637015046296 SN2016zb_20160301_red_144734.381.fits\n",
      "16zb 41.96434396990741 SN2016zb_20160309_redblu_110839.319.fits\n",
      "16zb 62.9872199537037 SN2016zb_20160330_redblu_114135.804.fits\n",
      "16zb 63.06916623842593 SN2016zb_20160330_redblu_133935.963.fits\n",
      "16zb 71.04904815972222 SN2016zb_20160407_redblu_131037.761.fits\n",
      "16zb 77.00156694444445 SN2016zb_20160413_redblu_120215.384.fits\n",
      "16zb 84.96570059027778 SN2016zb_20160421_red_111036.531.fits\n",
      "16zb 96.75971974537038 SN2016zb_20160503_redblu_061359.786.fits\n",
      "16zb 115.84080586805555 SN2016zb_20160522_red_081045.627.fits\n",
      "15W 10.897453460648148 psn065743_20150113_redblu_093219.979.fits\n",
      "15W 12.037871759259259 psn065743_20150114_redblu_125432.120.fits\n",
      "15W 12.911834409722223 psn065743_20150115_redblu_095302.493.fits\n",
      "15W 12.955322997685185 psn065743_20150115_redblu_105539.907.fits\n",
      "15W 16.95830546296296 psn065743_20150119_redblu_105957.592.fits\n",
      "15W 17.983612337962963 psn065743_20150120_redblu_113624.106.fits\n",
      "15W 23.939718391203705 psn065743_20150126_redblu_103311.669.fits\n",
      "15W 36.96306504629629 psn065743_20150208_red_110648.820.fits\n",
      "15W 42.940054386574076 psn065743_20150214_red_103340.699.fits\n",
      "15W 50.93277921296296 psn065743_20150222_redblu_102312.124.fits\n",
      "15W 64.90350724537036 psn065743_20150308_red_094103.026.fits\n",
      "15W 67.91836605324075 psn065743_20150311_redblu_100226.827.fits\n",
      "15W 75.9422115625 psn065743_20150319_redblu_103647.079.fits\n"
     ]
    }
   ],
   "source": [
    "flist_15oz = glob.glob(os.path.join(DATA_DIR_15oz, '*.fits'))+glob.glob(os.path.join(DATA_DIR_15oz2, '*ex.fits'))\n",
    "flist_16zb = glob.glob(os.path.join(DATA_DIR_16zb, '*.fits'))\n",
    "flist_15W = glob.glob(os.path.join(DATA_DIR_15W, '*.fits'))\n",
    "for ifile in flist_15oz:\n",
    "    if ('multi' not in ifile) and ('sca' not in ifile):\n",
    "        print('15oz', Time(fits.getval(ifile, 'date-obs', 0)) - Time(sn15oz.jdexpl, format='jd'), os.path.basename(ifile))\n",
    "for ifile in flist_16zb:\n",
    "    print('16zb', Time(fits.getval(ifile, 'date-obs', 0)) - Time(sn16zb.jdexpl, format='jd'), os.path.basename(ifile))\n",
    "for ifile in flist_15W:\n",
    "    print('15W', Time(fits.getval(ifile, 'date-obs', 0)) - Time(sn15W.jdexpl, format='jd'), os.path.basename(ifile))"
   ]
  },
  {
   "cell_type": "code",
   "execution_count": 205,
   "metadata": {
    "collapsed": true
   },
   "outputs": [],
   "source": [
    "comp_list = [\n",
    "    ('asassn15oz_20150907_redblu_123835.277.fits', 'SN2016zb_20160203_redblu_134248.823.fits', 'psn065743_20150113_redblu_093219.979.fits'),\n",
    "    ('asassn-15oz_20150920_redblu_135034.512.fits', 'SN2016zb_20160219_redblu_163536.997.fits', 'psn065743_20150126_redblu_103311.669.fits'),\n",
    "    ('asassn15oz_20151006_redblu_101906.800.fits', 'SN2016zb_20160309_redblu_110839.319.fits', 'psn065743_20150214_red_103340.699.fits'),\n",
    "    ('tASAS-SN_15oz_20151107_Gr13_Free_slit1.5_57723_1_ex.fits', 'SN2016zb_20160407_redblu_131037.761.fits', 'psn065743_20150319_redblu_103647.079.fits')\n",
    "]"
   ]
  },
  {
   "cell_type": "code",
   "execution_count": 323,
   "metadata": {
    "collapsed": false
   },
   "outputs": [
    {
     "data": {
      "text/plain": [
       "<matplotlib.text.Text at 0x140ced208>"
      ]
     },
     "execution_count": 323,
     "metadata": {},
     "output_type": "execute_result"
    }
   ],
   "source": [
    "mpl.rcParams['xtick.labelsize']= 6\n",
    "mpl.rcParams['ytick.labelsize']= 5\n",
    "mpl.rcParams['axes.labelsize'] = 5\n",
    "mpl.rcParams['legend.fontsize'] = 4\n",
    "fig, ax = plt.subplots(2,2, figsize=[16,8])\n",
    "ax = ax.flatten()\n",
    "fig.suptitle('15oz and 16zb Spectra Comparison')"
   ]
  },
  {
   "cell_type": "code",
   "execution_count": 324,
   "metadata": {
    "collapsed": false
   },
   "outputs": [],
   "source": [
    "#ax[0].cla()\n",
    "#specfile1 = fits.open(os.path.join(DATA_DIR_15oz, comp_list[0][0]))\n",
    "#specfile2 = fits.open(os.path.join(DATA_DIR_16zb, comp_list[0][1]))\n",
    "#specfile3 = fits.open(os.path.join(DATA_DIR_15W, comp_list[0][2]))\n",
    "#wl1 = spectroscopy.calc_wavelength(specfile1[0].header, np.arange(specfile1[0].data.shape[2])+1)\n",
    "#wl2 = spectroscopy.calc_wavelength(specfile2[0].header, np.arange(specfile2[0].data.shape[2])+1)\n",
    "#wl3 = spectroscopy.calc_wavelength(specfile3[0].header, np.arange(specfile3[0].data.shape[2])+1)\n",
    "#ax[0].plot(wl2, convolve(specfile2[0].data[0,0,:], Box1DKernel(7)), label = '2016zb Day 10')\n",
    "#ax[0].plot(wl1, specfile1[0].data[0,0,:]*0.08-0.15E-15, label='15oz Day 11')\n",
    "#ax[0].plot(wl3, specfile3[0].data[0,0,:]*0.07-0.4E-15, label='15W Day 10')\n",
    "#ax[0].legend(loc='best')\n",
    "#ax[0].set_ylabel('Scaled Flux')\n",
    "#ax[0].set_xlabel('~Wavelength ($\\AA$)')"
   ]
  },
  {
   "cell_type": "code",
   "execution_count": 325,
   "metadata": {
    "collapsed": false
   },
   "outputs": [
    {
     "data": {
      "text/plain": [
       "<matplotlib.text.Text at 0x14072e048>"
      ]
     },
     "execution_count": 325,
     "metadata": {},
     "output_type": "execute_result"
    }
   ],
   "source": [
    "ax[0].cla()\n",
    "ax[0].axvline(6562.8, color='k', linestyle='--')\n",
    "spec_15oz1 = read_fits.read_fits_spectrum1d(os.path.join(DATA_DIR_15oz, comp_list[0][0]), dispersion_unit='angstrom')\n",
    "spec_16zb1 = read_fits.read_fits_spectrum1d(os.path.join(DATA_DIR_16zb, comp_list[0][1]), dispersion_unit='angstrom')\n",
    "spec_15W1 = read_fits.read_fits_spectrum1d(os.path.join(DATA_DIR_15W, comp_list[0][2]), dispersion_unit='angstrom')\n",
    "ax[0].plot(spec_16zb1[0].dispersion, convolve(spec_16zb1[0].flux, Box1DKernel(7)), label = '2016zb Day 10')\n",
    "ax[0].plot(spec_15oz1[0].dispersion, spec_15oz1[0].flux*0.08-0.15E-15, label='15oz Day 11')\n",
    "ax[0].plot(spec_15W1[0].dispersion, spec_15W1[0].flux*0.07-0.4E-15, label='15W Day 10')\n",
    "\n",
    "ax[0].legend(loc='best')\n",
    "ax[0].set_ylabel('Scaled Flux')\n",
    "ax[0].set_xlabel('~Wavelength ($\\AA$)')"
   ]
  },
  {
   "cell_type": "code",
   "execution_count": 326,
   "metadata": {
    "collapsed": false
   },
   "outputs": [
    {
     "data": {
      "text/plain": [
       "<matplotlib.text.Text at 0x1407c6dd8>"
      ]
     },
     "execution_count": 326,
     "metadata": {},
     "output_type": "execute_result"
    }
   ],
   "source": [
    "ax[1].cla()\n",
    "ax[1].axvline(6562.8, color='k', linestyle='--')\n",
    "\n",
    "spec_15oz2 = read_fits.read_fits_spectrum1d(os.path.join(DATA_DIR_15oz, comp_list[1][0]), dispersion_unit='angstrom')\n",
    "spec_16zb2 = read_fits.read_fits_spectrum1d(os.path.join(DATA_DIR_16zb, comp_list[1][1]), dispersion_unit='angstrom')\n",
    "spec_15W2 = read_fits.read_fits_spectrum1d(os.path.join(DATA_DIR_15W, comp_list[1][2]), dispersion_unit='angstrom')\n",
    "ax[1].plot(spec_16zb2[0].dispersion, convolve(spec_16zb2[0].flux, Box1DKernel(7)), label = '2016zb Day 23')\n",
    "ax[1].plot(spec_15oz2[0].dispersion, spec_15oz2[0].flux*0.09-1E-16, label='15oz Day 24')\n",
    "ax[1].plot(spec_15W2[0].dispersion, spec_15W2[0].flux*0.65-2.5E-16, label='15W Day 23')\n",
    "\n",
    "ax[1].legend(loc='best')\n",
    "ax[1].set_ylabel('Scaled Flux')\n",
    "ax[1].set_xlabel('~Wavelength ($\\AA$)')"
   ]
  },
  {
   "cell_type": "code",
   "execution_count": 327,
   "metadata": {
    "collapsed": false
   },
   "outputs": [
    {
     "data": {
      "text/plain": [
       "<matplotlib.text.Text at 0x1407df7b8>"
      ]
     },
     "execution_count": 327,
     "metadata": {},
     "output_type": "execute_result"
    }
   ],
   "source": [
    "ax[2].cla()\n",
    "ax[2].axvline(6562.8, color='k', linestyle='--')\n",
    "\n",
    "spec_15oz3 = read_fits.read_fits_spectrum1d(os.path.join(DATA_DIR_15oz, comp_list[2][0]), dispersion_unit='angstrom')\n",
    "spec_16zb3 = read_fits.read_fits_spectrum1d(os.path.join(DATA_DIR_16zb, comp_list[2][1]), dispersion_unit='angstrom')\n",
    "spec_15W3 = read_fits.read_fits_spectrum1d(os.path.join(DATA_DIR_15W, comp_list[2][2]), dispersion_unit='angstrom')\n",
    "\n",
    "ax[2].plot(spec_16zb3[0].dispersion, convolve(spec_16zb3[0].flux, Box1DKernel(7)), label = '2016zb Day 41')\n",
    "#ax[2].plot(wl1+60, specfile1[0].data[0,0,:]*0.05-1E-16, label='15oz Day 39')\n",
    "ax[2].plot(spec_15oz3[0].dispersion, spec_15oz3[0].flux*0.05-1E-16, label='15oz Day 39')\n",
    "ax[2].plot(spec_15W3[0].dispersion, convolve(spec_15W3[0].flux-2E-16, Box1DKernel(7)), label='15W Day 42')\n",
    "\n",
    "ax[2].legend(loc='best')\n",
    "ax[2].set_ylabel('Scaled Flux')\n",
    "ax[2].set_xlabel('~Wavelength ($\\AA$)')"
   ]
  },
  {
   "cell_type": "code",
   "execution_count": 328,
   "metadata": {
    "collapsed": false
   },
   "outputs": [],
   "source": [
    "ax[3].cla()\n",
    "ax[3].axvline(6562.8, color='k', linestyle='--')\n",
    "\n",
    "spec_15oz4 = read_fits.read_fits_spectrum1d(os.path.join(DATA_DIR_15oz2, comp_list[3][0]), dispersion_unit='angstrom')\n",
    "spec_16zb4 = read_fits.read_fits_spectrum1d(os.path.join(DATA_DIR_16zb, comp_list[3][1]), dispersion_unit='angstrom')\n",
    "spec_15W4 = read_fits.read_fits_spectrum1d(os.path.join(DATA_DIR_15W, comp_list[3][2]), dispersion_unit='angstrom')\n",
    "ax[3].plot(spec_16zb4[0].dispersion, convolve(spec_16zb4[0].flux, Box1DKernel(7)), label = '2016zb Day 71')\n",
    "#ax[3].plot(wl1+60, specfile1[0].data[0,0,:]*1.2E-20 - 0.75E-16, label='15oz Day 72')\n",
    "ax[3].plot(spec_15oz4[0].dispersion, spec_15oz4[0].flux*1.2E-20 - 0.75E-16, label='15oz Day 72')\n",
    "ax[3].plot(spec_15W4[0].dispersion, convolve(spec_15W4[0].flux*0.4-1.5E-16, Box1DKernel(7)), label='15W Day 71')\n",
    "\n",
    "ax[3].legend(loc='best')\n",
    "ax[3].set_ylabel('Scaled Flux')\n",
    "ax[3].set_xlabel('~Wavelength ($\\AA$)')\n",
    "fig.tight_layout()"
   ]
  },
  {
   "cell_type": "markdown",
   "metadata": {},
   "source": [
    "# Investigate FLOYDS wavelengths"
   ]
  },
  {
   "cell_type": "code",
   "execution_count": 272,
   "metadata": {
    "collapsed": false
   },
   "outputs": [
    {
     "name": "stdout",
     "output_type": "stream",
     "text": [
      "2015-09-06T10:50:42.698 asassn-15oz_20150906_redblu_105042.698.fits\n",
      "2015-09-06T10:50:42.698 asassn-15oz_20150906_redblu_105042.698_multi.fits\n",
      "2015-09-06T10:50:42.698 asassn-15oz_20150906_redblu_105042.698a.fits\n",
      "2015-09-06T10:50:42.698 asassn-15oz_20150906_redblu_105042.698a_multi.fits\n",
      "2015-09-06T10:50:42.698 asassn-15oz_20150906_redblu_105042.698asca.fits\n",
      "2015-09-20T13:50:34.512 asassn-15oz_20150920_redblu_135034.512.fits\n",
      "2015-09-20T13:50:34.512 asassn-15oz_20150920_redblu_135034.512_multi.fits\n",
      "2015-09-24T12:38:47.580 asassn-15oz_20150924_redblu_123847.580.fits\n",
      "2015-09-24T12:38:47.580 asassn-15oz_20150924_redblu_123847.580_multi.fits\n",
      "2015-09-30T12:28:58.217 asassn-15oz_20150930_redblu_122858.217.fits\n",
      "2015-09-30T12:28:58.217 asassn-15oz_20150930_redblu_122858.217_multi.fits\n",
      "2015-10-25T10:22:21.833 asassn-15oz_20151025_redblu_102221.833.fits\n",
      "2015-10-25T10:22:21.833 asassn-15oz_20151025_redblu_102221.833_multi.fits\n",
      "2015-11-07T10:12:10.833 asassn-15oz_20151107_redblu_101210.833.fits\n",
      "2015-11-07T10:12:10.833 asassn-15oz_20151107_redblu_101210.833_multi.fits\n",
      "2015-11-07T10:12:10.833 asassn-15oz_20151107_redblu_101210.833sca.fits\n",
      "2015-09-04T12:22:16.314 asassn15oz_20150904_redblu_122216.314.fits\n",
      "2015-09-04T12:22:16.314 asassn15oz_20150904_redblu_122216.314_multi.fits\n",
      "2015-09-07T12:38:35.277 asassn15oz_20150907_redblu_123835.277.fits\n",
      "2015-09-07T12:38:35.277 asassn15oz_20150907_redblu_123835.277_multi.fits\n",
      "2015-09-11T10:53:36.349 asassn15oz_20150911_redblu_105336.349.fits\n",
      "2015-09-11T10:53:36.349 asassn15oz_20150911_redblu_105336.349_multi.fits\n",
      "2015-09-16T12:09:11.274 asassn15oz_20150916_redblu_120911.274.fits\n",
      "2015-09-16T12:09:11.274 asassn15oz_20150916_redblu_120911.274_multi.fits\n",
      "2015-09-16T12:09:11.274 asassn15oz_20150916_redblu_120911.274sca.fits\n",
      "2015-10-06T10:19:06.800 asassn15oz_20151006_redblu_101906.800.fits\n",
      "2015-10-06T10:19:06.800 asassn15oz_20151006_redblu_101906.800_multi.fits\n",
      "2015-10-14T11:29:18.305 asassn15oz_20151014_redblu_112918.305.fits\n",
      "2015-10-14T11:29:18.305 asassn15oz_20151014_redblu_112918.305_multi.fits\n",
      "2015-10-14T11:29:18.305 asassn15oz_20151014_redblu_112918.305sca.fits\n",
      "2015-11-08T00:41:44.609 tASAS-SN_15oz_20151107_Gr13_Free_slit1.5_57723_1_ex.fits\n",
      "2015-11-19T00:40:45.880 tASAS-SN_15oz_20151118_Gr13_Free_slit1.0_57723_1_ex.fits\n",
      "2015-10-04T00:32:31.748 tASASSN-15oz_20151003_Gr13_Free_slit1.0_57720_1_ex.fits\n",
      "2016-04-11T09:20:13.397 tASASSN-15oz_20160410_Gr13_Free_slit1.5_57723_1_ex.fits\n",
      "2016-04-11T08:30:24.403 tASASSN-15oz_20160410_Gr13_Free_slit1.5_57723_2_ex.fits\n",
      "2016-08-03T04:38:08.824 tASASSN-15oz_20160802_Gr13_Free_slit1.0_57723_1_ex.fits\n",
      "2016-09-19T01:09:24.355 tASASSN-15oz_20160918_Gr13_Free_slit1.5_57723_1_ex.fits\n",
      "2016-09-19T00:23:27.066 tASASSN-15oz_20160918_Gr13_Free_slit1.5_57723_2_ex.fits\n"
     ]
    }
   ],
   "source": [
    "flist1 = glob.glob(os.path.join(DATA_DIR_15oz, '*.fits'))\n",
    "flist2 = glob.glob(os.path.join(DATA_DIR_15oz2, '*.fits'))\n",
    "for ifile in flist1+flist2:\n",
    "    print(fits.getval(ifile, 'date-obs', 0), os.path.basename(ifile))"
   ]
  },
  {
   "cell_type": "code",
   "execution_count": 275,
   "metadata": {
    "collapsed": false
   },
   "outputs": [],
   "source": [
    "spec_pessto = read_fits.read_fits_spectrum1d(os.path.join(DATA_DIR_15oz2, 'tASASSN-15oz_20151003_Gr13_Free_slit1.0_57720_1_ex.fits'), \n",
    "                                             dispersion_unit='angstrom')\n",
    "spec_floyds = read_fits.read_fits_spectrum1d(os.path.join(DATA_DIR_15oz, 'asassn15oz_20151006_redblu_101906.800.fits'), \n",
    "                                             dispersion_unit='angstrom')"
   ]
  },
  {
   "cell_type": "code",
   "execution_count": 299,
   "metadata": {
    "collapsed": true
   },
   "outputs": [],
   "source": [
    "spec_16zb = read_fits.read_fits_spectrum1d(os.path.join(DATA_DIR_16zb, comp_list[2][1]), dispersion_unit='angstrom')\n",
    "spec_15W = read_fits.read_fits_spectrum1d(os.path.join(DATA_DIR_15W, comp_list[2][2]), dispersion_unit='angstrom')"
   ]
  },
  {
   "cell_type": "code",
   "execution_count": 341,
   "metadata": {
    "collapsed": false
   },
   "outputs": [],
   "source": [
    "plt.figure(figsize=[20,10])\n",
    "plt.plot(spec_pessto[3].dispersion, spec_pessto[3].flux/np.max(spec_pessto[3].flux), label='PESSTO')\n",
    "plt.plot(spec_floyds[3].dispersion, spec_floyds[3].flux/np.max(spec_floyds[3].flux), label='FLOYDS')\n",
    "plt.plot(spec_16zb[3].dispersion, spec_16zb[3].flux/np.max(spec_16zb[3].flux), label='2016zb')\n",
    "plt.plot(spec_15W[3].dispersion, spec_15W[3].flux/np.max(spec_15W[3].flux), label='2015W')\n",
    "plt.vlines([5578.5,5894.6,6301.7,7246.0, 8344.6, 8827.1], ymin=0, ymax=1, color='k', linestyle='--')\n",
    "plt.legend(loc='best')\n",
    "plt.xlabel('Wavelength ($\\AA$)')\n",
    "plt.ylabel('normalized sky flux')\n",
    "plt.title('Sky Spectrum to check wavelength calibration')\n",
    "plt.xlim(5500, 9000)\n",
    "plt.savefig(os.path.join(FIG_DIR, 'check_wl_calib.pdf'))"
   ]
  },
  {
   "cell_type": "code",
   "execution_count": 305,
   "metadata": {
    "collapsed": false
   },
   "outputs": [
    {
     "data": {
      "text/latex": [
       "$\\mathrm{{}^{\\circ}}$"
      ],
      "text/plain": [
       "Unit(\"deg\")"
      ]
     },
     "execution_count": 305,
     "metadata": {},
     "output_type": "execute_result"
    }
   ],
   "source": []
  },
  {
   "cell_type": "code",
   "execution_count": null,
   "metadata": {
    "collapsed": true
   },
   "outputs": [],
   "source": []
  }
 ],
 "metadata": {
  "kernelspec": {
   "display_name": "Python [default]",
   "language": "python",
   "name": "python3"
  },
  "language_info": {
   "codemirror_mode": {
    "name": "ipython",
    "version": 3
   },
   "file_extension": ".py",
   "mimetype": "text/x-python",
   "name": "python",
   "nbconvert_exporter": "python",
   "pygments_lexer": "ipython3",
   "version": "3.5.4"
  }
 },
 "nbformat": 4,
 "nbformat_minor": 2
}
